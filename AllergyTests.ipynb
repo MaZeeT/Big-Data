{
 "cells": [
  {
   "cell_type": "markdown",
   "metadata": {},
   "source": [
    "<b>Import dataset from AKUT and HA departments</b>"
   ]
  },
  {
   "cell_type": "markdown",
   "metadata": {},
   "source": [
    "Help to import data\n",
    "http://www.sthda.com/english/wiki/reading-data-from-excel-files-xls-xlsx-into-r\n"
   ]
  },
  {
   "cell_type": "code",
   "execution_count": 1,
   "metadata": {},
   "outputs": [],
   "source": [
    "# install missing packages, should only run one time.\n",
    "# install.packages(\"tidyverse\")"
   ]
  },
  {
   "cell_type": "code",
   "execution_count": 2,
   "metadata": {},
   "outputs": [],
   "source": [
    "# loading libraries\n",
    "suppressWarnings(suppressMessages(  library(dplyr)  ))\n",
    "suppressWarnings(suppressMessages(  library(tidyverse)))\n",
    "suppressWarnings(suppressMessages(  library(lubridate)))\n",
    "suppressWarnings(suppressMessages(  library(magrittr)))\n",
    "suppressWarnings(suppressMessages(  library(stringr)))"
   ]
  },
  {
   "cell_type": "code",
   "execution_count": 3,
   "metadata": {},
   "outputs": [],
   "source": [
    "# load data\n",
    "rawdata <- read.table(file = \"allergy.csv\", sep = \";\", header=TRUE)\n",
    "pricelist <- read.table(file = \"priser.csv\", sep = \";\", header=TRUE)"
   ]
  },
  {
   "cell_type": "code",
   "execution_count": 4,
   "metadata": {},
   "outputs": [
    {
     "name": "stdout",
     "output_type": "stream",
     "text": [
      "  Beh.status Rekv.type Rekvirent                 Rekv.navn      Rkv.nr.\n",
      "1     Afslut        PL     24600 alles Lægehus Vordingborg 104356128060\n",
      "2     Afslut        PL     26085       Lægehuset I Benløse 104374153763\n",
      "3     Afslut        PL     23981               Jørgen Rose 104385655277\n",
      "       PMB.nr. Kvnt.nr.                     Kvnt.navn  Prvt.dato   Prvt.stedgeo\n",
      "1 105991985581    57691 Inhalationsantigenpanel-IgE;P 11.05.2020 udveksling RSJ\n",
      "2 104393874160    57691 Inhalationsantigenpanel-IgE;P 11.05.2020 udveksling RSJ\n",
      "3 105945429248    57691 Inhalationsantigenpanel-IgE;P 11.05.2020 udveksling RSJ\n",
      "  Prvt.kl Laboratorium   Res.producent Resultat Instrument Alder       DATO\n",
      "1   12:35       SLAKBD SL,Slagelse KBA      0,1  SlaImcap2    69 11-05-2020\n",
      "2   11:29       SLAKBD SL,Slagelse KBA    <0,10  SlaImcap1    23 11-05-2020\n",
      "3   11:50       SLAKBD SL,Slagelse KBA      0,5  SlaImcap1    41 11-05-2020\n",
      "    År Måned    Kvartal Uge Pris.øvrige LMV.pris Analysepris Pris.i.alt\n",
      "1 2020   maj 2. kvartal  20          20      100       65,00      85,00\n",
      "2 2020   maj 2. kvartal  20          20      100       65,00      85,00\n",
      "3 2020   maj 2. kvartal  20          20      100       65,00      85,00\n"
     ]
    }
   ],
   "source": [
    "# check if the data is properly loaded.\n",
    "rawdata %>%\n",
    "head(3) %>%\n",
    "print.data.frame()"
   ]
  },
  {
   "cell_type": "code",
   "execution_count": 5,
   "metadata": {},
   "outputs": [
    {
     "name": "stdout",
     "output_type": "stream",
     "text": [
      "'data.frame':\t49999 obs. of  25 variables:\n",
      " $ Beh.status   : Factor w/ 3 levels \"\",\"Afslut\",\"Svar\": 2 2 2 2 2 2 2 2 2 2 ...\n",
      " $ Rekv.type    : Factor w/ 8 levels \"\",\"AI\",\"AM\",\"PL\",..: 4 4 4 4 4 4 4 4 4 4 ...\n",
      " $ Rekvirent    : Factor w/ 227 levels \"\",\"1411521\",\"14834\",..: 77 103 53 53 53 53 53 53 53 53 ...\n",
      " $ Rekv.navn    : Factor w/ 230 levels \"\",\"\\235relæge Charlotte Stenby\",..: 15 103 75 75 75 75 75 75 75 75 ...\n",
      " $ Rkv.nr.      : num  1.04e+11 1.04e+11 1.04e+11 1.04e+11 1.04e+11 ...\n",
      " $ PMB.nr.      : num  1.06e+11 1.04e+11 1.06e+11 1.06e+11 1.06e+11 ...\n",
      " $ Kvnt.nr.     : int  57691 57691 57691 13041 13098 13135 13080 13227 13167 13157 ...\n",
      " $ Kvnt.navn    : Factor w/ 9 levels \"\",\"Birk (t3)-IgE;P\",..: 8 8 8 2 4 5 3 9 7 6 ...\n",
      " $ Prvt.dato    : Factor w/ 74 levels \"\",\"01.07.2020\",..: 23 23 23 23 23 23 23 23 23 23 ...\n",
      " $ Prvt.stedgeo : Factor w/ 8 levels \"\",\"send til Webhotel\",..: 8 8 8 8 8 8 8 8 8 8 ...\n",
      " $ Prvt.kl      : Factor w/ 506 levels \"\",\"06:01\",\"06:44\",..: 318 254 275 275 275 275 275 275 275 275 ...\n",
      " $ Laboratorium : Factor w/ 2 levels \"\",\"SLAKBD\": 2 2 2 2 2 2 2 2 2 2 ...\n",
      " $ Res.producent: Factor w/ 2 levels \"\",\"SL,Slagelse KBA\": 2 2 2 2 2 2 2 2 2 2 ...\n",
      " $ Resultat     : Factor w/ 271 levels \"\",\"<0,10\",\">100\",..: 4 2 44 2 2 2 44 2 2 2 ...\n",
      " $ Instrument   : Factor w/ 3 levels \"\",\"SlaImcap1\",..: 3 2 2 2 2 2 2 2 2 2 ...\n",
      " $ Alder        : int  69 23 41 41 41 41 41 41 41 41 ...\n",
      " $ DATO         : Factor w/ 74 levels \"\",\"01-07-2020\",..: 23 23 23 23 23 23 23 23 23 23 ...\n",
      " $ År           : int  2020 2020 2020 2020 2020 2020 2020 2020 2020 2020 ...\n",
      " $ Måned        : Factor w/ 5 levels \"\",\"aug\",\"jul\",..: 5 5 5 5 5 5 5 5 5 5 ...\n",
      " $ Kvartal      : Factor w/ 3 levels \"\",\"2. kvartal\",..: 2 2 2 2 2 2 2 2 2 2 ...\n",
      " $ Uge          : int  20 20 20 20 20 20 20 20 20 20 ...\n",
      " $ Pris.øvrige  : int  20 20 20 20 20 20 20 20 20 20 ...\n",
      " $ LMV.pris     : int  100 100 100 80 80 80 80 80 80 80 ...\n",
      " $ Analysepris  : Factor w/ 3 levels \"\",\"52,00\",\"65,00\": 3 3 3 2 2 2 2 2 2 2 ...\n",
      " $ Pris.i.alt   : Factor w/ 9 levels \"\",\"123,00\",\"136,00\",..: 9 9 9 8 8 8 8 8 8 8 ...\n"
     ]
    }
   ],
   "source": [
    "# check datatypes\n",
    "str(rawdata)"
   ]
  },
  {
   "cell_type": "code",
   "execution_count": 6,
   "metadata": {},
   "outputs": [
    {
     "data": {
      "text/html": [
       "<table>\n",
       "<thead><tr><th scope=col>Rekv.type</th><th scope=col>n</th></tr></thead>\n",
       "<tbody>\n",
       "\t<tr><td>     </td><td>38179</td></tr>\n",
       "\t<tr><td>PL   </td><td> 9077</td></tr>\n",
       "\t<tr><td>PS   </td><td> 1317</td></tr>\n",
       "\t<tr><td>AM   </td><td>  823</td></tr>\n",
       "\t<tr><td>AI   </td><td>  537</td></tr>\n",
       "\t<tr><td>SE   </td><td>   34</td></tr>\n",
       "\t<tr><td>UR   </td><td>   24</td></tr>\n",
       "\t<tr><td>se   </td><td>    8</td></tr>\n",
       "</tbody>\n",
       "</table>\n"
      ],
      "text/latex": [
       "\\begin{tabular}{r|ll}\n",
       " Rekv.type & n\\\\\n",
       "\\hline\n",
       "\t       & 38179\\\\\n",
       "\t PL    &  9077\\\\\n",
       "\t PS    &  1317\\\\\n",
       "\t AM    &   823\\\\\n",
       "\t AI    &   537\\\\\n",
       "\t SE    &    34\\\\\n",
       "\t UR    &    24\\\\\n",
       "\t se    &     8\\\\\n",
       "\\end{tabular}\n"
      ],
      "text/markdown": [
       "\n",
       "| Rekv.type | n |\n",
       "|---|---|\n",
       "|       | 38179 |\n",
       "| PL    |  9077 |\n",
       "| PS    |  1317 |\n",
       "| AM    |   823 |\n",
       "| AI    |   537 |\n",
       "| SE    |    34 |\n",
       "| UR    |    24 |\n",
       "| se    |     8 |\n",
       "\n"
      ],
      "text/plain": [
       "  Rekv.type n    \n",
       "1           38179\n",
       "2 PL         9077\n",
       "3 PS         1317\n",
       "4 AM          823\n",
       "5 AI          537\n",
       "6 SE           34\n",
       "7 UR           24\n",
       "8 se            8"
      ]
     },
     "metadata": {},
     "output_type": "display_data"
    }
   ],
   "source": [
    "# Which tests are the most frequent\n",
    "rawdata %>%\n",
    "group_by(Rekv.type) %>%\n",
    "tally() %>%\n",
    "arrange(desc(n))"
   ]
  },
  {
   "cell_type": "code",
   "execution_count": 7,
   "metadata": {},
   "outputs": [],
   "source": [
    "# cleaning dato and time type\n",
    "#rawdata %>% unite(Dato.og.Tid, c(\"Prvt.dato\", \"Prvt.kl\"))\n",
    "#rawdata$Dato.og.Tid %<>% dmy_hm()\n",
    "rawdata$DATO %<>% dmy()\n",
    "\n",
    "# fix typo by character encoding\n",
    "rawdata$Prvt.stedgeo %<>% str_replace_all(\"taget i Nåstved\", \"Taget i Næstved\")\n",
    "\n",
    "# cleaning casing of factors and recasting to factor type\n",
    "rawdata$Rekv.type %<>% toupper() %>% as.factor()\n",
    "rawdata$Rekvirent %<>% tolower() %>% as.factor()\n",
    "rawdata$Prvt.stedgeo %<>% tolower() %>% as.factor()\n",
    "rawdata$Res.producent %<>% tolower() %>% as.factor()\n",
    "#rawdata$Kvartal %<>% tolower() %>% as.factor()"
   ]
  },
  {
   "cell_type": "code",
   "execution_count": null,
   "metadata": {},
   "outputs": [],
   "source": []
  },
  {
   "cell_type": "code",
   "execution_count": 8,
   "metadata": {},
   "outputs": [
    {
     "name": "stdout",
     "output_type": "stream",
     "text": [
      "'data.frame':\t49999 obs. of  21 variables:\n",
      " $ Rekv.type   : Factor w/ 7 levels \"\",\"AI\",\"AM\",\"PL\",..: 4 4 4 4 4 4 4 4 4 4 ...\n",
      " $ Rekvirent   : Factor w/ 226 levels \"\",\"1411521\",\"14834\",..: 77 103 53 53 53 53 53 53 53 53 ...\n",
      " $ Rekv.navn   : Factor w/ 230 levels \"\",\"\\235relæge Charlotte Stenby\",..: 15 103 75 75 75 75 75 75 75 75 ...\n",
      " $ Rkv.nr.     : num  1.04e+11 1.04e+11 1.04e+11 1.04e+11 1.04e+11 ...\n",
      " $ PMB.nr.     : num  1.06e+11 1.04e+11 1.06e+11 1.06e+11 1.06e+11 ...\n",
      " $ Kvnt.nr.    : int  57691 57691 57691 13041 13098 13135 13080 13227 13167 13157 ...\n",
      " $ Kvnt.navn   : Factor w/ 9 levels \"\",\"Birk (t3)-IgE;P\",..: 8 8 8 2 4 5 3 9 7 6 ...\n",
      " $ Prvt.dato   : Factor w/ 74 levels \"\",\"01.07.2020\",..: 23 23 23 23 23 23 23 23 23 23 ...\n",
      " $ Prvt.stedgeo: Factor w/ 8 levels \"\",\"send til webhotel\",..: 8 8 8 8 8 8 8 8 8 8 ...\n",
      " $ Prvt.kl     : Factor w/ 506 levels \"\",\"06:01\",\"06:44\",..: 318 254 275 275 275 275 275 275 275 275 ...\n",
      " $ Resultat    : Factor w/ 271 levels \"\",\"<0,10\",\">100\",..: 4 2 44 2 2 2 44 2 2 2 ...\n",
      " $ Alder       : int  69 23 41 41 41 41 41 41 41 41 ...\n",
      " $ DATO        : Date, format: \"2020-05-11\" \"2020-05-11\" ...\n",
      " $ År          : int  2020 2020 2020 2020 2020 2020 2020 2020 2020 2020 ...\n",
      " $ Måned       : Factor w/ 5 levels \"\",\"aug\",\"jul\",..: 5 5 5 5 5 5 5 5 5 5 ...\n",
      " $ Kvartal     : Factor w/ 3 levels \"\",\"2. kvartal\",..: 2 2 2 2 2 2 2 2 2 2 ...\n",
      " $ Uge         : int  20 20 20 20 20 20 20 20 20 20 ...\n",
      " $ Pris.øvrige : int  20 20 20 20 20 20 20 20 20 20 ...\n",
      " $ LMV.pris    : int  100 100 100 80 80 80 80 80 80 80 ...\n",
      " $ Analysepris : Factor w/ 3 levels \"\",\"52,00\",\"65,00\": 3 3 3 2 2 2 2 2 2 2 ...\n",
      " $ Pris.i.alt  : Factor w/ 9 levels \"\",\"123,00\",\"136,00\",..: 9 9 9 8 8 8 8 8 8 8 ...\n"
     ]
    }
   ],
   "source": [
    "# de-select columns here\n",
    "rawdata %<>% select(-Beh.status, -Laboratorium, -Res.producent, -Instrument)\n",
    "str(rawdata)"
   ]
  },
  {
   "cell_type": "code",
   "execution_count": 9,
   "metadata": {},
   "outputs": [
    {
     "name": "stdout",
     "output_type": "stream",
     "text": [
      "                              Navn BCC.nr. Pris\n",
      "1  17-Hydroxyprogesteron (0 min);P    4977  135\n",
      "2 17-Hydroxyprogesteron (30 min);P    4978  135\n",
      "3 17-Hydroxyprogesteron (60 min);P   21623  135\n",
      "'data.frame':\t1249 obs. of  3 variables:\n",
      " $ Navn   : Factor w/ 694 levels \"\",\"17-Hydroxyprogesteron (0 min);P\",..: 2 3 4 5 6 7 8 10 11 14 ...\n",
      " $ BCC.nr.: int  4977 4978 21623 2460 1435 10267 2424 18242 18243 10504 ...\n",
      " $ Pris   : int  135 135 135 135 203 68 34 63 63 7 ...\n"
     ]
    }
   ],
   "source": [
    "# tidy up the pricelist\n",
    "pricelist %<>%\n",
    "select(Navn, BCC.nr., Pris)\n",
    "\n",
    "# check if the data is properly loaded.\n",
    "pricelist %>%\n",
    "head(3) %>%\n",
    "print.data.frame()\n",
    "\n",
    "# check datatypes\n",
    "str(pricelist)"
   ]
  }
 ],
 "metadata": {
  "kernelspec": {
   "display_name": "R",
   "language": "R",
   "name": "ir"
  },
  "language_info": {
   "codemirror_mode": "r",
   "file_extension": ".r",
   "mimetype": "text/x-r-source",
   "name": "R",
   "pygments_lexer": "r",
   "version": "3.6.1"
  }
 },
 "nbformat": 4,
 "nbformat_minor": 4
}
