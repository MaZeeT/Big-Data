{
 "cells": [
  {
   "cell_type": "markdown",
   "metadata": {},
   "source": [
    "By <br>\n",
    "Marco Føhns-Greve (Studie nr. 60997) <br>\n",
    "Mads Zeuch Ethelberg (Studie nr. 62608) <br>"
   ]
  },
  {
   "cell_type": "markdown",
   "metadata": {},
   "source": [
    "# Business Case - KBA Slagelse blood tests\n",
    "The business case is based on real data from the department of clinical biochemistry at the hospital in Slagelse (KBA Slagelse) where Mads E. is employed. Every year KBA is asked to reduce cost and need to show possible options to the directors, but in recent times the amount of work has become more and more unbalanced with the number of employees to perform the work. This unbalance between the amount of work and number of employees has led to poor performance and quality of the department in general which have risen the interest to make drastic changes. <br>\n",
    "\n",
    "This notebook is aimed to explorer possible ways to reduce the cost to free up resources or to satisfy the ongoing cost reduction demands or to reduce the workload on the employees. The dataset used is provided by KBA Slagelse consisting of series of tests that have been recorded from the 1st of January 2018 to the 30th of September 2020 and is limited to records from the \"Akut stue\", \"Akut 1.sal\" and \"Hjerte\" departments. Any personal data like CPR numbers have been converted to fictive unrelated IDs to enable grouping of unique patients and still keep each patient anonymous."
   ]
  },
  {
   "cell_type": "markdown",
   "metadata": {},
   "source": [
    "## Description of dataset attributes\n",
    "<br> <B>The blood sample datasets</B>\n",
    "<ul>\n",
    "<li> Beh.status   : The status if the rekvisition is finalized or in progress. </li>\n",
    "<li> Rekvirent    : The ID of the departments requesting tests.</li>\n",
    "<li> Rekv.navn    : The name of the departments requesting tests.</li>\n",
    "<li> Rkv.nr.      : The ID of the different rekvisitions, like an order ID. Consist of 12 digits but has been anonymized in outputs. </li>\n",
    "<li> Kvnt.nr.     : The ID of the different tests.</li>\n",
    "<li> Prvt.dato    : The date of the sample in format DD.MM.YYYY.</li>\n",
    "<li> Laboratorium : The laboratory providing the results for a given test.</li>\n",
    "<li> PMB.nr.      : The ID numbers for the samples. Consist of 12 digits but has been anonymized in outputs.</li>\n",
    "<li> Resultat     : The results of the tests.</li>\n",
    "<li> Kvnt.navn    : The name of the different tests.</li>\n",
    "<li> Prvt.stedgeo : Which scenario the samples have been drawn.</li>\n",
    "<li> Res.producent: The laboratory providing the results for a given test.</li>\n",
    "<li> Prvt.kl      : The time of the sample 24hour format HH.MM.</li>\n",
    "<li> fiktivId     : The fictitious IDs based on CPR numbers used to group \"Rkv.nr.\" to unique anonymous patients.</li>\n",
    "</ul> \n",
    "\n",
    "<br> <B>The pricelist dataset</B>\n",
    "<ul>\n",
    "<li> Navn      : The name of the different tests.</li>\n",
    "<li> BCC.nr.   : The ID of the different tests, equal to \"Kvnt.nr.\" in the first dataset.</li>\n",
    "<li> NPU.kode  : The ID of the different tests but used for an other system.</li>\n",
    "<li> Lokal.kode: An old ID of the different tests which are being phased out in favour of the NUP.kode.</li>\n",
    "<li> Pris      : Contains the price in DKK of the different tests available, based on an internal source called LMV prices.</li>\n",
    "<li> X         : Leftover from Excel containing only notes, should be ignored.</li>\n",
    "<li> X.1       : Leftover from Excel containing only notes, should be ignored.</li>\n",
    "<li> X.2       : Leftover from Excel containing only notes, should be ignored.</li>\n",
    "<li> X.3       : Leftover from Excel containing only notes, should be ignored.</li>\n",
    "</ul> \n",
    " \n"
   ]
  },
  {
   "cell_type": "markdown",
   "metadata": {},
   "source": [
    "# Loading libraries and the datasets"
   ]
  },
  {
   "cell_type": "markdown",
   "metadata": {},
   "source": [
    "First, we have to load in the libraries that are used in this notebook, and lastly load in the datasets we need to work with. To easily make the coding environment accessible, the packages that do not come default installed with Jupyter R, have been included in an out-commented form which will be needed to run at least once to make sure the proper packages are available. "
   ]
  },
  {
   "cell_type": "code",
   "execution_count": 1,
   "metadata": {},
   "outputs": [],
   "source": [
    "### install missing packages, should only run one time.\n",
    "# install.packages(\"tidyverse\")\n",
    "# install.packages(\"forecast\")"
   ]
  },
  {
   "cell_type": "markdown",
   "metadata": {},
   "source": [
    "Next, a function is defined to load a list of packages in a suppressed way, to remove messages and warnings while loading the libraries. Afterward, a list of packages is listed and the function is called with the list. This will load the libraries to be used in the rest of the notebook."
   ]
  },
  {
   "cell_type": "code",
   "execution_count": 2,
   "metadata": {},
   "outputs": [],
   "source": [
    "load <- function(packages) {\n",
    "   for (package in packages){ \n",
    "        suppressWarnings( suppressMessages(\n",
    "                library(package, character.only = TRUE)\n",
    "        )  )\n",
    "   }}"
   ]
  },
  {
   "cell_type": "code",
   "execution_count": 3,
   "metadata": {},
   "outputs": [],
   "source": [
    "# List of packages to load\n",
    "packages <- c(\n",
    "     \"tidyverse\"   # all-around packages for datahandling\n",
    "    ,\"magrittr\"    # a package to extend the piping operations to include operations like %<>%\n",
    "    ,\"lubridate\"   # a package to easily clean date and time types and formats\n",
    "    ,\"tidyr\"\n",
    "    ,\"forecast\"    # a package to make forecast on timeseries\n",
    ")\n",
    "load(packages)"
   ]
  },
  {
   "cell_type": "markdown",
   "metadata": {},
   "source": [
    "Now the datasets need to be loaded. First, a dataset for each year is loaded which makes up the bulk of the data and covers which tests have been ordered and the status of each \"order\". Secondly, the dataset priser.csv is loaded that contains prices for most of the available tests which enable us to estimate cost in the notebook."
   ]
  },
  {
   "cell_type": "code",
   "execution_count": 4,
   "metadata": {},
   "outputs": [],
   "source": [
    "# load data from 2018, 2019 and 2020\n",
    "rawdata <- read.table(file = \"AkutHa2018.csv\", sep = \";\", header=TRUE) %>%\n",
    "rbind(read.table(file = \"AkutHa2019.csv\", sep = \";\", header=TRUE)) %>%\n",
    "rbind(read.table(file = \"AkutHa2020.csv\", sep = \";\", header=TRUE))"
   ]
  },
  {
   "cell_type": "code",
   "execution_count": 5,
   "metadata": {},
   "outputs": [],
   "source": [
    "# load pricelist\n",
    "pricelist <- read.table(file = \"priser.csv\", sep = \";\", header=TRUE)"
   ]
  },
  {
   "cell_type": "markdown",
   "metadata": {},
   "source": [
    "## Cleaning the datasets"
   ]
  },
  {
   "cell_type": "markdown",
   "metadata": {},
   "source": [
    "Next, we need to take a look at the datasets in the current state and clean it before it will be used. First off we will work with the blood test dataset stored in the variable \"rawdata\", after cleaning that dataset we will move on to cleaning the dataset stored in the pricelist variable."
   ]
  },
  {
   "cell_type": "markdown",
   "metadata": {},
   "source": [
    "### Cleaning the rawdata"
   ]
  },
  {
   "cell_type": "markdown",
   "metadata": {},
   "source": [
    "First, we check if the rawdata has any NA-values and afterward we will take a look at the structure and summarizing statistics of the rawdata."
   ]
  },
  {
   "cell_type": "code",
   "execution_count": 6,
   "metadata": {},
   "outputs": [
    {
     "data": {
      "text/plain": [
       "\n",
       "   FALSE \n",
       "36033564 "
      ]
     },
     "metadata": {},
     "output_type": "display_data"
    }
   ],
   "source": [
    "# checking for NA-values\n",
    "table(is.na(rawdata))"
   ]
  },
  {
   "cell_type": "code",
   "execution_count": 7,
   "metadata": {
    "scrolled": true
   },
   "outputs": [
    {
     "name": "stdout",
     "output_type": "stream",
     "text": [
      "'data.frame':\t2573826 obs. of  14 variables:\n",
      " $ Beh.status   : Factor w/ 3 levels \"Afslut\",\"Ejsvar\",..: 1 1 1 1 1 1 1 1 1 1 ...\n",
      " $ Rekvirent    : Factor w/ 4 levels \"slakaiha\",\"slaaki1\",..: 3 3 3 3 3 3 3 3 3 3 ...\n",
      " $ Rekv.navn    : Factor w/ 4 levels \"RSJ, Akut Afd.1.Sal, Sengeafs., SLA\",..: 1 1 1 1 1 1 1 1 1 1 ...\n",
      " $ Rkv.nr.      : num  1.05e+11 1.05e+11 1.05e+11 1.05e+11 1.05e+11 ...\n",
      " $ Kvnt.nr.     : Factor w/ 757 levels \"100033\",\"100034\",..: 245 197 485 394 388 193 114 309 188 67 ...\n",
      " $ Prvt.dato    : Factor w/ 1004 levels \"01-01-2018\",\"01-02-2018\",..: 190 190 190 190 190 190 190 190 190 190 ...\n",
      " $ Laboratorium : Factor w/ 1 level \"SLAKBD\": 1 1 1 1 1 1 1 1 1 1 ...\n",
      " $ PMB.nr.      : num  1.05e+11 1.05e+11 1.05e+11 1.05e+11 1.05e+11 ...\n",
      " $ Resultat     : Factor w/ 8318 levels \"\",\"----\",\"*\",..: 5851 5851 5851 5851 5851 1816 852 5099 3018 1444 ...\n",
      " $ Kvnt.navn    : Factor w/ 786 levels \"\",\" 25-OH-Vitamin D(D3+D2);P\",..: 271 40 339 418 299 358 315 67 34 79 ...\n",
      " $ Prvt.stedgeo : Factor w/ 18 levels \"poctsvar\",\"POCTSVAR\",..: 13 13 13 13 13 13 13 13 13 13 ...\n",
      " $ Res.producent: Factor w/ 32 levels \"\",\"2,39671E+14\",..: 25 25 25 25 25 25 25 25 25 25 ...\n",
      " $ Prvt.kl      : Factor w/ 1440 levels \"00:00\",\"00:01\",..: 1 1 1 1 1 6 6 6 6 6 ...\n",
      " $ fiktivId     : Factor w/ 43709 levels \"ID00001\",\"ID00002\",..: 8348 8348 8348 8348 8348 15375 15375 15375 15375 15375 ...\n"
     ]
    }
   ],
   "source": [
    "str(rawdata)"
   ]
  },
  {
   "cell_type": "code",
   "execution_count": 8,
   "metadata": {
    "scrolled": false
   },
   "outputs": [
    {
     "data": {
      "text/plain": [
       "  Beh.status         Rekvirent      \n",
       " Afslut:2552121   slakaiha: 280919  \n",
       " Ejsvar:  21664   slaaki1 :1250461  \n",
       " Svar  :     41   slaaki2 : 932735  \n",
       "                  SLAKAI  : 109711  \n",
       "                                    \n",
       "                                    \n",
       "                                    \n",
       "                                Rekv.navn          Rkv.nr.         \n",
       " RSJ, Akut Afd.1.Sal, Sengeafs., SLA : 932735   Min.   :1.000e+11  \n",
       " RSJ, Akut Afd.stuen, Sengeafs., SLA :1250461   1st Qu.:1.049e+11  \n",
       " RSJ, Kardiologisk sengeafs., HA, SLA: 280919   Median :1.050e+11  \n",
       " RSJ, Kardiologisk Sengeafs., SLA    : 109711   Mean   :1.053e+11  \n",
       "                                                3rd Qu.:1.057e+11  \n",
       "                                                Max.   :1.064e+11  \n",
       "                                                                   \n",
       "    Kvnt.nr.            Prvt.dato       Laboratorium        PMB.nr.         \n",
       " 3230   : 123290   30-07-2018:   4273   SLAKBD:2573826   Min.   :1.000e+11  \n",
       " 4998   : 122063   04-11-2019:   4010                    1st Qu.:1.049e+11  \n",
       " 3429   : 121928   25-11-2019:   3816                    Median :1.051e+11  \n",
       " 2319   : 115535   07-01-2019:   3739                    Mean   :1.053e+11  \n",
       " 2593   : 114067   26-11-2018:   3663                    3rd Qu.:1.059e+11  \n",
       " 19748  : 113400   15-03-2018:   3591                    Max.   :1.064e+11  \n",
       " (Other):1863543   (Other)   :2550734                                       \n",
       "    Resultat                            Kvnt.navn      \n",
       " 0      : 141794   Kalium;P                  : 123290  \n",
       " Aflyst : 131564   Kreatinin;P               : 122062  \n",
       " TEK15* :  81511   Natrium;P                 : 121928  \n",
       " 0,1    :  64944   Leukocytter;B             : 114067  \n",
       " >90    :  37884   C-reaktivt protein [CRP];P: 113399  \n",
       " 1      :  36994   Hæmoglobin;B              : 104844  \n",
       " (Other):2079135   (Other)                   :1874236  \n",
       "            Prvt.stedgeo                Res.producent        Prvt.kl       \n",
       " Tages på runde   :1406885   SL,Slagelse KBA   :2567249   07:00  :  13445  \n",
       " Tages nu         : 451806   STO,Næstved KBA   :   2136   07:30  :  10278  \n",
       " tages på runde   : 283717   CNF,Nykøbing F KBA:    909   07:45  :   7313  \n",
       " tages nu         : 204056   KS,Kalundborg KBA :    635   08:00  :   7245  \n",
       " Tages p† runde   : 138962                     :    603   15:00  :   7239  \n",
       " Tages af afdeling:  33460   RAS,Roskilde KBA  :    494   07:50  :   7185  \n",
       " (Other)          :  54940   (Other)           :   1800   (Other):2521121  \n",
       "    fiktivId      \n",
       " ID10424:   2360  \n",
       " ID05839:   2298  \n",
       " ID05097:   2016  \n",
       " ID11723:   1654  \n",
       " ID10503:   1608  \n",
       " ID06554:   1545  \n",
       " (Other):2562345  "
      ]
     },
     "metadata": {},
     "output_type": "display_data"
    }
   ],
   "source": [
    "summary(rawdata)"
   ]
  },
  {
   "cell_type": "markdown",
   "metadata": {},
   "source": [
    "While taking a look at the output above some places to do cleaning can be identified. \"Prvt.dato\" and \"Prvt.kl\" are stored as factors and can be combined into a time type. Then the columns \"Laboratorium\", \"Rekv.navn\" and \"Beh.status\" can be dropped since \"Laboratorium\" only have 1 value saying it was KBA Slagelse doing the test. \"Rekv.navn\" and \"Beh.status\" are redundant information that only adds to the complexity of cleaning the dataset. For \"Rekv.navn\" the redundancy comes from \"Rekvirent\", and for \"Beh.status\" it comes from \"Resultat\" with the value of \"Aflyst\". To improve readability of the \"Rekvirent\", factors will be renamed to more explicit state the names of the departments. <br>\n",
    "\n",
    "Looking at the \"Prvt.stedgeo\" it is clear there are some casing issues and looking at the \"Resultat\" it can be noticed that the danish \",\" is used as the decimal separator instead of \".\". Further undocumented studies of the data have shown that some mistakes in character encoding have happened. To clean these mistakes each column is cased to lower case, and identified strings with encoding mistakes are replaced, then cast to lowercase again to avoid any coding errors with casing and lastly stored as factors. <br>\n",
    "\n",
    "Lastly, it shall be noted that \"Rkv.nr.\" and \"PMB.nr.\" is stored as factors and not numeric since it is an ID and not a numeric value that calculations should be performed upon."
   ]
  },
  {
   "cell_type": "code",
   "execution_count": 9,
   "metadata": {},
   "outputs": [],
   "source": [
    "# combining date and time, and casting to a time object by the dmy_hm() lubridate function\n",
    "rawdata$Dato.og.Tid <- dmy_hm(paste(rawdata$Prvt.dato, rawdata$Prvt.kl))\n",
    "rawdata %<>% select(-Prvt.kl, -Prvt.dato)"
   ]
  },
  {
   "cell_type": "code",
   "execution_count": 10,
   "metadata": {
    "scrolled": false
   },
   "outputs": [],
   "source": [
    "# dropping columns that have minor to no use\n",
    "rawdata %<>% select(-Laboratorium, -Rekv.navn, -Beh.status)"
   ]
  },
  {
   "cell_type": "code",
   "execution_count": 11,
   "metadata": {},
   "outputs": [],
   "source": [
    "# fix mistake in character encoding, casting and stores as factors\n",
    "pat = c(\n",
    "    \"taget i nåstved\" = \"Taget i Næstved\",\n",
    "    \"tages p† runde\" = \"tages på runde\"\n",
    ")\n",
    "\n",
    "rawdata$Prvt.stedgeo %<>% tolower() %>% str_replace_all(pattern = pat) %>% tolower() %>% as.factor()"
   ]
  },
  {
   "cell_type": "code",
   "execution_count": 12,
   "metadata": {},
   "outputs": [],
   "source": [
    "# fix mistake in character encoding, casting and stores as factors\n",
    "pat = c(\n",
    "    \"håmo\" = \"Hæmo\"\n",
    ")\n",
    "\n",
    "rawdata$Kvnt.navn %<>% tolower() %>% str_replace_all(pattern = pat) %>% tolower() %>% as.factor()"
   ]
  },
  {
   "cell_type": "code",
   "execution_count": 13,
   "metadata": {},
   "outputs": [],
   "source": [
    "# fix mistake in character encoding, casting and stores as factors\n",
    "pat = c(\n",
    "    \"n‘stved\" = \"næstved\",\n",
    "    \"nyk›bing\" = \"nykøbing\",\n",
    "    \"holb‘k\" = \"holbæk\",\n",
    "    \"k›ge\" = \"køge\"\n",
    ")\n",
    "\n",
    "rawdata$Res.producent %<>% tolower() %>% str_replace_all(pattern = pat) %>% tolower() %>% as.factor()"
   ]
  },
  {
   "cell_type": "code",
   "execution_count": 14,
   "metadata": {},
   "outputs": [],
   "source": [
    "# Translate department codes to proper readable names\n",
    "pat = c(\n",
    "    \"slakaiha\" = \"Hjerte Afdeling\",\n",
    "    \"slakai\" = \"Hjerte Afdeling\",\n",
    "    \"slaaki1\" = \"Akut Stue\",\n",
    "    \"slaaki2\" = \"Akut 1.Sal\"\n",
    ")\n",
    "\n",
    "rawdata$Rekvirent %<>% tolower() %>% str_replace_all(pattern = pat) %>% as.factor()"
   ]
  },
  {
   "cell_type": "code",
   "execution_count": 15,
   "metadata": {},
   "outputs": [],
   "source": [
    "# fix mistake in character encoding, casting and stores as factors\n",
    "pat = c(\n",
    "   \"ikke udf›rt\" = \"ikke udført\",\n",
    "    \",\" = \".\"\n",
    ")\n",
    "\n",
    "rawdata$Resultat %<>% tolower() %>% str_replace_all(pattern = pat) %>% as.factor()"
   ]
  },
  {
   "cell_type": "code",
   "execution_count": 16,
   "metadata": {},
   "outputs": [],
   "source": [
    "# casting to factor type\n",
    "rawdata$Rkv.nr. %<>% as.factor()\n",
    "rawdata$PMB.nr. %<>% as.factor()"
   ]
  },
  {
   "cell_type": "markdown",
   "metadata": {},
   "source": [
    "To validate that the cleaning has worked we will take a look at the resulting structure and summarizing statistics of the cleaned rawdata which can be seen below. Taking the earlier concerns into account it can be seen that the dataset looks a lot cleaner. The number of Rekvirents has dropped from 4 to 3, there are no longer casing problems in the \"Prvt.stedgeo\" column and the Resultat column has the proper decimal separator. <br>\n",
    "\n",
    "To make the dataset a little more useful we will drop entries that have been cancelled, not performed, or in some way did not reach the laboratory."
   ]
  },
  {
   "cell_type": "code",
   "execution_count": 17,
   "metadata": {},
   "outputs": [
    {
     "name": "stdout",
     "output_type": "stream",
     "text": [
      "'data.frame':\t2573826 obs. of  10 variables:\n",
      " $ Rekvirent    : Factor w/ 3 levels \"Akut 1.Sal\",\"Akut Stue\",..: 1 1 1 1 1 1 1 1 1 1 ...\n",
      " $ Rkv.nr.      : chr  \"anonymize\" \"anonymize\" \"anonymize\" \"anonymize\" ...\n",
      " $ Kvnt.nr.     : Factor w/ 757 levels \"100033\",\"100034\",..: 245 197 485 394 388 193 114 309 188 67 ...\n",
      " $ PMB.nr.      : chr  \"anonymize\" \"anonymize\" \"anonymize\" \"anonymize\" ...\n",
      " $ Resultat     : Factor w/ 8301 levels \"\",\"----\",\"*\",..: 8196 8196 8196 8196 8196 2290 969 7135 4151 1752 ...\n",
      " $ Kvnt.navn    : Factor w/ 786 levels \"\",\" 25-oh-vitamin d(d3+d2);p\",..: 358 50 460 563 406 482 426 93 44 110 ...\n",
      " $ Prvt.stedgeo : Factor w/ 12 levels \"poctsvar\",\"send til webhotel\",..: 8 8 8 8 8 8 8 8 8 8 ...\n",
      " $ Res.producent: Factor w/ 28 levels \"\",\"2,39671e+14\",..: 24 24 24 24 24 24 24 24 24 24 ...\n",
      " $ fiktivId     : Factor w/ 43709 levels \"ID00001\",\"ID00002\",..: 8348 8348 8348 8348 8348 15375 15375 15375 15375 15375 ...\n",
      " $ Dato.og.Tid  : POSIXct, format: \"2018-10-16 00:00:00\" \"2018-10-16 00:00:00\" ...\n"
     ]
    }
   ],
   "source": [
    "rawdata %>%\n",
    "mutate(Rkv.nr. = \"anonymize\") %>% # anonymize Rkv.nr for output, is processed as factors\n",
    "mutate(PMB.nr. = \"anonymize\") %>% # anonymize PMB.nr for output, is processed as factors\n",
    "str()"
   ]
  },
  {
   "cell_type": "code",
   "execution_count": 18,
   "metadata": {},
   "outputs": [
    {
     "data": {
      "text/plain": [
       "           Rekvirent         Rkv.nr.             Kvnt.nr.      \n",
       " Akut 1.Sal     : 932735   Length:2573826     3230   : 123290  \n",
       " Akut Stue      :1250461   Class :character   4998   : 122063  \n",
       " Hjerte Afdeling: 390630   Mode  :character   3429   : 121928  \n",
       "                                              2319   : 115535  \n",
       "                                              2593   : 114067  \n",
       "                                              19748  : 113400  \n",
       "                                              (Other):1863543  \n",
       "   PMB.nr.             Resultat                            Kvnt.navn      \n",
       " Length:2573826     0      : 141794   kalium;p                  : 123290  \n",
       " Class :character   aflyst : 131568   kreatinin;p               : 122062  \n",
       " Mode  :character   tek15* :  81514   natrium;p                 : 121928  \n",
       "                    0.1    :  64945   leukocytter;b             : 114067  \n",
       "                    >90    :  37884   c-reaktivt protein [crp];p: 113399  \n",
       "                    1      :  36994   hæmoglobin;b              : 104844  \n",
       "                    (Other):2079127   (Other)                   :1874236  \n",
       "            Prvt.stedgeo                Res.producent        fiktivId      \n",
       " tages på runde   :1857149   sl,slagelse kba   :2567249   ID10424:   2360  \n",
       " tages nu         : 655862   sto,næstved kba   :   2277   ID05839:   2298  \n",
       " tages af afdeling:  52162   cnf,nykøbing f kba:   1023   ID05097:   2016  \n",
       " tages i kba amb  :   5899   ks,kalundborg kba :    635   ID11723:   1654  \n",
       " poctsvar         :   1502                     :    603   ID10503:   1608  \n",
       " tages i ringsted :    976   ras,roskilde kba  :    494   ID06554:   1545  \n",
       " (Other)          :    276   (Other)           :   1545   (Other):2562345  \n",
       "  Dato.og.Tid                 \n",
       " Min.   :2018-01-01 02:15:00  \n",
       " 1st Qu.:2018-09-21 12:48:00  \n",
       " Median :2019-05-16 22:34:00  \n",
       " Mean   :2019-05-23 19:26:55  \n",
       " 3rd Qu.:2020-01-16 11:28:00  \n",
       " Max.   :2020-09-30 23:55:00  \n",
       "                              "
      ]
     },
     "metadata": {},
     "output_type": "display_data"
    }
   ],
   "source": [
    "rawdata %>%\n",
    "mutate(Rkv.nr. = \"anonymize\") %>% # anonymize Rkv.nr for output, is processed as factors\n",
    "mutate(PMB.nr. = \"anonymize\") %>% # anonymize PMB.nr for output, is processed as factors\n",
    "summary()"
   ]
  },
  {
   "cell_type": "code",
   "execution_count": 19,
   "metadata": {},
   "outputs": [],
   "source": [
    "# Dropping cancelled tests\n",
    "rawdata %<>%\n",
    "filter(Resultat != \"aflyst\" &\n",
    "       Resultat != \"ikke taget\" &\n",
    "       Resultat != \"dublet\" &\n",
    "       Resultat != \"ej modtaget\" &\n",
    "       Resultat != \"afbestilt\" & \n",
    "       Resultat != \"ej tilstede\" &\n",
    "       Resultat != \"ikke udført\"\n",
    ")\n"
   ]
  },
  {
   "cell_type": "markdown",
   "metadata": {},
   "source": [
    "### Cleaning the pricelist"
   ]
  },
  {
   "cell_type": "markdown",
   "metadata": {},
   "source": [
    "Now it is time to look into the pricelist dataset. We will first look into how the structure and summarizing statistics of the dataset is."
   ]
  },
  {
   "cell_type": "code",
   "execution_count": 20,
   "metadata": {},
   "outputs": [
    {
     "data": {
      "text/html": [
       "<table>\n",
       "<thead><tr><th scope=col>Navn</th><th scope=col>BCC.nr.</th><th scope=col>NPU.kode</th><th scope=col>Lokal.kode</th><th scope=col>Pris</th><th scope=col>X</th><th scope=col>X.1</th><th scope=col>X.2</th><th scope=col>X.3</th></tr></thead>\n",
       "<tbody>\n",
       "\t<tr><td>17-Hydroxyprogesteron (0 min);P</td><td>4977                           </td><td>NPU04977                       </td><td>                               </td><td>135                            </td><td>NA                             </td><td>                               </td><td>                               </td><td>NA                             </td></tr>\n",
       "</tbody>\n",
       "</table>\n"
      ],
      "text/latex": [
       "\\begin{tabular}{r|lllllllll}\n",
       " Navn & BCC.nr. & NPU.kode & Lokal.kode & Pris & X & X.1 & X.2 & X.3\\\\\n",
       "\\hline\n",
       "\t 17-Hydroxyprogesteron (0 min);P & 4977                            & NPU04977                        &                                 & 135                             & NA                              &                                 &                                 & NA                             \\\\\n",
       "\\end{tabular}\n"
      ],
      "text/markdown": [
       "\n",
       "| Navn | BCC.nr. | NPU.kode | Lokal.kode | Pris | X | X.1 | X.2 | X.3 |\n",
       "|---|---|---|---|---|---|---|---|---|\n",
       "| 17-Hydroxyprogesteron (0 min);P | 4977                            | NPU04977                        |                                 | 135                             | NA                              |                                 |                                 | NA                              |\n",
       "\n"
      ],
      "text/plain": [
       "  Navn                            BCC.nr. NPU.kode Lokal.kode Pris X  X.1 X.2\n",
       "1 17-Hydroxyprogesteron (0 min);P 4977    NPU04977            135  NA        \n",
       "  X.3\n",
       "1 NA "
      ]
     },
     "metadata": {},
     "output_type": "display_data"
    }
   ],
   "source": [
    "head(pricelist,1)"
   ]
  },
  {
   "cell_type": "code",
   "execution_count": 21,
   "metadata": {},
   "outputs": [
    {
     "name": "stdout",
     "output_type": "stream",
     "text": [
      "'data.frame':\t1249 obs. of  9 variables:\n",
      " $ Navn      : Factor w/ 694 levels \"\",\"17-Hydroxyprogesteron (0 min);P\",..: 2 3 4 5 6 7 8 10 11 14 ...\n",
      " $ BCC.nr.   : int  4977 4978 21623 2460 1435 10267 2424 18242 18243 10504 ...\n",
      " $ NPU.kode  : Factor w/ 682 levels \"\",\"DNK05219\",..: 143 144 541 63 20 171 62 450 451 177 ...\n",
      " $ Lokal.kode: Factor w/ 29 levels \"\",\"EPC00001\",..: 1 1 1 1 1 1 1 1 1 1 ...\n",
      " $ Pris      : int  135 135 135 135 203 68 34 63 63 7 ...\n",
      " $ X         : int  NA NA NA NA NA NA NA NA NA NA ...\n",
      " $ X.1       : Factor w/ 4 levels \"\",\"Blodprøvetagning\",..: 1 2 2 3 3 4 1 1 1 1 ...\n",
      " $ X.2       : Factor w/ 4 levels \"\",\"Alle\",\"Ambulant\",..: 1 4 3 4 3 2 1 1 1 1 ...\n",
      " $ X.3       : int  NA 101 71 176 146 16 NA NA NA NA ...\n"
     ]
    }
   ],
   "source": [
    "str(pricelist)"
   ]
  },
  {
   "cell_type": "code",
   "execution_count": 22,
   "metadata": {},
   "outputs": [
    {
     "data": {
      "text/plain": [
       "                               Navn         BCC.nr.          NPU.kode   \n",
       "                                 : 170   Min.   :   37           : 194  \n",
       " Protein;Csv                     :   4   1st Qu.: 4972   DNK05219:   2  \n",
       " Urat;Ledv                       :   3   Median :13298   DNK05221:   2  \n",
       " 17-Hydroxyprogesteron (0 min);P :   2   Mean   :17108   DNK35307:   2  \n",
       " 17-Hydroxyprogesteron (30 min);P:   2   3rd Qu.:19961   DNK35834:   2  \n",
       " 17-Hydroxyprogesteron (60 min);P:   2   Max.   :59084   DNK35842:   2  \n",
       " (Other)                         :1066   NA's   :170     (Other) :1045  \n",
       "    Lokal.kode        Pris               X                      X.1      \n",
       "         :1194   Min.   :   4.00   Min.   :101                    :1244  \n",
       " EPC00001:   2   1st Qu.:  20.75   1st Qu.:101    Blodprøvetagning:   2  \n",
       " EPC00002:   2   Median :  80.00   Median :101    EKG tagning     :   2  \n",
       " EPC00003:   2   Mean   : 231.79   Mean   :101    Sendeprøver     :   1  \n",
       " EPC00004:   2   3rd Qu.: 119.00   3rd Qu.:101                           \n",
       " EPC00005:   2   Max.   :5500.00   Max.   :101                           \n",
       " (Other) :  45   NA's   :171       NA's   :1248                          \n",
       "       X.2            X.3      \n",
       "         :1244   Min.   : 16   \n",
       " Alle    :   1   1st Qu.: 71   \n",
       " Ambulant:   2   Median :101   \n",
       " Indlagt :   2   Mean   :102   \n",
       "                 3rd Qu.:146   \n",
       "                 Max.   :176   \n",
       "                 NA's   :1244  "
      ]
     },
     "metadata": {},
     "output_type": "display_data"
    }
   ],
   "source": [
    "summary(pricelist)"
   ]
  },
  {
   "cell_type": "markdown",
   "metadata": {},
   "source": [
    "It is clear from the output above that the dataset contains NA-values as can be seen in \"BCC.nr.\" and \"Pris\", and at the same time, there must be some badly structured cells from the excel spreadsheet source based on the X, X.1, X.2, and X.3 columns. <br>\n",
    "\n",
    "By applying some business knowledge we know that \"Kvnt.nr.\" from rawdata is equal to the \"BCC.nr.\" in the pricelist dataset, and that \"NPU.kode\" is used when working with Sundhedsplatformen (SP) which in our cases \"NPU.kode\" can be dropped. <br>\n",
    "\n",
    "To clean the dataset we will first drop any entries that have an NA-value in the \"Pris\" column, only keep unique values of \"BCC.nr.\" and only keep the \"Navn\", \"BCC.nr.\", and \"Pris\" columns since it is those attributes we are interested in. Lastly, we check if we have any NA-values and how the structure and summarizing statistics of the dataset looks."
   ]
  },
  {
   "cell_type": "code",
   "execution_count": 23,
   "metadata": {},
   "outputs": [],
   "source": [
    "pricelist %<>%\n",
    "drop_na(Pris) %>%\n",
    "distinct(BCC.nr., .keep_all= TRUE) %>%\n",
    "select(Navn, BCC.nr., Pris)"
   ]
  },
  {
   "cell_type": "code",
   "execution_count": 24,
   "metadata": {},
   "outputs": [
    {
     "data": {
      "text/plain": [
       "\n",
       "FALSE \n",
       " 2091 "
      ]
     },
     "metadata": {},
     "output_type": "display_data"
    }
   ],
   "source": [
    "table(is.na(pricelist))"
   ]
  },
  {
   "cell_type": "code",
   "execution_count": 25,
   "metadata": {},
   "outputs": [
    {
     "data": {
      "text/html": [
       "<table>\n",
       "<thead><tr><th scope=col>Navn</th><th scope=col>BCC.nr.</th><th scope=col>Pris</th></tr></thead>\n",
       "<tbody>\n",
       "\t<tr><td>17-Hydroxyprogesteron (0 min);P</td><td>4977                           </td><td>135                            </td></tr>\n",
       "</tbody>\n",
       "</table>\n"
      ],
      "text/latex": [
       "\\begin{tabular}{r|lll}\n",
       " Navn & BCC.nr. & Pris\\\\\n",
       "\\hline\n",
       "\t 17-Hydroxyprogesteron (0 min);P & 4977                            & 135                            \\\\\n",
       "\\end{tabular}\n"
      ],
      "text/markdown": [
       "\n",
       "| Navn | BCC.nr. | Pris |\n",
       "|---|---|---|\n",
       "| 17-Hydroxyprogesteron (0 min);P | 4977                            | 135                             |\n",
       "\n"
      ],
      "text/plain": [
       "  Navn                            BCC.nr. Pris\n",
       "1 17-Hydroxyprogesteron (0 min);P 4977    135 "
      ]
     },
     "metadata": {},
     "output_type": "display_data"
    }
   ],
   "source": [
    "head(pricelist,1)"
   ]
  },
  {
   "cell_type": "code",
   "execution_count": 26,
   "metadata": {},
   "outputs": [
    {
     "name": "stdout",
     "output_type": "stream",
     "text": [
      "'data.frame':\t697 obs. of  3 variables:\n",
      " $ Navn   : Factor w/ 694 levels \"\",\"17-Hydroxyprogesteron (0 min);P\",..: 2 3 4 5 6 7 8 10 11 14 ...\n",
      " $ BCC.nr.: int  4977 4978 21623 2460 1435 10267 2424 18242 18243 10504 ...\n",
      " $ Pris   : int  135 135 135 135 203 68 34 63 63 7 ...\n"
     ]
    }
   ],
   "source": [
    "str(pricelist)"
   ]
  },
  {
   "cell_type": "code",
   "execution_count": 27,
   "metadata": {},
   "outputs": [
    {
     "data": {
      "text/plain": [
       "                               Navn        BCC.nr.           Pris     \n",
       " APOB-gen;DNA                    :  2   Min.   :   37   Min.   :   4  \n",
       " Protein;Csv                     :  2   1st Qu.:10216   1st Qu.:  41  \n",
       " Protein;U                       :  2   Median :13280   Median :  80  \n",
       " Urat;Ledv                       :  2   Mean   :17331   Mean   : 280  \n",
       " 17-Hydroxyprogesteron (0 min);P :  1   3rd Qu.:19926   3rd Qu.: 119  \n",
       " 17-Hydroxyprogesteron (30 min);P:  1   Max.   :59084   Max.   :5500  \n",
       " (Other)                         :687                                 "
      ]
     },
     "metadata": {},
     "output_type": "display_data"
    }
   ],
   "source": [
    "summary(pricelist)"
   ]
  },
  {
   "cell_type": "markdown",
   "metadata": {},
   "source": [
    "Now the datasets have been roughly cleaned to make a solid base to start exploring the datasets. Next, we will work with some questions to explorer the dataset and gain knowledge about the dataset."
   ]
  },
  {
   "cell_type": "markdown",
   "metadata": {},
   "source": [
    "# Explorative data analysis"
   ]
  },
  {
   "cell_type": "markdown",
   "metadata": {},
   "source": [
    "In the data analysis, we will first look into the frequency and cost of the different tests performed at KBA. Afterward, the EKG and INR tests are analyzed further as a result of the frequency and cost analysis which shows these two tests to be significantly interesting. Lastly, the number of RKV is analyzed and a model to try and predict the near future is applied to the dataset. "
   ]
  },
  {
   "cell_type": "markdown",
   "metadata": {},
   "source": [
    "## Analysis of frequency and cost of tests"
   ]
  },
  {
   "cell_type": "markdown",
   "metadata": {},
   "source": [
    "To get started with the data analysis we want to know if we can assume that staff from KBA Slagelse are the ones to draw the samples or if the dataset is including samples taken by staff from other departments too. "
   ]
  },
  {
   "cell_type": "markdown",
   "metadata": {},
   "source": [
    "<B>Question:</B> Is KBA Slagelse the only ones to draw samples or are other departments included in the dataset?"
   ]
  },
  {
   "cell_type": "markdown",
   "metadata": {},
   "source": [
    "One possible way to answer this question will be to look at the \"Prvt.stedgeo\" column which describes under which scenario the samples have been drawn. Values of \"tages på runde\" and \"tagets nu\" are given to samples drawn by KBA staff and a value of \"taget af afdeling\" is given to samples drawn by the given department itself."
   ]
  },
  {
   "cell_type": "code",
   "execution_count": 28,
   "metadata": {},
   "outputs": [
    {
     "data": {
      "text/html": [
       "<table>\n",
       "<thead><tr><th scope=col>Prvt.stedgeo</th><th scope=col>2018</th><th scope=col>2019</th><th scope=col>2020</th><th scope=col>Total</th></tr></thead>\n",
       "<tbody>\n",
       "\t<tr><td>tages på runde   </td><td>62452            </td><td>68740            </td><td>49106            </td><td>180298           </td></tr>\n",
       "\t<tr><td>tages nu         </td><td>22491            </td><td>22175            </td><td>14956            </td><td> 59622           </td></tr>\n",
       "\t<tr><td>tages af afdeling</td><td> 1904            </td><td> 2723            </td><td> 1788            </td><td>  6415           </td></tr>\n",
       "\t<tr><td>tages i kba amb  </td><td>  231            </td><td>  284            </td><td>  194            </td><td>   709           </td></tr>\n",
       "\t<tr><td>tages i ringsted </td><td>   26            </td><td>   76            </td><td>   52            </td><td>   154           </td></tr>\n",
       "\t<tr><td>poctsvar         </td><td>   31            </td><td>   45            </td><td>    7            </td><td>    83           </td></tr>\n",
       "\t<tr><td>tilsendt         </td><td>    2            </td><td>    2            </td><td>   12            </td><td>    16           </td></tr>\n",
       "\t<tr><td>tages i korsør   </td><td>    4            </td><td>    0            </td><td>    0            </td><td>     4           </td></tr>\n",
       "\t<tr><td>send til webhotel</td><td>    0            </td><td>    3            </td><td>    0            </td><td>     3           </td></tr>\n",
       "\t<tr><td>taget i næstved  </td><td>    0            </td><td>    2            </td><td>    0            </td><td>     2           </td></tr>\n",
       "\t<tr><td>udveksling rsj   </td><td>    0            </td><td>    1            </td><td>    1            </td><td>     2           </td></tr>\n",
       "</tbody>\n",
       "</table>\n"
      ],
      "text/latex": [
       "\\begin{tabular}{r|lllll}\n",
       " Prvt.stedgeo & 2018 & 2019 & 2020 & Total\\\\\n",
       "\\hline\n",
       "\t tages på runde    & 62452             & 68740             & 49106             & 180298           \\\\\n",
       "\t tages nu          & 22491             & 22175             & 14956             &  59622           \\\\\n",
       "\t tages af afdeling &  1904             &  2723             &  1788             &   6415           \\\\\n",
       "\t tages i kba amb   &   231             &   284             &   194             &    709           \\\\\n",
       "\t tages i ringsted  &    26             &    76             &    52             &    154           \\\\\n",
       "\t poctsvar          &    31             &    45             &     7             &     83           \\\\\n",
       "\t tilsendt          &     2             &     2             &    12             &     16           \\\\\n",
       "\t tages i korsør    &     4             &     0             &     0             &      4           \\\\\n",
       "\t send til webhotel &     0             &     3             &     0             &      3           \\\\\n",
       "\t taget i næstved   &     0             &     2             &     0             &      2           \\\\\n",
       "\t udveksling rsj    &     0             &     1             &     1             &      2           \\\\\n",
       "\\end{tabular}\n"
      ],
      "text/markdown": [
       "\n",
       "| Prvt.stedgeo | 2018 | 2019 | 2020 | Total |\n",
       "|---|---|---|---|---|\n",
       "| tages på runde    | 62452             | 68740             | 49106             | 180298            |\n",
       "| tages nu          | 22491             | 22175             | 14956             |  59622            |\n",
       "| tages af afdeling |  1904             |  2723             |  1788             |   6415            |\n",
       "| tages i kba amb   |   231             |   284             |   194             |    709            |\n",
       "| tages i ringsted  |    26             |    76             |    52             |    154            |\n",
       "| poctsvar          |    31             |    45             |     7             |     83            |\n",
       "| tilsendt          |     2             |     2             |    12             |     16            |\n",
       "| tages i korsør    |     4             |     0             |     0             |      4            |\n",
       "| send til webhotel |     0             |     3             |     0             |      3            |\n",
       "| taget i næstved   |     0             |     2             |     0             |      2            |\n",
       "| udveksling rsj    |     0             |     1             |     1             |      2            |\n",
       "\n"
      ],
      "text/plain": [
       "   Prvt.stedgeo      2018  2019  2020  Total \n",
       "1  tages på runde    62452 68740 49106 180298\n",
       "2  tages nu          22491 22175 14956  59622\n",
       "3  tages af afdeling  1904  2723  1788   6415\n",
       "4  tages i kba amb     231   284   194    709\n",
       "5  tages i ringsted     26    76    52    154\n",
       "6  poctsvar             31    45     7     83\n",
       "7  tilsendt              2     2    12     16\n",
       "8  tages i korsør        4     0     0      4\n",
       "9  send til webhotel     0     3     0      3\n",
       "10 taget i næstved       0     2     0      2\n",
       "11 udveksling rsj        0     1     1      2"
      ]
     },
     "metadata": {},
     "output_type": "display_data"
    }
   ],
   "source": [
    "rawdata %>%\n",
    "distinct(Rkv.nr., .keep_all= TRUE) %>%\n",
    "mutate(year = year(Dato.og.Tid)) %>%\n",
    "group_by(Prvt.stedgeo, year) %>%\n",
    "tally(name = \"antal\") %>%                 # count per year\n",
    "group_by(Prvt.stedgeo) %>%\n",
    "add_tally(antal, name = \"Total\") %>%      # count total\n",
    "spread(year, antal, fill = 0) %>%         # spread year columnn into a column for each year\n",
    "relocate(Total, .after = last_col()) %>%  # move the Total column to the right\n",
    "arrange(desc(Total))"
   ]
  },
  {
   "cell_type": "markdown",
   "metadata": {},
   "source": [
    "<B>Conclusion:</B> In the table above it can be seen that most of the samples drawn are done by the KBA staff. Some samples are drawn by other departments but a deep look into those samples shows that it is mostly urine samples which are a minority of the tests performed by KBA Slagelse. By the knowledge of the business, some samples that should have been marked as \"tages af afdeling\" are wrongfully marked as \"tages nu\" by human error while ordering the samples. We have assessed that this error will have minor to no influence on the results since it will mostly affect the number of urine samples and have very little influence on the much larger number of blood samples that are more interesting in this notebook. We will then assume that mostly all of the blood samples are drawn by the KBA Slagelse staff."
   ]
  },
  {
   "cell_type": "markdown",
   "metadata": {},
   "source": [
    "Now that we know who is drawing the samples we would like to focus on the available tests. This is to give an idea about which tests are the most frequent, how is the distribution of the budget over these tests, and if there are any differences between the years. "
   ]
  },
  {
   "cell_type": "markdown",
   "metadata": {},
   "source": [
    "<B>Question:</B> Which tests are the most frequent?"
   ]
  },
  {
   "cell_type": "markdown",
   "metadata": {},
   "source": [
    "To answer this question we count how many entries of each test name (Kvnt.navn) that are in the dataset, first per year and afterward in total. The result is then stored in the variable testFrequency where each test name has a column for each year and a column for the total. The order is arranged by the total column. <br>\n",
    "It should be noted that only the 10 most frequent tests are in the output table, and the 30 most frequent tests are in the output graph below, but all available tests are still stored in the testFrequency variable. "
   ]
  },
  {
   "cell_type": "code",
   "execution_count": 29,
   "metadata": {
    "scrolled": true
   },
   "outputs": [
    {
     "data": {
      "text/html": [
       "<table>\n",
       "<thead><tr><th scope=col>Kvnt.navn</th><th scope=col>2018</th><th scope=col>2019</th><th scope=col>2020</th><th scope=col>Total</th></tr></thead>\n",
       "<tbody>\n",
       "\t<tr><td>kalium;p                     </td><td>41053                        </td><td>44133                        </td><td>31877                        </td><td>117063                       </td></tr>\n",
       "\t<tr><td>kreatinin;p                  </td><td>40674                        </td><td>43797                        </td><td>31528                        </td><td>115999                       </td></tr>\n",
       "\t<tr><td>natrium;p                    </td><td>40622                        </td><td>43707                        </td><td>31496                        </td><td>115825                       </td></tr>\n",
       "\t<tr><td>leukocytter;b                </td><td>38065                        </td><td>40937                        </td><td>29239                        </td><td>108241                       </td></tr>\n",
       "\t<tr><td>c-reaktivt protein [crp];p   </td><td>37811                        </td><td>40746                        </td><td>29181                        </td><td>107738                       </td></tr>\n",
       "\t<tr><td>egfr / 1,73m²(ckd-epi); nyre </td><td>29389                        </td><td>42375                        </td><td>30542                        </td><td>102306                       </td></tr>\n",
       "\t<tr><td>hæmoglobin;b                 </td><td>28259                        </td><td>41333                        </td><td>29545                        </td><td> 99137                       </td></tr>\n",
       "\t<tr><td>albumin;p                    </td><td>33122                        </td><td>36387                        </td><td>25952                        </td><td> 95461                       </td></tr>\n",
       "\t<tr><td>trombocytter;b               </td><td>31210                        </td><td>33797                        </td><td>23805                        </td><td> 88812                       </td></tr>\n",
       "\t<tr><td>elektrokardiografi [ekg12];pt</td><td>28675                        </td><td>31356                        </td><td>21431                        </td><td> 81462                       </td></tr>\n",
       "</tbody>\n",
       "</table>\n"
      ],
      "text/latex": [
       "\\begin{tabular}{r|lllll}\n",
       " Kvnt.navn & 2018 & 2019 & 2020 & Total\\\\\n",
       "\\hline\n",
       "\t kalium;p                      & 41053                         & 44133                         & 31877                         & 117063                       \\\\\n",
       "\t kreatinin;p                   & 40674                         & 43797                         & 31528                         & 115999                       \\\\\n",
       "\t natrium;p                     & 40622                         & 43707                         & 31496                         & 115825                       \\\\\n",
       "\t leukocytter;b                 & 38065                         & 40937                         & 29239                         & 108241                       \\\\\n",
       "\t c-reaktivt protein {[}crp{]};p    & 37811                             & 40746                             & 29181                             & 107738                           \\\\\n",
       "\t egfr / 1,73m²(ckd-epi); nyre  & 29389                         & 42375                         & 30542                         & 102306                       \\\\\n",
       "\t hæmoglobin;b                  & 28259                         & 41333                         & 29545                         &  99137                       \\\\\n",
       "\t albumin;p                     & 33122                         & 36387                         & 25952                         &  95461                       \\\\\n",
       "\t trombocytter;b                & 31210                         & 33797                         & 23805                         &  88812                       \\\\\n",
       "\t elektrokardiografi {[}ekg12{]};pt & 28675                             & 31356                             & 21431                             &  81462                           \\\\\n",
       "\\end{tabular}\n"
      ],
      "text/markdown": [
       "\n",
       "| Kvnt.navn | 2018 | 2019 | 2020 | Total |\n",
       "|---|---|---|---|---|\n",
       "| kalium;p                      | 41053                         | 44133                         | 31877                         | 117063                        |\n",
       "| kreatinin;p                   | 40674                         | 43797                         | 31528                         | 115999                        |\n",
       "| natrium;p                     | 40622                         | 43707                         | 31496                         | 115825                        |\n",
       "| leukocytter;b                 | 38065                         | 40937                         | 29239                         | 108241                        |\n",
       "| c-reaktivt protein [crp];p    | 37811                         | 40746                         | 29181                         | 107738                        |\n",
       "| egfr / 1,73m²(ckd-epi); nyre  | 29389                         | 42375                         | 30542                         | 102306                        |\n",
       "| hæmoglobin;b                  | 28259                         | 41333                         | 29545                         |  99137                        |\n",
       "| albumin;p                     | 33122                         | 36387                         | 25952                         |  95461                        |\n",
       "| trombocytter;b                | 31210                         | 33797                         | 23805                         |  88812                        |\n",
       "| elektrokardiografi [ekg12];pt | 28675                         | 31356                         | 21431                         |  81462                        |\n",
       "\n"
      ],
      "text/plain": [
       "   Kvnt.navn                     2018  2019  2020  Total \n",
       "1  kalium;p                      41053 44133 31877 117063\n",
       "2  kreatinin;p                   40674 43797 31528 115999\n",
       "3  natrium;p                     40622 43707 31496 115825\n",
       "4  leukocytter;b                 38065 40937 29239 108241\n",
       "5  c-reaktivt protein [crp];p    37811 40746 29181 107738\n",
       "6  egfr / 1,73m²(ckd-epi); nyre  29389 42375 30542 102306\n",
       "7  hæmoglobin;b                  28259 41333 29545  99137\n",
       "8  albumin;p                     33122 36387 25952  95461\n",
       "9  trombocytter;b                31210 33797 23805  88812\n",
       "10 elektrokardiografi [ekg12];pt 28675 31356 21431  81462"
      ]
     },
     "metadata": {},
     "output_type": "display_data"
    }
   ],
   "source": [
    "rawdata %>%\n",
    "mutate(year = year(Dato.og.Tid)) %>%\n",
    "group_by(Kvnt.navn, year) %>%\n",
    "tally(name = \"antal\") %>%                 # count per year\n",
    "group_by(Kvnt.navn) %>%\n",
    "add_tally(antal, name = \"Total\") %>%      # count total\n",
    "spread(year, antal, fill = 0) %>%         # spread year columnn into a column for each year\n",
    "relocate(Total, .after = last_col()) %>%  # move the Total column to the right\n",
    "arrange(desc(Total)) -> testFrequency\n",
    "head(testFrequency, 10)"
   ]
  },
  {
   "cell_type": "code",
   "execution_count": 30,
   "metadata": {},
   "outputs": [
    {
     "data": {
      "image/png": "[encoded data removed]",
      "text/plain": [
       "plot without title"
      ]
     },
     "metadata": {},
     "output_type": "display_data"
    }
   ],
   "source": [
    "ggplot(data = head(testFrequency, 30), aes(x = reorder(Kvnt.navn, Total), y = Total)) + \n",
    "geom_col(fill= 'grey') + \n",
    "\n",
    "coord_flip() +\n",
    "labs(x = \"Analyze\", y = \"Total number of tests\") +       # set titels on x and y axis\n",
    "scale_y_continuous(breaks = seq(0, 120000, 20000))       # set scale of the y axis"
   ]
  },
  {
   "cell_type": "markdown",
   "metadata": {},
   "source": [
    "<B>Conclusion:</B> By looking at the table it can be noted that the number of tests is in general increasing from 2018 to 2019. Looking at 2020 it is important to remember the dataset stop at \"2020-09-30\" which will mean that only 9 out of the 12 months are included in the dataset. More importantly, both the graph and table shows that tests from the most frequent test groups are present like the electrolytes (Kalium, Natrium, kreatinin, albumin, and hæmoglobin) and the infection numbers (C-reaktivt protein [CRP] and Leukocytter) which compared with the knowledge about the business is to be expected."
   ]
  },
  {
   "cell_type": "markdown",
   "metadata": {},
   "source": [
    "Let's see if anything changes if we take the cost of the different tests into account while still looking at the frequency of each test. This is mostly to get an idea about the weight each test has in KBA's budget."
   ]
  },
  {
   "cell_type": "markdown",
   "metadata": {},
   "source": [
    "<B>Question:</B> How much money is spent on each test, and which ones are the most costly."
   ]
  },
  {
   "cell_type": "code",
   "execution_count": 31,
   "metadata": {},
   "outputs": [
    {
     "data": {
      "text/html": [
       "<table>\n",
       "<thead><tr><th scope=col>Kvnt.nr.</th><th scope=col>Navn</th><th scope=col>Pris</th><th scope=col>2018</th><th scope=col>2019</th><th scope=col>2020</th><th scope=col>Total</th></tr></thead>\n",
       "<tbody>\n",
       "\t<tr><td>5219                               </td><td>Elektrokardiografi [EKG12];Pt      </td><td>101                                </td><td>2896175                            </td><td>3166956                            </td><td>2164531                            </td><td>8227662                            </td></tr>\n",
       "\t<tr><td>1685                               </td><td>Koagulationsfaktor II+VII+X [INR];P</td><td> 41                                </td><td>1110895                            </td><td>1199783                            </td><td> 850340                            </td><td>3161018                            </td></tr>\n",
       "\t<tr><td>3230                               </td><td>Kalium;P                           </td><td> 14                                </td><td> 574742                            </td><td> 617862                            </td><td> 446278                            </td><td>1638882                            </td></tr>\n",
       "\t<tr><td>4998                               </td><td>Kreatinin;P                        </td><td> 14                                </td><td> 569436                            </td><td> 613172                            </td><td> 441392                            </td><td>1624000                            </td></tr>\n",
       "\t<tr><td>3429                               </td><td>Natrium;P                          </td><td> 14                                </td><td> 568708                            </td><td> 611898                            </td><td> 440944                            </td><td>1621550                            </td></tr>\n",
       "</tbody>\n",
       "</table>\n"
      ],
      "text/latex": [
       "\\begin{tabular}{r|lllllll}\n",
       " Kvnt.nr. & Navn & Pris & 2018 & 2019 & 2020 & Total\\\\\n",
       "\\hline\n",
       "\t 5219                                    & Elektrokardiografi {[}EKG12{]};Pt       & 101                                     & 2896175                                 & 3166956                                 & 2164531                                 & 8227662                                \\\\\n",
       "\t 1685                                    & Koagulationsfaktor II+VII+X {[}INR{]};P &  41                                     & 1110895                                 & 1199783                                 &  850340                                 & 3161018                                \\\\\n",
       "\t 3230                                & Kalium;P                            &  14                                 &  574742                             &  617862                             &  446278                             & 1638882                            \\\\\n",
       "\t 4998                                & Kreatinin;P                         &  14                                 &  569436                             &  613172                             &  441392                             & 1624000                            \\\\\n",
       "\t 3429                                & Natrium;P                           &  14                                 &  568708                             &  611898                             &  440944                             & 1621550                            \\\\\n",
       "\\end{tabular}\n"
      ],
      "text/markdown": [
       "\n",
       "| Kvnt.nr. | Navn | Pris | 2018 | 2019 | 2020 | Total |\n",
       "|---|---|---|---|---|---|---|\n",
       "| 5219                                | Elektrokardiografi [EKG12];Pt       | 101                                 | 2896175                             | 3166956                             | 2164531                             | 8227662                             |\n",
       "| 1685                                | Koagulationsfaktor II+VII+X [INR];P |  41                                 | 1110895                             | 1199783                             |  850340                             | 3161018                             |\n",
       "| 3230                                | Kalium;P                            |  14                                 |  574742                             |  617862                             |  446278                             | 1638882                             |\n",
       "| 4998                                | Kreatinin;P                         |  14                                 |  569436                             |  613172                             |  441392                             | 1624000                             |\n",
       "| 3429                                | Natrium;P                           |  14                                 |  568708                             |  611898                             |  440944                             | 1621550                             |\n",
       "\n"
      ],
      "text/plain": [
       "  Kvnt.nr. Navn                                Pris 2018    2019    2020   \n",
       "1 5219     Elektrokardiografi [EKG12];Pt       101  2896175 3166956 2164531\n",
       "2 1685     Koagulationsfaktor II+VII+X [INR];P  41  1110895 1199783  850340\n",
       "3 3230     Kalium;P                             14   574742  617862  446278\n",
       "4 4998     Kreatinin;P                          14   569436  613172  441392\n",
       "5 3429     Natrium;P                            14   568708  611898  440944\n",
       "  Total  \n",
       "1 8227662\n",
       "2 3161018\n",
       "3 1638882\n",
       "4 1624000\n",
       "5 1621550"
      ]
     },
     "metadata": {},
     "output_type": "display_data"
    }
   ],
   "source": [
    "rawdata %>%\n",
    "mutate(year = year(Dato.og.Tid)) %>%\n",
    "group_by(Kvnt.nr., year) %>%\n",
    "tally(name = \"antal\") %>% # count how many of each Kvnt.nr. for a given year\n",
    "group_by(Kvnt.nr.) %>%\n",
    "add_tally(antal, name = \"Total\") %>% # count how many Kvnt.nr across all years\n",
    "merge(y = pricelist, by.x = \"Kvnt.nr.\", by.y = \"BCC.nr.\") %>% # add a list of prices for calculations\n",
    "mutate(pr.Year = antal * Pris) %>%\n",
    "mutate(Total = Total * Pris) %>%\n",
    "arrange(desc(Total)) -> Udgift # a table which has rows for each unique combination of Kvnt.nr. and year\n",
    "\n",
    "# split the year column into a column for 2018, 2019, 2020\n",
    "Udgift %>%\n",
    "select(-antal) %>%\n",
    "spread(year, pr.Year, fill = 0) %>%\n",
    "relocate(Total, .after = last_col()) %>%  # move the Total column to the right\n",
    "arrange(desc(Total)) -> UdgiftTabel # a table which has rows for each unique Kvnt.nr.\n",
    "\n",
    "# shows the resulting table\n",
    "head(UdgiftTabel, 5)"
   ]
  },
  {
   "cell_type": "code",
   "execution_count": 32,
   "metadata": {},
   "outputs": [
    {
     "data": {
      "image/png": "[encoded data removed]",
      "text/plain": [
       "plot without title"
      ]
     },
     "metadata": {},
     "output_type": "display_data"
    }
   ],
   "source": [
    "ggplot(data = head(Udgift,3*15)) + \n",
    "geom_col(mapping = \n",
    "         aes(x = reorder(Navn, pr.Year), # reorder is sorting navn based on the value of pr.Year\n",
    "         y = pr.Year,                    # puts price pr year as the y-axis\n",
    "         fill = as.factor(year)),        # make multiple bars for each Analyzes(Navn) bases on the year\n",
    "         position = \"dodge\") +           # arrange the multiple bars next to each other (else they would be stacked)\n",
    "\n",
    "labs(x = \"Analyze\", y = \"Cost by test by year\") +         # set titels on x and y axis\n",
    "scale_fill_discrete(name=\"Year\") +                        # set legends title\n",
    "coord_flip() +                                            # flip x and y axis to make the barplot tall insted of width\n",
    "scale_y_continuous(breaks = seq(0, 3000000, 500000))      # set scale of the y axis"
   ]
  },
  {
   "cell_type": "markdown",
   "metadata": {},
   "source": [
    "<B>Conclusion:</B> Both the table and graph above shows that Elektrokardiografi (EKG) is by far the most costly test to perform, and secondly Koagulationsfaktor II+VII+X (INR). Compared to the most frequent test of kalium, INR costs 2 times as much and EKG costs 5 times as much. By having insight into the business it was expected to see EKG being a costly test to perform, but it is surprising how costly it is. The cost of INR was a big surprise and to the general staff of KBA it comes as a surprise too. "
   ]
  },
  {
   "cell_type": "markdown",
   "metadata": {},
   "source": [
    "After recovering from the surprise, we knew we would have to explorer the dataset further with a focus on EKG and INR to get a deeper understanding."
   ]
  },
  {
   "cell_type": "markdown",
   "metadata": {},
   "source": [
    "## Analysis of the EKG test"
   ]
  },
  {
   "cell_type": "markdown",
   "metadata": {},
   "source": [
    "To get a better understanding of the EKG test, we would like to know how much a single EKG cost and how many EKGs the different departments are ordering."
   ]
  },
  {
   "cell_type": "markdown",
   "metadata": {},
   "source": [
    "<b>Question:</b> How much does a single EKG cost?"
   ]
  },
  {
   "cell_type": "code",
   "execution_count": 33,
   "metadata": {},
   "outputs": [
    {
     "data": {
      "text/html": [
       "<table>\n",
       "<thead><tr><th scope=col>Navn</th><th scope=col>BCC.nr.</th><th scope=col>Pris</th></tr></thead>\n",
       "<tbody>\n",
       "\t<tr><td>Elektrokardiografi [EKG12];Pt</td><td>5219                         </td><td>101                          </td></tr>\n",
       "</tbody>\n",
       "</table>\n"
      ],
      "text/latex": [
       "\\begin{tabular}{r|lll}\n",
       " Navn & BCC.nr. & Pris\\\\\n",
       "\\hline\n",
       "\t Elektrokardiografi {[}EKG12{]};Pt & 5219                              & 101                              \\\\\n",
       "\\end{tabular}\n"
      ],
      "text/markdown": [
       "\n",
       "| Navn | BCC.nr. | Pris |\n",
       "|---|---|---|\n",
       "| Elektrokardiografi [EKG12];Pt | 5219                          | 101                           |\n",
       "\n"
      ],
      "text/plain": [
       "  Navn                          BCC.nr. Pris\n",
       "1 Elektrokardiografi [EKG12];Pt 5219    101 "
      ]
     },
     "metadata": {},
     "output_type": "display_data"
    }
   ],
   "source": [
    "pricelist %>%\n",
    "filter(BCC.nr. == 5219) -> ekgPrice\n",
    "ekgPrice                   # show name, bcc nr and price\n",
    "ekgPrice <- ekgPrice$Pris  # store only the price"
   ]
  },
  {
   "cell_type": "markdown",
   "metadata": {},
   "source": [
    "<b>Conclusion:</b> The price of a single EKG is estimated to cost 101 DKK based on the pricelist dataset"
   ]
  },
  {
   "cell_type": "markdown",
   "metadata": {},
   "source": [
    "Next, we would like to know who is ordering the EKGs."
   ]
  },
  {
   "cell_type": "markdown",
   "metadata": {},
   "source": [
    "<b>Question:</b> How is the distribution of ordered EKGs by departments"
   ]
  },
  {
   "cell_type": "code",
   "execution_count": 34,
   "metadata": {},
   "outputs": [
    {
     "data": {
      "text/html": [
       "<table>\n",
       "<thead><tr><th scope=col>Rekvirent</th><th scope=col>2018</th><th scope=col>2019</th><th scope=col>2020</th></tr></thead>\n",
       "<tbody>\n",
       "\t<tr><td>Akut 1.Sal     </td><td> 8147          </td><td> 9990          </td><td> 6382          </td></tr>\n",
       "\t<tr><td>Akut Stue      </td><td>13890          </td><td>14439          </td><td>10213          </td></tr>\n",
       "\t<tr><td>Hjerte Afdeling</td><td> 6638          </td><td> 6927          </td><td> 4836          </td></tr>\n",
       "</tbody>\n",
       "</table>\n"
      ],
      "text/latex": [
       "\\begin{tabular}{r|llll}\n",
       " Rekvirent & 2018 & 2019 & 2020\\\\\n",
       "\\hline\n",
       "\t Akut 1.Sal      &  8147           &  9990           &  6382          \\\\\n",
       "\t Akut Stue       & 13890           & 14439           & 10213          \\\\\n",
       "\t Hjerte Afdeling &  6638           &  6927           &  4836          \\\\\n",
       "\\end{tabular}\n"
      ],
      "text/markdown": [
       "\n",
       "| Rekvirent | 2018 | 2019 | 2020 |\n",
       "|---|---|---|---|\n",
       "| Akut 1.Sal      |  8147           |  9990           |  6382           |\n",
       "| Akut Stue       | 13890           | 14439           | 10213           |\n",
       "| Hjerte Afdeling |  6638           |  6927           |  4836           |\n",
       "\n"
      ],
      "text/plain": [
       "  Rekvirent       2018  2019  2020 \n",
       "1 Akut 1.Sal       8147  9990  6382\n",
       "2 Akut Stue       13890 14439 10213\n",
       "3 Hjerte Afdeling  6638  6927  4836"
      ]
     },
     "metadata": {},
     "output_type": "display_data"
    }
   ],
   "source": [
    "rawdata %>%\n",
    "filter(Kvnt.nr. == 5219 & (Resultat != \"Aflyst\" | Resultat != \"aflyst\")) %>%\n",
    "mutate(year = year(Dato.og.Tid)) %>%\n",
    "group_by(Rekvirent, year) %>%\n",
    "tally(name = \"antal\") %>% # count how many of each Rekvirent for a given year\n",
    "arrange(Rekvirent) -> EKG # a table which has rows for each unique combination of Rekvirent and year\n",
    "\n",
    "# split the year column into a column for 2018, 2019, 2020\n",
    "EKG %>%\n",
    "spread(year, antal, fill = 0) -> EKGTabel\n",
    "\n",
    "EKGTabel"
   ]
  },
  {
   "cell_type": "code",
   "execution_count": 35,
   "metadata": {
    "scrolled": false
   },
   "outputs": [
    {
     "data": {
      "image/png": "[encoded data removed]",
      "text/plain": [
       "plot without title"
      ]
     },
     "metadata": {},
     "output_type": "display_data"
    }
   ],
   "source": [
    "ggplot(data = EKG) + \n",
    "geom_col(mapping = \n",
    "         aes(x = Rekvirent,         # reorder is sorting navn based on the value of pr.Year\n",
    "         y = antal,                 # puts price pr year as the y-axis\n",
    "         fill = as.factor(year)),   # make multiple bars for each Analyzes(Navn) bases on the year\n",
    "         position = \"dodge\") +      # arrange the multiple bars next to each other (else they would be stacked)\n",
    "\n",
    "labs(x = \"Department\", y = \"Number of EKGs\") +     # set titels on x and y axis\n",
    "scale_fill_discrete(name=\"Year\") +                 # set legends title\n",
    "scale_y_continuous(breaks = seq(0, 16000, 2000),   # set scale of the y axis\n",
    "                  sec.axis = sec_axis(~ . * ekgPrice /1000000, name = \"Cost in millions\", breaks = seq(0, 1.500, 0.100000))\n",
    "                  ) "
   ]
  },
  {
   "cell_type": "markdown",
   "metadata": {},
   "source": [
    "It should be noted that the cost in the graph above is calculated directly in the second y-axis, by multiplying the number of EKGs with the discovered cost of 101 DKK."
   ]
  },
  {
   "cell_type": "markdown",
   "metadata": {},
   "source": [
    "<b>Conclusion:</b> The table and graph above show that Akut Stue is the department that is ordering the most EKGs followed by Akut 1.Sal. It was expected that Akut 1.Sal would have ordered more EKGs than Akut stue since Akut stue has 13 rooms for patients and Akut 1.Sal has around 35 rooms for patients. This could be explained by the faster turn-around time they operate with at Akut Stue, by the two departments being sister-departments of the more general Akut department, but still an interesting observation. The Hjerte Afdeling (cardio or heart department in English) is ordering a significant number of EKGs especially if we take into account that it is the only department where the staff can perform EKGs on its own."
   ]
  },
  {
   "cell_type": "markdown",
   "metadata": {},
   "source": [
    "Base on the knowledge acquired from the analysis of the EKG test we would like to make two suggestions to reduce cost and/or free up resources in the form of less work pressure on the KBA staff. <br> <br>\n",
    "<B>Suggestion 1:</B> Demand that all EKGs ordered by the Hjerte Afdeling shall be performed by its own staff. This would free up around 675.000 DKK each year for the KBA. <br> <br>\n",
    "<B>Suggestion 2:</B> Demand that EKGs should be moved outside KBA's scope of work, probably to a sub-group of the hjerte afdeling, who could perform all EKGs. This would free up around 3 million DKK each year for KBA (see table below), which would help on the staffing issues KBA has been facing lately and would enable KBA to lower its budget, but at the cost of relocating the cost of EKGs elsewhere. "
   ]
  },
  {
   "cell_type": "code",
   "execution_count": 36,
   "metadata": {},
   "outputs": [
    {
     "data": {
      "text/html": [
       "<table>\n",
       "<thead><tr><th scope=col>year</th><th scope=col>antal</th><th scope=col>cost</th></tr></thead>\n",
       "<tbody>\n",
       "\t<tr><td>2018   </td><td>28675  </td><td>2896175</td></tr>\n",
       "\t<tr><td>2019   </td><td>31356  </td><td>3166956</td></tr>\n",
       "\t<tr><td>2020   </td><td>21431  </td><td>2164531</td></tr>\n",
       "</tbody>\n",
       "</table>\n"
      ],
      "text/latex": [
       "\\begin{tabular}{r|lll}\n",
       " year & antal & cost\\\\\n",
       "\\hline\n",
       "\t 2018    & 28675   & 2896175\\\\\n",
       "\t 2019    & 31356   & 3166956\\\\\n",
       "\t 2020    & 21431   & 2164531\\\\\n",
       "\\end{tabular}\n"
      ],
      "text/markdown": [
       "\n",
       "| year | antal | cost |\n",
       "|---|---|---|\n",
       "| 2018    | 28675   | 2896175 |\n",
       "| 2019    | 31356   | 3166956 |\n",
       "| 2020    | 21431   | 2164531 |\n",
       "\n"
      ],
      "text/plain": [
       "  year antal cost   \n",
       "1 2018 28675 2896175\n",
       "2 2019 31356 3166956\n",
       "3 2020 21431 2164531"
      ]
     },
     "metadata": {},
     "output_type": "display_data"
    }
   ],
   "source": [
    "rawdata %>%\n",
    "filter(Kvnt.nr. == 5219 & (Resultat != \"Aflyst\" | Resultat != \"aflyst\")) %>%\n",
    "mutate(year = year(Dato.og.Tid)) %>%\n",
    "group_by(year) %>%\n",
    "tally(name = \"antal\") %>%\n",
    "mutate(cost = antal * 101)"
   ]
  },
  {
   "cell_type": "markdown",
   "metadata": {},
   "source": [
    "## Analysis of the INR test"
   ]
  },
  {
   "cell_type": "markdown",
   "metadata": {},
   "source": [
    "To get a better understanding of the INR test, we would like to know the cost of a single INR test, how the results of the test are distributed if the result is considered inside or outside the normal values."
   ]
  },
  {
   "cell_type": "markdown",
   "metadata": {},
   "source": [
    "<B>Question:</B> What does an INR test cost?"
   ]
  },
  {
   "cell_type": "code",
   "execution_count": 37,
   "metadata": {},
   "outputs": [
    {
     "data": {
      "text/html": [
       "<table>\n",
       "<thead><tr><th scope=col>Navn</th><th scope=col>BCC.nr.</th><th scope=col>Pris</th></tr></thead>\n",
       "<tbody>\n",
       "\t<tr><td>Koagulationsfaktor II+VII+X [INR];P</td><td>1685                               </td><td>41                                 </td></tr>\n",
       "</tbody>\n",
       "</table>\n"
      ],
      "text/latex": [
       "\\begin{tabular}{r|lll}\n",
       " Navn & BCC.nr. & Pris\\\\\n",
       "\\hline\n",
       "\t Koagulationsfaktor II+VII+X {[}INR{]};P & 1685                                    & 41                                     \\\\\n",
       "\\end{tabular}\n"
      ],
      "text/markdown": [
       "\n",
       "| Navn | BCC.nr. | Pris |\n",
       "|---|---|---|\n",
       "| Koagulationsfaktor II+VII+X [INR];P | 1685                                | 41                                  |\n",
       "\n"
      ],
      "text/plain": [
       "  Navn                                BCC.nr. Pris\n",
       "1 Koagulationsfaktor II+VII+X [INR];P 1685    41  "
      ]
     },
     "metadata": {},
     "output_type": "display_data"
    }
   ],
   "source": [
    "pricelist %>%\n",
    "filter(BCC.nr. == 1685) -> inrPrice\n",
    "inrPrice                    # show name, bcc nr and price\n",
    "inrPrice <- inrPrice$Pris   # store only the price"
   ]
  },
  {
   "cell_type": "markdown",
   "metadata": {},
   "source": [
    "<B>Conclusion:</B> An single INR test cost 41 DKK based on the pricelist dataset"
   ]
  },
  {
   "cell_type": "markdown",
   "metadata": {},
   "source": [
    "Next, we look at the distribution of INR results"
   ]
  },
  {
   "cell_type": "markdown",
   "metadata": {},
   "source": [
    "<B>Question:</B> How are the results of INR distributed, is most of the results around 1.0 ?"
   ]
  },
  {
   "cell_type": "markdown",
   "metadata": {},
   "source": [
    "Before we can make use of the results of the INR test we will need to clean the Resultat column further, since the results mostly are numeric, it needs to be turned from factors into numeric. Any results that indicate that a given entry has failed will be converted to 0 and any result >7.0 will be converted to 8.0. This conversion is not to enable any kind of numeric analysis but only to enable them to be represented on the graph below."
   ]
  },
  {
   "cell_type": "code",
   "execution_count": 38,
   "metadata": {},
   "outputs": [],
   "source": [
    "pat = c(\n",
    "    \"se kommentar\" = \"0\",\n",
    "    \"mislykket\" = \"0\", \n",
    "    \"hæmolyse\" = \"0\",  \n",
    "    \"koaguleret\" = \"0\", \n",
    "    \">7.0\"  = \"8.0\"\n",
    ")\n",
    "\n",
    "rawdata %>%\n",
    "filter(Kvnt.nr. == 1685) -> inr\n",
    "inr$Resultat %<>% str_replace_all(pattern = pat) %>% as.factor()\n",
    "inr$Resultat %<>% droplevels() %>% as.character() %>% as.numeric()"
   ]
  },
  {
   "cell_type": "code",
   "execution_count": 39,
   "metadata": {
    "scrolled": false
   },
   "outputs": [
    {
     "data": {
      "image/png": "[encoded data removed]",
      "text/plain": [
       "plot without title"
      ]
     },
     "metadata": {},
     "output_type": "display_data"
    }
   ],
   "source": [
    "ggplot(inr, aes(Resultat)) +\n",
    "geom_histogram(binwidth=0.1, stat=\"bin\", fill = \"#56B4E9\") +\n",
    "scale_x_continuous(breaks = seq(0, 8, by= 0.5)) +     # set scale of the x axis to seq(from, to, by)\n",
    "scale_y_continuous(breaks = seq(0, 30000, by= 5000))  # set scale of the y axis\n",
    "\n",
    "# values at 0 is failed or special cases\n",
    "# values at 8 is values above 7"
   ]
  },
  {
   "cell_type": "markdown",
   "metadata": {},
   "source": [
    "Remember that values at 0 are failed or special cases and values at 8.0 is values >7.0"
   ]
  },
  {
   "cell_type": "code",
   "execution_count": 40,
   "metadata": {},
   "outputs": [
    {
     "data": {
      "text/html": [
       "<table>\n",
       "<thead><tr><th scope=col>Total</th><th scope=col>Inside_ref</th><th scope=col>Outside_ref</th><th scope=col>Procent_inside_ref</th></tr></thead>\n",
       "<tbody>\n",
       "\t<tr><td>77098   </td><td>65320   </td><td>11778   </td><td>84.72334</td></tr>\n",
       "</tbody>\n",
       "</table>\n"
      ],
      "text/latex": [
       "\\begin{tabular}{r|llll}\n",
       " Total & Inside\\_ref & Outside\\_ref & Procent\\_inside\\_ref\\\\\n",
       "\\hline\n",
       "\t 77098    & 65320    & 11778    & 84.72334\\\\\n",
       "\\end{tabular}\n"
      ],
      "text/markdown": [
       "\n",
       "| Total | Inside_ref | Outside_ref | Procent_inside_ref |\n",
       "|---|---|---|---|\n",
       "| 77098    | 65320    | 11778    | 84.72334 |\n",
       "\n"
      ],
      "text/plain": [
       "  Total Inside_ref Outside_ref Procent_inside_ref\n",
       "1 77098 65320      11778       84.72334          "
      ]
     },
     "metadata": {},
     "output_type": "display_data"
    }
   ],
   "source": [
    "lower_ref = 0.8\n",
    "upper_ref = 1.2\n",
    "\n",
    "inr %>% \n",
    "add_count(name=\"Total\") %>%\n",
    "filter( lower_ref <= Resultat & Resultat <= upper_ref) %>% \n",
    "add_count(name=\"Inside_ref\") %>%\n",
    "select(Total, Inside_ref) %>%\n",
    "mutate(Outside_ref = Total - Inside_ref) %>%\n",
    "mutate(Procent_inside_ref = Inside_ref/Total*100) %>%\n",
    "distinct(Total, .keep_all= TRUE) -> inrRef\n",
    "inrRef"
   ]
  },
  {
   "cell_type": "markdown",
   "metadata": {},
   "source": [
    "<B>Conclusion:</B> By looking at the graph above, it is shown that most of the INR test results are inside the normal value. If we further define the normal value to be between [0.8 and 1.2], the table above shows that 84.7% of the results are inside the normal value."
   ]
  },
  {
   "cell_type": "markdown",
   "metadata": {},
   "source": [
    "<b>Suggestion:</b> Remove INR as a default test in the test package for new patients and replace INR with a \"dummy\"-tube (a sample with no tests) which would enable INR to be reordered like is already done with the D-Dimer test. The positive would be a potential cost saving in reagents ranging from 268.000 to 2.400.000 DKK, based on how big a percentage of INR tests that can be skipped. see the table below. The negative will be an additional load on the nurses and doctors who need to decide if they need INR on top of the default test packages. Extrapolating history raises the concern that a new practice would be to always add INR on top of the default test package, and circumventing the potential savings."
   ]
  },
  {
   "cell_type": "code",
   "execution_count": 41,
   "metadata": {},
   "outputs": [
    {
     "data": {
      "text/html": [
       "<table>\n",
       "<thead><tr><th scope=col>Procent_Sample_Drawn</th><th scope=col>Samples_Drawn</th><th scope=col>Samples_Skipped</th><th scope=col>Potential_Savings</th></tr></thead>\n",
       "<tbody>\n",
       "\t<tr><td>10     </td><td> 6532  </td><td>58788  </td><td>2410308</td></tr>\n",
       "\t<tr><td>20     </td><td>13064  </td><td>52256  </td><td>2142496</td></tr>\n",
       "\t<tr><td>30     </td><td>19596  </td><td>45724  </td><td>1874684</td></tr>\n",
       "\t<tr><td>40     </td><td>26128  </td><td>39192  </td><td>1606872</td></tr>\n",
       "\t<tr><td>50     </td><td>32660  </td><td>32660  </td><td>1339060</td></tr>\n",
       "\t<tr><td>60     </td><td>39192  </td><td>26128  </td><td>1071248</td></tr>\n",
       "\t<tr><td>70     </td><td>45724  </td><td>19596  </td><td> 803436</td></tr>\n",
       "\t<tr><td>80     </td><td>52256  </td><td>13064  </td><td> 535624</td></tr>\n",
       "\t<tr><td>90     </td><td>58788  </td><td> 6532  </td><td> 267812</td></tr>\n",
       "</tbody>\n",
       "</table>\n"
      ],
      "text/latex": [
       "\\begin{tabular}{r|llll}\n",
       " Procent\\_Sample\\_Drawn & Samples\\_Drawn & Samples\\_Skipped & Potential\\_Savings\\\\\n",
       "\\hline\n",
       "\t 10      &  6532   & 58788   & 2410308\\\\\n",
       "\t 20      & 13064   & 52256   & 2142496\\\\\n",
       "\t 30      & 19596   & 45724   & 1874684\\\\\n",
       "\t 40      & 26128   & 39192   & 1606872\\\\\n",
       "\t 50      & 32660   & 32660   & 1339060\\\\\n",
       "\t 60      & 39192   & 26128   & 1071248\\\\\n",
       "\t 70      & 45724   & 19596   &  803436\\\\\n",
       "\t 80      & 52256   & 13064   &  535624\\\\\n",
       "\t 90      & 58788   &  6532   &  267812\\\\\n",
       "\\end{tabular}\n"
      ],
      "text/markdown": [
       "\n",
       "| Procent_Sample_Drawn | Samples_Drawn | Samples_Skipped | Potential_Savings |\n",
       "|---|---|---|---|\n",
       "| 10      |  6532   | 58788   | 2410308 |\n",
       "| 20      | 13064   | 52256   | 2142496 |\n",
       "| 30      | 19596   | 45724   | 1874684 |\n",
       "| 40      | 26128   | 39192   | 1606872 |\n",
       "| 50      | 32660   | 32660   | 1339060 |\n",
       "| 60      | 39192   | 26128   | 1071248 |\n",
       "| 70      | 45724   | 19596   |  803436 |\n",
       "| 80      | 52256   | 13064   |  535624 |\n",
       "| 90      | 58788   |  6532   |  267812 |\n",
       "\n"
      ],
      "text/plain": [
       "  Procent_Sample_Drawn Samples_Drawn Samples_Skipped Potential_Savings\n",
       "1 10                    6532         58788           2410308          \n",
       "2 20                   13064         52256           2142496          \n",
       "3 30                   19596         45724           1874684          \n",
       "4 40                   26128         39192           1606872          \n",
       "5 50                   32660         32660           1339060          \n",
       "6 60                   39192         26128           1071248          \n",
       "7 70                   45724         19596            803436          \n",
       "8 80                   52256         13064            535624          \n",
       "9 90                   58788          6532            267812          "
      ]
     },
     "metadata": {},
     "output_type": "display_data"
    }
   ],
   "source": [
    "# numberOfSamples is only base on normal results, this assumes that all non-normal samples will be found and drawn.\n",
    "numberOfSamples = inrRef$Inside_ref \n",
    "procents = seq(10, 90, 10)\n",
    "data.frame( \"Procent_Sample_Drawn\" = procents) %>%       # create a new data frame with a column with all ratios in.\n",
    "mutate(Samples_Drawn = numberOfSamples * Procent_Sample_Drawn / 100) %>%\n",
    "mutate(Samples_Skipped = numberOfSamples - Samples_Drawn) %>%\n",
    "mutate(Potential_Savings = Samples_Skipped * inrPrice)"
   ]
  },
  {
   "cell_type": "markdown",
   "metadata": {},
   "source": [
    "## Analysis of the number of RKV over time"
   ]
  },
  {
   "cell_type": "markdown",
   "metadata": {},
   "source": [
    "To get a more general understanding of the sample drawing workload, a simple estimation could be based on the number of RKV over a given period. To visualize the workload, the number of RKV will be plotted in two ways. The first way is to plot points for each day over the full time-period of \"2018-01-01\" to \"2020-09-30\" on the x-axis, given an overview of the chronological time-period. The second way is to break this period up into a series for each year and changing the x-axis to the week numbers of a given year. To reduce the number of points in the graph, the y-axis has been changed from the number of RKV per date to per week, this should improve the readability of the graph and make it easier to compare the different years.     "
   ]
  },
  {
   "cell_type": "markdown",
   "metadata": {},
   "source": [
    "<B>Question:</B> How does the number of Rkv. changes over time. Are there any trends or seasonal variance that can be used to predict the near future?"
   ]
  },
  {
   "cell_type": "code",
   "execution_count": 42,
   "metadata": {},
   "outputs": [
    {
     "data": {
      "text/html": [
       "<table>\n",
       "<thead><tr><th scope=col>date</th><th scope=col>n_RKV</th></tr></thead>\n",
       "<tbody>\n",
       "\t<tr><td>2018-01-01</td><td>80        </td></tr>\n",
       "</tbody>\n",
       "</table>\n"
      ],
      "text/latex": [
       "\\begin{tabular}{r|ll}\n",
       " date & n\\_RKV\\\\\n",
       "\\hline\n",
       "\t 2018-01-01 & 80        \\\\\n",
       "\\end{tabular}\n"
      ],
      "text/markdown": [
       "\n",
       "| date | n_RKV |\n",
       "|---|---|\n",
       "| 2018-01-01 | 80         |\n",
       "\n"
      ],
      "text/plain": [
       "  date       n_RKV\n",
       "1 2018-01-01 80   "
      ]
     },
     "metadata": {},
     "output_type": "display_data"
    },
    {
     "data": {
      "text/html": [
       "<table>\n",
       "<thead><tr><th scope=col>date</th><th scope=col>n_RKV</th></tr></thead>\n",
       "<tbody>\n",
       "\t<tr><td>2020-09-30</td><td>292       </td></tr>\n",
       "</tbody>\n",
       "</table>\n"
      ],
      "text/latex": [
       "\\begin{tabular}{r|ll}\n",
       " date & n\\_RKV\\\\\n",
       "\\hline\n",
       "\t 2020-09-30 & 292       \\\\\n",
       "\\end{tabular}\n"
      ],
      "text/markdown": [
       "\n",
       "| date | n_RKV |\n",
       "|---|---|\n",
       "| 2020-09-30 | 292        |\n",
       "\n"
      ],
      "text/plain": [
       "  date       n_RKV\n",
       "1 2020-09-30 292  "
      ]
     },
     "metadata": {},
     "output_type": "display_data"
    }
   ],
   "source": [
    "rawdata %>%\n",
    "mutate(date = date(Dato.og.Tid)) %>%\n",
    "distinct(Rkv.nr., .keep_all= TRUE) %>% #remove duplicates of Rkv.nr since we only want to count each a single time.\n",
    "group_by(date) %>%\n",
    "tally(name = \"n_RKV\") -> rkvDate\n",
    "\n",
    "head(rkvDate, 1)\n",
    "tail(rkvDate, 1)"
   ]
  },
  {
   "cell_type": "code",
   "execution_count": 43,
   "metadata": {},
   "outputs": [
    {
     "data": {
      "text/html": [
       "<table>\n",
       "<thead><tr><th scope=col>year</th><th scope=col>week</th><th scope=col>n_RKV</th></tr></thead>\n",
       "<tbody>\n",
       "\t<tr><td>2018</td><td>1   </td><td>536 </td></tr>\n",
       "</tbody>\n",
       "</table>\n"
      ],
      "text/latex": [
       "\\begin{tabular}{r|lll}\n",
       " year & week & n\\_RKV\\\\\n",
       "\\hline\n",
       "\t 2018 & 1    & 536 \\\\\n",
       "\\end{tabular}\n"
      ],
      "text/markdown": [
       "\n",
       "| year | week | n_RKV |\n",
       "|---|---|---|\n",
       "| 2018 | 1    | 536  |\n",
       "\n"
      ],
      "text/plain": [
       "  year week n_RKV\n",
       "1 2018 1    536  "
      ]
     },
     "metadata": {},
     "output_type": "display_data"
    },
    {
     "data": {
      "text/html": [
       "<table>\n",
       "<thead><tr><th scope=col>year</th><th scope=col>week</th><th scope=col>n_RKV</th></tr></thead>\n",
       "<tbody>\n",
       "\t<tr><td>2020</td><td>40  </td><td>292 </td></tr>\n",
       "</tbody>\n",
       "</table>\n"
      ],
      "text/latex": [
       "\\begin{tabular}{r|lll}\n",
       " year & week & n\\_RKV\\\\\n",
       "\\hline\n",
       "\t 2020 & 40   & 292 \\\\\n",
       "\\end{tabular}\n"
      ],
      "text/markdown": [
       "\n",
       "| year | week | n_RKV |\n",
       "|---|---|---|\n",
       "| 2020 | 40   | 292  |\n",
       "\n"
      ],
      "text/plain": [
       "  year week n_RKV\n",
       "1 2020 40   292  "
      ]
     },
     "metadata": {},
     "output_type": "display_data"
    }
   ],
   "source": [
    "rawdata %>%\n",
    "mutate(year = year(Dato.og.Tid)) %>%\n",
    "mutate(week = week(Dato.og.Tid)) %>%\n",
    "distinct(Rkv.nr., .keep_all= TRUE) %>% #remove duplicates of Rkv.nr since we only want to count each a single time.\n",
    "group_by(year,week) %>%\n",
    "tally(name = \"n_RKV\") -> rkvWeek\n",
    "\n",
    "rkvWeek$year %<>% as.factor()\n",
    "rkvWeek$week %<>% as.factor()\n",
    "\n",
    "head(rkvWeek, 1)\n",
    "tail(rkvWeek, 1)"
   ]
  },
  {
   "cell_type": "code",
   "execution_count": 44,
   "metadata": {},
   "outputs": [
    {
     "data": {
      "image/png": "[encoded data removed]",
      "text/plain": [
       "plot without title"
      ]
     },
     "metadata": {},
     "output_type": "display_data"
    }
   ],
   "source": [
    "ggplot(data = rkvDate, aes(x = date, y = n_RKV)) +\n",
    "ylab(\"Number of Rkv\") +\n",
    "geom_point() +\n",
    "\n",
    "# arguments are the defaults , only added to supress warnings\n",
    "# gam = generalized additive model // formula ?? don't know\n",
    "geom_smooth( method = \"gam\", formula = y ~ s(x, bs = \"cs\")) "
   ]
  },
  {
   "cell_type": "code",
   "execution_count": 45,
   "metadata": {},
   "outputs": [
    {
     "data": {
      "image/png": "[encoded data removed]",
      "text/plain": [
       "plot without title"
      ]
     },
     "metadata": {},
     "output_type": "display_data"
    }
   ],
   "source": [
    "ggplot(data = rkvWeek,  aes(x = week, y = n_RKV, color = year)) +\n",
    "ylab(\"Number of Rkv\") +\n",
    "geom_point()"
   ]
  },
  {
   "cell_type": "markdown",
   "metadata": {},
   "source": [
    "It is possible to see in the two graphs above that early in 2018 the first few weeks have a very low number of RKV. We are not sure why this is the case but are speculating that some mistakes in the processes of acquiring the dataset have happened. The processes have been to export the data from a database to an excel spreadsheet, then to removing sensitive data and converting the data to a CSV file, this process could have influenced the data in these weeks. A second export from the database in the two first months of 2018 would help to validate if the data in this period is correct but haven't been possible during to time constraint. <br>\n",
    "In the second graph with series for each year, it can be noted that the last point of each of the series ends in a point with a very low number of RKV. This low number of RKV is most likely during the last week being less than 7 days. <br>\n",
    "An interesting observation is that the effect of Covid-19 can be seen in the two graphs. In the spring of 2020 more preciously the date of \"2020-03-11\" (week 11) Denmark closed down during to Covid-19, if we take a look at the first graph it is possible to spot a stronger downswing in the nearly 2020 compared to the two previous years, and on the second graph it can be seen that the number of RKV drops sharply in week 11 and 12 then slowly raises over time afterward. "
   ]
  },
  {
   "cell_type": "markdown",
   "metadata": {},
   "source": [
    "Since the two plots have many points and are a bit busy with the large variation in the number of RKV, it is hard to extract more detailed knowledge than what was mentioned above. To extract a bit more knowledge two models have been applied. A model to decompose the dataset and a model to forecast the future base on the dataset."
   ]
  },
  {
   "cell_type": "markdown",
   "metadata": {},
   "source": [
    "## Decomposing number of RKV over time"
   ]
  },
  {
   "cell_type": "markdown",
   "metadata": {},
   "source": [
    "To decompose the dataset we first have to make it into a time-series, then two possible functions are available to us. One is the decompose() function that uses a moving average, the other is the stl() function that uses a locally estimated scatterplot smoothing. Below we have decided only to include only the model that uses the locally estimated scatterplot smoothing, since it has the best results. Afterward, the decomposition from the stl() function is used to make a forecast of the future number of RKV over time. In the end, the decomposition and forecasting are repeated with a limited dataset to exclude what is assumed to be abnormal behavior."
   ]
  },
  {
   "cell_type": "code",
   "execution_count": 46,
   "metadata": {},
   "outputs": [],
   "source": [
    "startDate = \"2018-01-01\"\n",
    "ts(rkvDate$n_RKV, \n",
    "   freq=365.25, \n",
    "   start=decimal_date(ymd(startDate))\n",
    "  ) %>%\n",
    "stl(s.window = \"periodic\") -> rkv_decomposition"
   ]
  },
  {
   "cell_type": "code",
   "execution_count": 47,
   "metadata": {
    "scrolled": false
   },
   "outputs": [
    {
     "data": {
      "image/png": "[encoded data removed]",
      "text/plain": [
       "plot without title"
      ]
     },
     "metadata": {},
     "output_type": "display_data"
    }
   ],
   "source": [
    "rkv_decomposition %>%\n",
    "autoplot()"
   ]
  },
  {
   "cell_type": "markdown",
   "metadata": {},
   "source": [
    "In the decomposition plot above there are a few things to see, but the first few weeks of the dataset look oddly low, and the first half of the year 2020 is affected by Covid-19. To get a better presentation of a \"normal\" year these two parts of the dataset are excluded in the plots below."
   ]
  },
  {
   "cell_type": "code",
   "execution_count": 48,
   "metadata": {},
   "outputs": [],
   "source": [
    "startDate = \"2018-03-01\"\n",
    "endDate = \"2020-03-01\"\n",
    "\n",
    "modRkvDate <- rkvDate %>%\n",
    "filter(startDate <= date & date <= endDate)\n",
    "\n",
    "ts(modRkvDate$n_RKV, \n",
    "   freq=365.25, \n",
    "   start=decimal_date(ymd(startDate))\n",
    "  ) %>%\n",
    "stl(s.window = \"periodic\") -> modrkv_decomposition"
   ]
  },
  {
   "cell_type": "code",
   "execution_count": 49,
   "metadata": {
    "scrolled": false
   },
   "outputs": [
    {
     "data": {
      "image/png": "[encoded data removed]",
      "text/plain": [
       "plot without title"
      ]
     },
     "metadata": {},
     "output_type": "display_data"
    }
   ],
   "source": [
    "modrkv_decomposition %>%\n",
    "autoplot()"
   ]
  },
  {
   "cell_type": "markdown",
   "metadata": {},
   "source": [
    "In the decomposition plot above, the trend doesn't change much but is in a slight decline. In the seasonal component, it looks like there is some regularity in the increases and decreases in what could look like a weekly or monthly cycle. At the same time, it looks like two more stable periods are present around what would be the fall and Christmas vacations. This could potentially be explored further by diving into the seasonal component."
   ]
  },
  {
   "cell_type": "markdown",
   "metadata": {},
   "source": [
    "Now let's try to extend this model above to predict how the future will look. To do this we use the forecast package that comes with a function with the same name. Parsing the decomposition to the forecast function produces a model we can plot, see below."
   ]
  },
  {
   "cell_type": "code",
   "execution_count": 50,
   "metadata": {},
   "outputs": [
    {
     "data": {
      "image/png": "[encoded data removed]",
      "text/plain": [
       "plot without title"
      ]
     },
     "metadata": {},
     "output_type": "display_data"
    }
   ],
   "source": [
    "modrkv_decomposition %>%\n",
    "forecast() %>%\n",
    "autoplot()"
   ]
  },
  {
   "cell_type": "markdown",
   "metadata": {},
   "source": [
    "Looking at the forecast above, it looks like not much is changing if we leave out the special circumstances of Covid-19. At the same time, the confidential interval follows the past well and is of course a little wider since it is impossible to be completely certain."
   ]
  },
  {
   "cell_type": "markdown",
   "metadata": {},
   "source": [
    "# Conclusion\n"
   ]
  },
  {
   "cell_type": "markdown",
   "metadata": {},
   "source": [
    "The business goal of this notebook is to identify possible options to reduce cost, free up resources, and/or to reduce the workload on KBA staff. First, we took a look at which tests were the most frequent and how the expenditure for the tests was distributed. This identified the EKG and INR tests to be rather costly compared to other tests."
   ]
  },
  {
   "cell_type": "markdown",
   "metadata": {},
   "source": [
    "Diving deeper into the EKG test, it was found that the Cardio department (hjerte afdeling) had an expense of around 675.000 DKK per year for KBA and an expense of over 3 million DKK per year across all three departments included in the dataset. Two suggestions were raised based on these findings, number one, to let the Cardio department (hjerte afdeling) handle all EKGs and freeing up the workload on KBA. Number two, to move the EKG related work outside KBA to another department or a new sub-department."
   ]
  },
  {
   "cell_type": "markdown",
   "metadata": {},
   "source": [
    "When exploring the INR test, it was found that most results were in the normal range of the test. If defining the normal range as [0.8 to 1.2] it was argued that 84.7% of the results were inside the normal range. A suggestion to remove INR as a default test for new patients was proposed in favor of replacing it with a sample with no tests where INR could be reordered if the need should arise."
   ]
  },
  {
   "cell_type": "markdown",
   "metadata": {},
   "source": [
    "Afterward, some exploration into the number of RKV was done. The idea was to try to identify some patterns that could be used to increase or decrease KBA staff as the number of RKV changed with the pattern. By decomposing the dataset, it was found that there was some degree of seasonal variance that could be planned for, but we suspected the decomposition was influenced a lot by what looked like outliers in the first few weeks of 2018, and by the atypical Covid-19 pandemic. After excluding the periods we suspected to have a misleading influence, the time-series was again decomposed. The resulting seasonal variance does not have an overall pattern as the first did but looks like it has some more frequent patterns which could be explored further. Especially it is possible to spot two periods in the 4th quarter of each year, where the variance is smaller compared to the rest of the year, this is probably because of the Fall and Christmas vacations. When looking at the forecast, the pattern looks like it is repeating without much change. The forecast also predicts that the two periods with low variance should also be present in the future which could be worth checking upon. Studying the seasonal variance further could be of use for the overall business goal since it can be seen that a pattern is probably present which oscillates typical between +/- 40 RKV per day, ruffly translating into the workload of +/-1 staff member per day."
   ]
  },
  {
   "cell_type": "markdown",
   "metadata": {},
   "source": [
    "<b>Conclusion: </b> We can thereby conclude that the analysis of the EKG and INR tests resulted in suggestions that could help solve the business problems but it will be a decision for the management to choose if some or all of the suggestions should be implemented or not. The analysis of the number of RKV resulted in some interesting insights but did not result in anything concrete, but applying decomposition and forecasting have given a hint to where possible solutions might be to the overall business problems."
   ]
  },
  {
   "cell_type": "markdown",
   "metadata": {},
   "source": [
    "# Discussion on Big Data and Storage"
   ]
  },
  {
   "cell_type": "markdown",
   "metadata": {},
   "source": [
    "While working with big data there are some major concerns about storage. Some of the most noticeable aspects are capacity, speed, and availability. To store a big amount of data, the storage solution should be able to contain the data and preferably be able to grow together with the data for some time at least. If this is reflected on KBA the size of the data is rather big compared to the tools used to work with the data. To analyses data from the production environment, Microsoft Office Excel is used at KBA. Working with this size of a dataset in excel has been impractical since some operations simply consumed too much memory to be performed. At the same time, the speed was not good, replacing the sensitive CPR numbers with a fictional ID was a process that took the better part of a day. Creating the table to map each CPR number to a fictional ID was quick, but populating the new fictional ID column depending on the CPR number column took a long time, which had to be repeated for each excel spreadsheet. This example is probably mostly an example of a poor tool for the given task since the performed increased drastically when the combined spreadsheets were processed in R. Some tools take advantage of optimizations that are implemented in the storage for some of the tasks, which points to the importance of the speed of the storage medium to reduce the overall processing time. At KBA the availability of the data is essential to the efficiency of the business, if the automation is down for one reason or another the efficiency drops from 100s of tests to 10s of tests sometimes even less per hour. In the summer of 2020, the storage server supporting KBA needed to be replaced and for more than two weeks the performance of the storage was severely impacted while copying to the new replacement storage. The performance impact resulted in failure when samples from outside clinics arrived and the work-load peaked.       "
   ]
  },
  {
   "cell_type": "markdown",
   "metadata": {},
   "source": [
    "Reflecting on the business and the case it is clear that big data and storage are of great importance. For the production in the business, speed and availability are of great concern, where capacity is mostly a concern to the supporting IT department. For the case, speed and capacity would be of greater concern since it directly impacts the ability to analyze the data, but is probably mostly caused by inefficient tools. For the case it would have been faster if it was possible to have direct access to read from the database to extract the dataset compared to using the laboratory management system BCC, reducing the importance of speed. If it was possible to mutate the CPR number to a fictional ID directly while exporting the data, or having access to more efficient tools than Excel to mutate the CPR number, the capacity concern would also be reduced."
   ]
  },
  {
   "cell_type": "markdown",
   "metadata": {},
   "source": [
    "# Legality and ethics"
   ]
  },
  {
   "cell_type": "markdown",
   "metadata": {},
   "source": [
    "The dataset processed in this notebook is acquired from a danish hospital in agreement with the department producing and maintaining the data. Some issues arose during the nature of the data, philosophically the data both belong to the patients whose blood markers it describe, but also to the department where it clearly describes the work involved, which tests that was performed, how many, and so on. By having this nature where the point of view can determine the perception of who the data belong to, it is important to realize and think about the greyscales that apply to this dataset. If the dataset is summarized to x number of tests per month, it is clear that the dataset is closer to the department, but summarizing the frequency of RKV for a given patient, or the result of a test over time would be a lot closer to personal information. Ethically it could be argued that the data should only be used for the betterment of the individual patient. Reducing cost does not directly attend this perspective, but from a wider view, it can be said that reducing cost allow for larger-scale improvements in the health sectors, leaving more capacity for additional patients, medically expensive patients, and possibly fewer taxes, benefitting the collective society but in extension also the individual patient."
   ]
  },
  {
   "cell_type": "markdown",
   "metadata": {},
   "source": [
    "Legally the dataset contains personal information that is protected by the General Data Protection Regulation (GDPR) by being health care data, no matter what can be argued in an ethical perceptive. The data is collected for health care use in compliance with GDPR as a tool for the treatment of individual patients. The long-term storage of the data still has a purpose for the patient since previous data sometimes has a significate role in diagnosing the patient."
   ]
  },
  {
   "cell_type": "markdown",
   "metadata": {},
   "source": [
    "The dataset or any products should therefore be anonymized before being processed or released outside the hospital. Original the dataset included highly sensitive information in the form of CPR-numbers which have been replaced with fictitious IDs. After studying GDPR a bit further, it was realized that any data that could lead back to a person should be anonymized to be compliant with the GDPR. Since the PMB and RKV number can be used in some of the hospital's systems to identify a person. It was decided to censor the numbers by replacing outputs with the text \"anonymize\" and the dataset was destroyed afterward. If further work was needed the PMB and RKV numbers could have been anonymized in the same way as the CPR-numbers. While reflecting a bit on the requirement to never being able to track back to a person raises some challenges, if a blood marker like INR is taken into account, the very pattern over time could potentially be used to track back to patients if enough data from the hospital is accessible as long as the order of tests is chronological, which theoretical could mean that anything that could give insight should be scrambled."
   ]
  },
  {
   "cell_type": "code",
   "execution_count": 51,
   "metadata": {},
   "outputs": [
    {
     "data": {
      "text/html": [
       "<table>\n",
       "<thead><tr><th scope=col>Navn</th><th scope=col>Total</th><th scope=col>avgYear</th></tr></thead>\n",
       "<tbody>\n",
       "\t<tr><td>Elektrokardiografi [EKG12];Pt      </td><td>8227662                            </td><td>2991877.1                          </td></tr>\n",
       "\t<tr><td>Koagulationsfaktor II+VII+X [INR];P</td><td>3161018                            </td><td>1149461.1                          </td></tr>\n",
       "\t<tr><td>Kalium;P                           </td><td>1638882                            </td><td> 595957.1                          </td></tr>\n",
       "\t<tr><td>Kreatinin;P                        </td><td>1624000                            </td><td> 590545.5                          </td></tr>\n",
       "\t<tr><td>Natrium;P                          </td><td>1621550                            </td><td> 589654.5                          </td></tr>\n",
       "\t<tr><td>Hæmoglobin;B                       </td><td>1529374                            </td><td> 556136.0                          </td></tr>\n",
       "\t<tr><td>Leukocytter;B                      </td><td>1515374                            </td><td> 551045.1                          </td></tr>\n",
       "\t<tr><td>C-reaktivt protein [CRP];P         </td><td>1508346                            </td><td> 548489.5                          </td></tr>\n",
       "\t<tr><td>Albumin;P                          </td><td>1336454                            </td><td> 485983.3                          </td></tr>\n",
       "\t<tr><td>Trombocytter;B                     </td><td>1243368                            </td><td> 452133.8                          </td></tr>\n",
       "\t<tr><td>Troponin I, hjertemuskel;P         </td><td>1176618                            </td><td> 427861.1                          </td></tr>\n",
       "\t<tr><td>Fibrin D-Dimer;P                   </td><td>1036935                            </td><td> 377067.3                          </td></tr>\n",
       "\t<tr><td>Alanintransaminase [ALAT];P        </td><td> 981246                            </td><td> 356816.7                          </td></tr>\n",
       "\t<tr><td>Glukose;P                          </td><td> 967176                            </td><td> 351700.4                          </td></tr>\n",
       "\t<tr><td>Bilirubiner;P                      </td><td> 966224                            </td><td> 351354.2                          </td></tr>\n",
       "\t<tr><td>Karbamid;P                         </td><td> 965860                            </td><td> 351221.8                          </td></tr>\n",
       "\t<tr><td>Basisk fosfatase;P                 </td><td> 963578                            </td><td> 350392.0                          </td></tr>\n",
       "\t<tr><td>Amylase;P                          </td><td> 926366                            </td><td> 336860.4                          </td></tr>\n",
       "\t<tr><td>Laktatdehydrogenase;P              </td><td> 921844                            </td><td> 335216.0                          </td></tr>\n",
       "\t<tr><td>Erytrocytvol. Middel [MCV];Erc(B)  </td><td> 377406                            </td><td> 137238.5                          </td></tr>\n",
       "</tbody>\n",
       "</table>\n"
      ],
      "text/latex": [
       "\\begin{tabular}{r|lll}\n",
       " Navn & Total & avgYear\\\\\n",
       "\\hline\n",
       "\t Elektrokardiografi {[}EKG12{]};Pt       & 8227662                                 & 2991877.1                              \\\\\n",
       "\t Koagulationsfaktor II+VII+X {[}INR{]};P & 3161018                                 & 1149461.1                              \\\\\n",
       "\t Kalium;P                            & 1638882                             &  595957.1                          \\\\\n",
       "\t Kreatinin;P                         & 1624000                             &  590545.5                          \\\\\n",
       "\t Natrium;P                           & 1621550                             &  589654.5                          \\\\\n",
       "\t Hæmoglobin;B                        & 1529374                             &  556136.0                          \\\\\n",
       "\t Leukocytter;B                       & 1515374                             &  551045.1                          \\\\\n",
       "\t C-reaktivt protein {[}CRP{]};P          & 1508346                                 &  548489.5                              \\\\\n",
       "\t Albumin;P                           & 1336454                             &  485983.3                          \\\\\n",
       "\t Trombocytter;B                      & 1243368                             &  452133.8                          \\\\\n",
       "\t Troponin I, hjertemuskel;P          & 1176618                             &  427861.1                          \\\\\n",
       "\t Fibrin D-Dimer;P                    & 1036935                             &  377067.3                          \\\\\n",
       "\t Alanintransaminase {[}ALAT{]};P         &  981246                                 &  356816.7                              \\\\\n",
       "\t Glukose;P                           &  967176                             &  351700.4                          \\\\\n",
       "\t Bilirubiner;P                       &  966224                             &  351354.2                          \\\\\n",
       "\t Karbamid;P                          &  965860                             &  351221.8                          \\\\\n",
       "\t Basisk fosfatase;P                  &  963578                             &  350392.0                          \\\\\n",
       "\t Amylase;P                           &  926366                             &  336860.4                          \\\\\n",
       "\t Laktatdehydrogenase;P               &  921844                             &  335216.0                          \\\\\n",
       "\t Erytrocytvol. Middel {[}MCV{]};Erc(B)   &  377406                                 &  137238.5                              \\\\\n",
       "\\end{tabular}\n"
      ],
      "text/markdown": [
       "\n",
       "| Navn | Total | avgYear |\n",
       "|---|---|---|\n",
       "| Elektrokardiografi [EKG12];Pt       | 8227662                             | 2991877.1                           |\n",
       "| Koagulationsfaktor II+VII+X [INR];P | 3161018                             | 1149461.1                           |\n",
       "| Kalium;P                            | 1638882                             |  595957.1                           |\n",
       "| Kreatinin;P                         | 1624000                             |  590545.5                           |\n",
       "| Natrium;P                           | 1621550                             |  589654.5                           |\n",
       "| Hæmoglobin;B                        | 1529374                             |  556136.0                           |\n",
       "| Leukocytter;B                       | 1515374                             |  551045.1                           |\n",
       "| C-reaktivt protein [CRP];P          | 1508346                             |  548489.5                           |\n",
       "| Albumin;P                           | 1336454                             |  485983.3                           |\n",
       "| Trombocytter;B                      | 1243368                             |  452133.8                           |\n",
       "| Troponin I, hjertemuskel;P          | 1176618                             |  427861.1                           |\n",
       "| Fibrin D-Dimer;P                    | 1036935                             |  377067.3                           |\n",
       "| Alanintransaminase [ALAT];P         |  981246                             |  356816.7                           |\n",
       "| Glukose;P                           |  967176                             |  351700.4                           |\n",
       "| Bilirubiner;P                       |  966224                             |  351354.2                           |\n",
       "| Karbamid;P                          |  965860                             |  351221.8                           |\n",
       "| Basisk fosfatase;P                  |  963578                             |  350392.0                           |\n",
       "| Amylase;P                           |  926366                             |  336860.4                           |\n",
       "| Laktatdehydrogenase;P               |  921844                             |  335216.0                           |\n",
       "| Erytrocytvol. Middel [MCV];Erc(B)   |  377406                             |  137238.5                           |\n",
       "\n"
      ],
      "text/plain": [
       "   Navn                                Total   avgYear  \n",
       "1  Elektrokardiografi [EKG12];Pt       8227662 2991877.1\n",
       "2  Koagulationsfaktor II+VII+X [INR];P 3161018 1149461.1\n",
       "3  Kalium;P                            1638882  595957.1\n",
       "4  Kreatinin;P                         1624000  590545.5\n",
       "5  Natrium;P                           1621550  589654.5\n",
       "6  Hæmoglobin;B                        1529374  556136.0\n",
       "7  Leukocytter;B                       1515374  551045.1\n",
       "8  C-reaktivt protein [CRP];P          1508346  548489.5\n",
       "9  Albumin;P                           1336454  485983.3\n",
       "10 Trombocytter;B                      1243368  452133.8\n",
       "11 Troponin I, hjertemuskel;P          1176618  427861.1\n",
       "12 Fibrin D-Dimer;P                    1036935  377067.3\n",
       "13 Alanintransaminase [ALAT];P          981246  356816.7\n",
       "14 Glukose;P                            967176  351700.4\n",
       "15 Bilirubiner;P                        966224  351354.2\n",
       "16 Karbamid;P                           965860  351221.8\n",
       "17 Basisk fosfatase;P                   963578  350392.0\n",
       "18 Amylase;P                            926366  336860.4\n",
       "19 Laktatdehydrogenase;P                921844  335216.0\n",
       "20 Erytrocytvol. Middel [MCV];Erc(B)    377406  137238.5"
      ]
     },
     "metadata": {},
     "output_type": "display_data"
    }
   ],
   "source": [
    "Udgift %>%\n",
    "distinct(Kvnt.nr., .keep_all= TRUE) %>%\n",
    "head(20) %>%\n",
    "select(Navn, Total) %>%\n",
    "mutate(avgYear = Total/(2*12+9)*12) -> avgYear\n",
    "\n",
    "avgYear"
   ]
  },
  {
   "cell_type": "code",
   "execution_count": 52,
   "metadata": {},
   "outputs": [
    {
     "data": {
      "image/png": "[encoded data removed]",
      "text/plain": [
       "plot without title"
      ]
     },
     "metadata": {},
     "output_type": "display_data"
    }
   ],
   "source": [
    "ggplot(data = head(avgYear,6), aes(x = reorder(Navn, avgYear), y = avgYear, label = paste(sprintf(\"%.0f\", avgYear), \"kr pr år\", sep=\"\\n\"))) + \n",
    "geom_col(fill=\"grey\") +  \n",
    "geom_col(data = head(avgYear,2), fill=\"pink\") +  \n",
    "\n",
    "labs(title=\"\", x = \"\", y = \"\") +    \n",
    "coord_flip() +\n",
    "geom_text(size = 4, position = position_stack(vjust = 0.5)) +\n",
    "scale_y_continuous(breaks = seq(0, 300000, 50000))  +\n",
    "  theme(panel.grid.major = element_blank()\n",
    "        ,panel.grid.minor = element_blank()\n",
    "        ,axis.text.x = element_blank()\n",
    "        ,panel.background = element_blank()\n",
    "        ,axis.ticks.x = element_blank()\n",
    "        ,axis.text = element_text(size=11)\n",
    "       )"
   ]
  },
  {
   "cell_type": "code",
   "execution_count": 53,
   "metadata": {},
   "outputs": [
    {
     "data": {
      "image/png": "[encoded data removed]",
      "text/plain": [
       "plot without title"
      ]
     },
     "metadata": {},
     "output_type": "display_data"
    }
   ],
   "source": [
    "ggplot(inr, aes(Resultat)) +\n",
    "geom_histogram(binwidth=0.1, stat=\"bin\", fill = \"pink\") +\n",
    "geom_histogram(data = inr %>% filter(lower_ref <= Resultat & Resultat <= upper_ref), binwidth=0.1, stat=\"bin\", fill = \"grey\") +\n",
    "scale_x_continuous(breaks = seq(1, 7, by= 1)) +     # set scale of the x axis to seq(from, to, by)\n",
    " \n",
    "scale_y_continuous(breaks = seq(0, 30000, by= 5000)) +\n",
    "ylab(\"Antal INR prøver\") +\n",
    "theme(panel.grid.major = element_blank()\n",
    "        ,panel.grid.minor = element_blank()\n",
    "        ,panel.background = element_blank()\n",
    "        ,axis.ticks.x = element_blank()\n",
    "       )"
   ]
  },
  {
   "cell_type": "code",
   "execution_count": 54,
   "metadata": {},
   "outputs": [
    {
     "data": {
      "text/html": [
       "<table>\n",
       "<thead><tr><th scope=col>n</th></tr></thead>\n",
       "<tbody>\n",
       "\t<tr><td>77098</td></tr>\n",
       "</tbody>\n",
       "</table>\n"
      ],
      "text/latex": [
       "\\begin{tabular}{r|l}\n",
       " n\\\\\n",
       "\\hline\n",
       "\t 77098\\\\\n",
       "\\end{tabular}\n"
      ],
      "text/markdown": [
       "\n",
       "| n |\n",
       "|---|\n",
       "| 77098 |\n",
       "\n"
      ],
      "text/plain": [
       "  n    \n",
       "1 77098"
      ]
     },
     "metadata": {},
     "output_type": "display_data"
    }
   ],
   "source": [
    "inr %>%\n",
    "count()"
   ]
  },
  {
   "cell_type": "code",
   "execution_count": 55,
   "metadata": {},
   "outputs": [
    {
     "data": {
      "text/html": [
       "<table>\n",
       "<thead><tr><th scope=col>n</th></tr></thead>\n",
       "<tbody>\n",
       "\t<tr><td>65320</td></tr>\n",
       "</tbody>\n",
       "</table>\n"
      ],
      "text/latex": [
       "\\begin{tabular}{r|l}\n",
       " n\\\\\n",
       "\\hline\n",
       "\t 65320\\\\\n",
       "\\end{tabular}\n"
      ],
      "text/markdown": [
       "\n",
       "| n |\n",
       "|---|\n",
       "| 65320 |\n",
       "\n"
      ],
      "text/plain": [
       "  n    \n",
       "1 65320"
      ]
     },
     "metadata": {},
     "output_type": "display_data"
    }
   ],
   "source": [
    "inr %>%\n",
    "filter(lower_ref <= Resultat & Resultat <= upper_ref) %>%\n",
    "count()"
   ]
  },
  {
   "cell_type": "code",
   "execution_count": 56,
   "metadata": {},
   "outputs": [
    {
     "data": {
      "text/html": [
       "<table>\n",
       "<thead><tr><th scope=col>Navn</th><th scope=col>Total</th><th scope=col>avgYear</th></tr></thead>\n",
       "<tbody>\n",
       "\t<tr><td>Elektrokardiografi [EKG12];Pt      </td><td>8227662                            </td><td>2991877.1                          </td></tr>\n",
       "\t<tr><td>Koagulationsfaktor II+VII+X [INR];P</td><td>3161018                            </td><td>1149461.1                          </td></tr>\n",
       "\t<tr><td>Kalium;P                           </td><td>1638882                            </td><td> 595957.1                          </td></tr>\n",
       "\t<tr><td>Kreatinin;P                        </td><td>1624000                            </td><td> 590545.5                          </td></tr>\n",
       "\t<tr><td>Natrium;P                          </td><td>1621550                            </td><td> 589654.5                          </td></tr>\n",
       "\t<tr><td>Hæmoglobin;B                       </td><td>1529374                            </td><td> 556136.0                          </td></tr>\n",
       "\t<tr><td>Leukocytter;B                      </td><td>1515374                            </td><td> 551045.1                          </td></tr>\n",
       "\t<tr><td>C-reaktivt protein [CRP];P         </td><td>1508346                            </td><td> 548489.5                          </td></tr>\n",
       "\t<tr><td>Albumin;P                          </td><td>1336454                            </td><td> 485983.3                          </td></tr>\n",
       "\t<tr><td>Trombocytter;B                     </td><td>1243368                            </td><td> 452133.8                          </td></tr>\n",
       "\t<tr><td>Troponin I, hjertemuskel;P         </td><td>1176618                            </td><td> 427861.1                          </td></tr>\n",
       "\t<tr><td>Fibrin D-Dimer;P                   </td><td>1036935                            </td><td> 377067.3                          </td></tr>\n",
       "\t<tr><td>Alanintransaminase [ALAT];P        </td><td> 981246                            </td><td> 356816.7                          </td></tr>\n",
       "\t<tr><td>Glukose;P                          </td><td> 967176                            </td><td> 351700.4                          </td></tr>\n",
       "\t<tr><td>Bilirubiner;P                      </td><td> 966224                            </td><td> 351354.2                          </td></tr>\n",
       "\t<tr><td>Karbamid;P                         </td><td> 965860                            </td><td> 351221.8                          </td></tr>\n",
       "\t<tr><td>Basisk fosfatase;P                 </td><td> 963578                            </td><td> 350392.0                          </td></tr>\n",
       "\t<tr><td>Amylase;P                          </td><td> 926366                            </td><td> 336860.4                          </td></tr>\n",
       "\t<tr><td>Laktatdehydrogenase;P              </td><td> 921844                            </td><td> 335216.0                          </td></tr>\n",
       "\t<tr><td>Erytrocytvol. Middel [MCV];Erc(B)  </td><td> 377406                            </td><td> 137238.5                          </td></tr>\n",
       "</tbody>\n",
       "</table>\n"
      ],
      "text/latex": [
       "\\begin{tabular}{r|lll}\n",
       " Navn & Total & avgYear\\\\\n",
       "\\hline\n",
       "\t Elektrokardiografi {[}EKG12{]};Pt       & 8227662                                 & 2991877.1                              \\\\\n",
       "\t Koagulationsfaktor II+VII+X {[}INR{]};P & 3161018                                 & 1149461.1                              \\\\\n",
       "\t Kalium;P                            & 1638882                             &  595957.1                          \\\\\n",
       "\t Kreatinin;P                         & 1624000                             &  590545.5                          \\\\\n",
       "\t Natrium;P                           & 1621550                             &  589654.5                          \\\\\n",
       "\t Hæmoglobin;B                        & 1529374                             &  556136.0                          \\\\\n",
       "\t Leukocytter;B                       & 1515374                             &  551045.1                          \\\\\n",
       "\t C-reaktivt protein {[}CRP{]};P          & 1508346                                 &  548489.5                              \\\\\n",
       "\t Albumin;P                           & 1336454                             &  485983.3                          \\\\\n",
       "\t Trombocytter;B                      & 1243368                             &  452133.8                          \\\\\n",
       "\t Troponin I, hjertemuskel;P          & 1176618                             &  427861.1                          \\\\\n",
       "\t Fibrin D-Dimer;P                    & 1036935                             &  377067.3                          \\\\\n",
       "\t Alanintransaminase {[}ALAT{]};P         &  981246                                 &  356816.7                              \\\\\n",
       "\t Glukose;P                           &  967176                             &  351700.4                          \\\\\n",
       "\t Bilirubiner;P                       &  966224                             &  351354.2                          \\\\\n",
       "\t Karbamid;P                          &  965860                             &  351221.8                          \\\\\n",
       "\t Basisk fosfatase;P                  &  963578                             &  350392.0                          \\\\\n",
       "\t Amylase;P                           &  926366                             &  336860.4                          \\\\\n",
       "\t Laktatdehydrogenase;P               &  921844                             &  335216.0                          \\\\\n",
       "\t Erytrocytvol. Middel {[}MCV{]};Erc(B)   &  377406                                 &  137238.5                              \\\\\n",
       "\\end{tabular}\n"
      ],
      "text/markdown": [
       "\n",
       "| Navn | Total | avgYear |\n",
       "|---|---|---|\n",
       "| Elektrokardiografi [EKG12];Pt       | 8227662                             | 2991877.1                           |\n",
       "| Koagulationsfaktor II+VII+X [INR];P | 3161018                             | 1149461.1                           |\n",
       "| Kalium;P                            | 1638882                             |  595957.1                           |\n",
       "| Kreatinin;P                         | 1624000                             |  590545.5                           |\n",
       "| Natrium;P                           | 1621550                             |  589654.5                           |\n",
       "| Hæmoglobin;B                        | 1529374                             |  556136.0                           |\n",
       "| Leukocytter;B                       | 1515374                             |  551045.1                           |\n",
       "| C-reaktivt protein [CRP];P          | 1508346                             |  548489.5                           |\n",
       "| Albumin;P                           | 1336454                             |  485983.3                           |\n",
       "| Trombocytter;B                      | 1243368                             |  452133.8                           |\n",
       "| Troponin I, hjertemuskel;P          | 1176618                             |  427861.1                           |\n",
       "| Fibrin D-Dimer;P                    | 1036935                             |  377067.3                           |\n",
       "| Alanintransaminase [ALAT];P         |  981246                             |  356816.7                           |\n",
       "| Glukose;P                           |  967176                             |  351700.4                           |\n",
       "| Bilirubiner;P                       |  966224                             |  351354.2                           |\n",
       "| Karbamid;P                          |  965860                             |  351221.8                           |\n",
       "| Basisk fosfatase;P                  |  963578                             |  350392.0                           |\n",
       "| Amylase;P                           |  926366                             |  336860.4                           |\n",
       "| Laktatdehydrogenase;P               |  921844                             |  335216.0                           |\n",
       "| Erytrocytvol. Middel [MCV];Erc(B)   |  377406                             |  137238.5                           |\n",
       "\n"
      ],
      "text/plain": [
       "   Navn                                Total   avgYear  \n",
       "1  Elektrokardiografi [EKG12];Pt       8227662 2991877.1\n",
       "2  Koagulationsfaktor II+VII+X [INR];P 3161018 1149461.1\n",
       "3  Kalium;P                            1638882  595957.1\n",
       "4  Kreatinin;P                         1624000  590545.5\n",
       "5  Natrium;P                           1621550  589654.5\n",
       "6  Hæmoglobin;B                        1529374  556136.0\n",
       "7  Leukocytter;B                       1515374  551045.1\n",
       "8  C-reaktivt protein [CRP];P          1508346  548489.5\n",
       "9  Albumin;P                           1336454  485983.3\n",
       "10 Trombocytter;B                      1243368  452133.8\n",
       "11 Troponin I, hjertemuskel;P          1176618  427861.1\n",
       "12 Fibrin D-Dimer;P                    1036935  377067.3\n",
       "13 Alanintransaminase [ALAT];P          981246  356816.7\n",
       "14 Glukose;P                            967176  351700.4\n",
       "15 Bilirubiner;P                        966224  351354.2\n",
       "16 Karbamid;P                           965860  351221.8\n",
       "17 Basisk fosfatase;P                   963578  350392.0\n",
       "18 Amylase;P                            926366  336860.4\n",
       "19 Laktatdehydrogenase;P                921844  335216.0\n",
       "20 Erytrocytvol. Middel [MCV];Erc(B)    377406  137238.5"
      ]
     },
     "metadata": {},
     "output_type": "display_data"
    }
   ],
   "source": [
    "Udgift %>%\n",
    "distinct(Kvnt.nr., .keep_all= TRUE) %>%\n",
    "head(20) %>%\n",
    "select(Navn, Total) %>%\n",
    "mutate(avgYear = Total/(2*12+9)*12) -> avgYear\n",
    "\n",
    "avgYear"
   ]
  },
  {
   "cell_type": "code",
   "execution_count": 57,
   "metadata": {},
   "outputs": [
    {
     "data": {
      "text/html": [
       "<table>\n",
       "<thead><tr><th scope=col>Rekvirent</th><th scope=col>antal</th><th scope=col>yearlyNumber</th></tr></thead>\n",
       "<tbody>\n",
       "\t<tr><td>Akut 1.Sal     </td><td>24519          </td><td> 8916.000      </td></tr>\n",
       "\t<tr><td>Akut Stue      </td><td>38542          </td><td>14015.273      </td></tr>\n",
       "\t<tr><td>Hjerte Afdeling</td><td>18401          </td><td> 6691.273      </td></tr>\n",
       "</tbody>\n",
       "</table>\n"
      ],
      "text/latex": [
       "\\begin{tabular}{r|lll}\n",
       " Rekvirent & antal & yearlyNumber\\\\\n",
       "\\hline\n",
       "\t Akut 1.Sal      & 24519           &  8916.000      \\\\\n",
       "\t Akut Stue       & 38542           & 14015.273      \\\\\n",
       "\t Hjerte Afdeling & 18401           &  6691.273      \\\\\n",
       "\\end{tabular}\n"
      ],
      "text/markdown": [
       "\n",
       "| Rekvirent | antal | yearlyNumber |\n",
       "|---|---|---|\n",
       "| Akut 1.Sal      | 24519           |  8916.000       |\n",
       "| Akut Stue       | 38542           | 14015.273       |\n",
       "| Hjerte Afdeling | 18401           |  6691.273       |\n",
       "\n"
      ],
      "text/plain": [
       "  Rekvirent       antal yearlyNumber\n",
       "1 Akut 1.Sal      24519  8916.000   \n",
       "2 Akut Stue       38542 14015.273   \n",
       "3 Hjerte Afdeling 18401  6691.273   "
      ]
     },
     "metadata": {},
     "output_type": "display_data"
    }
   ],
   "source": [
    "rawdata %>%\n",
    "filter(Kvnt.nr. == 5219 & (Resultat != \"Aflyst\" | Resultat != \"aflyst\")) %>%\n",
    "group_by(Rekvirent) %>%\n",
    "tally(name = \"antal\") %>% \n",
    "mutate(yearlyNumber = antal * 12 / (2*12+9)) -> allEkg \n",
    "\n",
    "allEkg\n",
    "\n"
   ]
  },
  {
   "cell_type": "code",
   "execution_count": 58,
   "metadata": {
    "scrolled": false
   },
   "outputs": [
    {
     "data": {
      "image/png": "[encoded data removed]",
      "text/plain": [
       "plot without title"
      ]
     },
     "metadata": {},
     "output_type": "display_data"
    }
   ],
   "source": [
    "ggplot(data = allEkg, mapping = aes(x = Rekvirent, y = yearlyNumber, label = paste(sprintf(\"%.0f\", yearlyNumber * ekgPrice), \"kr pr år\", sep=\" \") )) + \n",
    "geom_col(fill = \"lightgrey\") + \n",
    "geom_col(data = allEkg %>% filter(Rekvirent == \"Hjerte Afdeling\"), fill = \"pink\") + \n",
    "geom_text(size = 4, position = position_stack(vjust = 0.5)) +\n",
    "\n",
    "labs(x = \"\", y = \"Antal af EKG\") +  \n",
    "scale_y_continuous(breaks = seq(0, 20000, by= 5000)) +\n",
    "             \n",
    "theme(panel.grid.major = element_blank()\n",
    "    ,panel.grid.minor = element_blank()\n",
    "    ,panel.background = element_blank()\n",
    "    ,axis.ticks.x = element_blank()\n",
    "    ,axis.text = element_text(size=11)\n",
    "       )"
   ]
  }
 ],
 "metadata": {
  "kernelspec": {
   "display_name": "R",
   "language": "R",
   "name": "ir"
  },
  "language_info": {
   "codemirror_mode": "r",
   "file_extension": ".r",
   "mimetype": "text/x-r-source",
   "name": "R",
   "pygments_lexer": "r",
   "version": "3.6.1"
  }
 },
 "nbformat": 4,
 "nbformat_minor": 4
}
