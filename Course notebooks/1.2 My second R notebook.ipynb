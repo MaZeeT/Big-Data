{
 "cells": [
  {
   "cell_type": "markdown",
   "metadata": {},
   "source": [
    "# 1.2 My second R notebook\n",
    "\n",
    "This will be your second notebook..."
   ]
  },
  {
   "cell_type": "markdown",
   "metadata": {},
   "source": [
    "One of the great advantages of R is the many packages made by the R community. To load a package to use in R just use the library comand. For instance, the command below loads the very useful \"tidyverse\" package."
   ]
  },
  {
   "cell_type": "code",
   "execution_count": 1,
   "metadata": {},
   "outputs": [
    {
     "name": "stderr",
     "output_type": "stream",
     "text": [
      "Registered S3 methods overwritten by 'ggplot2':\n",
      "  method         from \n",
      "  [.quosures     rlang\n",
      "  c.quosures     rlang\n",
      "  print.quosures rlang\n",
      "Registered S3 method overwritten by 'rvest':\n",
      "  method            from\n",
      "  read_xml.response xml2\n",
      "-- Attaching packages --------------------------------------- tidyverse 1.2.1 --\n",
      "v ggplot2 3.1.1       v purrr   0.3.2  \n",
      "v tibble  2.1.1       v dplyr   0.8.0.1\n",
      "v tidyr   0.8.3       v stringr 1.4.0  \n",
      "v readr   1.3.1       v forcats 0.4.0  \n",
      "-- Conflicts ------------------------------------------ tidyverse_conflicts() --\n",
      "x dplyr::filter() masks stats::filter()\n",
      "x dplyr::lag()    masks stats::lag()\n"
     ]
    }
   ],
   "source": [
    "library(tidyverse)"
   ]
  },
  {
   "cell_type": "markdown",
   "metadata": {},
   "source": [
    "For now, do not be to concerned with the output this command creates."
   ]
  },
  {
   "cell_type": "markdown",
   "metadata": {},
   "source": [
    "We will now look at an example data set that comes with R, called the diamond data set. We load it by using the data command."
   ]
  },
  {
   "cell_type": "code",
   "execution_count": 2,
   "metadata": {},
   "outputs": [],
   "source": [
    "data(diamonds)"
   ]
  },
  {
   "cell_type": "markdown",
   "metadata": {},
   "source": [
    "We can \"see\" the dataset by just typing its name"
   ]
  },
  {
   "cell_type": "code",
   "execution_count": 3,
   "metadata": {},
   "outputs": [
    {
     "data": {
      "text/html": [
       "<table>\n",
       "<thead><tr><th scope=col>carat</th><th scope=col>cut</th><th scope=col>color</th><th scope=col>clarity</th><th scope=col>depth</th><th scope=col>table</th><th scope=col>price</th><th scope=col>x</th><th scope=col>y</th><th scope=col>z</th></tr></thead>\n",
       "<tbody>\n",
       "\t<tr><td>0.23     </td><td>Ideal    </td><td>E        </td><td>SI2      </td><td>61.5     </td><td>55       </td><td>326      </td><td>3.95     </td><td>3.98     </td><td>2.43     </td></tr>\n",
       "\t<tr><td>0.21     </td><td>Premium  </td><td>E        </td><td>SI1      </td><td>59.8     </td><td>61       </td><td>326      </td><td>3.89     </td><td>3.84     </td><td>2.31     </td></tr>\n",
       "\t<tr><td>0.23     </td><td>Good     </td><td>E        </td><td>VS1      </td><td>56.9     </td><td>65       </td><td>327      </td><td>4.05     </td><td>4.07     </td><td>2.31     </td></tr>\n",
       "\t<tr><td>0.29     </td><td>Premium  </td><td>I        </td><td>VS2      </td><td>62.4     </td><td>58       </td><td>334      </td><td>4.20     </td><td>4.23     </td><td>2.63     </td></tr>\n",
       "\t<tr><td>0.31     </td><td>Good     </td><td>J        </td><td>SI2      </td><td>63.3     </td><td>58       </td><td>335      </td><td>4.34     </td><td>4.35     </td><td>2.75     </td></tr>\n",
       "\t<tr><td>0.24     </td><td>Very Good</td><td>J        </td><td>VVS2     </td><td>62.8     </td><td>57       </td><td>336      </td><td>3.94     </td><td>3.96     </td><td>2.48     </td></tr>\n",
       "\t<tr><td>0.24     </td><td>Very Good</td><td>I        </td><td>VVS1     </td><td>62.3     </td><td>57       </td><td>336      </td><td>3.95     </td><td>3.98     </td><td>2.47     </td></tr>\n",
       "\t<tr><td>0.26     </td><td>Very Good</td><td>H        </td><td>SI1      </td><td>61.9     </td><td>55       </td><td>337      </td><td>4.07     </td><td>4.11     </td><td>2.53     </td></tr>\n",
       "\t<tr><td>0.22     </td><td>Fair     </td><td>E        </td><td>VS2      </td><td>65.1     </td><td>61       </td><td>337      </td><td>3.87     </td><td>3.78     </td><td>2.49     </td></tr>\n",
       "\t<tr><td>0.23     </td><td>Very Good</td><td>H        </td><td>VS1      </td><td>59.4     </td><td>61       </td><td>338      </td><td>4.00     </td><td>4.05     </td><td>2.39     </td></tr>\n",
       "\t<tr><td>0.30     </td><td>Good     </td><td>J        </td><td>SI1      </td><td>64.0     </td><td>55       </td><td>339      </td><td>4.25     </td><td>4.28     </td><td>2.73     </td></tr>\n",
       "\t<tr><td>0.23     </td><td>Ideal    </td><td>J        </td><td>VS1      </td><td>62.8     </td><td>56       </td><td>340      </td><td>3.93     </td><td>3.90     </td><td>2.46     </td></tr>\n",
       "\t<tr><td>0.22     </td><td>Premium  </td><td>F        </td><td>SI1      </td><td>60.4     </td><td>61       </td><td>342      </td><td>3.88     </td><td>3.84     </td><td>2.33     </td></tr>\n",
       "\t<tr><td>0.31     </td><td>Ideal    </td><td>J        </td><td>SI2      </td><td>62.2     </td><td>54       </td><td>344      </td><td>4.35     </td><td>4.37     </td><td>2.71     </td></tr>\n",
       "\t<tr><td>0.20     </td><td>Premium  </td><td>E        </td><td>SI2      </td><td>60.2     </td><td>62       </td><td>345      </td><td>3.79     </td><td>3.75     </td><td>2.27     </td></tr>\n",
       "\t<tr><td>0.32     </td><td>Premium  </td><td>E        </td><td>I1       </td><td>60.9     </td><td>58       </td><td>345      </td><td>4.38     </td><td>4.42     </td><td>2.68     </td></tr>\n",
       "\t<tr><td>0.30     </td><td>Ideal    </td><td>I        </td><td>SI2      </td><td>62.0     </td><td>54       </td><td>348      </td><td>4.31     </td><td>4.34     </td><td>2.68     </td></tr>\n",
       "\t<tr><td>0.30     </td><td>Good     </td><td>J        </td><td>SI1      </td><td>63.4     </td><td>54       </td><td>351      </td><td>4.23     </td><td>4.29     </td><td>2.70     </td></tr>\n",
       "\t<tr><td>0.30     </td><td>Good     </td><td>J        </td><td>SI1      </td><td>63.8     </td><td>56       </td><td>351      </td><td>4.23     </td><td>4.26     </td><td>2.71     </td></tr>\n",
       "\t<tr><td>0.30     </td><td>Very Good</td><td>J        </td><td>SI1      </td><td>62.7     </td><td>59       </td><td>351      </td><td>4.21     </td><td>4.27     </td><td>2.66     </td></tr>\n",
       "\t<tr><td>0.30     </td><td>Good     </td><td>I        </td><td>SI2      </td><td>63.3     </td><td>56       </td><td>351      </td><td>4.26     </td><td>4.30     </td><td>2.71     </td></tr>\n",
       "\t<tr><td>0.23     </td><td>Very Good</td><td>E        </td><td>VS2      </td><td>63.8     </td><td>55       </td><td>352      </td><td>3.85     </td><td>3.92     </td><td>2.48     </td></tr>\n",
       "\t<tr><td>0.23     </td><td>Very Good</td><td>H        </td><td>VS1      </td><td>61.0     </td><td>57       </td><td>353      </td><td>3.94     </td><td>3.96     </td><td>2.41     </td></tr>\n",
       "\t<tr><td>0.31     </td><td>Very Good</td><td>J        </td><td>SI1      </td><td>59.4     </td><td>62       </td><td>353      </td><td>4.39     </td><td>4.43     </td><td>2.62     </td></tr>\n",
       "\t<tr><td>0.31     </td><td>Very Good</td><td>J        </td><td>SI1      </td><td>58.1     </td><td>62       </td><td>353      </td><td>4.44     </td><td>4.47     </td><td>2.59     </td></tr>\n",
       "\t<tr><td>0.23     </td><td>Very Good</td><td>G        </td><td>VVS2     </td><td>60.4     </td><td>58       </td><td>354      </td><td>3.97     </td><td>4.01     </td><td>2.41     </td></tr>\n",
       "\t<tr><td>0.24     </td><td>Premium  </td><td>I        </td><td>VS1      </td><td>62.5     </td><td>57       </td><td>355      </td><td>3.97     </td><td>3.94     </td><td>2.47     </td></tr>\n",
       "\t<tr><td>0.30     </td><td>Very Good</td><td>J        </td><td>VS2      </td><td>62.2     </td><td>57       </td><td>357      </td><td>4.28     </td><td>4.30     </td><td>2.67     </td></tr>\n",
       "\t<tr><td>0.23     </td><td>Very Good</td><td>D        </td><td>VS2      </td><td>60.5     </td><td>61       </td><td>357      </td><td>3.96     </td><td>3.97     </td><td>2.40     </td></tr>\n",
       "\t<tr><td>0.23     </td><td>Very Good</td><td>F        </td><td>VS1      </td><td>60.9     </td><td>57       </td><td>357      </td><td>3.96     </td><td>3.99     </td><td>2.42     </td></tr>\n",
       "\t<tr><td>...</td><td>...</td><td>...</td><td>...</td><td>...</td><td>...</td><td>...</td><td>...</td><td>...</td><td>...</td></tr>\n",
       "\t<tr><td>0.70     </td><td>Premium  </td><td>E        </td><td>SI1      </td><td>60.5     </td><td>58       </td><td>2753     </td><td>5.74     </td><td>5.77     </td><td>3.48     </td></tr>\n",
       "\t<tr><td>0.57     </td><td>Premium  </td><td>E        </td><td>IF       </td><td>59.8     </td><td>60       </td><td>2753     </td><td>5.43     </td><td>5.38     </td><td>3.23     </td></tr>\n",
       "\t<tr><td>0.61     </td><td>Premium  </td><td>F        </td><td>VVS1     </td><td>61.8     </td><td>59       </td><td>2753     </td><td>5.48     </td><td>5.40     </td><td>3.36     </td></tr>\n",
       "\t<tr><td>0.80     </td><td>Good     </td><td>G        </td><td>VS2      </td><td>64.2     </td><td>58       </td><td>2753     </td><td>5.84     </td><td>5.81     </td><td>3.74     </td></tr>\n",
       "\t<tr><td>0.84     </td><td>Good     </td><td>I        </td><td>VS1      </td><td>63.7     </td><td>59       </td><td>2753     </td><td>5.94     </td><td>5.90     </td><td>3.77     </td></tr>\n",
       "\t<tr><td>0.77     </td><td>Ideal    </td><td>E        </td><td>SI2      </td><td>62.1     </td><td>56       </td><td>2753     </td><td>5.84     </td><td>5.86     </td><td>3.63     </td></tr>\n",
       "\t<tr><td>0.74     </td><td>Good     </td><td>D        </td><td>SI1      </td><td>63.1     </td><td>59       </td><td>2753     </td><td>5.71     </td><td>5.74     </td><td>3.61     </td></tr>\n",
       "\t<tr><td>0.90     </td><td>Very Good</td><td>J        </td><td>SI1      </td><td>63.2     </td><td>60       </td><td>2753     </td><td>6.12     </td><td>6.09     </td><td>3.86     </td></tr>\n",
       "\t<tr><td>0.76     </td><td>Premium  </td><td>I        </td><td>VS1      </td><td>59.3     </td><td>62       </td><td>2753     </td><td>5.93     </td><td>5.85     </td><td>3.49     </td></tr>\n",
       "\t<tr><td>0.76     </td><td>Ideal    </td><td>I        </td><td>VVS1     </td><td>62.2     </td><td>55       </td><td>2753     </td><td>5.89     </td><td>5.87     </td><td>3.66     </td></tr>\n",
       "\t<tr><td>0.70     </td><td>Very Good</td><td>E        </td><td>VS2      </td><td>62.4     </td><td>60       </td><td>2755     </td><td>5.57     </td><td>5.61     </td><td>3.49     </td></tr>\n",
       "\t<tr><td>0.70     </td><td>Very Good</td><td>E        </td><td>VS2      </td><td>62.8     </td><td>60       </td><td>2755     </td><td>5.59     </td><td>5.65     </td><td>3.53     </td></tr>\n",
       "\t<tr><td>0.70     </td><td>Very Good</td><td>D        </td><td>VS1      </td><td>63.1     </td><td>59       </td><td>2755     </td><td>5.67     </td><td>5.58     </td><td>3.55     </td></tr>\n",
       "\t<tr><td>0.73     </td><td>Ideal    </td><td>I        </td><td>VS2      </td><td>61.3     </td><td>56       </td><td>2756     </td><td>5.80     </td><td>5.84     </td><td>3.57     </td></tr>\n",
       "\t<tr><td>0.73     </td><td>Ideal    </td><td>I        </td><td>VS2      </td><td>61.6     </td><td>55       </td><td>2756     </td><td>5.82     </td><td>5.84     </td><td>3.59     </td></tr>\n",
       "\t<tr><td>0.79     </td><td>Ideal    </td><td>I        </td><td>SI1      </td><td>61.6     </td><td>56       </td><td>2756     </td><td>5.95     </td><td>5.97     </td><td>3.67     </td></tr>\n",
       "\t<tr><td>0.71     </td><td>Ideal    </td><td>E        </td><td>SI1      </td><td>61.9     </td><td>56       </td><td>2756     </td><td>5.71     </td><td>5.73     </td><td>3.54     </td></tr>\n",
       "\t<tr><td>0.79     </td><td>Good     </td><td>F        </td><td>SI1      </td><td>58.1     </td><td>59       </td><td>2756     </td><td>6.06     </td><td>6.13     </td><td>3.54     </td></tr>\n",
       "\t<tr><td>0.79     </td><td>Premium  </td><td>E        </td><td>SI2      </td><td>61.4     </td><td>58       </td><td>2756     </td><td>6.03     </td><td>5.96     </td><td>3.68     </td></tr>\n",
       "\t<tr><td>0.71     </td><td>Ideal    </td><td>G        </td><td>VS1      </td><td>61.4     </td><td>56       </td><td>2756     </td><td>5.76     </td><td>5.73     </td><td>3.53     </td></tr>\n",
       "\t<tr><td>0.71     </td><td>Premium  </td><td>E        </td><td>SI1      </td><td>60.5     </td><td>55       </td><td>2756     </td><td>5.79     </td><td>5.74     </td><td>3.49     </td></tr>\n",
       "\t<tr><td>0.71     </td><td>Premium  </td><td>F        </td><td>SI1      </td><td>59.8     </td><td>62       </td><td>2756     </td><td>5.74     </td><td>5.73     </td><td>3.43     </td></tr>\n",
       "\t<tr><td>0.70     </td><td>Very Good</td><td>E        </td><td>VS2      </td><td>60.5     </td><td>59       </td><td>2757     </td><td>5.71     </td><td>5.76     </td><td>3.47     </td></tr>\n",
       "\t<tr><td>0.70     </td><td>Very Good</td><td>E        </td><td>VS2      </td><td>61.2     </td><td>59       </td><td>2757     </td><td>5.69     </td><td>5.72     </td><td>3.49     </td></tr>\n",
       "\t<tr><td>0.72     </td><td>Premium  </td><td>D        </td><td>SI1      </td><td>62.7     </td><td>59       </td><td>2757     </td><td>5.69     </td><td>5.73     </td><td>3.58     </td></tr>\n",
       "\t<tr><td>0.72     </td><td>Ideal    </td><td>D        </td><td>SI1      </td><td>60.8     </td><td>57       </td><td>2757     </td><td>5.75     </td><td>5.76     </td><td>3.50     </td></tr>\n",
       "\t<tr><td>0.72     </td><td>Good     </td><td>D        </td><td>SI1      </td><td>63.1     </td><td>55       </td><td>2757     </td><td>5.69     </td><td>5.75     </td><td>3.61     </td></tr>\n",
       "\t<tr><td>0.70     </td><td>Very Good</td><td>D        </td><td>SI1      </td><td>62.8     </td><td>60       </td><td>2757     </td><td>5.66     </td><td>5.68     </td><td>3.56     </td></tr>\n",
       "\t<tr><td>0.86     </td><td>Premium  </td><td>H        </td><td>SI2      </td><td>61.0     </td><td>58       </td><td>2757     </td><td>6.15     </td><td>6.12     </td><td>3.74     </td></tr>\n",
       "\t<tr><td>0.75     </td><td>Ideal    </td><td>D        </td><td>SI2      </td><td>62.2     </td><td>55       </td><td>2757     </td><td>5.83     </td><td>5.87     </td><td>3.64     </td></tr>\n",
       "</tbody>\n",
       "</table>\n"
      ],
      "text/latex": [
       "\\begin{tabular}{r|llllllllll}\n",
       " carat & cut & color & clarity & depth & table & price & x & y & z\\\\\n",
       "\\hline\n",
       "\t 0.23      & Ideal     & E         & SI2       & 61.5      & 55        & 326       & 3.95      & 3.98      & 2.43     \\\\\n",
       "\t 0.21      & Premium   & E         & SI1       & 59.8      & 61        & 326       & 3.89      & 3.84      & 2.31     \\\\\n",
       "\t 0.23      & Good      & E         & VS1       & 56.9      & 65        & 327       & 4.05      & 4.07      & 2.31     \\\\\n",
       "\t 0.29      & Premium   & I         & VS2       & 62.4      & 58        & 334       & 4.20      & 4.23      & 2.63     \\\\\n",
       "\t 0.31      & Good      & J         & SI2       & 63.3      & 58        & 335       & 4.34      & 4.35      & 2.75     \\\\\n",
       "\t 0.24      & Very Good & J         & VVS2      & 62.8      & 57        & 336       & 3.94      & 3.96      & 2.48     \\\\\n",
       "\t 0.24      & Very Good & I         & VVS1      & 62.3      & 57        & 336       & 3.95      & 3.98      & 2.47     \\\\\n",
       "\t 0.26      & Very Good & H         & SI1       & 61.9      & 55        & 337       & 4.07      & 4.11      & 2.53     \\\\\n",
       "\t 0.22      & Fair      & E         & VS2       & 65.1      & 61        & 337       & 3.87      & 3.78      & 2.49     \\\\\n",
       "\t 0.23      & Very Good & H         & VS1       & 59.4      & 61        & 338       & 4.00      & 4.05      & 2.39     \\\\\n",
       "\t 0.30      & Good      & J         & SI1       & 64.0      & 55        & 339       & 4.25      & 4.28      & 2.73     \\\\\n",
       "\t 0.23      & Ideal     & J         & VS1       & 62.8      & 56        & 340       & 3.93      & 3.90      & 2.46     \\\\\n",
       "\t 0.22      & Premium   & F         & SI1       & 60.4      & 61        & 342       & 3.88      & 3.84      & 2.33     \\\\\n",
       "\t 0.31      & Ideal     & J         & SI2       & 62.2      & 54        & 344       & 4.35      & 4.37      & 2.71     \\\\\n",
       "\t 0.20      & Premium   & E         & SI2       & 60.2      & 62        & 345       & 3.79      & 3.75      & 2.27     \\\\\n",
       "\t 0.32      & Premium   & E         & I1        & 60.9      & 58        & 345       & 4.38      & 4.42      & 2.68     \\\\\n",
       "\t 0.30      & Ideal     & I         & SI2       & 62.0      & 54        & 348       & 4.31      & 4.34      & 2.68     \\\\\n",
       "\t 0.30      & Good      & J         & SI1       & 63.4      & 54        & 351       & 4.23      & 4.29      & 2.70     \\\\\n",
       "\t 0.30      & Good      & J         & SI1       & 63.8      & 56        & 351       & 4.23      & 4.26      & 2.71     \\\\\n",
       "\t 0.30      & Very Good & J         & SI1       & 62.7      & 59        & 351       & 4.21      & 4.27      & 2.66     \\\\\n",
       "\t 0.30      & Good      & I         & SI2       & 63.3      & 56        & 351       & 4.26      & 4.30      & 2.71     \\\\\n",
       "\t 0.23      & Very Good & E         & VS2       & 63.8      & 55        & 352       & 3.85      & 3.92      & 2.48     \\\\\n",
       "\t 0.23      & Very Good & H         & VS1       & 61.0      & 57        & 353       & 3.94      & 3.96      & 2.41     \\\\\n",
       "\t 0.31      & Very Good & J         & SI1       & 59.4      & 62        & 353       & 4.39      & 4.43      & 2.62     \\\\\n",
       "\t 0.31      & Very Good & J         & SI1       & 58.1      & 62        & 353       & 4.44      & 4.47      & 2.59     \\\\\n",
       "\t 0.23      & Very Good & G         & VVS2      & 60.4      & 58        & 354       & 3.97      & 4.01      & 2.41     \\\\\n",
       "\t 0.24      & Premium   & I         & VS1       & 62.5      & 57        & 355       & 3.97      & 3.94      & 2.47     \\\\\n",
       "\t 0.30      & Very Good & J         & VS2       & 62.2      & 57        & 357       & 4.28      & 4.30      & 2.67     \\\\\n",
       "\t 0.23      & Very Good & D         & VS2       & 60.5      & 61        & 357       & 3.96      & 3.97      & 2.40     \\\\\n",
       "\t 0.23      & Very Good & F         & VS1       & 60.9      & 57        & 357       & 3.96      & 3.99      & 2.42     \\\\\n",
       "\t ... & ... & ... & ... & ... & ... & ... & ... & ... & ...\\\\\n",
       "\t 0.70      & Premium   & E         & SI1       & 60.5      & 58        & 2753      & 5.74      & 5.77      & 3.48     \\\\\n",
       "\t 0.57      & Premium   & E         & IF        & 59.8      & 60        & 2753      & 5.43      & 5.38      & 3.23     \\\\\n",
       "\t 0.61      & Premium   & F         & VVS1      & 61.8      & 59        & 2753      & 5.48      & 5.40      & 3.36     \\\\\n",
       "\t 0.80      & Good      & G         & VS2       & 64.2      & 58        & 2753      & 5.84      & 5.81      & 3.74     \\\\\n",
       "\t 0.84      & Good      & I         & VS1       & 63.7      & 59        & 2753      & 5.94      & 5.90      & 3.77     \\\\\n",
       "\t 0.77      & Ideal     & E         & SI2       & 62.1      & 56        & 2753      & 5.84      & 5.86      & 3.63     \\\\\n",
       "\t 0.74      & Good      & D         & SI1       & 63.1      & 59        & 2753      & 5.71      & 5.74      & 3.61     \\\\\n",
       "\t 0.90      & Very Good & J         & SI1       & 63.2      & 60        & 2753      & 6.12      & 6.09      & 3.86     \\\\\n",
       "\t 0.76      & Premium   & I         & VS1       & 59.3      & 62        & 2753      & 5.93      & 5.85      & 3.49     \\\\\n",
       "\t 0.76      & Ideal     & I         & VVS1      & 62.2      & 55        & 2753      & 5.89      & 5.87      & 3.66     \\\\\n",
       "\t 0.70      & Very Good & E         & VS2       & 62.4      & 60        & 2755      & 5.57      & 5.61      & 3.49     \\\\\n",
       "\t 0.70      & Very Good & E         & VS2       & 62.8      & 60        & 2755      & 5.59      & 5.65      & 3.53     \\\\\n",
       "\t 0.70      & Very Good & D         & VS1       & 63.1      & 59        & 2755      & 5.67      & 5.58      & 3.55     \\\\\n",
       "\t 0.73      & Ideal     & I         & VS2       & 61.3      & 56        & 2756      & 5.80      & 5.84      & 3.57     \\\\\n",
       "\t 0.73      & Ideal     & I         & VS2       & 61.6      & 55        & 2756      & 5.82      & 5.84      & 3.59     \\\\\n",
       "\t 0.79      & Ideal     & I         & SI1       & 61.6      & 56        & 2756      & 5.95      & 5.97      & 3.67     \\\\\n",
       "\t 0.71      & Ideal     & E         & SI1       & 61.9      & 56        & 2756      & 5.71      & 5.73      & 3.54     \\\\\n",
       "\t 0.79      & Good      & F         & SI1       & 58.1      & 59        & 2756      & 6.06      & 6.13      & 3.54     \\\\\n",
       "\t 0.79      & Premium   & E         & SI2       & 61.4      & 58        & 2756      & 6.03      & 5.96      & 3.68     \\\\\n",
       "\t 0.71      & Ideal     & G         & VS1       & 61.4      & 56        & 2756      & 5.76      & 5.73      & 3.53     \\\\\n",
       "\t 0.71      & Premium   & E         & SI1       & 60.5      & 55        & 2756      & 5.79      & 5.74      & 3.49     \\\\\n",
       "\t 0.71      & Premium   & F         & SI1       & 59.8      & 62        & 2756      & 5.74      & 5.73      & 3.43     \\\\\n",
       "\t 0.70      & Very Good & E         & VS2       & 60.5      & 59        & 2757      & 5.71      & 5.76      & 3.47     \\\\\n",
       "\t 0.70      & Very Good & E         & VS2       & 61.2      & 59        & 2757      & 5.69      & 5.72      & 3.49     \\\\\n",
       "\t 0.72      & Premium   & D         & SI1       & 62.7      & 59        & 2757      & 5.69      & 5.73      & 3.58     \\\\\n",
       "\t 0.72      & Ideal     & D         & SI1       & 60.8      & 57        & 2757      & 5.75      & 5.76      & 3.50     \\\\\n",
       "\t 0.72      & Good      & D         & SI1       & 63.1      & 55        & 2757      & 5.69      & 5.75      & 3.61     \\\\\n",
       "\t 0.70      & Very Good & D         & SI1       & 62.8      & 60        & 2757      & 5.66      & 5.68      & 3.56     \\\\\n",
       "\t 0.86      & Premium   & H         & SI2       & 61.0      & 58        & 2757      & 6.15      & 6.12      & 3.74     \\\\\n",
       "\t 0.75      & Ideal     & D         & SI2       & 62.2      & 55        & 2757      & 5.83      & 5.87      & 3.64     \\\\\n",
       "\\end{tabular}\n"
      ],
      "text/markdown": [
       "\n",
       "| carat | cut | color | clarity | depth | table | price | x | y | z |\n",
       "|---|---|---|---|---|---|---|---|---|---|\n",
       "| 0.23      | Ideal     | E         | SI2       | 61.5      | 55        | 326       | 3.95      | 3.98      | 2.43      |\n",
       "| 0.21      | Premium   | E         | SI1       | 59.8      | 61        | 326       | 3.89      | 3.84      | 2.31      |\n",
       "| 0.23      | Good      | E         | VS1       | 56.9      | 65        | 327       | 4.05      | 4.07      | 2.31      |\n",
       "| 0.29      | Premium   | I         | VS2       | 62.4      | 58        | 334       | 4.20      | 4.23      | 2.63      |\n",
       "| 0.31      | Good      | J         | SI2       | 63.3      | 58        | 335       | 4.34      | 4.35      | 2.75      |\n",
       "| 0.24      | Very Good | J         | VVS2      | 62.8      | 57        | 336       | 3.94      | 3.96      | 2.48      |\n",
       "| 0.24      | Very Good | I         | VVS1      | 62.3      | 57        | 336       | 3.95      | 3.98      | 2.47      |\n",
       "| 0.26      | Very Good | H         | SI1       | 61.9      | 55        | 337       | 4.07      | 4.11      | 2.53      |\n",
       "| 0.22      | Fair      | E         | VS2       | 65.1      | 61        | 337       | 3.87      | 3.78      | 2.49      |\n",
       "| 0.23      | Very Good | H         | VS1       | 59.4      | 61        | 338       | 4.00      | 4.05      | 2.39      |\n",
       "| 0.30      | Good      | J         | SI1       | 64.0      | 55        | 339       | 4.25      | 4.28      | 2.73      |\n",
       "| 0.23      | Ideal     | J         | VS1       | 62.8      | 56        | 340       | 3.93      | 3.90      | 2.46      |\n",
       "| 0.22      | Premium   | F         | SI1       | 60.4      | 61        | 342       | 3.88      | 3.84      | 2.33      |\n",
       "| 0.31      | Ideal     | J         | SI2       | 62.2      | 54        | 344       | 4.35      | 4.37      | 2.71      |\n",
       "| 0.20      | Premium   | E         | SI2       | 60.2      | 62        | 345       | 3.79      | 3.75      | 2.27      |\n",
       "| 0.32      | Premium   | E         | I1        | 60.9      | 58        | 345       | 4.38      | 4.42      | 2.68      |\n",
       "| 0.30      | Ideal     | I         | SI2       | 62.0      | 54        | 348       | 4.31      | 4.34      | 2.68      |\n",
       "| 0.30      | Good      | J         | SI1       | 63.4      | 54        | 351       | 4.23      | 4.29      | 2.70      |\n",
       "| 0.30      | Good      | J         | SI1       | 63.8      | 56        | 351       | 4.23      | 4.26      | 2.71      |\n",
       "| 0.30      | Very Good | J         | SI1       | 62.7      | 59        | 351       | 4.21      | 4.27      | 2.66      |\n",
       "| 0.30      | Good      | I         | SI2       | 63.3      | 56        | 351       | 4.26      | 4.30      | 2.71      |\n",
       "| 0.23      | Very Good | E         | VS2       | 63.8      | 55        | 352       | 3.85      | 3.92      | 2.48      |\n",
       "| 0.23      | Very Good | H         | VS1       | 61.0      | 57        | 353       | 3.94      | 3.96      | 2.41      |\n",
       "| 0.31      | Very Good | J         | SI1       | 59.4      | 62        | 353       | 4.39      | 4.43      | 2.62      |\n",
       "| 0.31      | Very Good | J         | SI1       | 58.1      | 62        | 353       | 4.44      | 4.47      | 2.59      |\n",
       "| 0.23      | Very Good | G         | VVS2      | 60.4      | 58        | 354       | 3.97      | 4.01      | 2.41      |\n",
       "| 0.24      | Premium   | I         | VS1       | 62.5      | 57        | 355       | 3.97      | 3.94      | 2.47      |\n",
       "| 0.30      | Very Good | J         | VS2       | 62.2      | 57        | 357       | 4.28      | 4.30      | 2.67      |\n",
       "| 0.23      | Very Good | D         | VS2       | 60.5      | 61        | 357       | 3.96      | 3.97      | 2.40      |\n",
       "| 0.23      | Very Good | F         | VS1       | 60.9      | 57        | 357       | 3.96      | 3.99      | 2.42      |\n",
       "| ... | ... | ... | ... | ... | ... | ... | ... | ... | ... |\n",
       "| 0.70      | Premium   | E         | SI1       | 60.5      | 58        | 2753      | 5.74      | 5.77      | 3.48      |\n",
       "| 0.57      | Premium   | E         | IF        | 59.8      | 60        | 2753      | 5.43      | 5.38      | 3.23      |\n",
       "| 0.61      | Premium   | F         | VVS1      | 61.8      | 59        | 2753      | 5.48      | 5.40      | 3.36      |\n",
       "| 0.80      | Good      | G         | VS2       | 64.2      | 58        | 2753      | 5.84      | 5.81      | 3.74      |\n",
       "| 0.84      | Good      | I         | VS1       | 63.7      | 59        | 2753      | 5.94      | 5.90      | 3.77      |\n",
       "| 0.77      | Ideal     | E         | SI2       | 62.1      | 56        | 2753      | 5.84      | 5.86      | 3.63      |\n",
       "| 0.74      | Good      | D         | SI1       | 63.1      | 59        | 2753      | 5.71      | 5.74      | 3.61      |\n",
       "| 0.90      | Very Good | J         | SI1       | 63.2      | 60        | 2753      | 6.12      | 6.09      | 3.86      |\n",
       "| 0.76      | Premium   | I         | VS1       | 59.3      | 62        | 2753      | 5.93      | 5.85      | 3.49      |\n",
       "| 0.76      | Ideal     | I         | VVS1      | 62.2      | 55        | 2753      | 5.89      | 5.87      | 3.66      |\n",
       "| 0.70      | Very Good | E         | VS2       | 62.4      | 60        | 2755      | 5.57      | 5.61      | 3.49      |\n",
       "| 0.70      | Very Good | E         | VS2       | 62.8      | 60        | 2755      | 5.59      | 5.65      | 3.53      |\n",
       "| 0.70      | Very Good | D         | VS1       | 63.1      | 59        | 2755      | 5.67      | 5.58      | 3.55      |\n",
       "| 0.73      | Ideal     | I         | VS2       | 61.3      | 56        | 2756      | 5.80      | 5.84      | 3.57      |\n",
       "| 0.73      | Ideal     | I         | VS2       | 61.6      | 55        | 2756      | 5.82      | 5.84      | 3.59      |\n",
       "| 0.79      | Ideal     | I         | SI1       | 61.6      | 56        | 2756      | 5.95      | 5.97      | 3.67      |\n",
       "| 0.71      | Ideal     | E         | SI1       | 61.9      | 56        | 2756      | 5.71      | 5.73      | 3.54      |\n",
       "| 0.79      | Good      | F         | SI1       | 58.1      | 59        | 2756      | 6.06      | 6.13      | 3.54      |\n",
       "| 0.79      | Premium   | E         | SI2       | 61.4      | 58        | 2756      | 6.03      | 5.96      | 3.68      |\n",
       "| 0.71      | Ideal     | G         | VS1       | 61.4      | 56        | 2756      | 5.76      | 5.73      | 3.53      |\n",
       "| 0.71      | Premium   | E         | SI1       | 60.5      | 55        | 2756      | 5.79      | 5.74      | 3.49      |\n",
       "| 0.71      | Premium   | F         | SI1       | 59.8      | 62        | 2756      | 5.74      | 5.73      | 3.43      |\n",
       "| 0.70      | Very Good | E         | VS2       | 60.5      | 59        | 2757      | 5.71      | 5.76      | 3.47      |\n",
       "| 0.70      | Very Good | E         | VS2       | 61.2      | 59        | 2757      | 5.69      | 5.72      | 3.49      |\n",
       "| 0.72      | Premium   | D         | SI1       | 62.7      | 59        | 2757      | 5.69      | 5.73      | 3.58      |\n",
       "| 0.72      | Ideal     | D         | SI1       | 60.8      | 57        | 2757      | 5.75      | 5.76      | 3.50      |\n",
       "| 0.72      | Good      | D         | SI1       | 63.1      | 55        | 2757      | 5.69      | 5.75      | 3.61      |\n",
       "| 0.70      | Very Good | D         | SI1       | 62.8      | 60        | 2757      | 5.66      | 5.68      | 3.56      |\n",
       "| 0.86      | Premium   | H         | SI2       | 61.0      | 58        | 2757      | 6.15      | 6.12      | 3.74      |\n",
       "| 0.75      | Ideal     | D         | SI2       | 62.2      | 55        | 2757      | 5.83      | 5.87      | 3.64      |\n",
       "\n"
      ],
      "text/plain": [
       "      carat cut       color clarity depth table price x    y    z   \n",
       "1     0.23  Ideal     E     SI2     61.5  55    326   3.95 3.98 2.43\n",
       "2     0.21  Premium   E     SI1     59.8  61    326   3.89 3.84 2.31\n",
       "3     0.23  Good      E     VS1     56.9  65    327   4.05 4.07 2.31\n",
       "4     0.29  Premium   I     VS2     62.4  58    334   4.20 4.23 2.63\n",
       "5     0.31  Good      J     SI2     63.3  58    335   4.34 4.35 2.75\n",
       "6     0.24  Very Good J     VVS2    62.8  57    336   3.94 3.96 2.48\n",
       "7     0.24  Very Good I     VVS1    62.3  57    336   3.95 3.98 2.47\n",
       "8     0.26  Very Good H     SI1     61.9  55    337   4.07 4.11 2.53\n",
       "9     0.22  Fair      E     VS2     65.1  61    337   3.87 3.78 2.49\n",
       "10    0.23  Very Good H     VS1     59.4  61    338   4.00 4.05 2.39\n",
       "11    0.30  Good      J     SI1     64.0  55    339   4.25 4.28 2.73\n",
       "12    0.23  Ideal     J     VS1     62.8  56    340   3.93 3.90 2.46\n",
       "13    0.22  Premium   F     SI1     60.4  61    342   3.88 3.84 2.33\n",
       "14    0.31  Ideal     J     SI2     62.2  54    344   4.35 4.37 2.71\n",
       "15    0.20  Premium   E     SI2     60.2  62    345   3.79 3.75 2.27\n",
       "16    0.32  Premium   E     I1      60.9  58    345   4.38 4.42 2.68\n",
       "17    0.30  Ideal     I     SI2     62.0  54    348   4.31 4.34 2.68\n",
       "18    0.30  Good      J     SI1     63.4  54    351   4.23 4.29 2.70\n",
       "19    0.30  Good      J     SI1     63.8  56    351   4.23 4.26 2.71\n",
       "20    0.30  Very Good J     SI1     62.7  59    351   4.21 4.27 2.66\n",
       "21    0.30  Good      I     SI2     63.3  56    351   4.26 4.30 2.71\n",
       "22    0.23  Very Good E     VS2     63.8  55    352   3.85 3.92 2.48\n",
       "23    0.23  Very Good H     VS1     61.0  57    353   3.94 3.96 2.41\n",
       "24    0.31  Very Good J     SI1     59.4  62    353   4.39 4.43 2.62\n",
       "25    0.31  Very Good J     SI1     58.1  62    353   4.44 4.47 2.59\n",
       "26    0.23  Very Good G     VVS2    60.4  58    354   3.97 4.01 2.41\n",
       "27    0.24  Premium   I     VS1     62.5  57    355   3.97 3.94 2.47\n",
       "28    0.30  Very Good J     VS2     62.2  57    357   4.28 4.30 2.67\n",
       "29    0.23  Very Good D     VS2     60.5  61    357   3.96 3.97 2.40\n",
       "30    0.23  Very Good F     VS1     60.9  57    357   3.96 3.99 2.42\n",
       "...   ...   ...       ...   ...     ...   ...   ...   ...  ...  ... \n",
       "53911 0.70  Premium   E     SI1     60.5  58    2753  5.74 5.77 3.48\n",
       "53912 0.57  Premium   E     IF      59.8  60    2753  5.43 5.38 3.23\n",
       "53913 0.61  Premium   F     VVS1    61.8  59    2753  5.48 5.40 3.36\n",
       "53914 0.80  Good      G     VS2     64.2  58    2753  5.84 5.81 3.74\n",
       "53915 0.84  Good      I     VS1     63.7  59    2753  5.94 5.90 3.77\n",
       "53916 0.77  Ideal     E     SI2     62.1  56    2753  5.84 5.86 3.63\n",
       "53917 0.74  Good      D     SI1     63.1  59    2753  5.71 5.74 3.61\n",
       "53918 0.90  Very Good J     SI1     63.2  60    2753  6.12 6.09 3.86\n",
       "53919 0.76  Premium   I     VS1     59.3  62    2753  5.93 5.85 3.49\n",
       "53920 0.76  Ideal     I     VVS1    62.2  55    2753  5.89 5.87 3.66\n",
       "53921 0.70  Very Good E     VS2     62.4  60    2755  5.57 5.61 3.49\n",
       "53922 0.70  Very Good E     VS2     62.8  60    2755  5.59 5.65 3.53\n",
       "53923 0.70  Very Good D     VS1     63.1  59    2755  5.67 5.58 3.55\n",
       "53924 0.73  Ideal     I     VS2     61.3  56    2756  5.80 5.84 3.57\n",
       "53925 0.73  Ideal     I     VS2     61.6  55    2756  5.82 5.84 3.59\n",
       "53926 0.79  Ideal     I     SI1     61.6  56    2756  5.95 5.97 3.67\n",
       "53927 0.71  Ideal     E     SI1     61.9  56    2756  5.71 5.73 3.54\n",
       "53928 0.79  Good      F     SI1     58.1  59    2756  6.06 6.13 3.54\n",
       "53929 0.79  Premium   E     SI2     61.4  58    2756  6.03 5.96 3.68\n",
       "53930 0.71  Ideal     G     VS1     61.4  56    2756  5.76 5.73 3.53\n",
       "53931 0.71  Premium   E     SI1     60.5  55    2756  5.79 5.74 3.49\n",
       "53932 0.71  Premium   F     SI1     59.8  62    2756  5.74 5.73 3.43\n",
       "53933 0.70  Very Good E     VS2     60.5  59    2757  5.71 5.76 3.47\n",
       "53934 0.70  Very Good E     VS2     61.2  59    2757  5.69 5.72 3.49\n",
       "53935 0.72  Premium   D     SI1     62.7  59    2757  5.69 5.73 3.58\n",
       "53936 0.72  Ideal     D     SI1     60.8  57    2757  5.75 5.76 3.50\n",
       "53937 0.72  Good      D     SI1     63.1  55    2757  5.69 5.75 3.61\n",
       "53938 0.70  Very Good D     SI1     62.8  60    2757  5.66 5.68 3.56\n",
       "53939 0.86  Premium   H     SI2     61.0  58    2757  6.15 6.12 3.74\n",
       "53940 0.75  Ideal     D     SI2     62.2  55    2757  5.83 5.87 3.64"
      ]
     },
     "metadata": {},
     "output_type": "display_data"
    }
   ],
   "source": [
    "diamonds"
   ]
  },
  {
   "cell_type": "markdown",
   "metadata": {},
   "source": [
    "Notice the dots in the middle. Jupyter is nice enough not to print the whole dataset as there are lot of rows. To get an idea of the dataset we can use the str command:"
   ]
  },
  {
   "cell_type": "code",
   "execution_count": 4,
   "metadata": {},
   "outputs": [
    {
     "name": "stdout",
     "output_type": "stream",
     "text": [
      "Classes 'tbl_df', 'tbl' and 'data.frame':\t53940 obs. of  10 variables:\n",
      " $ carat  : num  0.23 0.21 0.23 0.29 0.31 0.24 0.24 0.26 0.22 0.23 ...\n",
      " $ cut    : Ord.factor w/ 5 levels \"Fair\"<\"Good\"<..: 5 4 2 4 2 3 3 3 1 3 ...\n",
      " $ color  : Ord.factor w/ 7 levels \"D\"<\"E\"<\"F\"<\"G\"<..: 2 2 2 6 7 7 6 5 2 5 ...\n",
      " $ clarity: Ord.factor w/ 8 levels \"I1\"<\"SI2\"<\"SI1\"<..: 2 3 5 4 2 6 7 3 4 5 ...\n",
      " $ depth  : num  61.5 59.8 56.9 62.4 63.3 62.8 62.3 61.9 65.1 59.4 ...\n",
      " $ table  : num  55 61 65 58 58 57 57 55 61 61 ...\n",
      " $ price  : int  326 326 327 334 335 336 336 337 337 338 ...\n",
      " $ x      : num  3.95 3.89 4.05 4.2 4.34 3.94 3.95 4.07 3.87 4 ...\n",
      " $ y      : num  3.98 3.84 4.07 4.23 4.35 3.96 3.98 4.11 3.78 4.05 ...\n",
      " $ z      : num  2.43 2.31 2.31 2.63 2.75 2.48 2.47 2.53 2.49 2.39 ...\n"
     ]
    }
   ],
   "source": [
    "str(diamonds)"
   ]
  },
  {
   "cell_type": "markdown",
   "metadata": {},
   "source": [
    "This command tells us the type of the data in R (that is `‘tbl_df’`, `‘tbl’` and `'data.frame'`). The `'data.frame'` data format is the most important in R and we will use it again and again. The command also tells us that there are 53940 observations (that is 53940 rows) and 10 variables (that is 10 columns)."
   ]
  },
  {
   "cell_type": "markdown",
   "metadata": {},
   "source": [
    "Below the first line we can see the 10 variables. The first are their name (carat, cut, ... etc), the second are there datatype in R (num, Ord.factor, ... etc) followed by a few examples of the varaible values."
   ]
  },
  {
   "cell_type": "markdown",
   "metadata": {},
   "source": [
    "Another way to get an idea of the data is the summary function:"
   ]
  },
  {
   "cell_type": "code",
   "execution_count": 5,
   "metadata": {},
   "outputs": [
    {
     "data": {
      "text/plain": [
       "     carat               cut        color        clarity          depth      \n",
       " Min.   :0.2000   Fair     : 1610   D: 6775   SI1    :13065   Min.   :43.00  \n",
       " 1st Qu.:0.4000   Good     : 4906   E: 9797   VS2    :12258   1st Qu.:61.00  \n",
       " Median :0.7000   Very Good:12082   F: 9542   SI2    : 9194   Median :61.80  \n",
       " Mean   :0.7979   Premium  :13791   G:11292   VS1    : 8171   Mean   :61.75  \n",
       " 3rd Qu.:1.0400   Ideal    :21551   H: 8304   VVS2   : 5066   3rd Qu.:62.50  \n",
       " Max.   :5.0100                     I: 5422   VVS1   : 3655   Max.   :79.00  \n",
       "                                    J: 2808   (Other): 2531                  \n",
       "     table           price             x                y         \n",
       " Min.   :43.00   Min.   :  326   Min.   : 0.000   Min.   : 0.000  \n",
       " 1st Qu.:56.00   1st Qu.:  950   1st Qu.: 4.710   1st Qu.: 4.720  \n",
       " Median :57.00   Median : 2401   Median : 5.700   Median : 5.710  \n",
       " Mean   :57.46   Mean   : 3933   Mean   : 5.731   Mean   : 5.735  \n",
       " 3rd Qu.:59.00   3rd Qu.: 5324   3rd Qu.: 6.540   3rd Qu.: 6.540  \n",
       " Max.   :95.00   Max.   :18823   Max.   :10.740   Max.   :58.900  \n",
       "                                                                  \n",
       "       z         \n",
       " Min.   : 0.000  \n",
       " 1st Qu.: 2.910  \n",
       " Median : 3.530  \n",
       " Mean   : 3.539  \n",
       " 3rd Qu.: 4.040  \n",
       " Max.   :31.800  \n",
       "                 "
      ]
     },
     "metadata": {},
     "output_type": "display_data"
    }
   ],
   "source": [
    "summary(diamonds)"
   ]
  },
  {
   "cell_type": "markdown",
   "metadata": {},
   "source": [
    "For each of the variables it tells us about its ditribution. More on this later in the course"
   ]
  },
  {
   "cell_type": "markdown",
   "metadata": {},
   "source": [
    "We can also plot the dataset. (This might take a while, because there is a lot of data to plot at once. For data of this size, it is a really bad idea to plot it this way, but at least it give us a chance to test the Jupyter Hub:-))"
   ]
  },
  {
   "cell_type": "code",
   "execution_count": 6,
   "metadata": {},
   "outputs": [
    {
     "data": {
      "image/png": "[encoded data removed]",
      "text/plain": [
       "plot without title"
      ]
     },
     "metadata": {},
     "output_type": "display_data"
    }
   ],
   "source": [
    "plot(diamonds)"
   ]
  },
  {
   "cell_type": "markdown",
   "metadata": {},
   "source": [
    "What do you think this plot shows? If you do not know, do not worry, we will talk more about plots of data throughout the course."
   ]
  },
  {
   "cell_type": "markdown",
   "metadata": {},
   "source": [
    "**Exercise:** Try out the \"head\" and \"tail\" command on the diamonds dataset. What does these commands do?"
   ]
  },
  {
   "cell_type": "code",
   "execution_count": null,
   "metadata": {},
   "outputs": [],
   "source": []
  },
  {
   "cell_type": "markdown",
   "metadata": {},
   "source": [
    "**Exercise:** There are other sample datasets in the tidyverse packages. They can be loaded the same way as with the diamond dataset. Load in the *population* dataset. What is the dataset about? How many variables are there in the dataset and how many observations?"
   ]
  },
  {
   "cell_type": "code",
   "execution_count": null,
   "metadata": {},
   "outputs": [],
   "source": []
  },
  {
   "cell_type": "markdown",
   "metadata": {},
   "source": [
    "**Exercise:** Load in the *storms* dataset. What is the dataset about? How many variables are there in the dataset and how many observations?"
   ]
  },
  {
   "cell_type": "code",
   "execution_count": null,
   "metadata": {},
   "outputs": [],
   "source": []
  },
  {
   "cell_type": "code",
   "execution_count": null,
   "metadata": {},
   "outputs": [],
   "source": []
  }
 ],
 "metadata": {
  "kernelspec": {
   "display_name": "R",
   "language": "R",
   "name": "ir"
  },
  "language_info": {
   "codemirror_mode": "r",
   "file_extension": ".r",
   "mimetype": "text/x-r-source",
   "name": "R",
   "pygments_lexer": "r",
   "version": "3.6.1"
  }
 },
 "nbformat": 4,
 "nbformat_minor": 2
}
