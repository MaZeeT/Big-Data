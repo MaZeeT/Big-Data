{
 "cells": [
  {
   "cell_type": "markdown",
   "metadata": {
    "collapsed": true
   },
   "source": [
    "# Piping in R\n",
    "\n",
    "Piping is a way to chain together multiple operations in an easy and very readable way. In R, especially the pipe operator `%>%` is of great convenience.\n",
    "\n",
    "Originally the `%>%` operator comes from the `magrittr` package, but it is also included in the `dplyr` package (and thereby in the `tidyverse` package).\n",
    "\n",
    "So let us load the `tidyverse` package:"
   ]
  },
  {
   "cell_type": "code",
   "execution_count": 1,
   "metadata": {},
   "outputs": [
    {
     "name": "stderr",
     "output_type": "stream",
     "text": [
      "Warning message:\n",
      "\"package 'tidyverse' was built under R version 3.6.3\"-- Attaching packages --------------------------------------- tidyverse 1.3.0 --\n",
      "v ggplot2 3.3.2     v purrr   0.3.4\n",
      "v tibble  3.0.3     v dplyr   1.0.2\n",
      "v tidyr   1.1.2     v stringr 1.4.0\n",
      "v readr   1.3.1     v forcats 0.4.0\n",
      "Warning message:\n",
      "\"package 'ggplot2' was built under R version 3.6.3\"Warning message:\n",
      "\"package 'tibble' was built under R version 3.6.3\"Warning message:\n",
      "\"package 'tidyr' was built under R version 3.6.3\"Warning message:\n",
      "\"package 'purrr' was built under R version 3.6.3\"Warning message:\n",
      "\"package 'dplyr' was built under R version 3.6.3\"-- Conflicts ------------------------------------------ tidyverse_conflicts() --\n",
      "x dplyr::filter() masks stats::filter()\n",
      "x dplyr::lag()    masks stats::lag()\n"
     ]
    }
   ],
   "source": [
    "library(tidyverse)"
   ]
  },
  {
   "cell_type": "markdown",
   "metadata": {},
   "source": [
    "To get started let us get some sample data to work with. Let us use the Marketing example data from chapter 3 of the book \"Introduction to R for Business Intelligence\" by Jay Gendron. Here is how to load that into R:"
   ]
  },
  {
   "cell_type": "code",
   "execution_count": 2,
   "metadata": {},
   "outputs": [],
   "source": [
    "marketingData <- read.csv(\"https://raw.githubusercontent.com/jgendron/com.packtpub.intro.r.bi/master/Chapter3-ExploratoryDataAnalysis/data/Ch3_marketing.csv\")"
   ]
  },
  {
   "cell_type": "code",
   "execution_count": 3,
   "metadata": {},
   "outputs": [
    {
     "data": {
      "text/html": [
       "<table>\n",
       "<thead><tr><th scope=col>google_adwords</th><th scope=col>facebook</th><th scope=col>twitter</th><th scope=col>marketing_total</th><th scope=col>revenues</th><th scope=col>employees</th><th scope=col>pop_density</th></tr></thead>\n",
       "<tbody>\n",
       "\t<tr><td> 65.66</td><td>47.86 </td><td>52.46 </td><td>165.98</td><td>39.26 </td><td> 5    </td><td>High  </td></tr>\n",
       "\t<tr><td> 39.10</td><td>55.20 </td><td>77.40 </td><td>171.70</td><td>38.90 </td><td> 7    </td><td>Medium</td></tr>\n",
       "\t<tr><td>174.81</td><td>52.01 </td><td>68.01 </td><td>294.83</td><td>49.51 </td><td>11    </td><td>Medium</td></tr>\n",
       "\t<tr><td> 34.36</td><td>61.96 </td><td>86.86 </td><td>183.18</td><td>40.56 </td><td> 7    </td><td>High  </td></tr>\n",
       "\t<tr><td> 78.21</td><td>40.91 </td><td>30.41 </td><td>149.53</td><td>40.21 </td><td> 9    </td><td>Low   </td></tr>\n",
       "\t<tr><td> 34.19</td><td>15.09 </td><td>12.79 </td><td> 62.07</td><td>38.09 </td><td> 3    </td><td>High  </td></tr>\n",
       "</tbody>\n",
       "</table>\n"
      ],
      "text/latex": [
       "\\begin{tabular}{r|lllllll}\n",
       " google\\_adwords & facebook & twitter & marketing\\_total & revenues & employees & pop\\_density\\\\\n",
       "\\hline\n",
       "\t  65.66 & 47.86  & 52.46  & 165.98 & 39.26  &  5     & High  \\\\\n",
       "\t  39.10 & 55.20  & 77.40  & 171.70 & 38.90  &  7     & Medium\\\\\n",
       "\t 174.81 & 52.01  & 68.01  & 294.83 & 49.51  & 11     & Medium\\\\\n",
       "\t  34.36 & 61.96  & 86.86  & 183.18 & 40.56  &  7     & High  \\\\\n",
       "\t  78.21 & 40.91  & 30.41  & 149.53 & 40.21  &  9     & Low   \\\\\n",
       "\t  34.19 & 15.09  & 12.79  &  62.07 & 38.09  &  3     & High  \\\\\n",
       "\\end{tabular}\n"
      ],
      "text/markdown": [
       "\n",
       "| google_adwords | facebook | twitter | marketing_total | revenues | employees | pop_density |\n",
       "|---|---|---|---|---|---|---|\n",
       "|  65.66 | 47.86  | 52.46  | 165.98 | 39.26  |  5     | High   |\n",
       "|  39.10 | 55.20  | 77.40  | 171.70 | 38.90  |  7     | Medium |\n",
       "| 174.81 | 52.01  | 68.01  | 294.83 | 49.51  | 11     | Medium |\n",
       "|  34.36 | 61.96  | 86.86  | 183.18 | 40.56  |  7     | High   |\n",
       "|  78.21 | 40.91  | 30.41  | 149.53 | 40.21  |  9     | Low    |\n",
       "|  34.19 | 15.09  | 12.79  |  62.07 | 38.09  |  3     | High   |\n",
       "\n"
      ],
      "text/plain": [
       "  google_adwords facebook twitter marketing_total revenues employees\n",
       "1  65.66         47.86    52.46   165.98          39.26     5       \n",
       "2  39.10         55.20    77.40   171.70          38.90     7       \n",
       "3 174.81         52.01    68.01   294.83          49.51    11       \n",
       "4  34.36         61.96    86.86   183.18          40.56     7       \n",
       "5  78.21         40.91    30.41   149.53          40.21     9       \n",
       "6  34.19         15.09    12.79    62.07          38.09     3       \n",
       "  pop_density\n",
       "1 High       \n",
       "2 Medium     \n",
       "3 Medium     \n",
       "4 High       \n",
       "5 Low        \n",
       "6 High       "
      ]
     },
     "metadata": {},
     "output_type": "display_data"
    }
   ],
   "source": [
    "head(marketingData)"
   ]
  },
  {
   "cell_type": "markdown",
   "metadata": {},
   "source": [
    "Assume we want to subset the data on `pop_density` being `High`, then group by `employees`, then calculate the mean of the `marketing_total` for each of these groups. This can be done in the following two ways, for instance:"
   ]
  },
  {
   "cell_type": "code",
   "execution_count": 4,
   "metadata": {},
   "outputs": [
    {
     "data": {
      "text/html": [
       "<table>\n",
       "<thead><tr><th scope=col>employees</th><th scope=col>marketing_total</th></tr></thead>\n",
       "<tbody>\n",
       "\t<tr><td> 3      </td><td> 94.5100</td></tr>\n",
       "\t<tr><td> 4      </td><td>105.6700</td></tr>\n",
       "\t<tr><td> 5      </td><td>148.4650</td></tr>\n",
       "\t<tr><td> 6      </td><td>198.8944</td></tr>\n",
       "\t<tr><td> 7      </td><td>174.5425</td></tr>\n",
       "\t<tr><td> 8      </td><td>233.5122</td></tr>\n",
       "\t<tr><td> 9      </td><td>299.8514</td></tr>\n",
       "\t<tr><td>10      </td><td>278.4633</td></tr>\n",
       "\t<tr><td>12      </td><td>360.5940</td></tr>\n",
       "</tbody>\n",
       "</table>\n"
      ],
      "text/latex": [
       "\\begin{tabular}{r|ll}\n",
       " employees & marketing\\_total\\\\\n",
       "\\hline\n",
       "\t  3       &  94.5100\\\\\n",
       "\t  4       & 105.6700\\\\\n",
       "\t  5       & 148.4650\\\\\n",
       "\t  6       & 198.8944\\\\\n",
       "\t  7       & 174.5425\\\\\n",
       "\t  8       & 233.5122\\\\\n",
       "\t  9       & 299.8514\\\\\n",
       "\t 10       & 278.4633\\\\\n",
       "\t 12       & 360.5940\\\\\n",
       "\\end{tabular}\n"
      ],
      "text/markdown": [
       "\n",
       "| employees | marketing_total |\n",
       "|---|---|\n",
       "|  3       |  94.5100 |\n",
       "|  4       | 105.6700 |\n",
       "|  5       | 148.4650 |\n",
       "|  6       | 198.8944 |\n",
       "|  7       | 174.5425 |\n",
       "|  8       | 233.5122 |\n",
       "|  9       | 299.8514 |\n",
       "| 10       | 278.4633 |\n",
       "| 12       | 360.5940 |\n",
       "\n"
      ],
      "text/plain": [
       "  employees marketing_total\n",
       "1  3         94.5100       \n",
       "2  4        105.6700       \n",
       "3  5        148.4650       \n",
       "4  6        198.8944       \n",
       "5  7        174.5425       \n",
       "6  8        233.5122       \n",
       "7  9        299.8514       \n",
       "8 10        278.4633       \n",
       "9 12        360.5940       "
      ]
     },
     "metadata": {},
     "output_type": "display_data"
    }
   ],
   "source": [
    "newData <- filter(marketingData, pop_density == \"High\")\n",
    "newData2 <- group_by(newData, employees)\n",
    "newData3 <- select(newData2, employees, marketing_total)\n",
    "newData4 <- summarise_all(newData3, mean)\n",
    "newData4 "
   ]
  },
  {
   "cell_type": "code",
   "execution_count": 5,
   "metadata": {},
   "outputs": [
    {
     "data": {
      "text/html": [
       "<table>\n",
       "<thead><tr><th scope=col>employees</th><th scope=col>marketing_total</th></tr></thead>\n",
       "<tbody>\n",
       "\t<tr><td> 3      </td><td> 94.5100</td></tr>\n",
       "\t<tr><td> 4      </td><td>105.6700</td></tr>\n",
       "\t<tr><td> 5      </td><td>148.4650</td></tr>\n",
       "\t<tr><td> 6      </td><td>198.8944</td></tr>\n",
       "\t<tr><td> 7      </td><td>174.5425</td></tr>\n",
       "\t<tr><td> 8      </td><td>233.5122</td></tr>\n",
       "\t<tr><td> 9      </td><td>299.8514</td></tr>\n",
       "\t<tr><td>10      </td><td>278.4633</td></tr>\n",
       "\t<tr><td>12      </td><td>360.5940</td></tr>\n",
       "</tbody>\n",
       "</table>\n"
      ],
      "text/latex": [
       "\\begin{tabular}{r|ll}\n",
       " employees & marketing\\_total\\\\\n",
       "\\hline\n",
       "\t  3       &  94.5100\\\\\n",
       "\t  4       & 105.6700\\\\\n",
       "\t  5       & 148.4650\\\\\n",
       "\t  6       & 198.8944\\\\\n",
       "\t  7       & 174.5425\\\\\n",
       "\t  8       & 233.5122\\\\\n",
       "\t  9       & 299.8514\\\\\n",
       "\t 10       & 278.4633\\\\\n",
       "\t 12       & 360.5940\\\\\n",
       "\\end{tabular}\n"
      ],
      "text/markdown": [
       "\n",
       "| employees | marketing_total |\n",
       "|---|---|\n",
       "|  3       |  94.5100 |\n",
       "|  4       | 105.6700 |\n",
       "|  5       | 148.4650 |\n",
       "|  6       | 198.8944 |\n",
       "|  7       | 174.5425 |\n",
       "|  8       | 233.5122 |\n",
       "|  9       | 299.8514 |\n",
       "| 10       | 278.4633 |\n",
       "| 12       | 360.5940 |\n",
       "\n"
      ],
      "text/plain": [
       "  employees marketing_total\n",
       "1  3         94.5100       \n",
       "2  4        105.6700       \n",
       "3  5        148.4650       \n",
       "4  6        198.8944       \n",
       "5  7        174.5425       \n",
       "6  8        233.5122       \n",
       "7  9        299.8514       \n",
       "8 10        278.4633       \n",
       "9 12        360.5940       "
      ]
     },
     "metadata": {},
     "output_type": "display_data"
    }
   ],
   "source": [
    "summarise_all(select(group_by(filter(marketingData, pop_density == \"High\"), employees), employees, marketing_total), mean)"
   ]
  },
  {
   "cell_type": "markdown",
   "metadata": {},
   "source": [
    "The two pieces of code do the same thing and illustrate two different ways we can execute several subsequent operations on some data. The operations are first to filter on the row for which `pop_density` is `High`, then grouping by the `employees` variable, then selecting the columns `marketing_total` and `employees`, and then summarizing all variables by the mean.\n",
    "\n",
    "In the first bit of code we assign the output of each operation to a new variable (called `newData`). Then we use this new variable as input in the next operation (grouping by the variable `employees`). We keep doing this for as many operations we want to execute.\n",
    "\n",
    "In the second bit of code we just skipped all the intermediate assignments by just putting the calls of the operations inside each other with the latest being the outer most (furthest to the left). This is clearly less code, but it is also much harder to read and understand what is going on.\n",
    "\n",
    "Can we make a piece of code that is simpler than the first one, but is still readable? Then answer is \"yes, with the pipe operator `%>%`\"! We can simply do:"
   ]
  },
  {
   "cell_type": "code",
   "execution_count": 6,
   "metadata": {},
   "outputs": [],
   "source": [
    "data <- marketingData %>%\n",
    "    filter(pop_density == \"High\") %>%\n",
    "    group_by(employees) %>%\n",
    "    select(employees, marketing_total) %>%\n",
    "    summarise_all(mean)"
   ]
  },
  {
   "cell_type": "code",
   "execution_count": 7,
   "metadata": {},
   "outputs": [
    {
     "data": {
      "text/html": [
       "<table>\n",
       "<thead><tr><th scope=col>employees</th><th scope=col>marketing_total</th></tr></thead>\n",
       "<tbody>\n",
       "\t<tr><td> 3      </td><td> 94.5100</td></tr>\n",
       "\t<tr><td> 4      </td><td>105.6700</td></tr>\n",
       "\t<tr><td> 5      </td><td>148.4650</td></tr>\n",
       "\t<tr><td> 6      </td><td>198.8944</td></tr>\n",
       "\t<tr><td> 7      </td><td>174.5425</td></tr>\n",
       "\t<tr><td> 8      </td><td>233.5122</td></tr>\n",
       "\t<tr><td> 9      </td><td>299.8514</td></tr>\n",
       "\t<tr><td>10      </td><td>278.4633</td></tr>\n",
       "\t<tr><td>12      </td><td>360.5940</td></tr>\n",
       "</tbody>\n",
       "</table>\n"
      ],
      "text/latex": [
       "\\begin{tabular}{r|ll}\n",
       " employees & marketing\\_total\\\\\n",
       "\\hline\n",
       "\t  3       &  94.5100\\\\\n",
       "\t  4       & 105.6700\\\\\n",
       "\t  5       & 148.4650\\\\\n",
       "\t  6       & 198.8944\\\\\n",
       "\t  7       & 174.5425\\\\\n",
       "\t  8       & 233.5122\\\\\n",
       "\t  9       & 299.8514\\\\\n",
       "\t 10       & 278.4633\\\\\n",
       "\t 12       & 360.5940\\\\\n",
       "\\end{tabular}\n"
      ],
      "text/markdown": [
       "\n",
       "| employees | marketing_total |\n",
       "|---|---|\n",
       "|  3       |  94.5100 |\n",
       "|  4       | 105.6700 |\n",
       "|  5       | 148.4650 |\n",
       "|  6       | 198.8944 |\n",
       "|  7       | 174.5425 |\n",
       "|  8       | 233.5122 |\n",
       "|  9       | 299.8514 |\n",
       "| 10       | 278.4633 |\n",
       "| 12       | 360.5940 |\n",
       "\n"
      ],
      "text/plain": [
       "  employees marketing_total\n",
       "1  3         94.5100       \n",
       "2  4        105.6700       \n",
       "3  5        148.4650       \n",
       "4  6        198.8944       \n",
       "5  7        174.5425       \n",
       "6  8        233.5122       \n",
       "7  9        299.8514       \n",
       "8 10        278.4633       \n",
       "9 12        360.5940       "
      ]
     },
     "metadata": {},
     "output_type": "display_data"
    }
   ],
   "source": [
    "data"
   ]
  },
  {
   "cell_type": "markdown",
   "metadata": {},
   "source": [
    "A few things are worth noticing about this later piece of code. First of all the multiple lines are for increased readability, we could have put it on one line. (For it to work, however, it needs to be the pipe `%>%` that ends the line.)\n",
    "\n",
    "Secondly, notice how, compared to the first code examples, we have completely left out the **first** argument in the call to the functions `filter`, `group_by`, `select`, and `summarise_all`. What the pipe operator does is, it takes the output of the operation on the left and put it in as the **first** argument to the next operation. That is, the output of the operation `filter(pop_density == \"High\")` is used as first input to the next `group_by` operation. Formally, **an expression of the form `function(argument1, argument2)` can be rewritten as `argument1 %>% function(argument2)`**. In itself, this rewriting does not change much, but when multiple function calls are chained together, it helps a lot.\n",
    "\n",
    "Finally, look how easy it is to read, as each line represent one operation applied to the output of the operation on the line above."
   ]
  },
  {
   "cell_type": "markdown",
   "metadata": {},
   "source": [
    "### *Exercise*\n",
    "\n",
    "Use the `%>%` operator on the `marketingData` to group it by the `pop_density` variable and then summarise `revenues` by adding it together wih `sum`."
   ]
  },
  {
   "cell_type": "code",
   "execution_count": 11,
   "metadata": {},
   "outputs": [
    {
     "data": {
      "text/html": [
       "<table>\n",
       "<thead><tr><th scope=col>pop_density</th><th scope=col>google_adwords</th><th scope=col>facebook</th><th scope=col>twitter</th><th scope=col>marketing_total</th><th scope=col>revenues</th><th scope=col>employees</th></tr></thead>\n",
       "<tbody>\n",
       "\t<tr><td>High    </td><td> 8394.34</td><td>1838.34 </td><td>2055.04 </td><td>12287.72</td><td>2333.64 </td><td>415     </td></tr>\n",
       "\t<tr><td>Low     </td><td>11523.32</td><td>2162.42 </td><td>2545.92 </td><td>16231.66</td><td>2992.92 </td><td>512     </td></tr>\n",
       "\t<tr><td>Medium  </td><td> 9299.72</td><td>1824.82 </td><td>2104.02 </td><td>13228.56</td><td>2346.52 </td><td>426     </td></tr>\n",
       "</tbody>\n",
       "</table>\n"
      ],
      "text/latex": [
       "\\begin{tabular}{r|lllllll}\n",
       " pop\\_density & google\\_adwords & facebook & twitter & marketing\\_total & revenues & employees\\\\\n",
       "\\hline\n",
       "\t High     &  8394.34 & 1838.34  & 2055.04  & 12287.72 & 2333.64  & 415     \\\\\n",
       "\t Low      & 11523.32 & 2162.42  & 2545.92  & 16231.66 & 2992.92  & 512     \\\\\n",
       "\t Medium   &  9299.72 & 1824.82  & 2104.02  & 13228.56 & 2346.52  & 426     \\\\\n",
       "\\end{tabular}\n"
      ],
      "text/markdown": [
       "\n",
       "| pop_density | google_adwords | facebook | twitter | marketing_total | revenues | employees |\n",
       "|---|---|---|---|---|---|---|\n",
       "| High     |  8394.34 | 1838.34  | 2055.04  | 12287.72 | 2333.64  | 415      |\n",
       "| Low      | 11523.32 | 2162.42  | 2545.92  | 16231.66 | 2992.92  | 512      |\n",
       "| Medium   |  9299.72 | 1824.82  | 2104.02  | 13228.56 | 2346.52  | 426      |\n",
       "\n"
      ],
      "text/plain": [
       "  pop_density google_adwords facebook twitter marketing_total revenues\n",
       "1 High         8394.34       1838.34  2055.04 12287.72        2333.64 \n",
       "2 Low         11523.32       2162.42  2545.92 16231.66        2992.92 \n",
       "3 Medium       9299.72       1824.82  2104.02 13228.56        2346.52 \n",
       "  employees\n",
       "1 415      \n",
       "2 512      \n",
       "3 426      "
      ]
     },
     "metadata": {},
     "output_type": "display_data"
    }
   ],
   "source": [
    "data <- marketingData %>%\n",
    "    group_by(pop_density) %>%\n",
    "    summarise_all(sum) \n",
    "data"
   ]
  },
  {
   "cell_type": "markdown",
   "metadata": {},
   "source": [
    "### *Exercise*\n",
    "\n",
    "Go back to the notebook `2.1 ETL example and exercise notebook.ipynb` and the exercises therein. Try and do them with the pipe operator now."
   ]
  },
  {
   "cell_type": "markdown",
   "metadata": {},
   "source": [
    "For more on `%>%` and piping in R in general, see the following blog on DataCamp: https://www.datacamp.com/community/tutorials/pipe-r-tutorial"
   ]
  }
 ],
 "metadata": {
  "kernelspec": {
   "display_name": "R",
   "language": "R",
   "name": "ir"
  },
  "language_info": {
   "codemirror_mode": "r",
   "file_extension": ".r",
   "mimetype": "text/x-r-source",
   "name": "R",
   "pygments_lexer": "r",
   "version": "3.6.1"
  }
 },
 "nbformat": 4,
 "nbformat_minor": 2
}
