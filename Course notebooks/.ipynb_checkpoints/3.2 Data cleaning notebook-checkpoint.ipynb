{
 "cells": [
  {
   "cell_type": "markdown",
   "metadata": {
    "collapsed": true
   },
   "source": [
    "# Data cleaning notebook\n",
    "\n",
    "This notebook contains the examples from chapter 2 of the book. Let us start by reading in the data into a data frame named `bike`."
   ]
  },
  {
   "cell_type": "code",
   "execution_count": 19,
   "metadata": {},
   "outputs": [
    {
     "name": "stdout",
     "output_type": "stream",
     "text": [
      "package 'DataCombine' successfully unpacked and MD5 sums checked\n",
      "\n",
      "The downloaded binary packages are in\n",
      "\tC:\\Users\\MaZeeT\\AppData\\Local\\Temp\\RtmpWoYar5\\downloaded_packages\n"
     ]
    }
   ],
   "source": [
    "#install.packages(\"tidyverse\")\n",
    "#install.packages(\"DataCombine\")"
   ]
  },
  {
   "cell_type": "code",
   "execution_count": 2,
   "metadata": {},
   "outputs": [],
   "source": [
    "bike <- read.csv(\"https://raw.githubusercontent.com/jgendron/com.packtpub.intro.r.bi/master/Chapter2-DataCleaning/data/Ch2_raw_bikeshare_data.csv\", stringsAsFactors = FALSE)"
   ]
  },
  {
   "cell_type": "markdown",
   "metadata": {},
   "source": [
    "## 1 Summarizing your data for inspection\n",
    "\n",
    "We will start by looking a bit at the data"
   ]
  },
  {
   "cell_type": "code",
   "execution_count": 3,
   "metadata": {},
   "outputs": [
    {
     "name": "stdout",
     "output_type": "stream",
     "text": [
      "'data.frame':\t17379 obs. of  13 variables:\n",
      " $ datetime  : chr  \"1/1/2011 0:00\" \"1/1/2011 1:00\" \"1/1/2011 2:00\" \"1/1/2011 3:00\" ...\n",
      " $ season    : int  1 1 1 1 1 1 1 1 1 1 ...\n",
      " $ holiday   : int  0 0 0 0 0 0 0 0 0 0 ...\n",
      " $ workingday: int  0 0 0 0 0 0 0 0 0 0 ...\n",
      " $ weather   : int  1 1 1 1 1 2 1 1 1 1 ...\n",
      " $ temp      : num  9.84 9.02 9.02 9.84 9.84 ...\n",
      " $ atemp     : num  14.4 13.6 13.6 14.4 14.4 ...\n",
      " $ humidity  : chr  \"81\" \"80\" \"80\" \"75\" ...\n",
      " $ windspeed : num  0 0 0 0 0 ...\n",
      " $ casual    : int  3 8 5 3 0 0 2 1 1 8 ...\n",
      " $ registered: int  13 32 27 10 1 1 0 2 7 6 ...\n",
      " $ count     : int  16 40 32 13 1 1 2 3 8 14 ...\n",
      " $ sources   : chr  \"ad campaign\" \"www.yahoo.com\" \"www.google.fi\" \"AD campaign\" ...\n"
     ]
    }
   ],
   "source": [
    "str(bike)"
   ]
  },
  {
   "cell_type": "markdown",
   "metadata": {},
   "source": [
    "Clear problems that we can note already are that the `datetime` column is in characters and not a proper date-time format in R. Moreover, the `humidity` variable is also character, while it looks like it should be numeric or integer."
   ]
  },
  {
   "cell_type": "code",
   "execution_count": 4,
   "metadata": {},
   "outputs": [
    {
     "data": {
      "text/html": [
       "<ol class=list-inline>\n",
       "\t<li>17379</li>\n",
       "\t<li>13</li>\n",
       "</ol>\n"
      ],
      "text/latex": [
       "\\begin{enumerate*}\n",
       "\\item 17379\n",
       "\\item 13\n",
       "\\end{enumerate*}\n"
      ],
      "text/markdown": [
       "1. 17379\n",
       "2. 13\n",
       "\n",
       "\n"
      ],
      "text/plain": [
       "[1] 17379    13"
      ]
     },
     "metadata": {},
     "output_type": "display_data"
    },
    {
     "data": {
      "text/html": [
       "<table>\n",
       "<thead><tr><th scope=col>datetime</th><th scope=col>season</th><th scope=col>holiday</th><th scope=col>workingday</th><th scope=col>weather</th><th scope=col>temp</th><th scope=col>atemp</th><th scope=col>humidity</th><th scope=col>windspeed</th><th scope=col>casual</th><th scope=col>registered</th><th scope=col>count</th><th scope=col>sources</th></tr></thead>\n",
       "<tbody>\n",
       "\t<tr><td>1/1/2011 0:00</td><td>1            </td><td>0            </td><td>0            </td><td>1            </td><td>9.84         </td><td>14.395       </td><td>81           </td><td>0.0000       </td><td>3            </td><td>13           </td><td>16           </td><td>ad campaign  </td></tr>\n",
       "\t<tr><td>1/1/2011 1:00</td><td>1            </td><td>0            </td><td>0            </td><td>1            </td><td>9.02         </td><td>13.635       </td><td>80           </td><td>0.0000       </td><td>8            </td><td>32           </td><td>40           </td><td>www.yahoo.com</td></tr>\n",
       "\t<tr><td>1/1/2011 2:00</td><td>1            </td><td>0            </td><td>0            </td><td>1            </td><td>9.02         </td><td>13.635       </td><td>80           </td><td>0.0000       </td><td>5            </td><td>27           </td><td>32           </td><td>www.google.fi</td></tr>\n",
       "\t<tr><td>1/1/2011 3:00</td><td>1            </td><td>0            </td><td>0            </td><td>1            </td><td>9.84         </td><td>14.395       </td><td>75           </td><td>0.0000       </td><td>3            </td><td>10           </td><td>13           </td><td>AD campaign  </td></tr>\n",
       "\t<tr><td>1/1/2011 4:00</td><td>1            </td><td>0            </td><td>0            </td><td>1            </td><td>9.84         </td><td>14.395       </td><td>75           </td><td>0.0000       </td><td>0            </td><td> 1           </td><td> 1           </td><td>Twitter      </td></tr>\n",
       "\t<tr><td>1/1/2011 5:00</td><td>1            </td><td>0            </td><td>0            </td><td>2            </td><td>9.84         </td><td>12.880       </td><td>75           </td><td>6.0032       </td><td>0            </td><td> 1           </td><td> 1           </td><td>www.bing.com </td></tr>\n",
       "</tbody>\n",
       "</table>\n"
      ],
      "text/latex": [
       "\\begin{tabular}{r|lllllllllllll}\n",
       " datetime & season & holiday & workingday & weather & temp & atemp & humidity & windspeed & casual & registered & count & sources\\\\\n",
       "\\hline\n",
       "\t 1/1/2011 0:00 & 1             & 0             & 0             & 1             & 9.84          & 14.395        & 81            & 0.0000        & 3             & 13            & 16            & ad campaign  \\\\\n",
       "\t 1/1/2011 1:00 & 1             & 0             & 0             & 1             & 9.02          & 13.635        & 80            & 0.0000        & 8             & 32            & 40            & www.yahoo.com\\\\\n",
       "\t 1/1/2011 2:00 & 1             & 0             & 0             & 1             & 9.02          & 13.635        & 80            & 0.0000        & 5             & 27            & 32            & www.google.fi\\\\\n",
       "\t 1/1/2011 3:00 & 1             & 0             & 0             & 1             & 9.84          & 14.395        & 75            & 0.0000        & 3             & 10            & 13            & AD campaign  \\\\\n",
       "\t 1/1/2011 4:00 & 1             & 0             & 0             & 1             & 9.84          & 14.395        & 75            & 0.0000        & 0             &  1            &  1            & Twitter      \\\\\n",
       "\t 1/1/2011 5:00 & 1             & 0             & 0             & 2             & 9.84          & 12.880        & 75            & 6.0032        & 0             &  1            &  1            & www.bing.com \\\\\n",
       "\\end{tabular}\n"
      ],
      "text/markdown": [
       "\n",
       "| datetime | season | holiday | workingday | weather | temp | atemp | humidity | windspeed | casual | registered | count | sources |\n",
       "|---|---|---|---|---|---|---|---|---|---|---|---|---|\n",
       "| 1/1/2011 0:00 | 1             | 0             | 0             | 1             | 9.84          | 14.395        | 81            | 0.0000        | 3             | 13            | 16            | ad campaign   |\n",
       "| 1/1/2011 1:00 | 1             | 0             | 0             | 1             | 9.02          | 13.635        | 80            | 0.0000        | 8             | 32            | 40            | www.yahoo.com |\n",
       "| 1/1/2011 2:00 | 1             | 0             | 0             | 1             | 9.02          | 13.635        | 80            | 0.0000        | 5             | 27            | 32            | www.google.fi |\n",
       "| 1/1/2011 3:00 | 1             | 0             | 0             | 1             | 9.84          | 14.395        | 75            | 0.0000        | 3             | 10            | 13            | AD campaign   |\n",
       "| 1/1/2011 4:00 | 1             | 0             | 0             | 1             | 9.84          | 14.395        | 75            | 0.0000        | 0             |  1            |  1            | Twitter       |\n",
       "| 1/1/2011 5:00 | 1             | 0             | 0             | 2             | 9.84          | 12.880        | 75            | 6.0032        | 0             |  1            |  1            | www.bing.com  |\n",
       "\n"
      ],
      "text/plain": [
       "  datetime      season holiday workingday weather temp atemp  humidity\n",
       "1 1/1/2011 0:00 1      0       0          1       9.84 14.395 81      \n",
       "2 1/1/2011 1:00 1      0       0          1       9.02 13.635 80      \n",
       "3 1/1/2011 2:00 1      0       0          1       9.02 13.635 80      \n",
       "4 1/1/2011 3:00 1      0       0          1       9.84 14.395 75      \n",
       "5 1/1/2011 4:00 1      0       0          1       9.84 14.395 75      \n",
       "6 1/1/2011 5:00 1      0       0          2       9.84 12.880 75      \n",
       "  windspeed casual registered count sources      \n",
       "1 0.0000    3      13         16    ad campaign  \n",
       "2 0.0000    8      32         40    www.yahoo.com\n",
       "3 0.0000    5      27         32    www.google.fi\n",
       "4 0.0000    3      10         13    AD campaign  \n",
       "5 0.0000    0       1          1    Twitter      \n",
       "6 6.0032    0       1          1    www.bing.com "
      ]
     },
     "metadata": {},
     "output_type": "display_data"
    },
    {
     "data": {
      "text/html": [
       "<table>\n",
       "<thead><tr><th></th><th scope=col>datetime</th><th scope=col>season</th><th scope=col>holiday</th><th scope=col>workingday</th><th scope=col>weather</th><th scope=col>temp</th><th scope=col>atemp</th><th scope=col>humidity</th><th scope=col>windspeed</th><th scope=col>casual</th><th scope=col>registered</th><th scope=col>count</th><th scope=col>sources</th></tr></thead>\n",
       "<tbody>\n",
       "\t<tr><th scope=row>17374</th><td>12/31/2012 18:00</td><td>1               </td><td>0               </td><td>1               </td><td>2               </td><td>10.66           </td><td>13.635          </td><td>48              </td><td> 8.9981         </td><td>10              </td><td>326             </td><td>336             </td><td>facebook page   </td></tr>\n",
       "\t<tr><th scope=row>17375</th><td>12/31/2012 19:00</td><td>1               </td><td>0               </td><td>1               </td><td>2               </td><td>10.66           </td><td>12.880          </td><td>60              </td><td>11.0014         </td><td> 5              </td><td>206             </td><td>211             </td><td>NA              </td></tr>\n",
       "\t<tr><th scope=row>17376</th><td>12/31/2012 20:00</td><td>1               </td><td>0               </td><td>1               </td><td>2               </td><td>10.66           </td><td>12.880          </td><td>60              </td><td>11.0014         </td><td> 4              </td><td>140             </td><td>144             </td><td>AD campaign     </td></tr>\n",
       "\t<tr><th scope=row>17377</th><td>12/31/2012 21:00</td><td>1               </td><td>0               </td><td>1               </td><td>1               </td><td>10.66           </td><td>12.880          </td><td>60              </td><td>11.0014         </td><td> 3              </td><td> 96             </td><td> 99             </td><td>AD campaign     </td></tr>\n",
       "\t<tr><th scope=row>17378</th><td>12/31/2012 22:00</td><td>1               </td><td>0               </td><td>1               </td><td>1               </td><td>10.66           </td><td>13.635          </td><td>56              </td><td> 8.9981         </td><td> 4              </td><td> 90             </td><td> 94             </td><td>ad campaign     </td></tr>\n",
       "\t<tr><th scope=row>17379</th><td>12/31/2012 23:00</td><td>1               </td><td>0               </td><td>1               </td><td>1               </td><td>10.66           </td><td>13.635          </td><td>65              </td><td> 8.9981         </td><td> 3              </td><td> 50             </td><td> 53             </td><td>direct          </td></tr>\n",
       "</tbody>\n",
       "</table>\n"
      ],
      "text/latex": [
       "\\begin{tabular}{r|lllllllllllll}\n",
       "  & datetime & season & holiday & workingday & weather & temp & atemp & humidity & windspeed & casual & registered & count & sources\\\\\n",
       "\\hline\n",
       "\t17374 & 12/31/2012 18:00 & 1                & 0                & 1                & 2                & 10.66            & 13.635           & 48               &  8.9981          & 10               & 326              & 336              & facebook page   \\\\\n",
       "\t17375 & 12/31/2012 19:00 & 1                & 0                & 1                & 2                & 10.66            & 12.880           & 60               & 11.0014          &  5               & 206              & 211              & NA              \\\\\n",
       "\t17376 & 12/31/2012 20:00 & 1                & 0                & 1                & 2                & 10.66            & 12.880           & 60               & 11.0014          &  4               & 140              & 144              & AD campaign     \\\\\n",
       "\t17377 & 12/31/2012 21:00 & 1                & 0                & 1                & 1                & 10.66            & 12.880           & 60               & 11.0014          &  3               &  96              &  99              & AD campaign     \\\\\n",
       "\t17378 & 12/31/2012 22:00 & 1                & 0                & 1                & 1                & 10.66            & 13.635           & 56               &  8.9981          &  4               &  90              &  94              & ad campaign     \\\\\n",
       "\t17379 & 12/31/2012 23:00 & 1                & 0                & 1                & 1                & 10.66            & 13.635           & 65               &  8.9981          &  3               &  50              &  53              & direct          \\\\\n",
       "\\end{tabular}\n"
      ],
      "text/markdown": [
       "\n",
       "| <!--/--> | datetime | season | holiday | workingday | weather | temp | atemp | humidity | windspeed | casual | registered | count | sources |\n",
       "|---|---|---|---|---|---|---|---|---|---|---|---|---|---|\n",
       "| 17374 | 12/31/2012 18:00 | 1                | 0                | 1                | 2                | 10.66            | 13.635           | 48               |  8.9981          | 10               | 326              | 336              | facebook page    |\n",
       "| 17375 | 12/31/2012 19:00 | 1                | 0                | 1                | 2                | 10.66            | 12.880           | 60               | 11.0014          |  5               | 206              | 211              | NA               |\n",
       "| 17376 | 12/31/2012 20:00 | 1                | 0                | 1                | 2                | 10.66            | 12.880           | 60               | 11.0014          |  4               | 140              | 144              | AD campaign      |\n",
       "| 17377 | 12/31/2012 21:00 | 1                | 0                | 1                | 1                | 10.66            | 12.880           | 60               | 11.0014          |  3               |  96              |  99              | AD campaign      |\n",
       "| 17378 | 12/31/2012 22:00 | 1                | 0                | 1                | 1                | 10.66            | 13.635           | 56               |  8.9981          |  4               |  90              |  94              | ad campaign      |\n",
       "| 17379 | 12/31/2012 23:00 | 1                | 0                | 1                | 1                | 10.66            | 13.635           | 65               |  8.9981          |  3               |  50              |  53              | direct           |\n",
       "\n"
      ],
      "text/plain": [
       "      datetime         season holiday workingday weather temp  atemp  humidity\n",
       "17374 12/31/2012 18:00 1      0       1          2       10.66 13.635 48      \n",
       "17375 12/31/2012 19:00 1      0       1          2       10.66 12.880 60      \n",
       "17376 12/31/2012 20:00 1      0       1          2       10.66 12.880 60      \n",
       "17377 12/31/2012 21:00 1      0       1          1       10.66 12.880 60      \n",
       "17378 12/31/2012 22:00 1      0       1          1       10.66 13.635 56      \n",
       "17379 12/31/2012 23:00 1      0       1          1       10.66 13.635 65      \n",
       "      windspeed casual registered count sources      \n",
       "17374  8.9981   10     326        336   facebook page\n",
       "17375 11.0014    5     206        211   NA           \n",
       "17376 11.0014    4     140        144   AD campaign  \n",
       "17377 11.0014    3      96         99   AD campaign  \n",
       "17378  8.9981    4      90         94   ad campaign  \n",
       "17379  8.9981    3      50         53   direct       "
      ]
     },
     "metadata": {},
     "output_type": "display_data"
    }
   ],
   "source": [
    "dim(bike)\n",
    "head(bike)\n",
    "tail(bike)"
   ]
  },
  {
   "cell_type": "markdown",
   "metadata": {},
   "source": [
    "## 2 Finding and fixing flawed data\n",
    "\n",
    "We will now try to find and fix errors in the data. Note that, this is detective work and there is not always one answer and one method that find and solves all errors."
   ]
  },
  {
   "cell_type": "markdown",
   "metadata": {},
   "source": [
    "### Missing values\n",
    "\n",
    "Missing values is a common problem occuring with most data sets. Sometimes, a specific values is used to indicate that the value is missing. In R this is represented by the value `NA`. In the above `tail` call you can see such a case in the last column. First, let us see how to count the number of `NA` in a data frame:"
   ]
  },
  {
   "cell_type": "code",
   "execution_count": 5,
   "metadata": {},
   "outputs": [
    {
     "data": {
      "text/plain": [
       "\n",
       " FALSE   TRUE \n",
       "225373    554 "
      ]
     },
     "metadata": {},
     "output_type": "display_data"
    }
   ],
   "source": [
    "table(is.na(bike))"
   ]
  },
  {
   "cell_type": "markdown",
   "metadata": {},
   "source": [
    "This show us that our data frame `bike` contains 554 `NA` values, while 225373 values are not missing. The following code can help us see if it is all variables that contain `NA`:"
   ]
  },
  {
   "cell_type": "code",
   "execution_count": 6,
   "metadata": {},
   "outputs": [
    {
     "name": "stderr",
     "output_type": "stream",
     "text": [
      "Warning message in stri_detect_regex(string, pattern, negate = negate, opts_regex = opts(pattern)):\n",
      "\"argument is not an atomic vector; coercing\""
     ]
    },
    {
     "data": {
      "text/html": [
       "<ol class=list-inline>\n",
       "\t<li>FALSE</li>\n",
       "\t<li>FALSE</li>\n",
       "\t<li>FALSE</li>\n",
       "\t<li>FALSE</li>\n",
       "\t<li>FALSE</li>\n",
       "\t<li>FALSE</li>\n",
       "\t<li>FALSE</li>\n",
       "\t<li>FALSE</li>\n",
       "\t<li>FALSE</li>\n",
       "\t<li>FALSE</li>\n",
       "\t<li>FALSE</li>\n",
       "\t<li>FALSE</li>\n",
       "\t<li>TRUE</li>\n",
       "</ol>\n"
      ],
      "text/latex": [
       "\\begin{enumerate*}\n",
       "\\item FALSE\n",
       "\\item FALSE\n",
       "\\item FALSE\n",
       "\\item FALSE\n",
       "\\item FALSE\n",
       "\\item FALSE\n",
       "\\item FALSE\n",
       "\\item FALSE\n",
       "\\item FALSE\n",
       "\\item FALSE\n",
       "\\item FALSE\n",
       "\\item FALSE\n",
       "\\item TRUE\n",
       "\\end{enumerate*}\n"
      ],
      "text/markdown": [
       "1. FALSE\n",
       "2. FALSE\n",
       "3. FALSE\n",
       "4. FALSE\n",
       "5. FALSE\n",
       "6. FALSE\n",
       "7. FALSE\n",
       "8. FALSE\n",
       "9. FALSE\n",
       "10. FALSE\n",
       "11. FALSE\n",
       "12. FALSE\n",
       "13. TRUE\n",
       "\n",
       "\n"
      ],
      "text/plain": [
       " [1] FALSE FALSE FALSE FALSE FALSE FALSE FALSE FALSE FALSE FALSE FALSE FALSE\n",
       "[13]  TRUE"
      ]
     },
     "metadata": {},
     "output_type": "display_data"
    }
   ],
   "source": [
    "library(stringr)\n",
    "str_detect(bike, \"NA\")"
   ]
  },
  {
   "cell_type": "markdown",
   "metadata": {},
   "source": [
    "This function returns `TRUE` or `FALSE` for each column in our data frame. The result shows that it is only the last column that contains `NA` values. Another way to confirm this is by:"
   ]
  },
  {
   "cell_type": "code",
   "execution_count": 7,
   "metadata": {},
   "outputs": [
    {
     "data": {
      "text/plain": [
       "\n",
       "FALSE  TRUE \n",
       "16825   554 "
      ]
     },
     "metadata": {},
     "output_type": "display_data"
    }
   ],
   "source": [
    "table(is.na(bike$sources))"
   ]
  },
  {
   "cell_type": "markdown",
   "metadata": {},
   "source": [
    "Here we can see that there as many `NA` values in the `sources` column as there is in the entire data frame. We will fix these missing values later."
   ]
  },
  {
   "cell_type": "markdown",
   "metadata": {},
   "source": [
    "Dealing with missing values is a huge topic on its own! We will return to this next time also."
   ]
  },
  {
   "cell_type": "markdown",
   "metadata": {},
   "source": [
    "### Erroneous values\n",
    "\n",
    "We now return to the issue with the `humidity` attribute. We will start by searching for characters in the column:"
   ]
  },
  {
   "cell_type": "code",
   "execution_count": 8,
   "metadata": {},
   "outputs": [
    {
     "data": {
      "text/html": [
       "'x61'"
      ],
      "text/latex": [
       "'x61'"
      ],
      "text/markdown": [
       "'x61'"
      ],
      "text/plain": [
       "[1] \"x61\""
      ]
     },
     "metadata": {},
     "output_type": "display_data"
    }
   ],
   "source": [
    "bad_data <- str_subset(bike$humidity, \"[a-z A-Z]\")\n",
    "bad_data"
   ]
  },
  {
   "cell_type": "markdown",
   "metadata": {},
   "source": [
    "From this we can see that the value `x61` appears somewhere in the column `humidity`. This is clearly an error. There are not always a clear answer or solution, but in this case, it seems like someone just miss-typed `61` as `x61`. Let us find the location of this error:"
   ]
  },
  {
   "cell_type": "code",
   "execution_count": 9,
   "metadata": {},
   "outputs": [
    {
     "data": {
      "text/html": [
       "<table>\n",
       "<thead><tr><th></th><th scope=col>datetime</th><th scope=col>season</th><th scope=col>holiday</th><th scope=col>workingday</th><th scope=col>weather</th><th scope=col>temp</th><th scope=col>atemp</th><th scope=col>humidity</th><th scope=col>windspeed</th><th scope=col>casual</th><th scope=col>registered</th><th scope=col>count</th><th scope=col>sources</th></tr></thead>\n",
       "<tbody>\n",
       "\t<tr><th scope=row>14177</th><td>8/18/2012 21:00</td><td>3              </td><td>0              </td><td>0              </td><td>1              </td><td>27.06          </td><td>31.06          </td><td>x61            </td><td>0              </td><td>90             </td><td>248            </td><td>338            </td><td>www.bing.com   </td></tr>\n",
       "</tbody>\n",
       "</table>\n"
      ],
      "text/latex": [
       "\\begin{tabular}{r|lllllllllllll}\n",
       "  & datetime & season & holiday & workingday & weather & temp & atemp & humidity & windspeed & casual & registered & count & sources\\\\\n",
       "\\hline\n",
       "\t14177 & 8/18/2012 21:00 & 3               & 0               & 0               & 1               & 27.06           & 31.06           & x61             & 0               & 90              & 248             & 338             & www.bing.com   \\\\\n",
       "\\end{tabular}\n"
      ],
      "text/markdown": [
       "\n",
       "| <!--/--> | datetime | season | holiday | workingday | weather | temp | atemp | humidity | windspeed | casual | registered | count | sources |\n",
       "|---|---|---|---|---|---|---|---|---|---|---|---|---|---|\n",
       "| 14177 | 8/18/2012 21:00 | 3               | 0               | 0               | 1               | 27.06           | 31.06           | x61             | 0               | 90              | 248             | 338             | www.bing.com    |\n",
       "\n"
      ],
      "text/plain": [
       "      datetime        season holiday workingday weather temp  atemp humidity\n",
       "14177 8/18/2012 21:00 3      0       0          1       27.06 31.06 x61     \n",
       "      windspeed casual registered count sources     \n",
       "14177 0         90     248        338   www.bing.com"
      ]
     },
     "metadata": {},
     "output_type": "display_data"
    }
   ],
   "source": [
    "location <- str_detect(bike$humidity, bad_data)\n",
    "bike[location, ]"
   ]
  },
  {
   "cell_type": "markdown",
   "metadata": {},
   "source": [
    "Note, that the `str_detect` function give us a vector of `TRUE` and `FAlSE` which is only true for the row that has the error. This we can use to subset the `bike` data frame to see the row with the error."
   ]
  },
  {
   "cell_type": "markdown",
   "metadata": {},
   "source": [
    "We can now replace this error in the following way and inspect that we fixed the error:"
   ]
  },
  {
   "cell_type": "code",
   "execution_count": 10,
   "metadata": {},
   "outputs": [
    {
     "data": {
      "text/html": [
       "<table>\n",
       "<thead><tr><th></th><th scope=col>datetime</th><th scope=col>season</th><th scope=col>holiday</th><th scope=col>workingday</th><th scope=col>weather</th><th scope=col>temp</th><th scope=col>atemp</th><th scope=col>humidity</th><th scope=col>windspeed</th><th scope=col>casual</th><th scope=col>registered</th><th scope=col>count</th><th scope=col>sources</th></tr></thead>\n",
       "<tbody>\n",
       "\t<tr><th scope=row>14177</th><td>8/18/2012 21:00</td><td>3              </td><td>0              </td><td>0              </td><td>1              </td><td>27.06          </td><td>31.06          </td><td>61             </td><td>0              </td><td>90             </td><td>248            </td><td>338            </td><td>www.bing.com   </td></tr>\n",
       "</tbody>\n",
       "</table>\n"
      ],
      "text/latex": [
       "\\begin{tabular}{r|lllllllllllll}\n",
       "  & datetime & season & holiday & workingday & weather & temp & atemp & humidity & windspeed & casual & registered & count & sources\\\\\n",
       "\\hline\n",
       "\t14177 & 8/18/2012 21:00 & 3               & 0               & 0               & 1               & 27.06           & 31.06           & 61              & 0               & 90              & 248             & 338             & www.bing.com   \\\\\n",
       "\\end{tabular}\n"
      ],
      "text/markdown": [
       "\n",
       "| <!--/--> | datetime | season | holiday | workingday | weather | temp | atemp | humidity | windspeed | casual | registered | count | sources |\n",
       "|---|---|---|---|---|---|---|---|---|---|---|---|---|---|\n",
       "| 14177 | 8/18/2012 21:00 | 3               | 0               | 0               | 1               | 27.06           | 31.06           | 61              | 0               | 90              | 248             | 338             | www.bing.com    |\n",
       "\n"
      ],
      "text/plain": [
       "      datetime        season holiday workingday weather temp  atemp humidity\n",
       "14177 8/18/2012 21:00 3      0       0          1       27.06 31.06 61      \n",
       "      windspeed casual registered count sources     \n",
       "14177 0         90     248        338   www.bing.com"
      ]
     },
     "metadata": {},
     "output_type": "display_data"
    }
   ],
   "source": [
    "bike$humidity <- str_replace_all(bike$humidity, \"x61\", \"61\")\n",
    "bike[location, ]"
   ]
  },
  {
   "cell_type": "markdown",
   "metadata": {},
   "source": [
    "## 3 Converting inputs to data types suitable for analysis\n",
    "\n",
    "We will now try and convert the columns with wrong data format to a proper data format. There is not always one right data format to put your data in. It depends on what you want to do with it later. Some times it is prefered to have a column values as character strings and other times it is prefered to have them as factors. However, in most cases it make sense to turn dates into a proper data format instead of character strings."
   ]
  },
  {
   "cell_type": "markdown",
   "metadata": {},
   "source": [
    "We will start by turning the `humidity` column into a numeric columns as we have now fixed the issue with the non numeric value:"
   ]
  },
  {
   "cell_type": "code",
   "execution_count": 11,
   "metadata": {},
   "outputs": [
    {
     "name": "stdout",
     "output_type": "stream",
     "text": [
      "'data.frame':\t17379 obs. of  13 variables:\n",
      " $ datetime  : chr  \"1/1/2011 0:00\" \"1/1/2011 1:00\" \"1/1/2011 2:00\" \"1/1/2011 3:00\" ...\n",
      " $ season    : int  1 1 1 1 1 1 1 1 1 1 ...\n",
      " $ holiday   : int  0 0 0 0 0 0 0 0 0 0 ...\n",
      " $ workingday: int  0 0 0 0 0 0 0 0 0 0 ...\n",
      " $ weather   : int  1 1 1 1 1 2 1 1 1 1 ...\n",
      " $ temp      : num  9.84 9.02 9.02 9.84 9.84 ...\n",
      " $ atemp     : num  14.4 13.6 13.6 14.4 14.4 ...\n",
      " $ humidity  : num  81 80 80 75 75 75 80 86 75 76 ...\n",
      " $ windspeed : num  0 0 0 0 0 ...\n",
      " $ casual    : int  3 8 5 3 0 0 2 1 1 8 ...\n",
      " $ registered: int  13 32 27 10 1 1 0 2 7 6 ...\n",
      " $ count     : int  16 40 32 13 1 1 2 3 8 14 ...\n",
      " $ sources   : chr  \"ad campaign\" \"www.yahoo.com\" \"www.google.fi\" \"AD campaign\" ...\n"
     ]
    }
   ],
   "source": [
    "bike$humidity <- as.numeric(bike$humidity)\n",
    "# bike <- mutate(bike, humidity = as.numeric(humidity))\n",
    "str(bike)"
   ]
  },
  {
   "cell_type": "markdown",
   "metadata": {},
   "source": [
    "Next we will look at the `holiday` and `workingday` variables which are numeric, but it is more natural to have them as factors. Here is how to fix that:"
   ]
  },
  {
   "cell_type": "code",
   "execution_count": 12,
   "metadata": {},
   "outputs": [
    {
     "name": "stdout",
     "output_type": "stream",
     "text": [
      "'data.frame':\t17379 obs. of  13 variables:\n",
      " $ datetime  : chr  \"1/1/2011 0:00\" \"1/1/2011 1:00\" \"1/1/2011 2:00\" \"1/1/2011 3:00\" ...\n",
      " $ season    : int  1 1 1 1 1 1 1 1 1 1 ...\n",
      " $ holiday   : Factor w/ 2 levels \"no\",\"yes\": 1 1 1 1 1 1 1 1 1 1 ...\n",
      " $ workingday: Factor w/ 2 levels \"no\",\"yes\": 1 1 1 1 1 1 1 1 1 1 ...\n",
      " $ weather   : int  1 1 1 1 1 2 1 1 1 1 ...\n",
      " $ temp      : num  9.84 9.02 9.02 9.84 9.84 ...\n",
      " $ atemp     : num  14.4 13.6 13.6 14.4 14.4 ...\n",
      " $ humidity  : num  81 80 80 75 75 75 80 86 75 76 ...\n",
      " $ windspeed : num  0 0 0 0 0 ...\n",
      " $ casual    : int  3 8 5 3 0 0 2 1 1 8 ...\n",
      " $ registered: int  13 32 27 10 1 1 0 2 7 6 ...\n",
      " $ count     : int  16 40 32 13 1 1 2 3 8 14 ...\n",
      " $ sources   : chr  \"ad campaign\" \"www.yahoo.com\" \"www.google.fi\" \"AD campaign\" ...\n"
     ]
    }
   ],
   "source": [
    "bike$holiday <- factor(bike$holiday, levels = c(0, 1), labels = c(\"no\", \"yes\"))\n",
    "bike$workingday <- factor(bike$workingday, levels = c(0, 1), labels = c(\"no\", \"yes\"))\n",
    "str(bike)"
   ]
  },
  {
   "cell_type": "markdown",
   "metadata": {},
   "source": [
    "Note that this code turned `0` into \"no\" and `1` into \"yes\". (Underneath R represent \"no\" as a 1 and \"yes\" as a 2, which makes it look like we flipped yes and no, but we did not.) To make this decision we need to know that this is correct of course. That is, we need to know something about the data set - that `0` represent \"no\" and tha `1` represent \"yes\". Often this kind of information can be found in the *data dictionary*, if the dataset has a such."
   ]
  },
  {
   "cell_type": "markdown",
   "metadata": {},
   "source": [
    "In similar manners we can turn the `season` and `weather` columns into factors, which seems to be the right thing to do in this case, as well:"
   ]
  },
  {
   "cell_type": "code",
   "execution_count": 13,
   "metadata": {
    "scrolled": true
   },
   "outputs": [
    {
     "name": "stdout",
     "output_type": "stream",
     "text": [
      "'data.frame':\t17379 obs. of  13 variables:\n",
      " $ datetime  : chr  \"1/1/2011 0:00\" \"1/1/2011 1:00\" \"1/1/2011 2:00\" \"1/1/2011 3:00\" ...\n",
      " $ season    : Ord.factor w/ 4 levels \"spring\"<\"summer\"<..: 1 1 1 1 1 1 1 1 1 1 ...\n",
      " $ holiday   : Factor w/ 2 levels \"no\",\"yes\": 1 1 1 1 1 1 1 1 1 1 ...\n",
      " $ workingday: Factor w/ 2 levels \"no\",\"yes\": 1 1 1 1 1 1 1 1 1 1 ...\n",
      " $ weather   : Ord.factor w/ 4 levels \"clr_part_cloud\"<..: 1 1 1 1 1 2 1 1 1 1 ...\n",
      " $ temp      : num  9.84 9.02 9.02 9.84 9.84 ...\n",
      " $ atemp     : num  14.4 13.6 13.6 14.4 14.4 ...\n",
      " $ humidity  : num  81 80 80 75 75 75 80 86 75 76 ...\n",
      " $ windspeed : num  0 0 0 0 0 ...\n",
      " $ casual    : int  3 8 5 3 0 0 2 1 1 8 ...\n",
      " $ registered: int  13 32 27 10 1 1 0 2 7 6 ...\n",
      " $ count     : int  16 40 32 13 1 1 2 3 8 14 ...\n",
      " $ sources   : chr  \"ad campaign\" \"www.yahoo.com\" \"www.google.fi\" \"AD campaign\" ...\n"
     ]
    }
   ],
   "source": [
    "bike$season <- factor(bike$season, levels = c(1, 2, 3, 4), labels = c(\"spring\", \"summer\", \"fall\", \"winter\"), ordered = TRUE)\n",
    "bike$weather <- factor(bike$weather, levels = c(1, 2, 3, 4), labels = c(\"clr_part_cloud\", \"mist_cloudy\", \"lt_rain_snow\", \"hvy_rain_snow\"), ordered = TRUE)\n",
    "str(bike)"
   ]
  },
  {
   "cell_type": "markdown",
   "metadata": {},
   "source": [
    "**NOTE:** It is not always a good idea to turn character strings into factors. In fact, I will advice not to do it at this stage. You can always do it later, if you realize it will make something easier for you or it is required by other functions you want to use such as a particular function for training a machine learning model, for instance."
   ]
  },
  {
   "cell_type": "markdown",
   "metadata": {},
   "source": [
    "We will now finally fix the date format issue with the `datetime` column. To do this we first need to understand what format the `datetime` column is in. Looking at the `str` output above seems to indicate that it is on the format \"mm/dd/yyyy hh:mm\". The \"lubridate\" package is a very nice package to work with dates and times. It even has a function to deal with this particular format, namely the function `mdy_hm` function - the name hopefully give away why it is useful in our case! So let us use it to transform the `datetime` column into a proper format:"
   ]
  },
  {
   "cell_type": "code",
   "execution_count": 14,
   "metadata": {
    "scrolled": false
   },
   "outputs": [
    {
     "name": "stderr",
     "output_type": "stream",
     "text": [
      "\n",
      "Attaching package: 'lubridate'\n",
      "\n",
      "The following object is masked from 'package:base':\n",
      "\n",
      "    date\n",
      "\n"
     ]
    },
    {
     "name": "stdout",
     "output_type": "stream",
     "text": [
      "'data.frame':\t17379 obs. of  13 variables:\n",
      " $ datetime  : POSIXct, format: \"2011-01-01 00:00:00\" \"2011-01-01 01:00:00\" ...\n",
      " $ season    : Ord.factor w/ 4 levels \"spring\"<\"summer\"<..: 1 1 1 1 1 1 1 1 1 1 ...\n",
      " $ holiday   : Factor w/ 2 levels \"no\",\"yes\": 1 1 1 1 1 1 1 1 1 1 ...\n",
      " $ workingday: Factor w/ 2 levels \"no\",\"yes\": 1 1 1 1 1 1 1 1 1 1 ...\n",
      " $ weather   : Ord.factor w/ 4 levels \"clr_part_cloud\"<..: 1 1 1 1 1 2 1 1 1 1 ...\n",
      " $ temp      : num  9.84 9.02 9.02 9.84 9.84 ...\n",
      " $ atemp     : num  14.4 13.6 13.6 14.4 14.4 ...\n",
      " $ humidity  : num  81 80 80 75 75 75 80 86 75 76 ...\n",
      " $ windspeed : num  0 0 0 0 0 ...\n",
      " $ casual    : int  3 8 5 3 0 0 2 1 1 8 ...\n",
      " $ registered: int  13 32 27 10 1 1 0 2 7 6 ...\n",
      " $ count     : int  16 40 32 13 1 1 2 3 8 14 ...\n",
      " $ sources   : chr  \"ad campaign\" \"www.yahoo.com\" \"www.google.fi\" \"AD campaign\" ...\n"
     ]
    }
   ],
   "source": [
    "library(lubridate)\n",
    "bike$datetime <- mdy_hm(bike$datetime)\n",
    "str(bike)"
   ]
  },
  {
   "cell_type": "markdown",
   "metadata": {},
   "source": [
    "Note that the `mdy_hm` function turned the datetime column into is something called \"POSIXct\", which i a common time format in R. (You can google it if you want. We will not go into this i any more details for now.)"
   ]
  },
  {
   "cell_type": "markdown",
   "metadata": {},
   "source": [
    "## 4 Adapting string variables to a standard\n",
    "\n",
    "Finally, we will look at adapting sting variables to a standard. The issue here is that sometimes string values are hard to work with and may contain more information than needed. In such cases, with some manipulation we can turn the variable into a factor variable with fewer values, however, values that are still meaningful to us. This is the case for the `source` column, which we will now take a closer look at. First we look at what are all the unique values this column takes:"
   ]
  },
  {
   "cell_type": "code",
   "execution_count": 15,
   "metadata": {},
   "outputs": [
    {
     "data": {
      "text/html": [
       "<ol class=list-inline>\n",
       "\t<li>'ad campaign'</li>\n",
       "\t<li>'www.yahoo.com'</li>\n",
       "\t<li>'www.google.fi'</li>\n",
       "\t<li>'AD campaign'</li>\n",
       "\t<li>'Twitter'</li>\n",
       "\t<li>'www.bing.com'</li>\n",
       "\t<li>'www.google.co.uk'</li>\n",
       "\t<li>'facebook page'</li>\n",
       "\t<li>'Ad Campaign'</li>\n",
       "\t<li><span style=white-space:pre-wrap>'Twitter    '</span></li>\n",
       "\t<li>NA</li>\n",
       "\t<li>'www.google.com'</li>\n",
       "\t<li>'direct'</li>\n",
       "\t<li>'blog'</li>\n",
       "</ol>\n"
      ],
      "text/latex": [
       "\\begin{enumerate*}\n",
       "\\item 'ad campaign'\n",
       "\\item 'www.yahoo.com'\n",
       "\\item 'www.google.fi'\n",
       "\\item 'AD campaign'\n",
       "\\item 'Twitter'\n",
       "\\item 'www.bing.com'\n",
       "\\item 'www.google.co.uk'\n",
       "\\item 'facebook page'\n",
       "\\item 'Ad Campaign'\n",
       "\\item 'Twitter    '\n",
       "\\item NA\n",
       "\\item 'www.google.com'\n",
       "\\item 'direct'\n",
       "\\item 'blog'\n",
       "\\end{enumerate*}\n"
      ],
      "text/markdown": [
       "1. 'ad campaign'\n",
       "2. 'www.yahoo.com'\n",
       "3. 'www.google.fi'\n",
       "4. 'AD campaign'\n",
       "5. 'Twitter'\n",
       "6. 'www.bing.com'\n",
       "7. 'www.google.co.uk'\n",
       "8. 'facebook page'\n",
       "9. 'Ad Campaign'\n",
       "10. <span style=white-space:pre-wrap>'Twitter    '</span>\n",
       "11. NA\n",
       "12. 'www.google.com'\n",
       "13. 'direct'\n",
       "14. 'blog'\n",
       "\n",
       "\n"
      ],
      "text/plain": [
       " [1] \"ad campaign\"      \"www.yahoo.com\"    \"www.google.fi\"    \"AD campaign\"     \n",
       " [5] \"Twitter\"          \"www.bing.com\"     \"www.google.co.uk\" \"facebook page\"   \n",
       " [9] \"Ad Campaign\"      \"Twitter    \"      NA                 \"www.google.com\"  \n",
       "[13] \"direct\"           \"blog\"            "
      ]
     },
     "metadata": {},
     "output_type": "display_data"
    }
   ],
   "source": [
    "unique(bike$source)"
   ]
  },
  {
   "cell_type": "markdown",
   "metadata": {},
   "source": [
    "There are some obvious cleaning we can do here! First of all there are two values for Twitter which should be indentified and there are three values for ad campaing that should probably also be identified. Moreover, we might want to replace `NA` by unknown in this case. The \"stringr\" package can again help us and we can solve these issues in the following way:"
   ]
  },
  {
   "cell_type": "code",
   "execution_count": 16,
   "metadata": {},
   "outputs": [
    {
     "data": {
      "text/html": [
       "<ol class=list-inline>\n",
       "\t<li>'ad campaign'</li>\n",
       "\t<li>'www.yahoo.com'</li>\n",
       "\t<li>'www.google.fi'</li>\n",
       "\t<li>'twitter'</li>\n",
       "\t<li>'www.bing.com'</li>\n",
       "\t<li>'www.google.co.uk'</li>\n",
       "\t<li>'facebook page'</li>\n",
       "\t<li>'unknown'</li>\n",
       "\t<li>'www.google.com'</li>\n",
       "\t<li>'direct'</li>\n",
       "\t<li>'blog'</li>\n",
       "</ol>\n"
      ],
      "text/latex": [
       "\\begin{enumerate*}\n",
       "\\item 'ad campaign'\n",
       "\\item 'www.yahoo.com'\n",
       "\\item 'www.google.fi'\n",
       "\\item 'twitter'\n",
       "\\item 'www.bing.com'\n",
       "\\item 'www.google.co.uk'\n",
       "\\item 'facebook page'\n",
       "\\item 'unknown'\n",
       "\\item 'www.google.com'\n",
       "\\item 'direct'\n",
       "\\item 'blog'\n",
       "\\end{enumerate*}\n"
      ],
      "text/markdown": [
       "1. 'ad campaign'\n",
       "2. 'www.yahoo.com'\n",
       "3. 'www.google.fi'\n",
       "4. 'twitter'\n",
       "5. 'www.bing.com'\n",
       "6. 'www.google.co.uk'\n",
       "7. 'facebook page'\n",
       "8. 'unknown'\n",
       "9. 'www.google.com'\n",
       "10. 'direct'\n",
       "11. 'blog'\n",
       "\n",
       "\n"
      ],
      "text/plain": [
       " [1] \"ad campaign\"      \"www.yahoo.com\"    \"www.google.fi\"    \"twitter\"         \n",
       " [5] \"www.bing.com\"     \"www.google.co.uk\" \"facebook page\"    \"unknown\"         \n",
       " [9] \"www.google.com\"   \"direct\"           \"blog\"            "
      ]
     },
     "metadata": {},
     "output_type": "display_data"
    }
   ],
   "source": [
    "bike$sources <- tolower(bike$sources)\n",
    "bike$sources <- str_trim(bike$sources)\n",
    "na_loc <- is.na(bike$sources)\n",
    "bike$sources[na_loc] <- \"unknown\"\n",
    "unique(bike$source)"
   ]
  },
  {
   "cell_type": "markdown",
   "metadata": {},
   "source": [
    "This is much better, but we might also want to group all webpages into on category, that is all sources that starts with \"www.\" We can do this using the DataCombine package in the following way:"
   ]
  },
  {
   "cell_type": "code",
   "execution_count": 20,
   "metadata": {},
   "outputs": [
    {
     "name": "stderr",
     "output_type": "stream",
     "text": [
      "Warning message:\n",
      "\"package 'DataCombine' was built under R version 3.6.3\""
     ]
    },
    {
     "data": {
      "text/html": [
       "<ol class=list-inline>\n",
       "\t<li>ad campaign</li>\n",
       "\t<li>web</li>\n",
       "\t<li>twitter</li>\n",
       "\t<li>facebook page</li>\n",
       "\t<li>unknown</li>\n",
       "\t<li>direct</li>\n",
       "\t<li>blog</li>\n",
       "</ol>\n",
       "\n",
       "<details>\n",
       "\t<summary style=display:list-item;cursor:pointer>\n",
       "\t\t<strong>Levels</strong>:\n",
       "\t</summary>\n",
       "\t<ol class=list-inline>\n",
       "\t\t<li>'ad campaign'</li>\n",
       "\t\t<li>'blog'</li>\n",
       "\t\t<li>'direct'</li>\n",
       "\t\t<li>'facebook page'</li>\n",
       "\t\t<li>'twitter'</li>\n",
       "\t\t<li>'unknown'</li>\n",
       "\t\t<li>'web'</li>\n",
       "\t</ol>\n",
       "</details>"
      ],
      "text/latex": [
       "\\begin{enumerate*}\n",
       "\\item ad campaign\n",
       "\\item web\n",
       "\\item twitter\n",
       "\\item facebook page\n",
       "\\item unknown\n",
       "\\item direct\n",
       "\\item blog\n",
       "\\end{enumerate*}\n",
       "\n",
       "\\emph{Levels}: \\begin{enumerate*}\n",
       "\\item 'ad campaign'\n",
       "\\item 'blog'\n",
       "\\item 'direct'\n",
       "\\item 'facebook page'\n",
       "\\item 'twitter'\n",
       "\\item 'unknown'\n",
       "\\item 'web'\n",
       "\\end{enumerate*}\n"
      ],
      "text/markdown": [
       "1. ad campaign\n",
       "2. web\n",
       "3. twitter\n",
       "4. facebook page\n",
       "5. unknown\n",
       "6. direct\n",
       "7. blog\n",
       "\n",
       "\n",
       "\n",
       "**Levels**: 1. 'ad campaign'\n",
       "2. 'blog'\n",
       "3. 'direct'\n",
       "4. 'facebook page'\n",
       "5. 'twitter'\n",
       "6. 'unknown'\n",
       "7. 'web'\n",
       "\n",
       "\n"
      ],
      "text/plain": [
       "[1] ad campaign   web           twitter       facebook page unknown      \n",
       "[6] direct        blog         \n",
       "Levels: ad campaign blog direct facebook page twitter unknown web"
      ]
     },
     "metadata": {},
     "output_type": "display_data"
    }
   ],
   "source": [
    "library(DataCombine)\n",
    "web_sites <- \"(www.[a-z]*.[a-z]*)\"\n",
    "current <- unique(str_subset(bike$sources, web_sites))\n",
    "replace <- rep(\"web\", length(current))\n",
    "replacements <- data.frame(from = current, to = replace)\n",
    "bike <- FindReplace(data = bike, Var = \"sources\", replacements, from = \"from\", to = \"to\", exact = FALSE)\n",
    "bike$sources <- as.factor(bike$sources)\n",
    "unique(bike$sources)"
   ]
  },
  {
   "cell_type": "markdown",
   "metadata": {},
   "source": [
    "We now have a nice and clean dataset in the right format, which we will use for further analysis in the later lectures. Have a look at it:"
   ]
  },
  {
   "cell_type": "code",
   "execution_count": 21,
   "metadata": {
    "scrolled": false
   },
   "outputs": [
    {
     "name": "stdout",
     "output_type": "stream",
     "text": [
      "'data.frame':\t17379 obs. of  13 variables:\n",
      " $ datetime  : POSIXct, format: \"2011-01-01 00:00:00\" \"2011-01-01 01:00:00\" ...\n",
      " $ season    : Ord.factor w/ 4 levels \"spring\"<\"summer\"<..: 1 1 1 1 1 1 1 1 1 1 ...\n",
      " $ holiday   : Factor w/ 2 levels \"no\",\"yes\": 1 1 1 1 1 1 1 1 1 1 ...\n",
      " $ workingday: Factor w/ 2 levels \"no\",\"yes\": 1 1 1 1 1 1 1 1 1 1 ...\n",
      " $ weather   : Ord.factor w/ 4 levels \"clr_part_cloud\"<..: 1 1 1 1 1 2 1 1 1 1 ...\n",
      " $ temp      : num  9.84 9.02 9.02 9.84 9.84 ...\n",
      " $ atemp     : num  14.4 13.6 13.6 14.4 14.4 ...\n",
      " $ humidity  : num  81 80 80 75 75 75 80 86 75 76 ...\n",
      " $ windspeed : num  0 0 0 0 0 ...\n",
      " $ casual    : int  3 8 5 3 0 0 2 1 1 8 ...\n",
      " $ registered: int  13 32 27 10 1 1 0 2 7 6 ...\n",
      " $ count     : int  16 40 32 13 1 1 2 3 8 14 ...\n",
      " $ sources   : Factor w/ 7 levels \"ad campaign\",..: 1 7 7 1 5 7 1 7 7 7 ...\n"
     ]
    },
    {
     "data": {
      "text/html": [
       "<table>\n",
       "<thead><tr><th scope=col>datetime</th><th scope=col>season</th><th scope=col>holiday</th><th scope=col>workingday</th><th scope=col>weather</th><th scope=col>temp</th><th scope=col>atemp</th><th scope=col>humidity</th><th scope=col>windspeed</th><th scope=col>casual</th><th scope=col>registered</th><th scope=col>count</th><th scope=col>sources</th></tr></thead>\n",
       "<tbody>\n",
       "\t<tr><td>2011-01-01 00:00:00</td><td>spring             </td><td>no                 </td><td>no                 </td><td>clr_part_cloud     </td><td> 9.84              </td><td>14.395             </td><td> 81                </td><td> 0.0000            </td><td> 3                 </td><td>13                 </td><td> 16                </td><td>ad campaign        </td></tr>\n",
       "\t<tr><td>2011-01-01 01:00:00</td><td>spring             </td><td>no                 </td><td>no                 </td><td>clr_part_cloud     </td><td> 9.02              </td><td>13.635             </td><td> 80                </td><td> 0.0000            </td><td> 8                 </td><td>32                 </td><td> 40                </td><td>web                </td></tr>\n",
       "\t<tr><td>2011-01-01 02:00:00</td><td>spring             </td><td>no                 </td><td>no                 </td><td>clr_part_cloud     </td><td> 9.02              </td><td>13.635             </td><td> 80                </td><td> 0.0000            </td><td> 5                 </td><td>27                 </td><td> 32                </td><td>web                </td></tr>\n",
       "\t<tr><td>2011-01-01 03:00:00</td><td>spring             </td><td>no                 </td><td>no                 </td><td>clr_part_cloud     </td><td> 9.84              </td><td>14.395             </td><td> 75                </td><td> 0.0000            </td><td> 3                 </td><td>10                 </td><td> 13                </td><td>ad campaign        </td></tr>\n",
       "\t<tr><td>2011-01-01 04:00:00</td><td>spring             </td><td>no                 </td><td>no                 </td><td>clr_part_cloud     </td><td> 9.84              </td><td>14.395             </td><td> 75                </td><td> 0.0000            </td><td> 0                 </td><td> 1                 </td><td>  1                </td><td>twitter            </td></tr>\n",
       "\t<tr><td>2011-01-01 05:00:00</td><td>spring             </td><td>no                 </td><td>no                 </td><td>mist_cloudy        </td><td> 9.84              </td><td>12.880             </td><td> 75                </td><td> 6.0032            </td><td> 0                 </td><td> 1                 </td><td>  1                </td><td>web                </td></tr>\n",
       "\t<tr><td>2011-01-01 06:00:00</td><td>spring             </td><td>no                 </td><td>no                 </td><td>clr_part_cloud     </td><td> 9.02              </td><td>13.635             </td><td> 80                </td><td> 0.0000            </td><td> 2                 </td><td> 0                 </td><td>  2                </td><td>ad campaign        </td></tr>\n",
       "\t<tr><td>2011-01-01 07:00:00</td><td>spring             </td><td>no                 </td><td>no                 </td><td>clr_part_cloud     </td><td> 8.20              </td><td>12.880             </td><td> 86                </td><td> 0.0000            </td><td> 1                 </td><td> 2                 </td><td>  3                </td><td>web                </td></tr>\n",
       "\t<tr><td>2011-01-01 08:00:00</td><td>spring             </td><td>no                 </td><td>no                 </td><td>clr_part_cloud     </td><td> 9.84              </td><td>14.395             </td><td> 75                </td><td> 0.0000            </td><td> 1                 </td><td> 7                 </td><td>  8                </td><td>web                </td></tr>\n",
       "\t<tr><td>2011-01-01 09:00:00</td><td>spring             </td><td>no                 </td><td>no                 </td><td>clr_part_cloud     </td><td>13.12              </td><td>17.425             </td><td> 76                </td><td> 0.0000            </td><td> 8                 </td><td> 6                 </td><td> 14                </td><td>web                </td></tr>\n",
       "\t<tr><td>2011-01-01 10:00:00</td><td>spring             </td><td>no                 </td><td>no                 </td><td>clr_part_cloud     </td><td>15.58              </td><td>19.695             </td><td> 76                </td><td>16.9979            </td><td>12                 </td><td>24                 </td><td> 36                </td><td>web                </td></tr>\n",
       "\t<tr><td>2011-01-01 11:00:00</td><td>spring             </td><td>no                 </td><td>no                 </td><td>clr_part_cloud     </td><td>14.76              </td><td>16.665             </td><td> 81                </td><td>19.0012            </td><td>26                 </td><td>30                 </td><td> 56                </td><td>web                </td></tr>\n",
       "\t<tr><td>2011-01-01 12:00:00</td><td>spring             </td><td>no                 </td><td>no                 </td><td>clr_part_cloud     </td><td>17.22              </td><td>21.210             </td><td> 77                </td><td>19.0012            </td><td>29                 </td><td>55                 </td><td> 84                </td><td>web                </td></tr>\n",
       "\t<tr><td>2011-01-01 13:00:00</td><td>spring             </td><td>no                 </td><td>no                 </td><td>mist_cloudy        </td><td>18.86              </td><td>22.725             </td><td> 72                </td><td>19.9995            </td><td>47                 </td><td>47                 </td><td> 94                </td><td>ad campaign        </td></tr>\n",
       "\t<tr><td>2011-01-01 14:00:00</td><td>spring             </td><td>no                 </td><td>no                 </td><td>mist_cloudy        </td><td>18.86              </td><td>22.725             </td><td> 72                </td><td>19.0012            </td><td>35                 </td><td>71                 </td><td>106                </td><td>web                </td></tr>\n",
       "\t<tr><td>2011-01-01 15:00:00</td><td>spring             </td><td>no                 </td><td>no                 </td><td>mist_cloudy        </td><td>18.04              </td><td>21.970             </td><td> 77                </td><td>19.9995            </td><td>40                 </td><td>70                 </td><td>110                </td><td>web                </td></tr>\n",
       "\t<tr><td>2011-01-01 16:00:00</td><td>spring             </td><td>no                 </td><td>no                 </td><td>mist_cloudy        </td><td>17.22              </td><td>21.210             </td><td> 82                </td><td>19.9995            </td><td>41                 </td><td>52                 </td><td> 93                </td><td>ad campaign        </td></tr>\n",
       "\t<tr><td>2011-01-01 17:00:00</td><td>spring             </td><td>no                 </td><td>no                 </td><td>mist_cloudy        </td><td>18.04              </td><td>21.970             </td><td> 82                </td><td>19.0012            </td><td>15                 </td><td>52                 </td><td> 67                </td><td>facebook page      </td></tr>\n",
       "\t<tr><td>2011-01-01 18:00:00</td><td>spring             </td><td>no                 </td><td>no                 </td><td>lt_rain_snow       </td><td>17.22              </td><td>21.210             </td><td> 88                </td><td>16.9979            </td><td> 9                 </td><td>26                 </td><td> 35                </td><td>web                </td></tr>\n",
       "\t<tr><td>2011-01-01 19:00:00</td><td>spring             </td><td>no                 </td><td>no                 </td><td>lt_rain_snow       </td><td>17.22              </td><td>21.210             </td><td> 88                </td><td>16.9979            </td><td> 6                 </td><td>31                 </td><td> 37                </td><td>web                </td></tr>\n",
       "\t<tr><td>2011-01-01 20:00:00</td><td>spring             </td><td>no                 </td><td>no                 </td><td>mist_cloudy        </td><td>16.40              </td><td>20.455             </td><td> 87                </td><td>16.9979            </td><td>11                 </td><td>25                 </td><td> 36                </td><td>ad campaign        </td></tr>\n",
       "\t<tr><td>2011-01-01 21:00:00</td><td>spring             </td><td>no                 </td><td>no                 </td><td>mist_cloudy        </td><td>16.40              </td><td>20.455             </td><td> 87                </td><td>12.9980            </td><td> 3                 </td><td>31                 </td><td> 34                </td><td>web                </td></tr>\n",
       "\t<tr><td>2011-01-01 22:00:00</td><td>spring             </td><td>no                 </td><td>no                 </td><td>mist_cloudy        </td><td>16.40              </td><td>20.455             </td><td> 94                </td><td>15.0013            </td><td>11                 </td><td>17                 </td><td> 28                </td><td>ad campaign        </td></tr>\n",
       "\t<tr><td>2011-01-01 23:00:00</td><td>spring             </td><td>no                 </td><td>no                 </td><td>mist_cloudy        </td><td>18.86              </td><td>22.725             </td><td> 88                </td><td>19.9995            </td><td>15                 </td><td>24                 </td><td> 39                </td><td>facebook page      </td></tr>\n",
       "\t<tr><td>2011-01-02 00:00:00</td><td>spring             </td><td>no                 </td><td>no                 </td><td>mist_cloudy        </td><td>18.86              </td><td>22.725             </td><td> 88                </td><td>19.9995            </td><td> 4                 </td><td>13                 </td><td> 17                </td><td>ad campaign        </td></tr>\n",
       "\t<tr><td>2011-01-02 01:00:00</td><td>spring             </td><td>no                 </td><td>no                 </td><td>mist_cloudy        </td><td>18.04              </td><td>21.970             </td><td> 94                </td><td>16.9979            </td><td> 1                 </td><td>16                 </td><td> 17                </td><td>twitter            </td></tr>\n",
       "\t<tr><td>2011-01-02 02:00:00</td><td>spring             </td><td>no                 </td><td>no                 </td><td>mist_cloudy        </td><td>17.22              </td><td>21.210             </td><td>100                </td><td>19.0012            </td><td> 1                 </td><td> 8                 </td><td>  9                </td><td>unknown            </td></tr>\n",
       "\t<tr><td>2011-01-02 03:00:00</td><td>spring             </td><td>no                 </td><td>no                 </td><td>mist_cloudy        </td><td>18.86              </td><td>22.725             </td><td> 94                </td><td>12.9980            </td><td> 2                 </td><td> 4                 </td><td>  6                </td><td>web                </td></tr>\n",
       "\t<tr><td>2011-01-02 04:00:00</td><td>spring             </td><td>no                 </td><td>no                 </td><td>mist_cloudy        </td><td>18.86              </td><td>22.725             </td><td> 94                </td><td>12.9980            </td><td> 2                 </td><td> 1                 </td><td>  3                </td><td>ad campaign        </td></tr>\n",
       "\t<tr><td>2011-01-02 06:00:00</td><td>spring             </td><td>no                 </td><td>no                 </td><td>lt_rain_snow       </td><td>17.22              </td><td>21.210             </td><td> 77                </td><td>19.9995            </td><td> 0                 </td><td> 2                 </td><td>  2                </td><td>web                </td></tr>\n",
       "\t<tr><td>...</td><td>...</td><td>...</td><td>...</td><td>...</td><td>...</td><td>...</td><td>...</td><td>...</td><td>...</td><td>...</td><td>...</td><td>...</td></tr>\n",
       "\t<tr><td>2012-12-30 18:00:00</td><td>spring             </td><td>no                 </td><td>no                 </td><td>mist_cloudy        </td><td> 9.84              </td><td>10.605             </td><td>44                 </td><td>19.9995            </td><td>14                 </td><td>123                </td><td>137                </td><td>web                </td></tr>\n",
       "\t<tr><td>2012-12-30 19:00:00</td><td>spring             </td><td>no                 </td><td>no                 </td><td>clr_part_cloud     </td><td>13.94              </td><td>18.180             </td><td>61                 </td><td> 0.0000            </td><td>11                 </td><td>140                </td><td>151                </td><td>web                </td></tr>\n",
       "\t<tr><td>2012-12-30 20:00:00</td><td>spring             </td><td>no                 </td><td>no                 </td><td>clr_part_cloud     </td><td> 9.02              </td><td> 9.850             </td><td>47                 </td><td>22.0028            </td><td> 5                 </td><td> 84                </td><td> 89                </td><td>ad campaign        </td></tr>\n",
       "\t<tr><td>2012-12-30 21:00:00</td><td>spring             </td><td>no                 </td><td>no                 </td><td>clr_part_cloud     </td><td> 8.20              </td><td>10.605             </td><td>51                 </td><td>11.0014            </td><td> 3                 </td><td> 56                </td><td> 59                </td><td>facebook page      </td></tr>\n",
       "\t<tr><td>2012-12-30 22:00:00</td><td>spring             </td><td>no                 </td><td>no                 </td><td>clr_part_cloud     </td><td> 8.20              </td><td> 9.850             </td><td>55                 </td><td>12.9980            </td><td> 3                 </td><td> 51                </td><td> 54                </td><td>facebook page      </td></tr>\n",
       "\t<tr><td>2012-12-30 23:00:00</td><td>spring             </td><td>no                 </td><td>no                 </td><td>clr_part_cloud     </td><td> 8.20              </td><td> 9.850             </td><td>51                 </td><td>15.0013            </td><td> 2                 </td><td> 32                </td><td> 34                </td><td>blog               </td></tr>\n",
       "\t<tr><td>2012-12-31 00:00:00</td><td>spring             </td><td>no                 </td><td>yes                </td><td>clr_part_cloud     </td><td> 7.38              </td><td> 9.090             </td><td>55                 </td><td>12.9980            </td><td> 1                 </td><td> 16                </td><td> 17                </td><td>web                </td></tr>\n",
       "\t<tr><td>2012-12-31 01:00:00</td><td>spring             </td><td>no                 </td><td>yes                </td><td>clr_part_cloud     </td><td> 7.38              </td><td> 9.090             </td><td>55                 </td><td>12.9980            </td><td> 1                 </td><td>  7                </td><td>  8                </td><td>ad campaign        </td></tr>\n",
       "\t<tr><td>2012-12-31 02:00:00</td><td>spring             </td><td>no                 </td><td>yes                </td><td>clr_part_cloud     </td><td> 6.56              </td><td> 8.335             </td><td>59                 </td><td>11.0014            </td><td> 0                 </td><td>  4                </td><td>  4                </td><td>web                </td></tr>\n",
       "\t<tr><td>2012-12-31 03:00:00</td><td>spring             </td><td>no                 </td><td>yes                </td><td>clr_part_cloud     </td><td> 6.56              </td><td> 9.090             </td><td>59                 </td><td> 7.0015            </td><td> 0                 </td><td>  3                </td><td>  3                </td><td>ad campaign        </td></tr>\n",
       "\t<tr><td>2012-12-31 04:00:00</td><td>spring             </td><td>no                 </td><td>yes                </td><td>clr_part_cloud     </td><td> 5.74              </td><td> 8.335             </td><td>69                 </td><td> 7.0015            </td><td> 0                 </td><td>  2                </td><td>  2                </td><td>facebook page      </td></tr>\n",
       "\t<tr><td>2012-12-31 05:00:00</td><td>spring             </td><td>no                 </td><td>yes                </td><td>clr_part_cloud     </td><td> 6.56              </td><td> 7.575             </td><td>64                 </td><td>12.9980            </td><td> 0                 </td><td> 15                </td><td> 15                </td><td>web                </td></tr>\n",
       "\t<tr><td>2012-12-31 06:00:00</td><td>spring             </td><td>no                 </td><td>yes                </td><td>clr_part_cloud     </td><td> 6.56              </td><td> 8.335             </td><td>64                 </td><td>11.0014            </td><td> 1                 </td><td> 64                </td><td> 65                </td><td>ad campaign        </td></tr>\n",
       "\t<tr><td>2012-12-31 07:00:00</td><td>spring             </td><td>no                 </td><td>yes                </td><td>clr_part_cloud     </td><td> 6.56              </td><td> 9.090             </td><td>64                 </td><td> 8.9981            </td><td> 4                 </td><td>231                </td><td>235                </td><td>ad campaign        </td></tr>\n",
       "\t<tr><td>2012-12-31 08:00:00</td><td>spring             </td><td>no                 </td><td>yes                </td><td>clr_part_cloud     </td><td> 5.74              </td><td> 7.575             </td><td>69                 </td><td> 8.9981            </td><td> 6                 </td><td>421                </td><td>427                </td><td>web                </td></tr>\n",
       "\t<tr><td>2012-12-31 09:00:00</td><td>spring             </td><td>no                 </td><td>yes                </td><td>mist_cloudy        </td><td> 7.38              </td><td>10.605             </td><td>64                 </td><td> 7.0015            </td><td> 9                 </td><td>188                </td><td>197                </td><td>ad campaign        </td></tr>\n",
       "\t<tr><td>2012-12-31 10:00:00</td><td>spring             </td><td>no                 </td><td>yes                </td><td>mist_cloudy        </td><td> 8.20              </td><td>10.605             </td><td>69                 </td><td> 8.9981            </td><td> 8                 </td><td> 92                </td><td>100                </td><td>twitter            </td></tr>\n",
       "\t<tr><td>2012-12-31 11:00:00</td><td>spring             </td><td>no                 </td><td>yes                </td><td>mist_cloudy        </td><td> 9.02              </td><td>11.365             </td><td>60                 </td><td>12.9980            </td><td>10                 </td><td> 96                </td><td>106                </td><td>web                </td></tr>\n",
       "\t<tr><td>2012-12-31 12:00:00</td><td>spring             </td><td>no                 </td><td>yes                </td><td>mist_cloudy        </td><td> 9.84              </td><td>11.365             </td><td>56                 </td><td>12.9980            </td><td>11                 </td><td>110                </td><td>121                </td><td>web                </td></tr>\n",
       "\t<tr><td>2012-12-31 13:00:00</td><td>spring             </td><td>no                 </td><td>yes                </td><td>mist_cloudy        </td><td>10.66              </td><td>12.880             </td><td>44                 </td><td>11.0014            </td><td>10                 </td><td>120                </td><td>130                </td><td>web                </td></tr>\n",
       "\t<tr><td>2012-12-31 14:00:00</td><td>spring             </td><td>no                 </td><td>yes                </td><td>mist_cloudy        </td><td>11.48              </td><td>13.635             </td><td>45                 </td><td>15.0013            </td><td>13                 </td><td>109                </td><td>122                </td><td>ad campaign        </td></tr>\n",
       "\t<tr><td>2012-12-31 15:00:00</td><td>spring             </td><td>no                 </td><td>yes                </td><td>mist_cloudy        </td><td>11.48              </td><td>14.395             </td><td>45                 </td><td> 8.9981            </td><td>14                 </td><td>113                </td><td>127                </td><td>ad campaign        </td></tr>\n",
       "\t<tr><td>2012-12-31 16:00:00</td><td>spring             </td><td>no                 </td><td>yes                </td><td>mist_cloudy        </td><td>10.66              </td><td>12.880             </td><td>48                 </td><td>12.9980            </td><td>12                 </td><td>156                </td><td>168                </td><td>ad campaign        </td></tr>\n",
       "\t<tr><td>2012-12-31 17:00:00</td><td>spring             </td><td>no                 </td><td>yes                </td><td>mist_cloudy        </td><td>10.66              </td><td>14.395             </td><td>48                 </td><td> 6.0032            </td><td>11                 </td><td>335                </td><td>346                </td><td>web                </td></tr>\n",
       "\t<tr><td>2012-12-31 18:00:00</td><td>spring             </td><td>no                 </td><td>yes                </td><td>mist_cloudy        </td><td>10.66              </td><td>13.635             </td><td>48                 </td><td> 8.9981            </td><td>10                 </td><td>326                </td><td>336                </td><td>facebook page      </td></tr>\n",
       "\t<tr><td>2012-12-31 19:00:00</td><td>spring             </td><td>no                 </td><td>yes                </td><td>mist_cloudy        </td><td>10.66              </td><td>12.880             </td><td>60                 </td><td>11.0014            </td><td> 5                 </td><td>206                </td><td>211                </td><td>unknown            </td></tr>\n",
       "\t<tr><td>2012-12-31 20:00:00</td><td>spring             </td><td>no                 </td><td>yes                </td><td>mist_cloudy        </td><td>10.66              </td><td>12.880             </td><td>60                 </td><td>11.0014            </td><td> 4                 </td><td>140                </td><td>144                </td><td>ad campaign        </td></tr>\n",
       "\t<tr><td>2012-12-31 21:00:00</td><td>spring             </td><td>no                 </td><td>yes                </td><td>clr_part_cloud     </td><td>10.66              </td><td>12.880             </td><td>60                 </td><td>11.0014            </td><td> 3                 </td><td> 96                </td><td> 99                </td><td>ad campaign        </td></tr>\n",
       "\t<tr><td>2012-12-31 22:00:00</td><td>spring             </td><td>no                 </td><td>yes                </td><td>clr_part_cloud     </td><td>10.66              </td><td>13.635             </td><td>56                 </td><td> 8.9981            </td><td> 4                 </td><td> 90                </td><td> 94                </td><td>ad campaign        </td></tr>\n",
       "\t<tr><td>2012-12-31 23:00:00</td><td>spring             </td><td>no                 </td><td>yes                </td><td>clr_part_cloud     </td><td>10.66              </td><td>13.635             </td><td>65                 </td><td> 8.9981            </td><td> 3                 </td><td> 50                </td><td> 53                </td><td>direct             </td></tr>\n",
       "</tbody>\n",
       "</table>\n"
      ],
      "text/latex": [
       "\\begin{tabular}{r|lllllllllllll}\n",
       " datetime & season & holiday & workingday & weather & temp & atemp & humidity & windspeed & casual & registered & count & sources\\\\\n",
       "\\hline\n",
       "\t 2011-01-01 00:00:00 & spring              & no                  & no                  & clr\\_part\\_cloud  &  9.84               & 14.395              &  81                 &  0.0000             &  3                  & 13                  &  16                 & ad campaign        \\\\\n",
       "\t 2011-01-01 01:00:00 & spring              & no                  & no                  & clr\\_part\\_cloud  &  9.02               & 13.635              &  80                 &  0.0000             &  8                  & 32                  &  40                 & web                \\\\\n",
       "\t 2011-01-01 02:00:00 & spring              & no                  & no                  & clr\\_part\\_cloud  &  9.02               & 13.635              &  80                 &  0.0000             &  5                  & 27                  &  32                 & web                \\\\\n",
       "\t 2011-01-01 03:00:00 & spring              & no                  & no                  & clr\\_part\\_cloud  &  9.84               & 14.395              &  75                 &  0.0000             &  3                  & 10                  &  13                 & ad campaign        \\\\\n",
       "\t 2011-01-01 04:00:00 & spring              & no                  & no                  & clr\\_part\\_cloud  &  9.84               & 14.395              &  75                 &  0.0000             &  0                  &  1                  &   1                 & twitter            \\\\\n",
       "\t 2011-01-01 05:00:00 & spring              & no                  & no                  & mist\\_cloudy       &  9.84               & 12.880              &  75                 &  6.0032             &  0                  &  1                  &   1                 & web                \\\\\n",
       "\t 2011-01-01 06:00:00 & spring              & no                  & no                  & clr\\_part\\_cloud  &  9.02               & 13.635              &  80                 &  0.0000             &  2                  &  0                  &   2                 & ad campaign        \\\\\n",
       "\t 2011-01-01 07:00:00 & spring              & no                  & no                  & clr\\_part\\_cloud  &  8.20               & 12.880              &  86                 &  0.0000             &  1                  &  2                  &   3                 & web                \\\\\n",
       "\t 2011-01-01 08:00:00 & spring              & no                  & no                  & clr\\_part\\_cloud  &  9.84               & 14.395              &  75                 &  0.0000             &  1                  &  7                  &   8                 & web                \\\\\n",
       "\t 2011-01-01 09:00:00 & spring              & no                  & no                  & clr\\_part\\_cloud  & 13.12               & 17.425              &  76                 &  0.0000             &  8                  &  6                  &  14                 & web                \\\\\n",
       "\t 2011-01-01 10:00:00 & spring              & no                  & no                  & clr\\_part\\_cloud  & 15.58               & 19.695              &  76                 & 16.9979             & 12                  & 24                  &  36                 & web                \\\\\n",
       "\t 2011-01-01 11:00:00 & spring              & no                  & no                  & clr\\_part\\_cloud  & 14.76               & 16.665              &  81                 & 19.0012             & 26                  & 30                  &  56                 & web                \\\\\n",
       "\t 2011-01-01 12:00:00 & spring              & no                  & no                  & clr\\_part\\_cloud  & 17.22               & 21.210              &  77                 & 19.0012             & 29                  & 55                  &  84                 & web                \\\\\n",
       "\t 2011-01-01 13:00:00 & spring              & no                  & no                  & mist\\_cloudy       & 18.86               & 22.725              &  72                 & 19.9995             & 47                  & 47                  &  94                 & ad campaign        \\\\\n",
       "\t 2011-01-01 14:00:00 & spring              & no                  & no                  & mist\\_cloudy       & 18.86               & 22.725              &  72                 & 19.0012             & 35                  & 71                  & 106                 & web                \\\\\n",
       "\t 2011-01-01 15:00:00 & spring              & no                  & no                  & mist\\_cloudy       & 18.04               & 21.970              &  77                 & 19.9995             & 40                  & 70                  & 110                 & web                \\\\\n",
       "\t 2011-01-01 16:00:00 & spring              & no                  & no                  & mist\\_cloudy       & 17.22               & 21.210              &  82                 & 19.9995             & 41                  & 52                  &  93                 & ad campaign        \\\\\n",
       "\t 2011-01-01 17:00:00 & spring              & no                  & no                  & mist\\_cloudy       & 18.04               & 21.970              &  82                 & 19.0012             & 15                  & 52                  &  67                 & facebook page      \\\\\n",
       "\t 2011-01-01 18:00:00 & spring              & no                  & no                  & lt\\_rain\\_snow    & 17.22               & 21.210              &  88                 & 16.9979             &  9                  & 26                  &  35                 & web                \\\\\n",
       "\t 2011-01-01 19:00:00 & spring              & no                  & no                  & lt\\_rain\\_snow    & 17.22               & 21.210              &  88                 & 16.9979             &  6                  & 31                  &  37                 & web                \\\\\n",
       "\t 2011-01-01 20:00:00 & spring              & no                  & no                  & mist\\_cloudy       & 16.40               & 20.455              &  87                 & 16.9979             & 11                  & 25                  &  36                 & ad campaign        \\\\\n",
       "\t 2011-01-01 21:00:00 & spring              & no                  & no                  & mist\\_cloudy       & 16.40               & 20.455              &  87                 & 12.9980             &  3                  & 31                  &  34                 & web                \\\\\n",
       "\t 2011-01-01 22:00:00 & spring              & no                  & no                  & mist\\_cloudy       & 16.40               & 20.455              &  94                 & 15.0013             & 11                  & 17                  &  28                 & ad campaign        \\\\\n",
       "\t 2011-01-01 23:00:00 & spring              & no                  & no                  & mist\\_cloudy       & 18.86               & 22.725              &  88                 & 19.9995             & 15                  & 24                  &  39                 & facebook page      \\\\\n",
       "\t 2011-01-02 00:00:00 & spring              & no                  & no                  & mist\\_cloudy       & 18.86               & 22.725              &  88                 & 19.9995             &  4                  & 13                  &  17                 & ad campaign        \\\\\n",
       "\t 2011-01-02 01:00:00 & spring              & no                  & no                  & mist\\_cloudy       & 18.04               & 21.970              &  94                 & 16.9979             &  1                  & 16                  &  17                 & twitter            \\\\\n",
       "\t 2011-01-02 02:00:00 & spring              & no                  & no                  & mist\\_cloudy       & 17.22               & 21.210              & 100                 & 19.0012             &  1                  &  8                  &   9                 & unknown            \\\\\n",
       "\t 2011-01-02 03:00:00 & spring              & no                  & no                  & mist\\_cloudy       & 18.86               & 22.725              &  94                 & 12.9980             &  2                  &  4                  &   6                 & web                \\\\\n",
       "\t 2011-01-02 04:00:00 & spring              & no                  & no                  & mist\\_cloudy       & 18.86               & 22.725              &  94                 & 12.9980             &  2                  &  1                  &   3                 & ad campaign        \\\\\n",
       "\t 2011-01-02 06:00:00 & spring              & no                  & no                  & lt\\_rain\\_snow    & 17.22               & 21.210              &  77                 & 19.9995             &  0                  &  2                  &   2                 & web                \\\\\n",
       "\t ... & ... & ... & ... & ... & ... & ... & ... & ... & ... & ... & ... & ...\\\\\n",
       "\t 2012-12-30 18:00:00 & spring              & no                  & no                  & mist\\_cloudy       &  9.84               & 10.605              & 44                  & 19.9995             & 14                  & 123                 & 137                 & web                \\\\\n",
       "\t 2012-12-30 19:00:00 & spring              & no                  & no                  & clr\\_part\\_cloud  & 13.94               & 18.180              & 61                  &  0.0000             & 11                  & 140                 & 151                 & web                \\\\\n",
       "\t 2012-12-30 20:00:00 & spring              & no                  & no                  & clr\\_part\\_cloud  &  9.02               &  9.850              & 47                  & 22.0028             &  5                  &  84                 &  89                 & ad campaign        \\\\\n",
       "\t 2012-12-30 21:00:00 & spring              & no                  & no                  & clr\\_part\\_cloud  &  8.20               & 10.605              & 51                  & 11.0014             &  3                  &  56                 &  59                 & facebook page      \\\\\n",
       "\t 2012-12-30 22:00:00 & spring              & no                  & no                  & clr\\_part\\_cloud  &  8.20               &  9.850              & 55                  & 12.9980             &  3                  &  51                 &  54                 & facebook page      \\\\\n",
       "\t 2012-12-30 23:00:00 & spring              & no                  & no                  & clr\\_part\\_cloud  &  8.20               &  9.850              & 51                  & 15.0013             &  2                  &  32                 &  34                 & blog               \\\\\n",
       "\t 2012-12-31 00:00:00 & spring              & no                  & yes                 & clr\\_part\\_cloud  &  7.38               &  9.090              & 55                  & 12.9980             &  1                  &  16                 &  17                 & web                \\\\\n",
       "\t 2012-12-31 01:00:00 & spring              & no                  & yes                 & clr\\_part\\_cloud  &  7.38               &  9.090              & 55                  & 12.9980             &  1                  &   7                 &   8                 & ad campaign        \\\\\n",
       "\t 2012-12-31 02:00:00 & spring              & no                  & yes                 & clr\\_part\\_cloud  &  6.56               &  8.335              & 59                  & 11.0014             &  0                  &   4                 &   4                 & web                \\\\\n",
       "\t 2012-12-31 03:00:00 & spring              & no                  & yes                 & clr\\_part\\_cloud  &  6.56               &  9.090              & 59                  &  7.0015             &  0                  &   3                 &   3                 & ad campaign        \\\\\n",
       "\t 2012-12-31 04:00:00 & spring              & no                  & yes                 & clr\\_part\\_cloud  &  5.74               &  8.335              & 69                  &  7.0015             &  0                  &   2                 &   2                 & facebook page      \\\\\n",
       "\t 2012-12-31 05:00:00 & spring              & no                  & yes                 & clr\\_part\\_cloud  &  6.56               &  7.575              & 64                  & 12.9980             &  0                  &  15                 &  15                 & web                \\\\\n",
       "\t 2012-12-31 06:00:00 & spring              & no                  & yes                 & clr\\_part\\_cloud  &  6.56               &  8.335              & 64                  & 11.0014             &  1                  &  64                 &  65                 & ad campaign        \\\\\n",
       "\t 2012-12-31 07:00:00 & spring              & no                  & yes                 & clr\\_part\\_cloud  &  6.56               &  9.090              & 64                  &  8.9981             &  4                  & 231                 & 235                 & ad campaign        \\\\\n",
       "\t 2012-12-31 08:00:00 & spring              & no                  & yes                 & clr\\_part\\_cloud  &  5.74               &  7.575              & 69                  &  8.9981             &  6                  & 421                 & 427                 & web                \\\\\n",
       "\t 2012-12-31 09:00:00 & spring              & no                  & yes                 & mist\\_cloudy       &  7.38               & 10.605              & 64                  &  7.0015             &  9                  & 188                 & 197                 & ad campaign        \\\\\n",
       "\t 2012-12-31 10:00:00 & spring              & no                  & yes                 & mist\\_cloudy       &  8.20               & 10.605              & 69                  &  8.9981             &  8                  &  92                 & 100                 & twitter            \\\\\n",
       "\t 2012-12-31 11:00:00 & spring              & no                  & yes                 & mist\\_cloudy       &  9.02               & 11.365              & 60                  & 12.9980             & 10                  &  96                 & 106                 & web                \\\\\n",
       "\t 2012-12-31 12:00:00 & spring              & no                  & yes                 & mist\\_cloudy       &  9.84               & 11.365              & 56                  & 12.9980             & 11                  & 110                 & 121                 & web                \\\\\n",
       "\t 2012-12-31 13:00:00 & spring              & no                  & yes                 & mist\\_cloudy       & 10.66               & 12.880              & 44                  & 11.0014             & 10                  & 120                 & 130                 & web                \\\\\n",
       "\t 2012-12-31 14:00:00 & spring              & no                  & yes                 & mist\\_cloudy       & 11.48               & 13.635              & 45                  & 15.0013             & 13                  & 109                 & 122                 & ad campaign        \\\\\n",
       "\t 2012-12-31 15:00:00 & spring              & no                  & yes                 & mist\\_cloudy       & 11.48               & 14.395              & 45                  &  8.9981             & 14                  & 113                 & 127                 & ad campaign        \\\\\n",
       "\t 2012-12-31 16:00:00 & spring              & no                  & yes                 & mist\\_cloudy       & 10.66               & 12.880              & 48                  & 12.9980             & 12                  & 156                 & 168                 & ad campaign        \\\\\n",
       "\t 2012-12-31 17:00:00 & spring              & no                  & yes                 & mist\\_cloudy       & 10.66               & 14.395              & 48                  &  6.0032             & 11                  & 335                 & 346                 & web                \\\\\n",
       "\t 2012-12-31 18:00:00 & spring              & no                  & yes                 & mist\\_cloudy       & 10.66               & 13.635              & 48                  &  8.9981             & 10                  & 326                 & 336                 & facebook page      \\\\\n",
       "\t 2012-12-31 19:00:00 & spring              & no                  & yes                 & mist\\_cloudy       & 10.66               & 12.880              & 60                  & 11.0014             &  5                  & 206                 & 211                 & unknown            \\\\\n",
       "\t 2012-12-31 20:00:00 & spring              & no                  & yes                 & mist\\_cloudy       & 10.66               & 12.880              & 60                  & 11.0014             &  4                  & 140                 & 144                 & ad campaign        \\\\\n",
       "\t 2012-12-31 21:00:00 & spring              & no                  & yes                 & clr\\_part\\_cloud  & 10.66               & 12.880              & 60                  & 11.0014             &  3                  &  96                 &  99                 & ad campaign        \\\\\n",
       "\t 2012-12-31 22:00:00 & spring              & no                  & yes                 & clr\\_part\\_cloud  & 10.66               & 13.635              & 56                  &  8.9981             &  4                  &  90                 &  94                 & ad campaign        \\\\\n",
       "\t 2012-12-31 23:00:00 & spring              & no                  & yes                 & clr\\_part\\_cloud  & 10.66               & 13.635              & 65                  &  8.9981             &  3                  &  50                 &  53                 & direct             \\\\\n",
       "\\end{tabular}\n"
      ],
      "text/markdown": [
       "\n",
       "| datetime | season | holiday | workingday | weather | temp | atemp | humidity | windspeed | casual | registered | count | sources |\n",
       "|---|---|---|---|---|---|---|---|---|---|---|---|---|\n",
       "| 2011-01-01 00:00:00 | spring              | no                  | no                  | clr_part_cloud      |  9.84               | 14.395              |  81                 |  0.0000             |  3                  | 13                  |  16                 | ad campaign         |\n",
       "| 2011-01-01 01:00:00 | spring              | no                  | no                  | clr_part_cloud      |  9.02               | 13.635              |  80                 |  0.0000             |  8                  | 32                  |  40                 | web                 |\n",
       "| 2011-01-01 02:00:00 | spring              | no                  | no                  | clr_part_cloud      |  9.02               | 13.635              |  80                 |  0.0000             |  5                  | 27                  |  32                 | web                 |\n",
       "| 2011-01-01 03:00:00 | spring              | no                  | no                  | clr_part_cloud      |  9.84               | 14.395              |  75                 |  0.0000             |  3                  | 10                  |  13                 | ad campaign         |\n",
       "| 2011-01-01 04:00:00 | spring              | no                  | no                  | clr_part_cloud      |  9.84               | 14.395              |  75                 |  0.0000             |  0                  |  1                  |   1                 | twitter             |\n",
       "| 2011-01-01 05:00:00 | spring              | no                  | no                  | mist_cloudy         |  9.84               | 12.880              |  75                 |  6.0032             |  0                  |  1                  |   1                 | web                 |\n",
       "| 2011-01-01 06:00:00 | spring              | no                  | no                  | clr_part_cloud      |  9.02               | 13.635              |  80                 |  0.0000             |  2                  |  0                  |   2                 | ad campaign         |\n",
       "| 2011-01-01 07:00:00 | spring              | no                  | no                  | clr_part_cloud      |  8.20               | 12.880              |  86                 |  0.0000             |  1                  |  2                  |   3                 | web                 |\n",
       "| 2011-01-01 08:00:00 | spring              | no                  | no                  | clr_part_cloud      |  9.84               | 14.395              |  75                 |  0.0000             |  1                  |  7                  |   8                 | web                 |\n",
       "| 2011-01-01 09:00:00 | spring              | no                  | no                  | clr_part_cloud      | 13.12               | 17.425              |  76                 |  0.0000             |  8                  |  6                  |  14                 | web                 |\n",
       "| 2011-01-01 10:00:00 | spring              | no                  | no                  | clr_part_cloud      | 15.58               | 19.695              |  76                 | 16.9979             | 12                  | 24                  |  36                 | web                 |\n",
       "| 2011-01-01 11:00:00 | spring              | no                  | no                  | clr_part_cloud      | 14.76               | 16.665              |  81                 | 19.0012             | 26                  | 30                  |  56                 | web                 |\n",
       "| 2011-01-01 12:00:00 | spring              | no                  | no                  | clr_part_cloud      | 17.22               | 21.210              |  77                 | 19.0012             | 29                  | 55                  |  84                 | web                 |\n",
       "| 2011-01-01 13:00:00 | spring              | no                  | no                  | mist_cloudy         | 18.86               | 22.725              |  72                 | 19.9995             | 47                  | 47                  |  94                 | ad campaign         |\n",
       "| 2011-01-01 14:00:00 | spring              | no                  | no                  | mist_cloudy         | 18.86               | 22.725              |  72                 | 19.0012             | 35                  | 71                  | 106                 | web                 |\n",
       "| 2011-01-01 15:00:00 | spring              | no                  | no                  | mist_cloudy         | 18.04               | 21.970              |  77                 | 19.9995             | 40                  | 70                  | 110                 | web                 |\n",
       "| 2011-01-01 16:00:00 | spring              | no                  | no                  | mist_cloudy         | 17.22               | 21.210              |  82                 | 19.9995             | 41                  | 52                  |  93                 | ad campaign         |\n",
       "| 2011-01-01 17:00:00 | spring              | no                  | no                  | mist_cloudy         | 18.04               | 21.970              |  82                 | 19.0012             | 15                  | 52                  |  67                 | facebook page       |\n",
       "| 2011-01-01 18:00:00 | spring              | no                  | no                  | lt_rain_snow        | 17.22               | 21.210              |  88                 | 16.9979             |  9                  | 26                  |  35                 | web                 |\n",
       "| 2011-01-01 19:00:00 | spring              | no                  | no                  | lt_rain_snow        | 17.22               | 21.210              |  88                 | 16.9979             |  6                  | 31                  |  37                 | web                 |\n",
       "| 2011-01-01 20:00:00 | spring              | no                  | no                  | mist_cloudy         | 16.40               | 20.455              |  87                 | 16.9979             | 11                  | 25                  |  36                 | ad campaign         |\n",
       "| 2011-01-01 21:00:00 | spring              | no                  | no                  | mist_cloudy         | 16.40               | 20.455              |  87                 | 12.9980             |  3                  | 31                  |  34                 | web                 |\n",
       "| 2011-01-01 22:00:00 | spring              | no                  | no                  | mist_cloudy         | 16.40               | 20.455              |  94                 | 15.0013             | 11                  | 17                  |  28                 | ad campaign         |\n",
       "| 2011-01-01 23:00:00 | spring              | no                  | no                  | mist_cloudy         | 18.86               | 22.725              |  88                 | 19.9995             | 15                  | 24                  |  39                 | facebook page       |\n",
       "| 2011-01-02 00:00:00 | spring              | no                  | no                  | mist_cloudy         | 18.86               | 22.725              |  88                 | 19.9995             |  4                  | 13                  |  17                 | ad campaign         |\n",
       "| 2011-01-02 01:00:00 | spring              | no                  | no                  | mist_cloudy         | 18.04               | 21.970              |  94                 | 16.9979             |  1                  | 16                  |  17                 | twitter             |\n",
       "| 2011-01-02 02:00:00 | spring              | no                  | no                  | mist_cloudy         | 17.22               | 21.210              | 100                 | 19.0012             |  1                  |  8                  |   9                 | unknown             |\n",
       "| 2011-01-02 03:00:00 | spring              | no                  | no                  | mist_cloudy         | 18.86               | 22.725              |  94                 | 12.9980             |  2                  |  4                  |   6                 | web                 |\n",
       "| 2011-01-02 04:00:00 | spring              | no                  | no                  | mist_cloudy         | 18.86               | 22.725              |  94                 | 12.9980             |  2                  |  1                  |   3                 | ad campaign         |\n",
       "| 2011-01-02 06:00:00 | spring              | no                  | no                  | lt_rain_snow        | 17.22               | 21.210              |  77                 | 19.9995             |  0                  |  2                  |   2                 | web                 |\n",
       "| ... | ... | ... | ... | ... | ... | ... | ... | ... | ... | ... | ... | ... |\n",
       "| 2012-12-30 18:00:00 | spring              | no                  | no                  | mist_cloudy         |  9.84               | 10.605              | 44                  | 19.9995             | 14                  | 123                 | 137                 | web                 |\n",
       "| 2012-12-30 19:00:00 | spring              | no                  | no                  | clr_part_cloud      | 13.94               | 18.180              | 61                  |  0.0000             | 11                  | 140                 | 151                 | web                 |\n",
       "| 2012-12-30 20:00:00 | spring              | no                  | no                  | clr_part_cloud      |  9.02               |  9.850              | 47                  | 22.0028             |  5                  |  84                 |  89                 | ad campaign         |\n",
       "| 2012-12-30 21:00:00 | spring              | no                  | no                  | clr_part_cloud      |  8.20               | 10.605              | 51                  | 11.0014             |  3                  |  56                 |  59                 | facebook page       |\n",
       "| 2012-12-30 22:00:00 | spring              | no                  | no                  | clr_part_cloud      |  8.20               |  9.850              | 55                  | 12.9980             |  3                  |  51                 |  54                 | facebook page       |\n",
       "| 2012-12-30 23:00:00 | spring              | no                  | no                  | clr_part_cloud      |  8.20               |  9.850              | 51                  | 15.0013             |  2                  |  32                 |  34                 | blog                |\n",
       "| 2012-12-31 00:00:00 | spring              | no                  | yes                 | clr_part_cloud      |  7.38               |  9.090              | 55                  | 12.9980             |  1                  |  16                 |  17                 | web                 |\n",
       "| 2012-12-31 01:00:00 | spring              | no                  | yes                 | clr_part_cloud      |  7.38               |  9.090              | 55                  | 12.9980             |  1                  |   7                 |   8                 | ad campaign         |\n",
       "| 2012-12-31 02:00:00 | spring              | no                  | yes                 | clr_part_cloud      |  6.56               |  8.335              | 59                  | 11.0014             |  0                  |   4                 |   4                 | web                 |\n",
       "| 2012-12-31 03:00:00 | spring              | no                  | yes                 | clr_part_cloud      |  6.56               |  9.090              | 59                  |  7.0015             |  0                  |   3                 |   3                 | ad campaign         |\n",
       "| 2012-12-31 04:00:00 | spring              | no                  | yes                 | clr_part_cloud      |  5.74               |  8.335              | 69                  |  7.0015             |  0                  |   2                 |   2                 | facebook page       |\n",
       "| 2012-12-31 05:00:00 | spring              | no                  | yes                 | clr_part_cloud      |  6.56               |  7.575              | 64                  | 12.9980             |  0                  |  15                 |  15                 | web                 |\n",
       "| 2012-12-31 06:00:00 | spring              | no                  | yes                 | clr_part_cloud      |  6.56               |  8.335              | 64                  | 11.0014             |  1                  |  64                 |  65                 | ad campaign         |\n",
       "| 2012-12-31 07:00:00 | spring              | no                  | yes                 | clr_part_cloud      |  6.56               |  9.090              | 64                  |  8.9981             |  4                  | 231                 | 235                 | ad campaign         |\n",
       "| 2012-12-31 08:00:00 | spring              | no                  | yes                 | clr_part_cloud      |  5.74               |  7.575              | 69                  |  8.9981             |  6                  | 421                 | 427                 | web                 |\n",
       "| 2012-12-31 09:00:00 | spring              | no                  | yes                 | mist_cloudy         |  7.38               | 10.605              | 64                  |  7.0015             |  9                  | 188                 | 197                 | ad campaign         |\n",
       "| 2012-12-31 10:00:00 | spring              | no                  | yes                 | mist_cloudy         |  8.20               | 10.605              | 69                  |  8.9981             |  8                  |  92                 | 100                 | twitter             |\n",
       "| 2012-12-31 11:00:00 | spring              | no                  | yes                 | mist_cloudy         |  9.02               | 11.365              | 60                  | 12.9980             | 10                  |  96                 | 106                 | web                 |\n",
       "| 2012-12-31 12:00:00 | spring              | no                  | yes                 | mist_cloudy         |  9.84               | 11.365              | 56                  | 12.9980             | 11                  | 110                 | 121                 | web                 |\n",
       "| 2012-12-31 13:00:00 | spring              | no                  | yes                 | mist_cloudy         | 10.66               | 12.880              | 44                  | 11.0014             | 10                  | 120                 | 130                 | web                 |\n",
       "| 2012-12-31 14:00:00 | spring              | no                  | yes                 | mist_cloudy         | 11.48               | 13.635              | 45                  | 15.0013             | 13                  | 109                 | 122                 | ad campaign         |\n",
       "| 2012-12-31 15:00:00 | spring              | no                  | yes                 | mist_cloudy         | 11.48               | 14.395              | 45                  |  8.9981             | 14                  | 113                 | 127                 | ad campaign         |\n",
       "| 2012-12-31 16:00:00 | spring              | no                  | yes                 | mist_cloudy         | 10.66               | 12.880              | 48                  | 12.9980             | 12                  | 156                 | 168                 | ad campaign         |\n",
       "| 2012-12-31 17:00:00 | spring              | no                  | yes                 | mist_cloudy         | 10.66               | 14.395              | 48                  |  6.0032             | 11                  | 335                 | 346                 | web                 |\n",
       "| 2012-12-31 18:00:00 | spring              | no                  | yes                 | mist_cloudy         | 10.66               | 13.635              | 48                  |  8.9981             | 10                  | 326                 | 336                 | facebook page       |\n",
       "| 2012-12-31 19:00:00 | spring              | no                  | yes                 | mist_cloudy         | 10.66               | 12.880              | 60                  | 11.0014             |  5                  | 206                 | 211                 | unknown             |\n",
       "| 2012-12-31 20:00:00 | spring              | no                  | yes                 | mist_cloudy         | 10.66               | 12.880              | 60                  | 11.0014             |  4                  | 140                 | 144                 | ad campaign         |\n",
       "| 2012-12-31 21:00:00 | spring              | no                  | yes                 | clr_part_cloud      | 10.66               | 12.880              | 60                  | 11.0014             |  3                  |  96                 |  99                 | ad campaign         |\n",
       "| 2012-12-31 22:00:00 | spring              | no                  | yes                 | clr_part_cloud      | 10.66               | 13.635              | 56                  |  8.9981             |  4                  |  90                 |  94                 | ad campaign         |\n",
       "| 2012-12-31 23:00:00 | spring              | no                  | yes                 | clr_part_cloud      | 10.66               | 13.635              | 65                  |  8.9981             |  3                  |  50                 |  53                 | direct              |\n",
       "\n"
      ],
      "text/plain": [
       "      datetime            season holiday workingday weather        temp  atemp \n",
       "1     2011-01-01 00:00:00 spring no      no         clr_part_cloud  9.84 14.395\n",
       "2     2011-01-01 01:00:00 spring no      no         clr_part_cloud  9.02 13.635\n",
       "3     2011-01-01 02:00:00 spring no      no         clr_part_cloud  9.02 13.635\n",
       "4     2011-01-01 03:00:00 spring no      no         clr_part_cloud  9.84 14.395\n",
       "5     2011-01-01 04:00:00 spring no      no         clr_part_cloud  9.84 14.395\n",
       "6     2011-01-01 05:00:00 spring no      no         mist_cloudy     9.84 12.880\n",
       "7     2011-01-01 06:00:00 spring no      no         clr_part_cloud  9.02 13.635\n",
       "8     2011-01-01 07:00:00 spring no      no         clr_part_cloud  8.20 12.880\n",
       "9     2011-01-01 08:00:00 spring no      no         clr_part_cloud  9.84 14.395\n",
       "10    2011-01-01 09:00:00 spring no      no         clr_part_cloud 13.12 17.425\n",
       "11    2011-01-01 10:00:00 spring no      no         clr_part_cloud 15.58 19.695\n",
       "12    2011-01-01 11:00:00 spring no      no         clr_part_cloud 14.76 16.665\n",
       "13    2011-01-01 12:00:00 spring no      no         clr_part_cloud 17.22 21.210\n",
       "14    2011-01-01 13:00:00 spring no      no         mist_cloudy    18.86 22.725\n",
       "15    2011-01-01 14:00:00 spring no      no         mist_cloudy    18.86 22.725\n",
       "16    2011-01-01 15:00:00 spring no      no         mist_cloudy    18.04 21.970\n",
       "17    2011-01-01 16:00:00 spring no      no         mist_cloudy    17.22 21.210\n",
       "18    2011-01-01 17:00:00 spring no      no         mist_cloudy    18.04 21.970\n",
       "19    2011-01-01 18:00:00 spring no      no         lt_rain_snow   17.22 21.210\n",
       "20    2011-01-01 19:00:00 spring no      no         lt_rain_snow   17.22 21.210\n",
       "21    2011-01-01 20:00:00 spring no      no         mist_cloudy    16.40 20.455\n",
       "22    2011-01-01 21:00:00 spring no      no         mist_cloudy    16.40 20.455\n",
       "23    2011-01-01 22:00:00 spring no      no         mist_cloudy    16.40 20.455\n",
       "24    2011-01-01 23:00:00 spring no      no         mist_cloudy    18.86 22.725\n",
       "25    2011-01-02 00:00:00 spring no      no         mist_cloudy    18.86 22.725\n",
       "26    2011-01-02 01:00:00 spring no      no         mist_cloudy    18.04 21.970\n",
       "27    2011-01-02 02:00:00 spring no      no         mist_cloudy    17.22 21.210\n",
       "28    2011-01-02 03:00:00 spring no      no         mist_cloudy    18.86 22.725\n",
       "29    2011-01-02 04:00:00 spring no      no         mist_cloudy    18.86 22.725\n",
       "30    2011-01-02 06:00:00 spring no      no         lt_rain_snow   17.22 21.210\n",
       "...   ...                 ...    ...     ...        ...            ...   ...   \n",
       "17350 2012-12-30 18:00:00 spring no      no         mist_cloudy     9.84 10.605\n",
       "17351 2012-12-30 19:00:00 spring no      no         clr_part_cloud 13.94 18.180\n",
       "17352 2012-12-30 20:00:00 spring no      no         clr_part_cloud  9.02  9.850\n",
       "17353 2012-12-30 21:00:00 spring no      no         clr_part_cloud  8.20 10.605\n",
       "17354 2012-12-30 22:00:00 spring no      no         clr_part_cloud  8.20  9.850\n",
       "17355 2012-12-30 23:00:00 spring no      no         clr_part_cloud  8.20  9.850\n",
       "17356 2012-12-31 00:00:00 spring no      yes        clr_part_cloud  7.38  9.090\n",
       "17357 2012-12-31 01:00:00 spring no      yes        clr_part_cloud  7.38  9.090\n",
       "17358 2012-12-31 02:00:00 spring no      yes        clr_part_cloud  6.56  8.335\n",
       "17359 2012-12-31 03:00:00 spring no      yes        clr_part_cloud  6.56  9.090\n",
       "17360 2012-12-31 04:00:00 spring no      yes        clr_part_cloud  5.74  8.335\n",
       "17361 2012-12-31 05:00:00 spring no      yes        clr_part_cloud  6.56  7.575\n",
       "17362 2012-12-31 06:00:00 spring no      yes        clr_part_cloud  6.56  8.335\n",
       "17363 2012-12-31 07:00:00 spring no      yes        clr_part_cloud  6.56  9.090\n",
       "17364 2012-12-31 08:00:00 spring no      yes        clr_part_cloud  5.74  7.575\n",
       "17365 2012-12-31 09:00:00 spring no      yes        mist_cloudy     7.38 10.605\n",
       "17366 2012-12-31 10:00:00 spring no      yes        mist_cloudy     8.20 10.605\n",
       "17367 2012-12-31 11:00:00 spring no      yes        mist_cloudy     9.02 11.365\n",
       "17368 2012-12-31 12:00:00 spring no      yes        mist_cloudy     9.84 11.365\n",
       "17369 2012-12-31 13:00:00 spring no      yes        mist_cloudy    10.66 12.880\n",
       "17370 2012-12-31 14:00:00 spring no      yes        mist_cloudy    11.48 13.635\n",
       "17371 2012-12-31 15:00:00 spring no      yes        mist_cloudy    11.48 14.395\n",
       "17372 2012-12-31 16:00:00 spring no      yes        mist_cloudy    10.66 12.880\n",
       "17373 2012-12-31 17:00:00 spring no      yes        mist_cloudy    10.66 14.395\n",
       "17374 2012-12-31 18:00:00 spring no      yes        mist_cloudy    10.66 13.635\n",
       "17375 2012-12-31 19:00:00 spring no      yes        mist_cloudy    10.66 12.880\n",
       "17376 2012-12-31 20:00:00 spring no      yes        mist_cloudy    10.66 12.880\n",
       "17377 2012-12-31 21:00:00 spring no      yes        clr_part_cloud 10.66 12.880\n",
       "17378 2012-12-31 22:00:00 spring no      yes        clr_part_cloud 10.66 13.635\n",
       "17379 2012-12-31 23:00:00 spring no      yes        clr_part_cloud 10.66 13.635\n",
       "      humidity windspeed casual registered count sources      \n",
       "1      81       0.0000    3     13          16   ad campaign  \n",
       "2      80       0.0000    8     32          40   web          \n",
       "3      80       0.0000    5     27          32   web          \n",
       "4      75       0.0000    3     10          13   ad campaign  \n",
       "5      75       0.0000    0      1           1   twitter      \n",
       "6      75       6.0032    0      1           1   web          \n",
       "7      80       0.0000    2      0           2   ad campaign  \n",
       "8      86       0.0000    1      2           3   web          \n",
       "9      75       0.0000    1      7           8   web          \n",
       "10     76       0.0000    8      6          14   web          \n",
       "11     76      16.9979   12     24          36   web          \n",
       "12     81      19.0012   26     30          56   web          \n",
       "13     77      19.0012   29     55          84   web          \n",
       "14     72      19.9995   47     47          94   ad campaign  \n",
       "15     72      19.0012   35     71         106   web          \n",
       "16     77      19.9995   40     70         110   web          \n",
       "17     82      19.9995   41     52          93   ad campaign  \n",
       "18     82      19.0012   15     52          67   facebook page\n",
       "19     88      16.9979    9     26          35   web          \n",
       "20     88      16.9979    6     31          37   web          \n",
       "21     87      16.9979   11     25          36   ad campaign  \n",
       "22     87      12.9980    3     31          34   web          \n",
       "23     94      15.0013   11     17          28   ad campaign  \n",
       "24     88      19.9995   15     24          39   facebook page\n",
       "25     88      19.9995    4     13          17   ad campaign  \n",
       "26     94      16.9979    1     16          17   twitter      \n",
       "27    100      19.0012    1      8           9   unknown      \n",
       "28     94      12.9980    2      4           6   web          \n",
       "29     94      12.9980    2      1           3   ad campaign  \n",
       "30     77      19.9995    0      2           2   web          \n",
       "...   ...      ...       ...    ...        ...   ...          \n",
       "17350 44       19.9995   14     123        137   web          \n",
       "17351 61        0.0000   11     140        151   web          \n",
       "17352 47       22.0028    5      84         89   ad campaign  \n",
       "17353 51       11.0014    3      56         59   facebook page\n",
       "17354 55       12.9980    3      51         54   facebook page\n",
       "17355 51       15.0013    2      32         34   blog         \n",
       "17356 55       12.9980    1      16         17   web          \n",
       "17357 55       12.9980    1       7          8   ad campaign  \n",
       "17358 59       11.0014    0       4          4   web          \n",
       "17359 59        7.0015    0       3          3   ad campaign  \n",
       "17360 69        7.0015    0       2          2   facebook page\n",
       "17361 64       12.9980    0      15         15   web          \n",
       "17362 64       11.0014    1      64         65   ad campaign  \n",
       "17363 64        8.9981    4     231        235   ad campaign  \n",
       "17364 69        8.9981    6     421        427   web          \n",
       "17365 64        7.0015    9     188        197   ad campaign  \n",
       "17366 69        8.9981    8      92        100   twitter      \n",
       "17367 60       12.9980   10      96        106   web          \n",
       "17368 56       12.9980   11     110        121   web          \n",
       "17369 44       11.0014   10     120        130   web          \n",
       "17370 45       15.0013   13     109        122   ad campaign  \n",
       "17371 45        8.9981   14     113        127   ad campaign  \n",
       "17372 48       12.9980   12     156        168   ad campaign  \n",
       "17373 48        6.0032   11     335        346   web          \n",
       "17374 48        8.9981   10     326        336   facebook page\n",
       "17375 60       11.0014    5     206        211   unknown      \n",
       "17376 60       11.0014    4     140        144   ad campaign  \n",
       "17377 60       11.0014    3      96         99   ad campaign  \n",
       "17378 56        8.9981    4      90         94   ad campaign  \n",
       "17379 65        8.9981    3      50         53   direct       "
      ]
     },
     "metadata": {},
     "output_type": "display_data"
    }
   ],
   "source": [
    "str(bike)\n",
    "bike"
   ]
  },
  {
   "cell_type": "markdown",
   "metadata": {},
   "source": [
    "# Exercise\n",
    "\n",
    "In this exercise, we will load in another dataset from Google Analytics, clean it and reshape it. "
   ]
  },
  {
   "cell_type": "markdown",
   "metadata": {},
   "source": [
    "First, download the sheet \"Dataset2\" from the dataset \"Webanalytics_data_example2.xlsx\" and save in a variable called `gadata`. This is website data about users for the first 6 months of 2019 divided by age group.\n",
    "\n",
    "*Hint: Think about what package and data loading function that will be useful here.*"
   ]
  },
  {
   "cell_type": "code",
   "execution_count": 26,
   "metadata": {},
   "outputs": [
    {
     "name": "stderr",
     "output_type": "stream",
     "text": [
      "New names:\n",
      "* Users -> Users...2\n",
      "* Users -> Users...3\n",
      "* Users -> Users...4\n",
      "* Users -> Users...5\n",
      "* Users -> Users...6\n",
      "* ...\n"
     ]
    },
    {
     "data": {
      "text/html": [
       "<table>\n",
       "<thead><tr><th scope=col>Age</th><th scope=col>Users...2</th><th scope=col>Users...3</th><th scope=col>Users...4</th><th scope=col>Users...5</th><th scope=col>Users...6</th><th scope=col>Users...7</th><th scope=col>Users...8</th><th scope=col>Users...9</th><th scope=col>Users...10</th><th scope=col>...</th><th scope=col>Users...174</th><th scope=col>Users...175</th><th scope=col>Users...176</th><th scope=col>Users...177</th><th scope=col>Users...178</th><th scope=col>Users...179</th><th scope=col>Users...180</th><th scope=col>Users...181</th><th scope=col>Users...182</th><th scope=col>Users...183</th></tr></thead>\n",
       "<tbody>\n",
       "\t<tr><td>25-34</td><td>80304</td><td>720  </td><td>722  </td><td>713  </td><td>732  </td><td>682  </td><td>644  </td><td>636  </td><td>582  </td><td>...  </td><td>229  </td><td>230  </td><td>233  </td><td>207  </td><td>213  </td><td>224  </td><td>172  </td><td>234  </td><td>204  </td><td>187  </td></tr>\n",
       "\t<tr><td>35-44</td><td>37631</td><td>340  </td><td>321  </td><td>281  </td><td>310  </td><td>339  </td><td>300  </td><td>286  </td><td>265  </td><td>...  </td><td> 95  </td><td>120  </td><td> 93  </td><td>112  </td><td>127  </td><td>102  </td><td>129  </td><td>114  </td><td>113  </td><td>101  </td></tr>\n",
       "\t<tr><td>18-24</td><td>31384</td><td>227  </td><td>250  </td><td>218  </td><td>228  </td><td>208  </td><td>230  </td><td>187  </td><td>236  </td><td>...  </td><td>125  </td><td>118  </td><td>126  </td><td>122  </td><td>108  </td><td>105  </td><td>120  </td><td> 99  </td><td> 84  </td><td> 78  </td></tr>\n",
       "\t<tr><td>45-54</td><td>12819</td><td>132  </td><td>121  </td><td>112  </td><td> 85  </td><td> 93  </td><td>103  </td><td> 96  </td><td> 86  </td><td>...  </td><td> 45  </td><td> 45  </td><td> 53  </td><td> 50  </td><td> 43  </td><td> 43  </td><td> 55  </td><td> 40  </td><td> 39  </td><td> 33  </td></tr>\n",
       "\t<tr><td>55-64</td><td> 4393</td><td> 40  </td><td> 30  </td><td> 41  </td><td> 29  </td><td> 27  </td><td> 25  </td><td> 23  </td><td> 41  </td><td>...  </td><td> 14  </td><td> 12  </td><td> 20  </td><td> 22  </td><td> 19  </td><td> 15  </td><td> 23  </td><td> 11  </td><td> 13  </td><td> 15  </td></tr>\n",
       "\t<tr><td>65+  </td><td> 2009</td><td> 18  </td><td> 17  </td><td> 24  </td><td>  0  </td><td> 20  </td><td> 17  </td><td> 16  </td><td> 16  </td><td>...  </td><td> 18  </td><td>  0  </td><td>  0  </td><td> 11  </td><td> 14  </td><td> 15  </td><td>  0  </td><td>  0  </td><td>  0  </td><td> 11  </td></tr>\n",
       "</tbody>\n",
       "</table>\n"
      ],
      "text/latex": [
       "\\begin{tabular}{r|lllllllllllllllllllllllllllllllllllllllllllllllllllllllllllllllllllllllllllllllllllllllllllllllllllllllllllllllllllllllllllllllllllllllllllllllllllllllllllllllllllllllllllllllllllllll}\n",
       " Age & Users...2 & Users...3 & Users...4 & Users...5 & Users...6 & Users...7 & Users...8 & Users...9 & Users...10 & ... & Users...174 & Users...175 & Users...176 & Users...177 & Users...178 & Users...179 & Users...180 & Users...181 & Users...182 & Users...183\\\\\n",
       "\\hline\n",
       "\t 25-34 & 80304 & 720   & 722   & 713   & 732   & 682   & 644   & 636   & 582   & ...   & 229   & 230   & 233   & 207   & 213   & 224   & 172   & 234   & 204   & 187  \\\\\n",
       "\t 35-44 & 37631 & 340   & 321   & 281   & 310   & 339   & 300   & 286   & 265   & ...   &  95   & 120   &  93   & 112   & 127   & 102   & 129   & 114   & 113   & 101  \\\\\n",
       "\t 18-24 & 31384 & 227   & 250   & 218   & 228   & 208   & 230   & 187   & 236   & ...   & 125   & 118   & 126   & 122   & 108   & 105   & 120   &  99   &  84   &  78  \\\\\n",
       "\t 45-54 & 12819 & 132   & 121   & 112   &  85   &  93   & 103   &  96   &  86   & ...   &  45   &  45   &  53   &  50   &  43   &  43   &  55   &  40   &  39   &  33  \\\\\n",
       "\t 55-64 &  4393 &  40   &  30   &  41   &  29   &  27   &  25   &  23   &  41   & ...   &  14   &  12   &  20   &  22   &  19   &  15   &  23   &  11   &  13   &  15  \\\\\n",
       "\t 65+   &  2009 &  18   &  17   &  24   &   0   &  20   &  17   &  16   &  16   & ...   &  18   &   0   &   0   &  11   &  14   &  15   &   0   &   0   &   0   &  11  \\\\\n",
       "\\end{tabular}\n"
      ],
      "text/markdown": [
       "\n",
       "| Age | Users...2 | Users...3 | Users...4 | Users...5 | Users...6 | Users...7 | Users...8 | Users...9 | Users...10 | ... | Users...174 | Users...175 | Users...176 | Users...177 | Users...178 | Users...179 | Users...180 | Users...181 | Users...182 | Users...183 |\n",
       "|---|---|---|---|---|---|---|---|---|---|---|---|---|---|---|---|---|---|---|---|---|\n",
       "| 25-34 | 80304 | 720   | 722   | 713   | 732   | 682   | 644   | 636   | 582   | ...   | 229   | 230   | 233   | 207   | 213   | 224   | 172   | 234   | 204   | 187   |\n",
       "| 35-44 | 37631 | 340   | 321   | 281   | 310   | 339   | 300   | 286   | 265   | ...   |  95   | 120   |  93   | 112   | 127   | 102   | 129   | 114   | 113   | 101   |\n",
       "| 18-24 | 31384 | 227   | 250   | 218   | 228   | 208   | 230   | 187   | 236   | ...   | 125   | 118   | 126   | 122   | 108   | 105   | 120   |  99   |  84   |  78   |\n",
       "| 45-54 | 12819 | 132   | 121   | 112   |  85   |  93   | 103   |  96   |  86   | ...   |  45   |  45   |  53   |  50   |  43   |  43   |  55   |  40   |  39   |  33   |\n",
       "| 55-64 |  4393 |  40   |  30   |  41   |  29   |  27   |  25   |  23   |  41   | ...   |  14   |  12   |  20   |  22   |  19   |  15   |  23   |  11   |  13   |  15   |\n",
       "| 65+   |  2009 |  18   |  17   |  24   |   0   |  20   |  17   |  16   |  16   | ...   |  18   |   0   |   0   |  11   |  14   |  15   |   0   |   0   |   0   |  11   |\n",
       "\n"
      ],
      "text/plain": [
       "  Age   Users...2 Users...3 Users...4 Users...5 Users...6 Users...7 Users...8\n",
       "1 25-34 80304     720       722       713       732       682       644      \n",
       "2 35-44 37631     340       321       281       310       339       300      \n",
       "3 18-24 31384     227       250       218       228       208       230      \n",
       "4 45-54 12819     132       121       112        85        93       103      \n",
       "5 55-64  4393      40        30        41        29        27        25      \n",
       "6 65+    2009      18        17        24         0        20        17      \n",
       "  Users...9 Users...10 ... Users...174 Users...175 Users...176 Users...177\n",
       "1 636       582        ... 229         230         233         207        \n",
       "2 286       265        ...  95         120          93         112        \n",
       "3 187       236        ... 125         118         126         122        \n",
       "4  96        86        ...  45          45          53          50        \n",
       "5  23        41        ...  14          12          20          22        \n",
       "6  16        16        ...  18           0           0          11        \n",
       "  Users...178 Users...179 Users...180 Users...181 Users...182 Users...183\n",
       "1 213         224         172         234         204         187        \n",
       "2 127         102         129         114         113         101        \n",
       "3 108         105         120          99          84          78        \n",
       "4  43          43          55          40          39          33        \n",
       "5  19          15          23          11          13          15        \n",
       "6  14          15           0           0           0          11        "
      ]
     },
     "metadata": {},
     "output_type": "display_data"
    }
   ],
   "source": [
    "library(readxl)\n",
    "gadata <- read_excel(\"Webanalytics_data_example2.xlsx\", skip = 1, sheet = \"Dataset2\")\n",
    "head(gadata)"
   ]
  },
  {
   "cell_type": "markdown",
   "metadata": {},
   "source": [
    "If you managed to load in the data it probably looks like this:\n",
    "![gadata](gadata1.png)\n",
    "It looks a bit strange doesn't it? It certainly does not look like tidy data. We want to turn it into tidy data that looks like this:\n",
    "![gadata2](gadata2.png)\n",
    "\n",
    "Doing this cleaning will require several steps, so we will go through them one by one."
   ]
  },
  {
   "cell_type": "markdown",
   "metadata": {},
   "source": [
    "The first thing we will do is to remove the second column titled \"Total\" as it is just a column with totals, which is not really an observation or an attribute according to the concept of tidy data. So remove the second \"Total\" column.\n",
    "\n",
    "*Hint: You can use the `select` function. Try to figure out how `-` can be used in connection with the `select` function.*"
   ]
  },
  {
   "cell_type": "code",
   "execution_count": 34,
   "metadata": {},
   "outputs": [
    {
     "data": {
      "text/html": [
       "<ol class=list-inline>\n",
       "\t<li>'Age'</li>\n",
       "\t<li>'Users...2'</li>\n",
       "\t<li>'Users...3'</li>\n",
       "\t<li>'Users...4'</li>\n",
       "\t<li>'Users...5'</li>\n",
       "\t<li>'Users...6'</li>\n",
       "\t<li>'Users...7'</li>\n",
       "\t<li>'Users...8'</li>\n",
       "\t<li>'Users...9'</li>\n",
       "\t<li>'Users...10'</li>\n",
       "\t<li>'Users...11'</li>\n",
       "\t<li>'Users...12'</li>\n",
       "\t<li>'Users...13'</li>\n",
       "\t<li>'Users...14'</li>\n",
       "\t<li>'Users...15'</li>\n",
       "\t<li>'Users...16'</li>\n",
       "\t<li>'Users...17'</li>\n",
       "\t<li>'Users...18'</li>\n",
       "\t<li>'Users...19'</li>\n",
       "\t<li>'Users...20'</li>\n",
       "\t<li>'Users...21'</li>\n",
       "\t<li>'Users...22'</li>\n",
       "\t<li>'Users...23'</li>\n",
       "\t<li>'Users...24'</li>\n",
       "\t<li>'Users...25'</li>\n",
       "\t<li>'Users...26'</li>\n",
       "\t<li>'Users...27'</li>\n",
       "\t<li>'Users...28'</li>\n",
       "\t<li>'Users...29'</li>\n",
       "\t<li>'Users...30'</li>\n",
       "\t<li>'Users...31'</li>\n",
       "\t<li>'Users...32'</li>\n",
       "\t<li>'Users...33'</li>\n",
       "\t<li>'Users...34'</li>\n",
       "\t<li>'Users...35'</li>\n",
       "\t<li>'Users...36'</li>\n",
       "\t<li>'Users...37'</li>\n",
       "\t<li>'Users...38'</li>\n",
       "\t<li>'Users...39'</li>\n",
       "\t<li>'Users...40'</li>\n",
       "\t<li>'Users...41'</li>\n",
       "\t<li>'Users...42'</li>\n",
       "\t<li>'Users...43'</li>\n",
       "\t<li>'Users...44'</li>\n",
       "\t<li>'Users...45'</li>\n",
       "\t<li>'Users...46'</li>\n",
       "\t<li>'Users...47'</li>\n",
       "\t<li>'Users...48'</li>\n",
       "\t<li>'Users...49'</li>\n",
       "\t<li>'Users...50'</li>\n",
       "\t<li>'Users...51'</li>\n",
       "\t<li>'Users...52'</li>\n",
       "\t<li>'Users...53'</li>\n",
       "\t<li>'Users...54'</li>\n",
       "\t<li>'Users...55'</li>\n",
       "\t<li>'Users...56'</li>\n",
       "\t<li>'Users...57'</li>\n",
       "\t<li>'Users...58'</li>\n",
       "\t<li>'Users...59'</li>\n",
       "\t<li>'Users...60'</li>\n",
       "\t<li>'Users...61'</li>\n",
       "\t<li>'Users...62'</li>\n",
       "\t<li>'Users...63'</li>\n",
       "\t<li>'Users...64'</li>\n",
       "\t<li>'Users...65'</li>\n",
       "\t<li>'Users...66'</li>\n",
       "\t<li>'Users...67'</li>\n",
       "\t<li>'Users...68'</li>\n",
       "\t<li>'Users...69'</li>\n",
       "\t<li>'Users...70'</li>\n",
       "\t<li>'Users...71'</li>\n",
       "\t<li>'Users...72'</li>\n",
       "\t<li>'Users...73'</li>\n",
       "\t<li>'Users...74'</li>\n",
       "\t<li>'Users...75'</li>\n",
       "\t<li>'Users...76'</li>\n",
       "\t<li>'Users...77'</li>\n",
       "\t<li>'Users...78'</li>\n",
       "\t<li>'Users...79'</li>\n",
       "\t<li>'Users...80'</li>\n",
       "\t<li>'Users...81'</li>\n",
       "\t<li>'Users...82'</li>\n",
       "\t<li>'Users...83'</li>\n",
       "\t<li>'Users...84'</li>\n",
       "\t<li>'Users...85'</li>\n",
       "\t<li>'Users...86'</li>\n",
       "\t<li>'Users...87'</li>\n",
       "\t<li>'Users...88'</li>\n",
       "\t<li>'Users...89'</li>\n",
       "\t<li>'Users...90'</li>\n",
       "\t<li>'Users...91'</li>\n",
       "\t<li>'Users...92'</li>\n",
       "\t<li>'Users...93'</li>\n",
       "\t<li>'Users...94'</li>\n",
       "\t<li>'Users...95'</li>\n",
       "\t<li>'Users...96'</li>\n",
       "\t<li>'Users...97'</li>\n",
       "\t<li>'Users...98'</li>\n",
       "\t<li>'Users...99'</li>\n",
       "\t<li>'Users...100'</li>\n",
       "\t<li>'Users...101'</li>\n",
       "\t<li>'Users...102'</li>\n",
       "\t<li>'Users...103'</li>\n",
       "\t<li>'Users...104'</li>\n",
       "\t<li>'Users...105'</li>\n",
       "\t<li>'Users...106'</li>\n",
       "\t<li>'Users...107'</li>\n",
       "\t<li>'Users...108'</li>\n",
       "\t<li>'Users...109'</li>\n",
       "\t<li>'Users...110'</li>\n",
       "\t<li>'Users...111'</li>\n",
       "\t<li>'Users...112'</li>\n",
       "\t<li>'Users...113'</li>\n",
       "\t<li>'Users...114'</li>\n",
       "\t<li>'Users...115'</li>\n",
       "\t<li>'Users...116'</li>\n",
       "\t<li>'Users...117'</li>\n",
       "\t<li>'Users...118'</li>\n",
       "\t<li>'Users...119'</li>\n",
       "\t<li>'Users...120'</li>\n",
       "\t<li>'Users...121'</li>\n",
       "\t<li>'Users...122'</li>\n",
       "\t<li>'Users...123'</li>\n",
       "\t<li>'Users...124'</li>\n",
       "\t<li>'Users...125'</li>\n",
       "\t<li>'Users...126'</li>\n",
       "\t<li>'Users...127'</li>\n",
       "\t<li>'Users...128'</li>\n",
       "\t<li>'Users...129'</li>\n",
       "\t<li>'Users...130'</li>\n",
       "\t<li>'Users...131'</li>\n",
       "\t<li>'Users...132'</li>\n",
       "\t<li>'Users...133'</li>\n",
       "\t<li>'Users...134'</li>\n",
       "\t<li>'Users...135'</li>\n",
       "\t<li>'Users...136'</li>\n",
       "\t<li>'Users...137'</li>\n",
       "\t<li>'Users...138'</li>\n",
       "\t<li>'Users...139'</li>\n",
       "\t<li>'Users...140'</li>\n",
       "\t<li>'Users...141'</li>\n",
       "\t<li>'Users...142'</li>\n",
       "\t<li>'Users...143'</li>\n",
       "\t<li>'Users...144'</li>\n",
       "\t<li>'Users...145'</li>\n",
       "\t<li>'Users...146'</li>\n",
       "\t<li>'Users...147'</li>\n",
       "\t<li>'Users...148'</li>\n",
       "\t<li>'Users...149'</li>\n",
       "\t<li>'Users...150'</li>\n",
       "\t<li>'Users...151'</li>\n",
       "\t<li>'Users...152'</li>\n",
       "\t<li>'Users...153'</li>\n",
       "\t<li>'Users...154'</li>\n",
       "\t<li>'Users...155'</li>\n",
       "\t<li>'Users...156'</li>\n",
       "\t<li>'Users...157'</li>\n",
       "\t<li>'Users...158'</li>\n",
       "\t<li>'Users...159'</li>\n",
       "\t<li>'Users...160'</li>\n",
       "\t<li>'Users...161'</li>\n",
       "\t<li>'Users...162'</li>\n",
       "\t<li>'Users...163'</li>\n",
       "\t<li>'Users...164'</li>\n",
       "\t<li>'Users...165'</li>\n",
       "\t<li>'Users...166'</li>\n",
       "\t<li>'Users...167'</li>\n",
       "\t<li>'Users...168'</li>\n",
       "\t<li>'Users...169'</li>\n",
       "\t<li>'Users...170'</li>\n",
       "\t<li>'Users...171'</li>\n",
       "\t<li>'Users...172'</li>\n",
       "\t<li>'Users...173'</li>\n",
       "\t<li>'Users...174'</li>\n",
       "\t<li>'Users...175'</li>\n",
       "\t<li>'Users...176'</li>\n",
       "\t<li>'Users...177'</li>\n",
       "\t<li>'Users...178'</li>\n",
       "\t<li>'Users...179'</li>\n",
       "\t<li>'Users...180'</li>\n",
       "\t<li>'Users...181'</li>\n",
       "\t<li>'Users...182'</li>\n",
       "\t<li>'Users...183'</li>\n",
       "</ol>\n"
      ],
      "text/latex": [
       "\\begin{enumerate*}\n",
       "\\item 'Age'\n",
       "\\item 'Users...2'\n",
       "\\item 'Users...3'\n",
       "\\item 'Users...4'\n",
       "\\item 'Users...5'\n",
       "\\item 'Users...6'\n",
       "\\item 'Users...7'\n",
       "\\item 'Users...8'\n",
       "\\item 'Users...9'\n",
       "\\item 'Users...10'\n",
       "\\item 'Users...11'\n",
       "\\item 'Users...12'\n",
       "\\item 'Users...13'\n",
       "\\item 'Users...14'\n",
       "\\item 'Users...15'\n",
       "\\item 'Users...16'\n",
       "\\item 'Users...17'\n",
       "\\item 'Users...18'\n",
       "\\item 'Users...19'\n",
       "\\item 'Users...20'\n",
       "\\item 'Users...21'\n",
       "\\item 'Users...22'\n",
       "\\item 'Users...23'\n",
       "\\item 'Users...24'\n",
       "\\item 'Users...25'\n",
       "\\item 'Users...26'\n",
       "\\item 'Users...27'\n",
       "\\item 'Users...28'\n",
       "\\item 'Users...29'\n",
       "\\item 'Users...30'\n",
       "\\item 'Users...31'\n",
       "\\item 'Users...32'\n",
       "\\item 'Users...33'\n",
       "\\item 'Users...34'\n",
       "\\item 'Users...35'\n",
       "\\item 'Users...36'\n",
       "\\item 'Users...37'\n",
       "\\item 'Users...38'\n",
       "\\item 'Users...39'\n",
       "\\item 'Users...40'\n",
       "\\item 'Users...41'\n",
       "\\item 'Users...42'\n",
       "\\item 'Users...43'\n",
       "\\item 'Users...44'\n",
       "\\item 'Users...45'\n",
       "\\item 'Users...46'\n",
       "\\item 'Users...47'\n",
       "\\item 'Users...48'\n",
       "\\item 'Users...49'\n",
       "\\item 'Users...50'\n",
       "\\item 'Users...51'\n",
       "\\item 'Users...52'\n",
       "\\item 'Users...53'\n",
       "\\item 'Users...54'\n",
       "\\item 'Users...55'\n",
       "\\item 'Users...56'\n",
       "\\item 'Users...57'\n",
       "\\item 'Users...58'\n",
       "\\item 'Users...59'\n",
       "\\item 'Users...60'\n",
       "\\item 'Users...61'\n",
       "\\item 'Users...62'\n",
       "\\item 'Users...63'\n",
       "\\item 'Users...64'\n",
       "\\item 'Users...65'\n",
       "\\item 'Users...66'\n",
       "\\item 'Users...67'\n",
       "\\item 'Users...68'\n",
       "\\item 'Users...69'\n",
       "\\item 'Users...70'\n",
       "\\item 'Users...71'\n",
       "\\item 'Users...72'\n",
       "\\item 'Users...73'\n",
       "\\item 'Users...74'\n",
       "\\item 'Users...75'\n",
       "\\item 'Users...76'\n",
       "\\item 'Users...77'\n",
       "\\item 'Users...78'\n",
       "\\item 'Users...79'\n",
       "\\item 'Users...80'\n",
       "\\item 'Users...81'\n",
       "\\item 'Users...82'\n",
       "\\item 'Users...83'\n",
       "\\item 'Users...84'\n",
       "\\item 'Users...85'\n",
       "\\item 'Users...86'\n",
       "\\item 'Users...87'\n",
       "\\item 'Users...88'\n",
       "\\item 'Users...89'\n",
       "\\item 'Users...90'\n",
       "\\item 'Users...91'\n",
       "\\item 'Users...92'\n",
       "\\item 'Users...93'\n",
       "\\item 'Users...94'\n",
       "\\item 'Users...95'\n",
       "\\item 'Users...96'\n",
       "\\item 'Users...97'\n",
       "\\item 'Users...98'\n",
       "\\item 'Users...99'\n",
       "\\item 'Users...100'\n",
       "\\item 'Users...101'\n",
       "\\item 'Users...102'\n",
       "\\item 'Users...103'\n",
       "\\item 'Users...104'\n",
       "\\item 'Users...105'\n",
       "\\item 'Users...106'\n",
       "\\item 'Users...107'\n",
       "\\item 'Users...108'\n",
       "\\item 'Users...109'\n",
       "\\item 'Users...110'\n",
       "\\item 'Users...111'\n",
       "\\item 'Users...112'\n",
       "\\item 'Users...113'\n",
       "\\item 'Users...114'\n",
       "\\item 'Users...115'\n",
       "\\item 'Users...116'\n",
       "\\item 'Users...117'\n",
       "\\item 'Users...118'\n",
       "\\item 'Users...119'\n",
       "\\item 'Users...120'\n",
       "\\item 'Users...121'\n",
       "\\item 'Users...122'\n",
       "\\item 'Users...123'\n",
       "\\item 'Users...124'\n",
       "\\item 'Users...125'\n",
       "\\item 'Users...126'\n",
       "\\item 'Users...127'\n",
       "\\item 'Users...128'\n",
       "\\item 'Users...129'\n",
       "\\item 'Users...130'\n",
       "\\item 'Users...131'\n",
       "\\item 'Users...132'\n",
       "\\item 'Users...133'\n",
       "\\item 'Users...134'\n",
       "\\item 'Users...135'\n",
       "\\item 'Users...136'\n",
       "\\item 'Users...137'\n",
       "\\item 'Users...138'\n",
       "\\item 'Users...139'\n",
       "\\item 'Users...140'\n",
       "\\item 'Users...141'\n",
       "\\item 'Users...142'\n",
       "\\item 'Users...143'\n",
       "\\item 'Users...144'\n",
       "\\item 'Users...145'\n",
       "\\item 'Users...146'\n",
       "\\item 'Users...147'\n",
       "\\item 'Users...148'\n",
       "\\item 'Users...149'\n",
       "\\item 'Users...150'\n",
       "\\item 'Users...151'\n",
       "\\item 'Users...152'\n",
       "\\item 'Users...153'\n",
       "\\item 'Users...154'\n",
       "\\item 'Users...155'\n",
       "\\item 'Users...156'\n",
       "\\item 'Users...157'\n",
       "\\item 'Users...158'\n",
       "\\item 'Users...159'\n",
       "\\item 'Users...160'\n",
       "\\item 'Users...161'\n",
       "\\item 'Users...162'\n",
       "\\item 'Users...163'\n",
       "\\item 'Users...164'\n",
       "\\item 'Users...165'\n",
       "\\item 'Users...166'\n",
       "\\item 'Users...167'\n",
       "\\item 'Users...168'\n",
       "\\item 'Users...169'\n",
       "\\item 'Users...170'\n",
       "\\item 'Users...171'\n",
       "\\item 'Users...172'\n",
       "\\item 'Users...173'\n",
       "\\item 'Users...174'\n",
       "\\item 'Users...175'\n",
       "\\item 'Users...176'\n",
       "\\item 'Users...177'\n",
       "\\item 'Users...178'\n",
       "\\item 'Users...179'\n",
       "\\item 'Users...180'\n",
       "\\item 'Users...181'\n",
       "\\item 'Users...182'\n",
       "\\item 'Users...183'\n",
       "\\end{enumerate*}\n"
      ],
      "text/markdown": [
       "1. 'Age'\n",
       "2. 'Users...2'\n",
       "3. 'Users...3'\n",
       "4. 'Users...4'\n",
       "5. 'Users...5'\n",
       "6. 'Users...6'\n",
       "7. 'Users...7'\n",
       "8. 'Users...8'\n",
       "9. 'Users...9'\n",
       "10. 'Users...10'\n",
       "11. 'Users...11'\n",
       "12. 'Users...12'\n",
       "13. 'Users...13'\n",
       "14. 'Users...14'\n",
       "15. 'Users...15'\n",
       "16. 'Users...16'\n",
       "17. 'Users...17'\n",
       "18. 'Users...18'\n",
       "19. 'Users...19'\n",
       "20. 'Users...20'\n",
       "21. 'Users...21'\n",
       "22. 'Users...22'\n",
       "23. 'Users...23'\n",
       "24. 'Users...24'\n",
       "25. 'Users...25'\n",
       "26. 'Users...26'\n",
       "27. 'Users...27'\n",
       "28. 'Users...28'\n",
       "29. 'Users...29'\n",
       "30. 'Users...30'\n",
       "31. 'Users...31'\n",
       "32. 'Users...32'\n",
       "33. 'Users...33'\n",
       "34. 'Users...34'\n",
       "35. 'Users...35'\n",
       "36. 'Users...36'\n",
       "37. 'Users...37'\n",
       "38. 'Users...38'\n",
       "39. 'Users...39'\n",
       "40. 'Users...40'\n",
       "41. 'Users...41'\n",
       "42. 'Users...42'\n",
       "43. 'Users...43'\n",
       "44. 'Users...44'\n",
       "45. 'Users...45'\n",
       "46. 'Users...46'\n",
       "47. 'Users...47'\n",
       "48. 'Users...48'\n",
       "49. 'Users...49'\n",
       "50. 'Users...50'\n",
       "51. 'Users...51'\n",
       "52. 'Users...52'\n",
       "53. 'Users...53'\n",
       "54. 'Users...54'\n",
       "55. 'Users...55'\n",
       "56. 'Users...56'\n",
       "57. 'Users...57'\n",
       "58. 'Users...58'\n",
       "59. 'Users...59'\n",
       "60. 'Users...60'\n",
       "61. 'Users...61'\n",
       "62. 'Users...62'\n",
       "63. 'Users...63'\n",
       "64. 'Users...64'\n",
       "65. 'Users...65'\n",
       "66. 'Users...66'\n",
       "67. 'Users...67'\n",
       "68. 'Users...68'\n",
       "69. 'Users...69'\n",
       "70. 'Users...70'\n",
       "71. 'Users...71'\n",
       "72. 'Users...72'\n",
       "73. 'Users...73'\n",
       "74. 'Users...74'\n",
       "75. 'Users...75'\n",
       "76. 'Users...76'\n",
       "77. 'Users...77'\n",
       "78. 'Users...78'\n",
       "79. 'Users...79'\n",
       "80. 'Users...80'\n",
       "81. 'Users...81'\n",
       "82. 'Users...82'\n",
       "83. 'Users...83'\n",
       "84. 'Users...84'\n",
       "85. 'Users...85'\n",
       "86. 'Users...86'\n",
       "87. 'Users...87'\n",
       "88. 'Users...88'\n",
       "89. 'Users...89'\n",
       "90. 'Users...90'\n",
       "91. 'Users...91'\n",
       "92. 'Users...92'\n",
       "93. 'Users...93'\n",
       "94. 'Users...94'\n",
       "95. 'Users...95'\n",
       "96. 'Users...96'\n",
       "97. 'Users...97'\n",
       "98. 'Users...98'\n",
       "99. 'Users...99'\n",
       "100. 'Users...100'\n",
       "101. 'Users...101'\n",
       "102. 'Users...102'\n",
       "103. 'Users...103'\n",
       "104. 'Users...104'\n",
       "105. 'Users...105'\n",
       "106. 'Users...106'\n",
       "107. 'Users...107'\n",
       "108. 'Users...108'\n",
       "109. 'Users...109'\n",
       "110. 'Users...110'\n",
       "111. 'Users...111'\n",
       "112. 'Users...112'\n",
       "113. 'Users...113'\n",
       "114. 'Users...114'\n",
       "115. 'Users...115'\n",
       "116. 'Users...116'\n",
       "117. 'Users...117'\n",
       "118. 'Users...118'\n",
       "119. 'Users...119'\n",
       "120. 'Users...120'\n",
       "121. 'Users...121'\n",
       "122. 'Users...122'\n",
       "123. 'Users...123'\n",
       "124. 'Users...124'\n",
       "125. 'Users...125'\n",
       "126. 'Users...126'\n",
       "127. 'Users...127'\n",
       "128. 'Users...128'\n",
       "129. 'Users...129'\n",
       "130. 'Users...130'\n",
       "131. 'Users...131'\n",
       "132. 'Users...132'\n",
       "133. 'Users...133'\n",
       "134. 'Users...134'\n",
       "135. 'Users...135'\n",
       "136. 'Users...136'\n",
       "137. 'Users...137'\n",
       "138. 'Users...138'\n",
       "139. 'Users...139'\n",
       "140. 'Users...140'\n",
       "141. 'Users...141'\n",
       "142. 'Users...142'\n",
       "143. 'Users...143'\n",
       "144. 'Users...144'\n",
       "145. 'Users...145'\n",
       "146. 'Users...146'\n",
       "147. 'Users...147'\n",
       "148. 'Users...148'\n",
       "149. 'Users...149'\n",
       "150. 'Users...150'\n",
       "151. 'Users...151'\n",
       "152. 'Users...152'\n",
       "153. 'Users...153'\n",
       "154. 'Users...154'\n",
       "155. 'Users...155'\n",
       "156. 'Users...156'\n",
       "157. 'Users...157'\n",
       "158. 'Users...158'\n",
       "159. 'Users...159'\n",
       "160. 'Users...160'\n",
       "161. 'Users...161'\n",
       "162. 'Users...162'\n",
       "163. 'Users...163'\n",
       "164. 'Users...164'\n",
       "165. 'Users...165'\n",
       "166. 'Users...166'\n",
       "167. 'Users...167'\n",
       "168. 'Users...168'\n",
       "169. 'Users...169'\n",
       "170. 'Users...170'\n",
       "171. 'Users...171'\n",
       "172. 'Users...172'\n",
       "173. 'Users...173'\n",
       "174. 'Users...174'\n",
       "175. 'Users...175'\n",
       "176. 'Users...176'\n",
       "177. 'Users...177'\n",
       "178. 'Users...178'\n",
       "179. 'Users...179'\n",
       "180. 'Users...180'\n",
       "181. 'Users...181'\n",
       "182. 'Users...182'\n",
       "183. 'Users...183'\n",
       "\n",
       "\n"
      ],
      "text/plain": [
       "  [1] \"Age\"         \"Users...2\"   \"Users...3\"   \"Users...4\"   \"Users...5\"  \n",
       "  [6] \"Users...6\"   \"Users...7\"   \"Users...8\"   \"Users...9\"   \"Users...10\" \n",
       " [11] \"Users...11\"  \"Users...12\"  \"Users...13\"  \"Users...14\"  \"Users...15\" \n",
       " [16] \"Users...16\"  \"Users...17\"  \"Users...18\"  \"Users...19\"  \"Users...20\" \n",
       " [21] \"Users...21\"  \"Users...22\"  \"Users...23\"  \"Users...24\"  \"Users...25\" \n",
       " [26] \"Users...26\"  \"Users...27\"  \"Users...28\"  \"Users...29\"  \"Users...30\" \n",
       " [31] \"Users...31\"  \"Users...32\"  \"Users...33\"  \"Users...34\"  \"Users...35\" \n",
       " [36] \"Users...36\"  \"Users...37\"  \"Users...38\"  \"Users...39\"  \"Users...40\" \n",
       " [41] \"Users...41\"  \"Users...42\"  \"Users...43\"  \"Users...44\"  \"Users...45\" \n",
       " [46] \"Users...46\"  \"Users...47\"  \"Users...48\"  \"Users...49\"  \"Users...50\" \n",
       " [51] \"Users...51\"  \"Users...52\"  \"Users...53\"  \"Users...54\"  \"Users...55\" \n",
       " [56] \"Users...56\"  \"Users...57\"  \"Users...58\"  \"Users...59\"  \"Users...60\" \n",
       " [61] \"Users...61\"  \"Users...62\"  \"Users...63\"  \"Users...64\"  \"Users...65\" \n",
       " [66] \"Users...66\"  \"Users...67\"  \"Users...68\"  \"Users...69\"  \"Users...70\" \n",
       " [71] \"Users...71\"  \"Users...72\"  \"Users...73\"  \"Users...74\"  \"Users...75\" \n",
       " [76] \"Users...76\"  \"Users...77\"  \"Users...78\"  \"Users...79\"  \"Users...80\" \n",
       " [81] \"Users...81\"  \"Users...82\"  \"Users...83\"  \"Users...84\"  \"Users...85\" \n",
       " [86] \"Users...86\"  \"Users...87\"  \"Users...88\"  \"Users...89\"  \"Users...90\" \n",
       " [91] \"Users...91\"  \"Users...92\"  \"Users...93\"  \"Users...94\"  \"Users...95\" \n",
       " [96] \"Users...96\"  \"Users...97\"  \"Users...98\"  \"Users...99\"  \"Users...100\"\n",
       "[101] \"Users...101\" \"Users...102\" \"Users...103\" \"Users...104\" \"Users...105\"\n",
       "[106] \"Users...106\" \"Users...107\" \"Users...108\" \"Users...109\" \"Users...110\"\n",
       "[111] \"Users...111\" \"Users...112\" \"Users...113\" \"Users...114\" \"Users...115\"\n",
       "[116] \"Users...116\" \"Users...117\" \"Users...118\" \"Users...119\" \"Users...120\"\n",
       "[121] \"Users...121\" \"Users...122\" \"Users...123\" \"Users...124\" \"Users...125\"\n",
       "[126] \"Users...126\" \"Users...127\" \"Users...128\" \"Users...129\" \"Users...130\"\n",
       "[131] \"Users...131\" \"Users...132\" \"Users...133\" \"Users...134\" \"Users...135\"\n",
       "[136] \"Users...136\" \"Users...137\" \"Users...138\" \"Users...139\" \"Users...140\"\n",
       "[141] \"Users...141\" \"Users...142\" \"Users...143\" \"Users...144\" \"Users...145\"\n",
       "[146] \"Users...146\" \"Users...147\" \"Users...148\" \"Users...149\" \"Users...150\"\n",
       "[151] \"Users...151\" \"Users...152\" \"Users...153\" \"Users...154\" \"Users...155\"\n",
       "[156] \"Users...156\" \"Users...157\" \"Users...158\" \"Users...159\" \"Users...160\"\n",
       "[161] \"Users...161\" \"Users...162\" \"Users...163\" \"Users...164\" \"Users...165\"\n",
       "[166] \"Users...166\" \"Users...167\" \"Users...168\" \"Users...169\" \"Users...170\"\n",
       "[171] \"Users...171\" \"Users...172\" \"Users...173\" \"Users...174\" \"Users...175\"\n",
       "[176] \"Users...176\" \"Users...177\" \"Users...178\" \"Users...179\" \"Users...180\"\n",
       "[181] \"Users...181\" \"Users...182\" \"Users...183\""
      ]
     },
     "metadata": {},
     "output_type": "display_data"
    }
   ],
   "source": [
    "names(gadata)\n",
    "#hmmm can't find this \"total\" column"
   ]
  },
  {
   "cell_type": "markdown",
   "metadata": {},
   "source": [
    "The second thing we will do is to rename the first column from \"...1\" to \"Age\". So go ahead and do this.\n",
    "\n",
    "*Hint: Use the `rename` function from the dplyr package.*"
   ]
  },
  {
   "cell_type": "code",
   "execution_count": null,
   "metadata": {},
   "outputs": [],
   "source": []
  },
  {
   "cell_type": "markdown",
   "metadata": {},
   "source": [
    "The next thing we will do is to remove the first row as it just contains the word \"Age\" or \"Users\". (Note that what looks like the first row is not a row, but names of columns.) \n",
    "\n",
    "*Hint: This can be done in several ways. Try either to subset the data with the \"[ , ]\", or use the `filter` function.*"
   ]
  },
  {
   "cell_type": "code",
   "execution_count": null,
   "metadata": {},
   "outputs": [],
   "source": []
  },
  {
   "cell_type": "markdown",
   "metadata": {},
   "source": [
    "Next, we will remove the last rows as it contains totals as well.\n",
    "\n",
    "*Hint: You can use the same technique as in the previous question.*"
   ]
  },
  {
   "cell_type": "code",
   "execution_count": null,
   "metadata": {},
   "outputs": [],
   "source": []
  },
  {
   "cell_type": "markdown",
   "metadata": {},
   "source": [
    "Now your data frame should look like this:\n",
    "![gadata3](gadata3.png)\n",
    "We will turn all the columns execept `Age` column into one column with the gather function, so that our data will look like this:\n",
    "![gadata4](gadata4.png)\n",
    "\n",
    "Go ahead and do this!\n",
    "\n",
    "*Hint: Use the `gather` function. Call the key column \"Date\" and the value column \"Users\". To select every column except the age column as the last arguments there are different options, but try out the `starts_with`.* "
   ]
  },
  {
   "cell_type": "code",
   "execution_count": null,
   "metadata": {},
   "outputs": [],
   "source": []
  },
  {
   "cell_type": "markdown",
   "metadata": {},
   "source": [
    "We will now spread out the data again such that the age groups are columns. \n",
    "\n",
    "*Hint: Use the spread function with the column `Age` as key and the column `Users` as value."
   ]
  },
  {
   "cell_type": "code",
   "execution_count": null,
   "metadata": {},
   "outputs": [],
   "source": []
  },
  {
   "cell_type": "markdown",
   "metadata": {},
   "source": [
    "We will now turn the numbers in the \"Date\" column into actual dates. Before this, we will arrange the \"Date\" columns such that the lowest date is first. (The dates are numbered and represent days since \"2019-01-01\".)\n",
    "\n",
    "*Hint: Use the arrange function.*"
   ]
  },
  {
   "cell_type": "code",
   "execution_count": null,
   "metadata": {},
   "outputs": [],
   "source": []
  },
  {
   "cell_type": "markdown",
   "metadata": {},
   "source": [
    "We will now put in the dates instead of the numbers. To do this we will first generate the relevant dates. This can be done with the following command"
   ]
  },
  {
   "cell_type": "code",
   "execution_count": null,
   "metadata": {},
   "outputs": [],
   "source": [
    "dates <- seq(from = as.Date(\"2019-01-01\"), to = as.Date(\"2019-06-30\"), by = \"day\")\n",
    "dates"
   ]
  },
  {
   "cell_type": "markdown",
   "metadata": {},
   "source": [
    "We can now put then in instead of the numbers in the `Date` column. Do this."
   ]
  },
  {
   "cell_type": "code",
   "execution_count": null,
   "metadata": {},
   "outputs": [],
   "source": []
  },
  {
   "cell_type": "markdown",
   "metadata": {},
   "source": [
    "Your data should now look like this:\n",
    "![gadata5](gadata5.png)"
   ]
  },
  {
   "cell_type": "markdown",
   "metadata": {},
   "source": [
    "Now we will gather the data again to get in a tidy format. \n",
    "\n",
    "*Hint: Use the `gather` function, \"Age\" as key and \"Users\" as value. To select the age group columns you can use `\"18-24\":\"65+\"`*"
   ]
  },
  {
   "cell_type": "code",
   "execution_count": null,
   "metadata": {},
   "outputs": [],
   "source": []
  },
  {
   "cell_type": "markdown",
   "metadata": {},
   "source": [
    "Finally, we will make sure that the `Age` column is factor and that the column `Users` is numeric. So go ahead and make this transformation.\n",
    "\n",
    "*Hint: use the functions `as.factor` and `as.numeric`.*"
   ]
  },
  {
   "cell_type": "code",
   "execution_count": null,
   "metadata": {},
   "outputs": [],
   "source": []
  },
  {
   "cell_type": "markdown",
   "metadata": {},
   "source": [
    "If you managed to get the data in the right format the code below should give you a nice plot"
   ]
  },
  {
   "cell_type": "code",
   "execution_count": null,
   "metadata": {},
   "outputs": [],
   "source": [
    "ggplot(data = gadata) + geom_line(mapping = aes(x = Date, y = Users, color = Age))"
   ]
  }
 ],
 "metadata": {
  "kernelspec": {
   "display_name": "R",
   "language": "R",
   "name": "ir"
  },
  "language_info": {
   "codemirror_mode": "r",
   "file_extension": ".r",
   "mimetype": "text/x-r-source",
   "name": "R",
   "pygments_lexer": "r",
   "version": "3.6.1"
  }
 },
 "nbformat": 4,
 "nbformat_minor": 2
}
