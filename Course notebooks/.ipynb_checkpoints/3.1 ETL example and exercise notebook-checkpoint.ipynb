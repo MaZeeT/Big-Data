{
 "cells": [
  {
   "cell_type": "markdown",
   "metadata": {
    "collapsed": true
   },
   "source": [
    "# ETL example and exercise notebook\n",
    "\n",
    "In this notebook the example data from the book and other data is loaded and examples of ETL is presented. Futhermore, there are exercises you can try out yourself."
   ]
  },
  {
   "cell_type": "markdown",
   "metadata": {},
   "source": [
    "## 1 Loading data into R\n",
    "\n",
    "In this section we will load different types of data into R.\n",
    "\n",
    "First we will load the data from the Books [Github page](https://github.com/jgendron/com.packtpub.intro.r.bi). You can see the raw data [here](https://raw.githubusercontent.com/jgendron/com.packtpub.intro.r.bi/master/Chapter1-ExtractTransformLoad/data/Ch1_bike_sharing_data.csv)"
   ]
  },
  {
   "cell_type": "code",
   "execution_count": 1,
   "metadata": {},
   "outputs": [],
   "source": [
    "url <- \"https://raw.githubusercontent.com/jgendron/com.packtpub.intro.r.bi/master/Chapter1-ExtractTransformLoad/data/Ch1_bike_sharing_data.csv\"\n",
    "bikeData <- read.csv(url)"
   ]
  },
  {
   "cell_type": "markdown",
   "metadata": {},
   "source": [
    "The above command first store the url of the data in the a variable called `url`. Then, this variable is passed to the function `read.csv` that reads the data into the data frame `bikeData`. (So you can read csv files directly into R from the web without downloading the file first.)\n",
    "\n",
    "You can see the first 6 lines of the dataset by using the function `head` on `bikeData`:"
   ]
  },
  {
   "cell_type": "code",
   "execution_count": 2,
   "metadata": {},
   "outputs": [
    {
     "data": {
      "text/html": [
       "<table>\n",
       "<thead><tr><th scope=col>datetime</th><th scope=col>season</th><th scope=col>holiday</th><th scope=col>workingday</th><th scope=col>weather</th><th scope=col>temp</th><th scope=col>atemp</th><th scope=col>humidity</th><th scope=col>windspeed</th><th scope=col>casual</th><th scope=col>registered</th><th scope=col>count</th></tr></thead>\n",
       "<tbody>\n",
       "\t<tr><td>1/1/2011 0:00</td><td>1            </td><td>0            </td><td>0            </td><td>1            </td><td>9.84         </td><td>14.395       </td><td>81           </td><td>0.0000       </td><td>3            </td><td>13           </td><td>16           </td></tr>\n",
       "\t<tr><td>1/1/2011 1:00</td><td>1            </td><td>0            </td><td>0            </td><td>1            </td><td>9.02         </td><td>13.635       </td><td>80           </td><td>0.0000       </td><td>8            </td><td>32           </td><td>40           </td></tr>\n",
       "\t<tr><td>1/1/2011 2:00</td><td>1            </td><td>0            </td><td>0            </td><td>1            </td><td>9.02         </td><td>13.635       </td><td>80           </td><td>0.0000       </td><td>5            </td><td>27           </td><td>32           </td></tr>\n",
       "\t<tr><td>1/1/2011 3:00</td><td>1            </td><td>0            </td><td>0            </td><td>1            </td><td>9.84         </td><td>14.395       </td><td>75           </td><td>0.0000       </td><td>3            </td><td>10           </td><td>13           </td></tr>\n",
       "\t<tr><td>1/1/2011 4:00</td><td>1            </td><td>0            </td><td>0            </td><td>1            </td><td>9.84         </td><td>14.395       </td><td>75           </td><td>0.0000       </td><td>0            </td><td> 1           </td><td> 1           </td></tr>\n",
       "\t<tr><td>1/1/2011 5:00</td><td>1            </td><td>0            </td><td>0            </td><td>2            </td><td>9.84         </td><td>12.880       </td><td>75           </td><td>6.0032       </td><td>0            </td><td> 1           </td><td> 1           </td></tr>\n",
       "</tbody>\n",
       "</table>\n"
      ],
      "text/latex": [
       "\\begin{tabular}{r|llllllllllll}\n",
       " datetime & season & holiday & workingday & weather & temp & atemp & humidity & windspeed & casual & registered & count\\\\\n",
       "\\hline\n",
       "\t 1/1/2011 0:00 & 1             & 0             & 0             & 1             & 9.84          & 14.395        & 81            & 0.0000        & 3             & 13            & 16           \\\\\n",
       "\t 1/1/2011 1:00 & 1             & 0             & 0             & 1             & 9.02          & 13.635        & 80            & 0.0000        & 8             & 32            & 40           \\\\\n",
       "\t 1/1/2011 2:00 & 1             & 0             & 0             & 1             & 9.02          & 13.635        & 80            & 0.0000        & 5             & 27            & 32           \\\\\n",
       "\t 1/1/2011 3:00 & 1             & 0             & 0             & 1             & 9.84          & 14.395        & 75            & 0.0000        & 3             & 10            & 13           \\\\\n",
       "\t 1/1/2011 4:00 & 1             & 0             & 0             & 1             & 9.84          & 14.395        & 75            & 0.0000        & 0             &  1            &  1           \\\\\n",
       "\t 1/1/2011 5:00 & 1             & 0             & 0             & 2             & 9.84          & 12.880        & 75            & 6.0032        & 0             &  1            &  1           \\\\\n",
       "\\end{tabular}\n"
      ],
      "text/markdown": [
       "\n",
       "| datetime | season | holiday | workingday | weather | temp | atemp | humidity | windspeed | casual | registered | count |\n",
       "|---|---|---|---|---|---|---|---|---|---|---|---|\n",
       "| 1/1/2011 0:00 | 1             | 0             | 0             | 1             | 9.84          | 14.395        | 81            | 0.0000        | 3             | 13            | 16            |\n",
       "| 1/1/2011 1:00 | 1             | 0             | 0             | 1             | 9.02          | 13.635        | 80            | 0.0000        | 8             | 32            | 40            |\n",
       "| 1/1/2011 2:00 | 1             | 0             | 0             | 1             | 9.02          | 13.635        | 80            | 0.0000        | 5             | 27            | 32            |\n",
       "| 1/1/2011 3:00 | 1             | 0             | 0             | 1             | 9.84          | 14.395        | 75            | 0.0000        | 3             | 10            | 13            |\n",
       "| 1/1/2011 4:00 | 1             | 0             | 0             | 1             | 9.84          | 14.395        | 75            | 0.0000        | 0             |  1            |  1            |\n",
       "| 1/1/2011 5:00 | 1             | 0             | 0             | 2             | 9.84          | 12.880        | 75            | 6.0032        | 0             |  1            |  1            |\n",
       "\n"
      ],
      "text/plain": [
       "  datetime      season holiday workingday weather temp atemp  humidity\n",
       "1 1/1/2011 0:00 1      0       0          1       9.84 14.395 81      \n",
       "2 1/1/2011 1:00 1      0       0          1       9.02 13.635 80      \n",
       "3 1/1/2011 2:00 1      0       0          1       9.02 13.635 80      \n",
       "4 1/1/2011 3:00 1      0       0          1       9.84 14.395 75      \n",
       "5 1/1/2011 4:00 1      0       0          1       9.84 14.395 75      \n",
       "6 1/1/2011 5:00 1      0       0          2       9.84 12.880 75      \n",
       "  windspeed casual registered count\n",
       "1 0.0000    3      13         16   \n",
       "2 0.0000    8      32         40   \n",
       "3 0.0000    5      27         32   \n",
       "4 0.0000    3      10         13   \n",
       "5 0.0000    0       1          1   \n",
       "6 6.0032    0       1          1   "
      ]
     },
     "metadata": {},
     "output_type": "display_data"
    }
   ],
   "source": [
    "head(bikeData)"
   ]
  },
  {
   "cell_type": "markdown",
   "metadata": {},
   "source": [
    "If you want to se another number of the first line, you can pass that number as the second argument to the `head` function. For instance, if you want to see the first 15 lines of the `bikeData` data frame, you can simply do:"
   ]
  },
  {
   "cell_type": "code",
   "execution_count": 3,
   "metadata": {},
   "outputs": [
    {
     "data": {
      "text/html": [
       "<table>\n",
       "<thead><tr><th scope=col>datetime</th><th scope=col>season</th><th scope=col>holiday</th><th scope=col>workingday</th><th scope=col>weather</th><th scope=col>temp</th><th scope=col>atemp</th><th scope=col>humidity</th><th scope=col>windspeed</th><th scope=col>casual</th><th scope=col>registered</th><th scope=col>count</th></tr></thead>\n",
       "<tbody>\n",
       "\t<tr><td>1/1/2011 0:00 </td><td>1             </td><td>0             </td><td>0             </td><td>1             </td><td> 9.84         </td><td>14.395        </td><td>81            </td><td> 0.0000       </td><td> 3            </td><td>13            </td><td> 16           </td></tr>\n",
       "\t<tr><td>1/1/2011 1:00 </td><td>1             </td><td>0             </td><td>0             </td><td>1             </td><td> 9.02         </td><td>13.635        </td><td>80            </td><td> 0.0000       </td><td> 8            </td><td>32            </td><td> 40           </td></tr>\n",
       "\t<tr><td>1/1/2011 2:00 </td><td>1             </td><td>0             </td><td>0             </td><td>1             </td><td> 9.02         </td><td>13.635        </td><td>80            </td><td> 0.0000       </td><td> 5            </td><td>27            </td><td> 32           </td></tr>\n",
       "\t<tr><td>1/1/2011 3:00 </td><td>1             </td><td>0             </td><td>0             </td><td>1             </td><td> 9.84         </td><td>14.395        </td><td>75            </td><td> 0.0000       </td><td> 3            </td><td>10            </td><td> 13           </td></tr>\n",
       "\t<tr><td>1/1/2011 4:00 </td><td>1             </td><td>0             </td><td>0             </td><td>1             </td><td> 9.84         </td><td>14.395        </td><td>75            </td><td> 0.0000       </td><td> 0            </td><td> 1            </td><td>  1           </td></tr>\n",
       "\t<tr><td>1/1/2011 5:00 </td><td>1             </td><td>0             </td><td>0             </td><td>2             </td><td> 9.84         </td><td>12.880        </td><td>75            </td><td> 6.0032       </td><td> 0            </td><td> 1            </td><td>  1           </td></tr>\n",
       "\t<tr><td>1/1/2011 6:00 </td><td>1             </td><td>0             </td><td>0             </td><td>1             </td><td> 9.02         </td><td>13.635        </td><td>80            </td><td> 0.0000       </td><td> 2            </td><td> 0            </td><td>  2           </td></tr>\n",
       "\t<tr><td>1/1/2011 7:00 </td><td>1             </td><td>0             </td><td>0             </td><td>1             </td><td> 8.20         </td><td>12.880        </td><td>86            </td><td> 0.0000       </td><td> 1            </td><td> 2            </td><td>  3           </td></tr>\n",
       "\t<tr><td>1/1/2011 8:00 </td><td>1             </td><td>0             </td><td>0             </td><td>1             </td><td> 9.84         </td><td>14.395        </td><td>75            </td><td> 0.0000       </td><td> 1            </td><td> 7            </td><td>  8           </td></tr>\n",
       "\t<tr><td>1/1/2011 9:00 </td><td>1             </td><td>0             </td><td>0             </td><td>1             </td><td>13.12         </td><td>17.425        </td><td>76            </td><td> 0.0000       </td><td> 8            </td><td> 6            </td><td> 14           </td></tr>\n",
       "\t<tr><td>1/1/2011 10:00</td><td>1             </td><td>0             </td><td>0             </td><td>1             </td><td>15.58         </td><td>19.695        </td><td>76            </td><td>16.9979       </td><td>12            </td><td>24            </td><td> 36           </td></tr>\n",
       "\t<tr><td>1/1/2011 11:00</td><td>1             </td><td>0             </td><td>0             </td><td>1             </td><td>14.76         </td><td>16.665        </td><td>81            </td><td>19.0012       </td><td>26            </td><td>30            </td><td> 56           </td></tr>\n",
       "\t<tr><td>1/1/2011 12:00</td><td>1             </td><td>0             </td><td>0             </td><td>1             </td><td>17.22         </td><td>21.210        </td><td>77            </td><td>19.0012       </td><td>29            </td><td>55            </td><td> 84           </td></tr>\n",
       "\t<tr><td>1/1/2011 13:00</td><td>1             </td><td>0             </td><td>0             </td><td>2             </td><td>18.86         </td><td>22.725        </td><td>72            </td><td>19.9995       </td><td>47            </td><td>47            </td><td> 94           </td></tr>\n",
       "\t<tr><td>1/1/2011 14:00</td><td>1             </td><td>0             </td><td>0             </td><td>2             </td><td>18.86         </td><td>22.725        </td><td>72            </td><td>19.0012       </td><td>35            </td><td>71            </td><td>106           </td></tr>\n",
       "</tbody>\n",
       "</table>\n"
      ],
      "text/latex": [
       "\\begin{tabular}{r|llllllllllll}\n",
       " datetime & season & holiday & workingday & weather & temp & atemp & humidity & windspeed & casual & registered & count\\\\\n",
       "\\hline\n",
       "\t 1/1/2011 0:00  & 1              & 0              & 0              & 1              &  9.84          & 14.395         & 81             &  0.0000        &  3             & 13             &  16           \\\\\n",
       "\t 1/1/2011 1:00  & 1              & 0              & 0              & 1              &  9.02          & 13.635         & 80             &  0.0000        &  8             & 32             &  40           \\\\\n",
       "\t 1/1/2011 2:00  & 1              & 0              & 0              & 1              &  9.02          & 13.635         & 80             &  0.0000        &  5             & 27             &  32           \\\\\n",
       "\t 1/1/2011 3:00  & 1              & 0              & 0              & 1              &  9.84          & 14.395         & 75             &  0.0000        &  3             & 10             &  13           \\\\\n",
       "\t 1/1/2011 4:00  & 1              & 0              & 0              & 1              &  9.84          & 14.395         & 75             &  0.0000        &  0             &  1             &   1           \\\\\n",
       "\t 1/1/2011 5:00  & 1              & 0              & 0              & 2              &  9.84          & 12.880         & 75             &  6.0032        &  0             &  1             &   1           \\\\\n",
       "\t 1/1/2011 6:00  & 1              & 0              & 0              & 1              &  9.02          & 13.635         & 80             &  0.0000        &  2             &  0             &   2           \\\\\n",
       "\t 1/1/2011 7:00  & 1              & 0              & 0              & 1              &  8.20          & 12.880         & 86             &  0.0000        &  1             &  2             &   3           \\\\\n",
       "\t 1/1/2011 8:00  & 1              & 0              & 0              & 1              &  9.84          & 14.395         & 75             &  0.0000        &  1             &  7             &   8           \\\\\n",
       "\t 1/1/2011 9:00  & 1              & 0              & 0              & 1              & 13.12          & 17.425         & 76             &  0.0000        &  8             &  6             &  14           \\\\\n",
       "\t 1/1/2011 10:00 & 1              & 0              & 0              & 1              & 15.58          & 19.695         & 76             & 16.9979        & 12             & 24             &  36           \\\\\n",
       "\t 1/1/2011 11:00 & 1              & 0              & 0              & 1              & 14.76          & 16.665         & 81             & 19.0012        & 26             & 30             &  56           \\\\\n",
       "\t 1/1/2011 12:00 & 1              & 0              & 0              & 1              & 17.22          & 21.210         & 77             & 19.0012        & 29             & 55             &  84           \\\\\n",
       "\t 1/1/2011 13:00 & 1              & 0              & 0              & 2              & 18.86          & 22.725         & 72             & 19.9995        & 47             & 47             &  94           \\\\\n",
       "\t 1/1/2011 14:00 & 1              & 0              & 0              & 2              & 18.86          & 22.725         & 72             & 19.0012        & 35             & 71             & 106           \\\\\n",
       "\\end{tabular}\n"
      ],
      "text/markdown": [
       "\n",
       "| datetime | season | holiday | workingday | weather | temp | atemp | humidity | windspeed | casual | registered | count |\n",
       "|---|---|---|---|---|---|---|---|---|---|---|---|\n",
       "| 1/1/2011 0:00  | 1              | 0              | 0              | 1              |  9.84          | 14.395         | 81             |  0.0000        |  3             | 13             |  16            |\n",
       "| 1/1/2011 1:00  | 1              | 0              | 0              | 1              |  9.02          | 13.635         | 80             |  0.0000        |  8             | 32             |  40            |\n",
       "| 1/1/2011 2:00  | 1              | 0              | 0              | 1              |  9.02          | 13.635         | 80             |  0.0000        |  5             | 27             |  32            |\n",
       "| 1/1/2011 3:00  | 1              | 0              | 0              | 1              |  9.84          | 14.395         | 75             |  0.0000        |  3             | 10             |  13            |\n",
       "| 1/1/2011 4:00  | 1              | 0              | 0              | 1              |  9.84          | 14.395         | 75             |  0.0000        |  0             |  1             |   1            |\n",
       "| 1/1/2011 5:00  | 1              | 0              | 0              | 2              |  9.84          | 12.880         | 75             |  6.0032        |  0             |  1             |   1            |\n",
       "| 1/1/2011 6:00  | 1              | 0              | 0              | 1              |  9.02          | 13.635         | 80             |  0.0000        |  2             |  0             |   2            |\n",
       "| 1/1/2011 7:00  | 1              | 0              | 0              | 1              |  8.20          | 12.880         | 86             |  0.0000        |  1             |  2             |   3            |\n",
       "| 1/1/2011 8:00  | 1              | 0              | 0              | 1              |  9.84          | 14.395         | 75             |  0.0000        |  1             |  7             |   8            |\n",
       "| 1/1/2011 9:00  | 1              | 0              | 0              | 1              | 13.12          | 17.425         | 76             |  0.0000        |  8             |  6             |  14            |\n",
       "| 1/1/2011 10:00 | 1              | 0              | 0              | 1              | 15.58          | 19.695         | 76             | 16.9979        | 12             | 24             |  36            |\n",
       "| 1/1/2011 11:00 | 1              | 0              | 0              | 1              | 14.76          | 16.665         | 81             | 19.0012        | 26             | 30             |  56            |\n",
       "| 1/1/2011 12:00 | 1              | 0              | 0              | 1              | 17.22          | 21.210         | 77             | 19.0012        | 29             | 55             |  84            |\n",
       "| 1/1/2011 13:00 | 1              | 0              | 0              | 2              | 18.86          | 22.725         | 72             | 19.9995        | 47             | 47             |  94            |\n",
       "| 1/1/2011 14:00 | 1              | 0              | 0              | 2              | 18.86          | 22.725         | 72             | 19.0012        | 35             | 71             | 106            |\n",
       "\n"
      ],
      "text/plain": [
       "   datetime       season holiday workingday weather temp  atemp  humidity\n",
       "1  1/1/2011 0:00  1      0       0          1        9.84 14.395 81      \n",
       "2  1/1/2011 1:00  1      0       0          1        9.02 13.635 80      \n",
       "3  1/1/2011 2:00  1      0       0          1        9.02 13.635 80      \n",
       "4  1/1/2011 3:00  1      0       0          1        9.84 14.395 75      \n",
       "5  1/1/2011 4:00  1      0       0          1        9.84 14.395 75      \n",
       "6  1/1/2011 5:00  1      0       0          2        9.84 12.880 75      \n",
       "7  1/1/2011 6:00  1      0       0          1        9.02 13.635 80      \n",
       "8  1/1/2011 7:00  1      0       0          1        8.20 12.880 86      \n",
       "9  1/1/2011 8:00  1      0       0          1        9.84 14.395 75      \n",
       "10 1/1/2011 9:00  1      0       0          1       13.12 17.425 76      \n",
       "11 1/1/2011 10:00 1      0       0          1       15.58 19.695 76      \n",
       "12 1/1/2011 11:00 1      0       0          1       14.76 16.665 81      \n",
       "13 1/1/2011 12:00 1      0       0          1       17.22 21.210 77      \n",
       "14 1/1/2011 13:00 1      0       0          2       18.86 22.725 72      \n",
       "15 1/1/2011 14:00 1      0       0          2       18.86 22.725 72      \n",
       "   windspeed casual registered count\n",
       "1   0.0000    3     13          16  \n",
       "2   0.0000    8     32          40  \n",
       "3   0.0000    5     27          32  \n",
       "4   0.0000    3     10          13  \n",
       "5   0.0000    0      1           1  \n",
       "6   6.0032    0      1           1  \n",
       "7   0.0000    2      0           2  \n",
       "8   0.0000    1      2           3  \n",
       "9   0.0000    1      7           8  \n",
       "10  0.0000    8      6          14  \n",
       "11 16.9979   12     24          36  \n",
       "12 19.0012   26     30          56  \n",
       "13 19.0012   29     55          84  \n",
       "14 19.9995   47     47          94  \n",
       "15 19.0012   35     71         106  "
      ]
     },
     "metadata": {},
     "output_type": "display_data"
    }
   ],
   "source": [
    "head(bikeData, 15)"
   ]
  },
  {
   "cell_type": "markdown",
   "metadata": {},
   "source": [
    "### *Exercise*\n",
    "\n",
    "What do you think the `tail` function does? Try to read the help page by typing `?tail` and try using the `tail` function on the `bikeData` data frame below."
   ]
  },
  {
   "cell_type": "markdown",
   "metadata": {},
   "source": [
    "### *Answer*\n",
    "\n",
    "It shows the last 6 rows, and if you specify a number n in the parameters it shows the last n rows in the dataframe "
   ]
  },
  {
   "cell_type": "markdown",
   "metadata": {},
   "source": [
    "While the `head` function gives you an example of the data by showing you the first lines, the `str` function will provide you with more information about the data frame. Try it out:"
   ]
  },
  {
   "cell_type": "code",
   "execution_count": 4,
   "metadata": {},
   "outputs": [
    {
     "name": "stdout",
     "output_type": "stream",
     "text": [
      "'data.frame':\t17379 obs. of  12 variables:\n",
      " $ datetime  : Factor w/ 17379 levels \"1/1/2011 0:00\",..: 1 2 13 18 19 20 21 22 23 24 ...\n",
      " $ season    : int  1 1 1 1 1 1 1 1 1 1 ...\n",
      " $ holiday   : int  0 0 0 0 0 0 0 0 0 0 ...\n",
      " $ workingday: int  0 0 0 0 0 0 0 0 0 0 ...\n",
      " $ weather   : int  1 1 1 1 1 2 1 1 1 1 ...\n",
      " $ temp      : num  9.84 9.02 9.02 9.84 9.84 ...\n",
      " $ atemp     : num  14.4 13.6 13.6 14.4 14.4 ...\n",
      " $ humidity  : int  81 80 80 75 75 75 80 86 75 76 ...\n",
      " $ windspeed : num  0 0 0 0 0 ...\n",
      " $ casual    : int  3 8 5 3 0 0 2 1 1 8 ...\n",
      " $ registered: int  13 32 27 10 1 1 0 2 7 6 ...\n",
      " $ count     : int  16 40 32 13 1 1 2 3 8 14 ...\n"
     ]
    }
   ],
   "source": [
    "str(bikeData)"
   ]
  },
  {
   "cell_type": "markdown",
   "metadata": {},
   "source": [
    "As you can see the `str` function tells you that `bikeData` is a `'data.frame'` and that it has 17379 rows and 12 columns. Moreover, for each column it tells you the name, the data type, and give you examples of the first couple of values. For instance, the `temp` variable is of numeric data type and the first couple of values are 9.84, 9.02, 9.02, ... Similar, `count` is an integer data type with the first couple of values 16, 40, 32, 13, ...\n",
    "\n",
    "The `datetime` variable is a `Factor` variable as you can also see from above. It also tells you the number of levels of the factor variable. In this case the number of factors is the same as the number of observations/rows. This should make you suspicious. What you really want is the `datetime` variable to be of some datetime data type. To get the datetime column imported as basic text string instead of factor, we can tell R to read all string variables as strings instead of factors (- by default R reads all string variables in as factors). To do this pass the argument `stringsAsFactors=FALSE` to the function reading in the data:"
   ]
  },
  {
   "cell_type": "code",
   "execution_count": 5,
   "metadata": {},
   "outputs": [
    {
     "name": "stdout",
     "output_type": "stream",
     "text": [
      "'data.frame':\t17379 obs. of  12 variables:\n",
      " $ datetime  : chr  \"1/1/2011 0:00\" \"1/1/2011 1:00\" \"1/1/2011 2:00\" \"1/1/2011 3:00\" ...\n",
      " $ season    : int  1 1 1 1 1 1 1 1 1 1 ...\n",
      " $ holiday   : int  0 0 0 0 0 0 0 0 0 0 ...\n",
      " $ workingday: int  0 0 0 0 0 0 0 0 0 0 ...\n",
      " $ weather   : int  1 1 1 1 1 2 1 1 1 1 ...\n",
      " $ temp      : num  9.84 9.02 9.02 9.84 9.84 ...\n",
      " $ atemp     : num  14.4 13.6 13.6 14.4 14.4 ...\n",
      " $ humidity  : int  81 80 80 75 75 75 80 86 75 76 ...\n",
      " $ windspeed : num  0 0 0 0 0 ...\n",
      " $ casual    : int  3 8 5 3 0 0 2 1 1 8 ...\n",
      " $ registered: int  13 32 27 10 1 1 0 2 7 6 ...\n",
      " $ count     : int  16 40 32 13 1 1 2 3 8 14 ...\n"
     ]
    }
   ],
   "source": [
    "bikeData <- read.csv(url, stringsAsFactors=FALSE)\n",
    "str(bikeData)"
   ]
  },
  {
   "cell_type": "markdown",
   "metadata": {},
   "source": [
    "As you can see the `datetime` column is now of type `chr` which means character (or text string)."
   ]
  },
  {
   "cell_type": "markdown",
   "metadata": {},
   "source": [
    "### Loading in excel files\n",
    "\n",
    "Let us try to import another dataset. This time we will load an excel sheet from a local folder. (What a \"local folder\" is depends, of course, on whether you are using the RUC Jupyter Hub, Azure Notebooks, or a local Jupyter installation.)\n",
    "\n",
    "If you are using RUC Jupyter Hub, you first need to upload the file. Go to the Jupyter home (clicking \"jupyter\" in the upper left corner). navigate to the folder of your current notebook and click the Upload button to upload a file. (Note that you cannot copy files in Jupyter Notebook. What you can do is to dublicate a file and then move the dublicate. You might not be able to do this in the course material folder due to writing restrictions. So instead you probably need to download the file to your local computer and then upload it to your home folder.)\n",
    "\n",
    "If you are using Azure Notebook, you first have to upload the file to a library. So you should start by uploading the file \"Webanalytics_data_example.xlsx\" (Find this on the Moodle page for todays lecture) to your library. To do this, from the Azure notebook library click the \"+ New\" and them \"From computer\". Click \"Choose file\" and then \"Upload\".\n",
    "\n",
    "If you are using a local installation of Jupyter Notebook, you just need to download the file from Moodle and place it in the folder where your notebook is stored.\n",
    "\n",
    "Alternatively you can change the path in the call to `read_excel` below or set the working directory to where your file is. To see what your current working directory is, use the function `getwd`. (To set the working directory, you can use the function `setwd`.)"
   ]
  },
  {
   "cell_type": "code",
   "execution_count": 6,
   "metadata": {},
   "outputs": [
    {
     "data": {
      "text/html": [
       "'E:/Github/Big-Data/Course notebooks'"
      ],
      "text/latex": [
       "'E:/Github/Big-Data/Course notebooks'"
      ],
      "text/markdown": [
       "'E:/Github/Big-Data/Course notebooks'"
      ],
      "text/plain": [
       "[1] \"E:/Github/Big-Data/Course notebooks\""
      ]
     },
     "metadata": {},
     "output_type": "display_data"
    }
   ],
   "source": [
    "getwd()"
   ]
  },
  {
   "cell_type": "markdown",
   "metadata": {},
   "source": [
    "Before we can read in the file, we need a function that can read excel files. Such a function, we can find in one of the packages tha comes with the \"tidyverse\" collection of packages. This collection of packages is already installed on the RUC Jupyter Hub and the Azure notebooks servers (if you work locally, you can install the packages using the command `install.packages(\"tidyverse\"))`. The particular package we need is called \"readxl\" and we load it with the following command:"
   ]
  },
  {
   "cell_type": "code",
   "execution_count": 7,
   "metadata": {},
   "outputs": [],
   "source": [
    "library(readxl)"
   ]
  },
  {
   "cell_type": "markdown",
   "metadata": {},
   "source": [
    "The package \"readxl\" contains the function `read_excel` that we can use to read the file we just uploaded:"
   ]
  },
  {
   "cell_type": "code",
   "execution_count": 8,
   "metadata": {},
   "outputs": [],
   "source": [
    "webAnalyticsData <- read_excel(\"Webanalytics_data_example.xlsx\")"
   ]
  },
  {
   "cell_type": "markdown",
   "metadata": {},
   "source": [
    "Let us look at what we loaded in:"
   ]
  },
  {
   "cell_type": "code",
   "execution_count": 9,
   "metadata": {},
   "outputs": [
    {
     "data": {
      "text/html": [
       "<table>\n",
       "<thead><tr><th scope=col>Here is some data sets as they might look when you download them from Google Analytics</th></tr></thead>\n",
       "<tbody>\n",
       "</tbody>\n",
       "</table>\n"
      ],
      "text/latex": [
       "\\begin{tabular}{r|l}\n",
       " Here is some data sets as they might look when you download them from Google Analytics\\\\\n",
       "\\hline\n",
       "\\end{tabular}\n"
      ],
      "text/markdown": [
       "\n",
       "| Here is some data sets as they might look when you download them from Google Analytics |\n",
       "|---|\n",
       "\n"
      ],
      "text/plain": [
       "     Here is some data sets as they might look when you download them from Google Analytics"
      ]
     },
     "metadata": {},
     "output_type": "display_data"
    }
   ],
   "source": [
    "head(webAnalyticsData)"
   ]
  },
  {
   "cell_type": "markdown",
   "metadata": {},
   "source": [
    "Something seems weird here... If you open the file in Excel (try to do that), you will see that there are multiple sheets, and the one we loaded in is the first one. We want the second one, that is the sheet named \"Dataset1\". However, reading the help page for the function `read_excel` tell us that it is easily done by adding the argument `sheet = 2` or `sheet = \"Dataset1\"`. So try this:"
   ]
  },
  {
   "cell_type": "code",
   "execution_count": 10,
   "metadata": {
    "scrolled": true
   },
   "outputs": [
    {
     "data": {
      "text/html": [
       "<table>\n",
       "<thead><tr><th scope=col>MediaChannel</th><th scope=col>Sessions</th><th scope=col>PercentNewSessions</th><th scope=col>NewUsers</th><th scope=col>BounceRate</th><th scope=col>PagesPerSession</th><th scope=col>AvgSessionDuration</th><th scope=col>Transactions</th><th scope=col>Revenue</th></tr></thead>\n",
       "<tbody>\n",
       "\t<tr><td>Organic_Search</td><td>76852         </td><td>0.7840915     </td><td>60259         </td><td>0.3948368     </td><td> 7.225290     </td><td>161.32634     </td><td> 989          </td><td> 94966.75     </td></tr>\n",
       "\t<tr><td>Social        </td><td>59398         </td><td>0.9433146     </td><td>56031         </td><td>0.5423752     </td><td> 3.232348     </td><td>111.79883     </td><td>  38          </td><td>  1692.29     </td></tr>\n",
       "\t<tr><td>Paid_Search   </td><td>31882         </td><td>0.6663948     </td><td>21246         </td><td>0.6219183     </td><td> 4.461326     </td><td> 97.98413     </td><td> 425          </td><td> 21515.42     </td></tr>\n",
       "\t<tr><td>Direct        </td><td>26348         </td><td>0.7586534     </td><td>19989         </td><td>0.4594656     </td><td> 6.277820     </td><td>162.81221     </td><td> 367          </td><td> 52054.79     </td></tr>\n",
       "\t<tr><td>Referral      </td><td>18762         </td><td>0.5305405     </td><td> 9954         </td><td>0.2699606     </td><td>12.226149     </td><td>259.00032     </td><td>1231          </td><td>202558.88     </td></tr>\n",
       "\t<tr><td>Display       </td><td> 6411         </td><td>0.8502574     </td><td> 5451         </td><td>0.8341912     </td><td> 2.359850     </td><td> 34.35470     </td><td>  34          </td><td>  7956.42     </td></tr>\n",
       "</tbody>\n",
       "</table>\n"
      ],
      "text/latex": [
       "\\begin{tabular}{r|lllllllll}\n",
       " MediaChannel & Sessions & PercentNewSessions & NewUsers & BounceRate & PagesPerSession & AvgSessionDuration & Transactions & Revenue\\\\\n",
       "\\hline\n",
       "\t Organic\\_Search & 76852            & 0.7840915        & 60259            & 0.3948368        &  7.225290        & 161.32634        &  989             &  94966.75       \\\\\n",
       "\t Social         & 59398          & 0.9433146      & 56031          & 0.5423752      &  3.232348      & 111.79883      &   38           &   1692.29     \\\\\n",
       "\t Paid\\_Search    & 31882            & 0.6663948        & 21246            & 0.6219183        &  4.461326        &  97.98413        &  425             &  21515.42       \\\\\n",
       "\t Direct         & 26348          & 0.7586534      & 19989          & 0.4594656      &  6.277820      & 162.81221      &  367           &  52054.79     \\\\\n",
       "\t Referral       & 18762          & 0.5305405      &  9954          & 0.2699606      & 12.226149      & 259.00032      & 1231           & 202558.88     \\\\\n",
       "\t Display        &  6411          & 0.8502574      &  5451          & 0.8341912      &  2.359850      &  34.35470      &   34           &   7956.42     \\\\\n",
       "\\end{tabular}\n"
      ],
      "text/markdown": [
       "\n",
       "| MediaChannel | Sessions | PercentNewSessions | NewUsers | BounceRate | PagesPerSession | AvgSessionDuration | Transactions | Revenue |\n",
       "|---|---|---|---|---|---|---|---|---|\n",
       "| Organic_Search | 76852          | 0.7840915      | 60259          | 0.3948368      |  7.225290      | 161.32634      |  989           |  94966.75      |\n",
       "| Social         | 59398          | 0.9433146      | 56031          | 0.5423752      |  3.232348      | 111.79883      |   38           |   1692.29      |\n",
       "| Paid_Search    | 31882          | 0.6663948      | 21246          | 0.6219183      |  4.461326      |  97.98413      |  425           |  21515.42      |\n",
       "| Direct         | 26348          | 0.7586534      | 19989          | 0.4594656      |  6.277820      | 162.81221      |  367           |  52054.79      |\n",
       "| Referral       | 18762          | 0.5305405      |  9954          | 0.2699606      | 12.226149      | 259.00032      | 1231           | 202558.88      |\n",
       "| Display        |  6411          | 0.8502574      |  5451          | 0.8341912      |  2.359850      |  34.35470      |   34           |   7956.42      |\n",
       "\n"
      ],
      "text/plain": [
       "  MediaChannel   Sessions PercentNewSessions NewUsers BounceRate\n",
       "1 Organic_Search 76852    0.7840915          60259    0.3948368 \n",
       "2 Social         59398    0.9433146          56031    0.5423752 \n",
       "3 Paid_Search    31882    0.6663948          21246    0.6219183 \n",
       "4 Direct         26348    0.7586534          19989    0.4594656 \n",
       "5 Referral       18762    0.5305405           9954    0.2699606 \n",
       "6 Display         6411    0.8502574           5451    0.8341912 \n",
       "  PagesPerSession AvgSessionDuration Transactions Revenue  \n",
       "1  7.225290       161.32634           989          94966.75\n",
       "2  3.232348       111.79883            38           1692.29\n",
       "3  4.461326        97.98413           425          21515.42\n",
       "4  6.277820       162.81221           367          52054.79\n",
       "5 12.226149       259.00032          1231         202558.88\n",
       "6  2.359850        34.35470            34           7956.42"
      ]
     },
     "metadata": {},
     "output_type": "display_data"
    }
   ],
   "source": [
    "webAnalyticsData <- read_excel(\"Webanalytics_data_example.xlsx\", sheet = \"Dataset1\")\n",
    "head(webAnalyticsData)"
   ]
  },
  {
   "cell_type": "markdown",
   "metadata": {},
   "source": [
    "### *Exercise*\n",
    "\n",
    "Use the `str` function to figure out what the different data types are of the different columns"
   ]
  },
  {
   "cell_type": "code",
   "execution_count": 11,
   "metadata": {},
   "outputs": [
    {
     "name": "stdout",
     "output_type": "stream",
     "text": [
      "Classes 'tbl_df', 'tbl' and 'data.frame':\t8 obs. of  9 variables:\n",
      " $ MediaChannel      : chr  \"Organic_Search\" \"Social\" \"Paid_Search\" \"Direct\" ...\n",
      " $ Sessions          : num  76852 59398 31882 26348 18762 ...\n",
      " $ PercentNewSessions: num  0.784 0.943 0.666 0.759 0.531 ...\n",
      " $ NewUsers          : num  60259 56031 21246 19989 9954 ...\n",
      " $ BounceRate        : num  0.395 0.542 0.622 0.459 0.27 ...\n",
      " $ PagesPerSession   : num  7.23 3.23 4.46 6.28 12.23 ...\n",
      " $ AvgSessionDuration: num  161 112 98 163 259 ...\n",
      " $ Transactions      : num  989 38 425 367 1231 ...\n",
      " $ Revenue           : num  94967 1692 21515 52055 202559 ...\n"
     ]
    }
   ],
   "source": [
    "str(webAnalyticsData)"
   ]
  },
  {
   "cell_type": "markdown",
   "metadata": {},
   "source": [
    "### *Exercise*\n",
    "\n",
    "Try to load the third sheet (\"Dataset2\") into a data frame called \"webAnalyticsData2\". (You might run into some problems. If so check the excel file and consider whether you need to skip some lines. Figure out how to do this by looking at the help page for the function `read_excel`. (If you manage to do it correctly, the cell below should give you a working plot.)"
   ]
  },
  {
   "cell_type": "code",
   "execution_count": 12,
   "metadata": {},
   "outputs": [
    {
     "data": {
      "text/html": [
       "<table>\n",
       "<thead><tr><th scope=col>Day Index</th><th scope=col>Sessions</th></tr></thead>\n",
       "<tbody>\n",
       "\t<tr><td>2016-01-01</td><td>1946      </td></tr>\n",
       "\t<tr><td>2016-01-02</td><td>1555      </td></tr>\n",
       "\t<tr><td>2016-01-03</td><td>1601      </td></tr>\n",
       "\t<tr><td>2016-01-04</td><td>1970      </td></tr>\n",
       "\t<tr><td>2016-01-05</td><td>1881      </td></tr>\n",
       "\t<tr><td>2016-01-06</td><td>1904      </td></tr>\n",
       "</tbody>\n",
       "</table>\n"
      ],
      "text/latex": [
       "\\begin{tabular}{r|ll}\n",
       " Day Index & Sessions\\\\\n",
       "\\hline\n",
       "\t 2016-01-01 & 1946      \\\\\n",
       "\t 2016-01-02 & 1555      \\\\\n",
       "\t 2016-01-03 & 1601      \\\\\n",
       "\t 2016-01-04 & 1970      \\\\\n",
       "\t 2016-01-05 & 1881      \\\\\n",
       "\t 2016-01-06 & 1904      \\\\\n",
       "\\end{tabular}\n"
      ],
      "text/markdown": [
       "\n",
       "| Day Index | Sessions |\n",
       "|---|---|\n",
       "| 2016-01-01 | 1946       |\n",
       "| 2016-01-02 | 1555       |\n",
       "| 2016-01-03 | 1601       |\n",
       "| 2016-01-04 | 1970       |\n",
       "| 2016-01-05 | 1881       |\n",
       "| 2016-01-06 | 1904       |\n",
       "\n"
      ],
      "text/plain": [
       "  Day Index  Sessions\n",
       "1 2016-01-01 1946    \n",
       "2 2016-01-02 1555    \n",
       "3 2016-01-03 1601    \n",
       "4 2016-01-04 1970    \n",
       "5 2016-01-05 1881    \n",
       "6 2016-01-06 1904    "
      ]
     },
     "metadata": {},
     "output_type": "display_data"
    }
   ],
   "source": [
    "webAnalyticsData2 <- read_excel(\"Webanalytics_data_example.xlsx\", skip = 1, sheet = \"Dataset2\")\n",
    "head(webAnalyticsData2)"
   ]
  },
  {
   "cell_type": "code",
   "execution_count": 13,
   "metadata": {
    "scrolled": false
   },
   "outputs": [
    {
     "name": "stderr",
     "output_type": "stream",
     "text": [
      "\n",
      "Attaching package: 'dplyr'\n",
      "\n",
      "The following objects are masked from 'package:stats':\n",
      "\n",
      "    filter, lag\n",
      "\n",
      "The following objects are masked from 'package:base':\n",
      "\n",
      "    intersect, setdiff, setequal, union\n",
      "\n",
      "Registered S3 methods overwritten by 'ggplot2':\n",
      "  method         from \n",
      "  [.quosures     rlang\n",
      "  c.quosures     rlang\n",
      "  print.quosures rlang\n"
     ]
    },
    {
     "data": {
      "image/png": "[encoded data removed]",
      "text/plain": [
       "plot without title"
      ]
     },
     "metadata": {},
     "output_type": "display_data"
    }
   ],
   "source": [
    "# If you did the exercise correctly, this code should give you a working plot\n",
    "library(dplyr); library(ggplot2); webAnalyticsData2 %>% select(Dates = contains(\"Day\"), Sessions) %>% ggplot(aes(Dates, Sessions)) + geom_line(color = \"blue\")"
   ]
  },
  {
   "cell_type": "markdown",
   "metadata": {},
   "source": [
    "## 2 Transforming data in R \n",
    "\n",
    "Let us try to do some transformation on the data we have just loaded into R."
   ]
  },
  {
   "cell_type": "markdown",
   "metadata": {},
   "source": [
    "### *Exercise*\n",
    "\n",
    "Filter the `webAnalyticsData` data frame on the rows for which the bounce rate i bigger than 0.6.\n",
    "\n",
    "(Bounce rate is defined as the percentage of users who left a website immediately after going there, in other words they most likely ended there by mistake or did not find the website interesting. Thus this will give us an idea of which media channels provide the biggest fraction of useless visitors to the website.)"
   ]
  },
  {
   "cell_type": "code",
   "execution_count": 14,
   "metadata": {},
   "outputs": [
    {
     "name": "stdout",
     "output_type": "stream",
     "text": [
      "Classes 'tbl_df', 'tbl' and 'data.frame':\t2 obs. of  9 variables:\n",
      " $ MediaChannel      : chr  \"Paid_Search\" \"Display\"\n",
      " $ Sessions          : num  31882 6411\n",
      " $ PercentNewSessions: num  0.666 0.85\n",
      " $ NewUsers          : num  21246 5451\n",
      " $ BounceRate        : num  0.622 0.834\n",
      " $ PagesPerSession   : num  4.46 2.36\n",
      " $ AvgSessionDuration: num  98 34.4\n",
      " $ Transactions      : num  425 34\n",
      " $ Revenue           : num  21515 7956\n"
     ]
    }
   ],
   "source": [
    "library(dplyr)\n",
    "answer = filter(webAnalyticsData, BounceRate > 0.6)\n",
    "str(answer)"
   ]
  },
  {
   "cell_type": "code",
   "execution_count": 15,
   "metadata": {},
   "outputs": [
    {
     "name": "stdout",
     "output_type": "stream",
     "text": [
      "Classes 'tbl_df', 'tbl' and 'data.frame':\t2 obs. of  9 variables:\n",
      " $ MediaChannel      : chr  \"Paid_Search\" \"Display\"\n",
      " $ Sessions          : num  31882 6411\n",
      " $ PercentNewSessions: num  0.666 0.85\n",
      " $ NewUsers          : num  21246 5451\n",
      " $ BounceRate        : num  0.622 0.834\n",
      " $ PagesPerSession   : num  4.46 2.36\n",
      " $ AvgSessionDuration: num  98 34.4\n",
      " $ Transactions      : num  425 34\n",
      " $ Revenue           : num  21515 7956\n"
     ]
    }
   ],
   "source": [
    "# %>% pipes the variable or result into the next function.. \n",
    "#so webAnalyticsData is piped into the filter() function and the result piped into the str() function\n",
    "library(dplyr)\n",
    "webAnalyticsData %>% filter(BounceRate > 0.6) %>% str()"
   ]
  },
  {
   "cell_type": "markdown",
   "metadata": {},
   "source": [
    "### *Exercise*\n",
    "\n",
    "Filter the `webAnalyticsData` data frame on the rows fow which Transactions i bigger than 100 and Sessions is less than 30000\n",
    "\n",
    "(This give us media channels with a decent amount of transactions given not to many sessions. Thus, they are somewhat effective these media channels.)"
   ]
  },
  {
   "cell_type": "code",
   "execution_count": 16,
   "metadata": {},
   "outputs": [
    {
     "name": "stdout",
     "output_type": "stream",
     "text": [
      "Classes 'tbl_df', 'tbl' and 'data.frame':\t2 obs. of  9 variables:\n",
      " $ MediaChannel      : chr  \"Direct\" \"Referral\"\n",
      " $ Sessions          : num  26348 18762\n",
      " $ PercentNewSessions: num  0.759 0.531\n",
      " $ NewUsers          : num  19989 9954\n",
      " $ BounceRate        : num  0.459 0.27\n",
      " $ PagesPerSession   : num  6.28 12.23\n",
      " $ AvgSessionDuration: num  163 259\n",
      " $ Transactions      : num  367 1231\n",
      " $ Revenue           : num  52055 202559\n"
     ]
    }
   ],
   "source": [
    "result1 = webAnalyticsData %>% \n",
    "filter(Transactions > 100) %>%\n",
    "filter(Sessions < 30000)%>%\n",
    "str()"
   ]
  },
  {
   "cell_type": "code",
   "execution_count": 17,
   "metadata": {},
   "outputs": [
    {
     "name": "stdout",
     "output_type": "stream",
     "text": [
      "Classes 'tbl_df', 'tbl' and 'data.frame':\t2 obs. of  9 variables:\n",
      " $ MediaChannel      : chr  \"Direct\" \"Referral\"\n",
      " $ Sessions          : num  26348 18762\n",
      " $ PercentNewSessions: num  0.759 0.531\n",
      " $ NewUsers          : num  19989 9954\n",
      " $ BounceRate        : num  0.459 0.27\n",
      " $ PagesPerSession   : num  6.28 12.23\n",
      " $ AvgSessionDuration: num  163 259\n",
      " $ Transactions      : num  367 1231\n",
      " $ Revenue           : num  52055 202559\n"
     ]
    }
   ],
   "source": [
    "result2 = webAnalyticsData %>% \n",
    "filter(Transactions > 100 & Sessions < 30000)%>%\n",
    "str()"
   ]
  },
  {
   "cell_type": "code",
   "execution_count": 18,
   "metadata": {},
   "outputs": [
    {
     "data": {
      "text/html": [
       "TRUE"
      ],
      "text/latex": [
       "TRUE"
      ],
      "text/markdown": [
       "TRUE"
      ],
      "text/plain": [
       "[1] TRUE"
      ]
     },
     "metadata": {},
     "output_type": "display_data"
    }
   ],
   "source": [
    "# both ways to filter data is given the same result\n",
    "identical(result1,result2)"
   ]
  },
  {
   "cell_type": "markdown",
   "metadata": {},
   "source": [
    "### *Exercise*\n",
    "\n",
    "We can create a more precise measure for the effectiveness of a media channel by calculating the precentage of sessions that ended in a transaction. That is, for how many of the user sessions that the website had, did the user end up actually buying something. This is often refered to as the *conversion rate*.\n",
    "\n",
    "Use the `mutate` function to create a new column called `ConversionRate` that is equal to `Transactions/Sessions`. Which media channel had the highest conversion rate?"
   ]
  },
  {
   "cell_type": "code",
   "execution_count": 19,
   "metadata": {},
   "outputs": [
    {
     "name": "stdout",
     "output_type": "stream",
     "text": [
      "Classes 'tbl_df', 'tbl' and 'data.frame':\t8 obs. of  10 variables:\n",
      " $ MediaChannel      : chr  \"Organic_Search\" \"Social\" \"Paid_Search\" \"Direct\" ...\n",
      " $ Sessions          : num  76852 59398 31882 26348 18762 ...\n",
      " $ PercentNewSessions: num  0.784 0.943 0.666 0.759 0.531 ...\n",
      " $ NewUsers          : num  60259 56031 21246 19989 9954 ...\n",
      " $ BounceRate        : num  0.395 0.542 0.622 0.459 0.27 ...\n",
      " $ PagesPerSession   : num  7.23 3.23 4.46 6.28 12.23 ...\n",
      " $ AvgSessionDuration: num  161 112 98 163 259 ...\n",
      " $ Transactions      : num  989 38 425 367 1231 ...\n",
      " $ Revenue           : num  94967 1692 21515 52055 202559 ...\n",
      " $ ConversionRate    : num  0.01287 0.00064 0.01333 0.01393 0.06561 ...\n"
     ]
    }
   ],
   "source": [
    "webAnalyticsData %>% \n",
    "mutate(ConversionRate = Transactions/Sessions)%>%\n",
    "str()"
   ]
  },
  {
   "cell_type": "markdown",
   "metadata": {},
   "source": [
    "### *Exercise*\n",
    "\n",
    "We might instead be interested in the absolute revenue generated by the different media channels. To see this in a easier readable format, use the `select` function to only select the columns `MediaChannel` and `Revenue`."
   ]
  },
  {
   "cell_type": "code",
   "execution_count": 20,
   "metadata": {},
   "outputs": [
    {
     "name": "stdout",
     "output_type": "stream",
     "text": [
      "# A tibble: 8 x 2\n",
      "  MediaChannel   Revenue\n",
      "  <chr>            <dbl>\n",
      "1 Organic_Search  94967.\n",
      "2 Social           1692.\n",
      "3 Paid_Search     21515.\n",
      "4 Direct          52055.\n",
      "5 Referral       202559.\n",
      "6 Display          7956.\n",
      "7 Other               0 \n",
      "8 Email               0 \n"
     ]
    }
   ],
   "source": [
    "webAnalyticsData %>% \n",
    "select(MediaChannel, Revenue) %>% \n",
    "print()"
   ]
  },
  {
   "cell_type": "markdown",
   "metadata": {},
   "source": [
    "### *Exercise*\n",
    "\n",
    "To make it even easier to see the media channel with the highest revenue, arrange the data frame such that the media channel with the highest revenue is at the top. (Hint: You need to use the `select` and `arrange` function at the same time. Thus, you might need to make a nested function call, or store the output of one of the calls in a temporary variable.)"
   ]
  },
  {
   "cell_type": "code",
   "execution_count": 21,
   "metadata": {
    "scrolled": false
   },
   "outputs": [
    {
     "name": "stdout",
     "output_type": "stream",
     "text": [
      "# A tibble: 8 x 2\n",
      "  MediaChannel   Revenue\n",
      "  <chr>            <dbl>\n",
      "1 Referral       202559.\n",
      "2 Organic_Search  94967.\n",
      "3 Direct          52055.\n",
      "4 Paid_Search     21515.\n",
      "5 Display          7956.\n",
      "6 Social           1692.\n",
      "7 Other               0 \n",
      "8 Email               0 \n"
     ]
    }
   ],
   "source": [
    "webAnalyticsData %>% # What data frame do we want \n",
    "select(MediaChannel, Revenue) %>% # select what columns we want to work with\n",
    "arrange(desc(Revenue)) %>% # arrange the order as we define it\n",
    "print() # show the result"
   ]
  },
  {
   "cell_type": "markdown",
   "metadata": {},
   "source": [
    "### *Exercise*\n",
    "\n",
    "We are interested in knowing the total revenue and conversion rate for paid and non-paid media. Thus we will group the media channels into paid and non-paid. Thus, first create a new column called `Type` which takes on the value `Paid` for the media channels `Paid_Search`, `Display` and `Email`. For the other channels the value should be `Non-paid` (it is of course debatable whether to put social in paid or non-paid here). To do this use `mutate` and the following expression to define the `Type` column: `ifelse(MediaChannel %in% c(\"Paid_Search\", \"Display\", \"Email\"), \"Paid\", \"Non-paid\")`. (Try to look up the help for the `ifelse` function and see if you can understand this code.)\n",
    "\n",
    "Store the output of this exercise in a data frame called `webAnalyticsDatawType`."
   ]
  },
  {
   "cell_type": "code",
   "execution_count": 22,
   "metadata": {},
   "outputs": [
    {
     "name": "stdout",
     "output_type": "stream",
     "text": [
      "Classes 'tbl_df', 'tbl' and 'data.frame':\t8 obs. of  10 variables:\n",
      " $ MediaChannel      : chr  \"Organic_Search\" \"Social\" \"Paid_Search\" \"Direct\" ...\n",
      " $ Sessions          : num  76852 59398 31882 26348 18762 ...\n",
      " $ PercentNewSessions: num  0.784 0.943 0.666 0.759 0.531 ...\n",
      " $ NewUsers          : num  60259 56031 21246 19989 9954 ...\n",
      " $ BounceRate        : num  0.395 0.542 0.622 0.459 0.27 ...\n",
      " $ PagesPerSession   : num  7.23 3.23 4.46 6.28 12.23 ...\n",
      " $ AvgSessionDuration: num  161 112 98 163 259 ...\n",
      " $ Transactions      : num  989 38 425 367 1231 ...\n",
      " $ Revenue           : num  94967 1692 21515 52055 202559 ...\n",
      " $ Type              : chr  \"Non-paid\" \"Non-paid\" \"Paid\" \"Non-paid\" ...\n"
     ]
    }
   ],
   "source": [
    "webAnalyticsData %>% \n",
    "mutate(Type = ifelse(MediaChannel %in% c(\"Paid_Search\", \"Display\", \"Email\"), \"Paid\", \"Non-paid\")) -> \n",
    "mutateData \n",
    "str(mutateData)"
   ]
  },
  {
   "cell_type": "markdown",
   "metadata": {},
   "source": [
    "### *Exercise*\n",
    "\n",
    "Use the data frame from the last exercise together with the `groupby` and `summerise` functions to create a data frame that shows the total revenue and total number of sessions for each to types `Paid` and `Non-paid` media. (Hint: It is probably easiest to make a nested function call with the `group_by` function as the inner function.)"
   ]
  },
  {
   "cell_type": "code",
   "execution_count": 23,
   "metadata": {},
   "outputs": [
    {
     "data": {
      "text/html": [
       "<table>\n",
       "<thead><tr><th scope=col>Type</th><th scope=col>Revenue</th><th scope=col>Sessions</th></tr></thead>\n",
       "<tbody>\n",
       "\t<tr><td>Non-paid </td><td>351272.71</td><td>181389   </td></tr>\n",
       "\t<tr><td>Paid     </td><td> 29471.84</td><td> 38312   </td></tr>\n",
       "</tbody>\n",
       "</table>\n"
      ],
      "text/latex": [
       "\\begin{tabular}{r|lll}\n",
       " Type & Revenue & Sessions\\\\\n",
       "\\hline\n",
       "\t Non-paid  & 351272.71 & 181389   \\\\\n",
       "\t Paid      &  29471.84 &  38312   \\\\\n",
       "\\end{tabular}\n"
      ],
      "text/markdown": [
       "\n",
       "| Type | Revenue | Sessions |\n",
       "|---|---|---|\n",
       "| Non-paid  | 351272.71 | 181389    |\n",
       "| Paid      |  29471.84 |  38312    |\n",
       "\n"
      ],
      "text/plain": [
       "  Type     Revenue   Sessions\n",
       "1 Non-paid 351272.71 181389  \n",
       "2 Paid      29471.84  38312  "
      ]
     },
     "metadata": {},
     "output_type": "display_data"
    }
   ],
   "source": [
    "mutateData %>%\n",
    "group_by(Type) %>%\n",
    "summarise(Revenue = sum(Revenue), Sessions = sum(Sessions))"
   ]
  },
  {
   "cell_type": "markdown",
   "metadata": {},
   "source": [
    "### *Exercise*\n",
    "\n",
    "Calculate the conversion rate for Paid and Non-paid media. (Hint: Use the `group_by` and `summarise` functions.)"
   ]
  },
  {
   "cell_type": "code",
   "execution_count": 24,
   "metadata": {},
   "outputs": [
    {
     "name": "stdout",
     "output_type": "stream",
     "text": [
      "# A tibble: 2 x 4\n",
      "  Type     Revenue Sessions ConversionRate\n",
      "  <chr>      <dbl>    <dbl>          <dbl>\n",
      "1 Non-paid 351273.   181389         0.0145\n",
      "2 Paid      29472.    38312         0.0120\n"
     ]
    }
   ],
   "source": [
    "#ConversionRate = Transactions/Sessions\n",
    "mutateData %>%\n",
    "group_by(Type) %>%\n",
    "summarise(Revenue = sum(Revenue), Sessions = sum(Sessions), ConversionRate = sum(Transactions)/sum(Sessions)) ->\n",
    "csvData\n",
    "print(csvData)"
   ]
  },
  {
   "cell_type": "markdown",
   "metadata": {},
   "source": [
    "### *Exercise*\n",
    "\n",
    "Write the data frame of the last exercise to a csv file. Can you locate the file on RUC Jupyter Hub, Azure Notebooks, or your local machine and does it looks like you expected?"
   ]
  },
  {
   "cell_type": "code",
   "execution_count": 25,
   "metadata": {},
   "outputs": [],
   "source": [
    "write.csv(csvData, \"execise.csv\", row.names=FALSE)"
   ]
  }
 ],
 "metadata": {
  "kernelspec": {
   "display_name": "R",
   "language": "R",
   "name": "ir"
  },
  "language_info": {
   "codemirror_mode": "r",
   "file_extension": ".r",
   "mimetype": "text/x-r-source",
   "name": "R",
   "pygments_lexer": "r",
   "version": "3.6.1"
  }
 },
 "nbformat": 4,
 "nbformat_minor": 2
}
