{
 "cells": [
  {
   "cell_type": "markdown",
   "metadata": {},
   "source": [
    "# Plotting in R with the ggplot2 package\n",
    "\n",
    "The `ggplor2` package is another member of the `tidyverse` package collection authored by Hadley Wickham. It is one of the most used packages for plotting in R, if not *the* most used. `ggplot2` is based on a \"grammar of graphics\" which means that the plots are built in layers.\n",
    "\n",
    "Let us first load `tidyverse` and set the size of plots in the notebook."
   ]
  },
  {
   "cell_type": "code",
   "execution_count": null,
   "metadata": {},
   "outputs": [],
   "source": [
    "library(tidyverse)\n",
    "options(repr.plot.width=8, repr.plot.height=5)"
   ]
  },
  {
   "cell_type": "markdown",
   "metadata": {},
   "source": [
    "We first look at a simple example of a scatter plot (of variables from the `mpg` dataset that comes with `ggplot2`). We will make the same plot with the standard plot function in R and with `ggplot2`. The code for the `ggplot2` plot is more complex, but its generic form can be used to generate all sorts of plots as well as adding on various new features."
   ]
  },
  {
   "cell_type": "code",
   "execution_count": null,
   "metadata": {},
   "outputs": [],
   "source": [
    "plot(mpg$displ, mpg$hwy)\n",
    "ggplot(data = mpg) + geom_point(mapping = aes(x = displ, y = hwy))"
   ]
  },
  {
   "cell_type": "markdown",
   "metadata": {},
   "source": [
    "## A generic template for plotting with ggplot2\n",
    "\n",
    "The generic template for `ggplot2` plots looks like this:\n",
    "\n",
    "`ggplot(data = <DATA>) + GEOM_FUNCTION(mapping = aes(<MAPPINGS>))`\n",
    "\n",
    "The `ggplot` function takes a data frame as argument and creates an empty coordinate system that you can add layers to. The `GEOM_FUNCTION` is not an R function here but a placeholder for a specific geom function that adds additional layers to you plot. For instance, `geom_point` adds a layer of points to your plot, while `geom_line` adds a layer of lines to your plot. There are numerous other geom functions, as well.\n",
    "\n",
    "Geom functions take a \"*mapping*\" as argument. It defines how variables in the data frame are mapped to *visual properties* in the plot. Note that the mapping argument is always paired with the function `aes(...)`. For instance, in the previous plot `geom_point(mapping = aes(x = speed, y = dist))` means that you want to plot points and that the variable \"speed\" is mapped to the x-axes and \"dist\" is mapped to the y-axes in the plot."
   ]
  },
  {
   "cell_type": "markdown",
   "metadata": {},
   "source": [
    "Let us return to the previous scatter plot of the variables `displ` (a car's engine size in liters) and `hwy` (a car's fuel efficiency on the highway in miles per gallon) from the `mpg `dataset and try out a line instead of points."
   ]
  },
  {
   "cell_type": "code",
   "execution_count": null,
   "metadata": {
    "scrolled": false
   },
   "outputs": [],
   "source": [
    "ggplot(data = mpg) + geom_line(mapping = aes(x = displ, y = hwy))"
   ]
  },
  {
   "cell_type": "markdown",
   "metadata": {},
   "source": [
    "## Adding more mappings\n",
    "\n",
    "We can show a third variable in a 2d-plot using other *aesthetics* than the \"x\" and \"y\". Other available aesthetics include \"size\", \"color\", and \"shape\". The variable `class` (from `mpg` data) can be mapped to color, for instance:"
   ]
  },
  {
   "cell_type": "code",
   "execution_count": null,
   "metadata": {},
   "outputs": [],
   "source": [
    "head(mpg)"
   ]
  },
  {
   "cell_type": "code",
   "execution_count": null,
   "metadata": {},
   "outputs": [],
   "source": [
    "ggplot(data = mpg) + geom_point(mapping = aes(x = displ, y = hwy, color = class))"
   ]
  },
  {
   "cell_type": "markdown",
   "metadata": {},
   "source": [
    "Similar we can map the variable `class` to size or shape:"
   ]
  },
  {
   "cell_type": "code",
   "execution_count": null,
   "metadata": {},
   "outputs": [],
   "source": [
    "ggplot(data = mpg) + geom_point(mapping = aes(x = displ, y = hwy, size = class))"
   ]
  },
  {
   "cell_type": "code",
   "execution_count": null,
   "metadata": {},
   "outputs": [],
   "source": [
    "ggplot(data = mpg) + geom_point(mapping = aes(x = displ, y = hwy, shape = class))"
   ]
  },
  {
   "cell_type": "markdown",
   "metadata": {},
   "source": [
    "Clearly the size aesthetics was not a good choice here as it is hard to distinguish the different sizes. The variable `class` that we tried to map to size is a categorical variable, which means that shape or color is usually better than size, while size can be useful when mapping a numeric variable.\n",
    "\n",
    "Also note the warning message for the plot mapping `class` to shape. The variable `class` have 7 distinct values (     'compact' 'midsize' 'suv' '2seater' 'minivan' 'pickup' 'subcompact'), but there are only 6 different shapes to map to. Thus the points for the last value ('suv') do not appear in the plot."
   ]
  },
  {
   "cell_type": "markdown",
   "metadata": {},
   "source": [
    "For clarity we can also use multiple aesthetics for a single variable such as the `class` variable. We can use color and size, for instance:"
   ]
  },
  {
   "cell_type": "code",
   "execution_count": null,
   "metadata": {},
   "outputs": [],
   "source": [
    "ggplot(data = mpg) + geom_point(mapping = aes(x = displ, y = hwy, color = class, size = class))"
   ]
  },
  {
   "cell_type": "markdown",
   "metadata": {},
   "source": [
    "## Setting aesthetic properties manually\n",
    "\n",
    "We can also set aesthetic properties manually, such as the colors of all points or the shape of all points:"
   ]
  },
  {
   "cell_type": "code",
   "execution_count": null,
   "metadata": {},
   "outputs": [],
   "source": [
    "ggplot(data = mpg) + geom_point(mapping = aes(x = displ, y = hwy), color = \"blue\", shape = 17)\n",
    "ggplot(data = mpg) + geom_point(mapping = aes(x = displ, y = hwy), shape = 17)"
   ]
  },
  {
   "cell_type": "markdown",
   "metadata": {},
   "source": [
    "We can also set the transparency of points. The argument for transparency is called `alpha`. A value of 0 means completely transparent and a value of 1 means non-transparent."
   ]
  },
  {
   "cell_type": "code",
   "execution_count": null,
   "metadata": {
    "scrolled": false
   },
   "outputs": [],
   "source": [
    "ggplot(data = mpg) + geom_point(mapping = aes(x = displ, y = hwy, color = class), alpha = 0.4)"
   ]
  },
  {
   "cell_type": "markdown",
   "metadata": {},
   "source": [
    "Note that, when we do these things, the argument are outside the `aes(...)`. This is because we are not mapping data (from a variable) to an aesthetics, we are setting a property of all data points."
   ]
  },
  {
   "cell_type": "markdown",
   "metadata": {},
   "source": [
    "## Facet plots\n",
    "\n",
    "Instead of mapping a categorical variable (such as `class`) to an aesthetics such as color, we can also make a plot for each value of the variable using `facet_wrap()`:"
   ]
  },
  {
   "cell_type": "code",
   "execution_count": null,
   "metadata": {
    "scrolled": false
   },
   "outputs": [],
   "source": [
    "ggplot(data = mpg) + geom_point(mapping = aes(x = displ, y = hwy)) + facet_wrap(~ class, nrow = 2)"
   ]
  },
  {
   "cell_type": "markdown",
   "metadata": {},
   "source": [
    "With the `facet_grid` function, you can make a facet plot where you split the plot based on two categorical variable such that one variable occurs along the horizontal axis and one along the vertical axis."
   ]
  },
  {
   "cell_type": "code",
   "execution_count": null,
   "metadata": {},
   "outputs": [],
   "source": [
    "ggplot(data = mpg) + geom_point(mapping = aes(x = displ, y = hwy)) + facet_grid(cyl ~ class)"
   ]
  },
  {
   "cell_type": "markdown",
   "metadata": {},
   "source": [
    "Note how these plots easily becomes hard to read or not really valuable, so think before using them."
   ]
  },
  {
   "cell_type": "markdown",
   "metadata": {},
   "source": [
    "## Other \"geoms\"\n",
    "\n",
    "We have only looked at the point geom so far, but there are many other geoms. For instance the \"line geom\":"
   ]
  },
  {
   "cell_type": "code",
   "execution_count": null,
   "metadata": {},
   "outputs": [],
   "source": [
    "ggplot(data = mpg) + geom_line(mapping = aes(x = displ, y = hwy))"
   ]
  },
  {
   "cell_type": "markdown",
   "metadata": {},
   "source": [
    "While the point geom and line geom both plot data as is, there are also geoms that tries to fit particular shapes (or models) to the data. One such is the `geom_smooth` that tries to fit a smooth line to all the points. If you want the smooth line to be linear you can specify this using the method argument."
   ]
  },
  {
   "cell_type": "code",
   "execution_count": null,
   "metadata": {},
   "outputs": [],
   "source": [
    "ggplot(data = mpg) + geom_smooth(mapping = aes(x = displ, y = hwy))"
   ]
  },
  {
   "cell_type": "code",
   "execution_count": null,
   "metadata": {},
   "outputs": [],
   "source": [
    "ggplot(data = mpg) + geom_smooth(mapping = aes(x = displ, y = hwy), method = \"lm\")"
   ]
  },
  {
   "cell_type": "markdown",
   "metadata": {},
   "source": [
    "We can also make a line for each value of the `class` variable by mapping to an aesthetic:"
   ]
  },
  {
   "cell_type": "code",
   "execution_count": null,
   "metadata": {},
   "outputs": [],
   "source": [
    "ggplot(data = mpg) +geom_smooth(mapping = aes(x = displ, y = hwy, color = class), method = \"lm\")"
   ]
  },
  {
   "cell_type": "markdown",
   "metadata": {},
   "source": [
    "We can also plot both the points and a line at the same time by simply adding both geoms. This a good example of how the layered construction of plots can be really useful."
   ]
  },
  {
   "cell_type": "code",
   "execution_count": null,
   "metadata": {},
   "outputs": [],
   "source": [
    "ggplot(data = mpg) + geom_smooth(mapping = aes(x = displ, y = hwy)) + geom_point(mapping = aes(x = displ, y = hwy))"
   ]
  },
  {
   "cell_type": "markdown",
   "metadata": {},
   "source": [
    "## Other types of plots\n",
    "\n",
    "We can also make histogram plots with `ggplot2`. Here, instead of setting the number of bins, we can set the width of the bins."
   ]
  },
  {
   "cell_type": "code",
   "execution_count": null,
   "metadata": {},
   "outputs": [],
   "source": [
    "ggplot(data = mpg) + geom_histogram(mapping = aes(x = displ))"
   ]
  },
  {
   "cell_type": "code",
   "execution_count": null,
   "metadata": {},
   "outputs": [],
   "source": [
    "hist(mpg$displ)"
   ]
  },
  {
   "cell_type": "code",
   "execution_count": null,
   "metadata": {},
   "outputs": [],
   "source": [
    "ggplot(data = mpg) + geom_histogram(mapping = aes(x = displ), binwidth = 0.5)"
   ]
  },
  {
   "cell_type": "code",
   "execution_count": null,
   "metadata": {},
   "outputs": [],
   "source": [
    "ggplot(data = mpg) + geom_histogram(mapping = aes(x = displ), binwidth = 1)"
   ]
  },
  {
   "cell_type": "markdown",
   "metadata": {},
   "source": [
    "Another type of plot we can make is boxplots. In `ggplot2` these are done in the following way:"
   ]
  },
  {
   "cell_type": "code",
   "execution_count": null,
   "metadata": {},
   "outputs": [],
   "source": [
    "ggplot(data = mpg) + geom_boxplot(mapping = aes(x = class, y = hwy))"
   ]
  },
  {
   "cell_type": "markdown",
   "metadata": {},
   "source": [
    "We can flipping the x and y axes in boxplots in the following way:"
   ]
  },
  {
   "cell_type": "code",
   "execution_count": null,
   "metadata": {},
   "outputs": [],
   "source": [
    "ggplot(data = mpg) + geom_boxplot(mapping = aes(x = class, y = hwy)) + coord_flip()"
   ]
  },
  {
   "cell_type": "markdown",
   "metadata": {},
   "source": [
    "We can also make bar plots:"
   ]
  },
  {
   "cell_type": "code",
   "execution_count": null,
   "metadata": {},
   "outputs": [],
   "source": [
    "ggplot(data = mpg) + geom_bar(mapping = aes(x = class))"
   ]
  },
  {
   "cell_type": "markdown",
   "metadata": {},
   "source": [
    "And flip the bars:"
   ]
  },
  {
   "cell_type": "code",
   "execution_count": null,
   "metadata": {},
   "outputs": [],
   "source": [
    "ggplot(data = mpg) + geom_bar(mapping = aes(x = class)) + coord_flip()"
   ]
  },
  {
   "cell_type": "markdown",
   "metadata": {},
   "source": [
    "## Adding titles and other labels\n",
    "\n",
    "Adding and adjusting titles and labels are also easily done with `ggplot2`, for instance:"
   ]
  },
  {
   "cell_type": "code",
   "execution_count": null,
   "metadata": {
    "scrolled": false
   },
   "outputs": [],
   "source": [
    "ggplot(data = mpg) +\n",
    "  geom_point(mapping = aes(x = displ, y = hwy)) +\n",
    "  ggtitle(\"Highway miles vs engine displacement\") + \n",
    "  xlab(\"Engine displacement, in litres\") +\n",
    "  ylab(\"Highway miles per gallon\")"
   ]
  },
  {
   "cell_type": "markdown",
   "metadata": {},
   "source": [
    "Axis can also be scaled easily:"
   ]
  },
  {
   "cell_type": "code",
   "execution_count": null,
   "metadata": {},
   "outputs": [],
   "source": [
    "ggplot(data = mpg) +\n",
    "  geom_point(mapping = aes(x = displ, y = hwy)) +\n",
    "  scale_y_continuous(labels = NULL) +\n",
    "  scale_x_continuous(breaks = seq(from = 1, to = 8, by = 0.5))"
   ]
  },
  {
   "cell_type": "markdown",
   "metadata": {},
   "source": [
    "And legends moved:"
   ]
  },
  {
   "cell_type": "code",
   "execution_count": null,
   "metadata": {},
   "outputs": [],
   "source": [
    "ggplot(data = mpg) +\n",
    "  geom_point(mapping = aes(x = displ, y = hwy, color = class)) +\n",
    "  theme(legend.position = \"bottom\")"
   ]
  },
  {
   "cell_type": "markdown",
   "metadata": {},
   "source": [
    "Finally, we can also change the entire theme, or define our own."
   ]
  },
  {
   "cell_type": "code",
   "execution_count": null,
   "metadata": {
    "scrolled": false
   },
   "outputs": [],
   "source": [
    "ggplot(data = mpg) +\n",
    "  geom_point(mapping = aes(x = displ, y = hwy, color = class)) +\n",
    "  theme_dark()"
   ]
  },
  {
   "cell_type": "markdown",
   "metadata": {},
   "source": [
    "## Zooming in plots\n",
    "\n",
    "We can also zoom in and out in plots by changing the axis limits using the `coord_cartesian` function:"
   ]
  },
  {
   "cell_type": "code",
   "execution_count": null,
   "metadata": {},
   "outputs": [],
   "source": [
    "ggplot(data = mpg) +\n",
    "  geom_point(mapping = aes(x = displ, y = hwy))"
   ]
  },
  {
   "cell_type": "code",
   "execution_count": null,
   "metadata": {},
   "outputs": [],
   "source": [
    "ggplot(data = mpg) +\n",
    "  geom_point(mapping = aes(x = displ, y = hwy)) +\n",
    "  coord_cartesian(xlim = c(2, 3))"
   ]
  },
  {
   "cell_type": "code",
   "execution_count": null,
   "metadata": {},
   "outputs": [],
   "source": [
    "ggplot(data = mpg) +\n",
    "  geom_point(mapping = aes(x = displ, y = hwy)) +\n",
    "  coord_cartesian(ylim = c(30, 40))"
   ]
  },
  {
   "cell_type": "code",
   "execution_count": null,
   "metadata": {},
   "outputs": [],
   "source": [
    "ggplot(data = mpg) +\n",
    "  geom_point(mapping = aes(x = displ, y = hwy)) +\n",
    "  coord_cartesian(xlim = c(1, 2), ylim = c(30, 40)) "
   ]
  },
  {
   "cell_type": "markdown",
   "metadata": {
    "collapsed": true
   },
   "source": [
    "## Additional resources\n",
    "\n",
    "More examples of plotting with `ggplot2`can be found in chapter 3 and 28 of \"[R for Data Science](http://r4ds.had.co.nz/)\". There is also a very useful \"Data Visualization with ggplot2\" cheatsheet, or just googling \"r ggplot2 ...\" will give you a lot of examples and more information."
   ]
  },
  {
   "cell_type": "markdown",
   "metadata": {},
   "source": [
    "### *Exercise*\n",
    "\n",
    "Recreate the plots from the \"*4.2 Exploratory Data Analysis.ipynb*\" notebook as `ggplot2` plots"
   ]
  },
  {
   "cell_type": "code",
   "execution_count": null,
   "metadata": {},
   "outputs": [],
   "source": []
  }
 ],
 "metadata": {
  "kernelspec": {
   "display_name": "R",
   "language": "R",
   "name": "ir"
  },
  "language_info": {
   "codemirror_mode": "r",
   "file_extension": ".r",
   "mimetype": "text/x-r-source",
   "name": "R",
   "pygments_lexer": "r",
   "version": "3.6.1"
  }
 },
 "nbformat": 4,
 "nbformat_minor": 2
}
