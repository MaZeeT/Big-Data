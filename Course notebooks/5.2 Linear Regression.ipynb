{
 "cells": [
  {
   "cell_type": "markdown",
   "metadata": {},
   "source": [
    "# Linear Regression\n",
    "\n",
    "In this notebook, we will go through linear regression in details. First we need some setup:"
   ]
  },
  {
   "cell_type": "code",
   "execution_count": 1,
   "metadata": {
    "scrolled": false
   },
   "outputs": [
    {
     "name": "stderr",
     "output_type": "stream",
     "text": [
      "Warning message:\n",
      "\"package 'tidyverse' was built under R version 3.6.3\"-- Attaching packages --------------------------------------- tidyverse 1.3.0 --\n",
      "v ggplot2 3.3.2     v purrr   0.3.4\n",
      "v tibble  3.0.3     v dplyr   1.0.2\n",
      "v tidyr   1.1.2     v stringr 1.4.0\n",
      "v readr   1.3.1     v forcats 0.4.0\n",
      "Warning message:\n",
      "\"package 'ggplot2' was built under R version 3.6.3\"Warning message:\n",
      "\"package 'tibble' was built under R version 3.6.3\"Warning message:\n",
      "\"package 'tidyr' was built under R version 3.6.3\"Warning message:\n",
      "\"package 'purrr' was built under R version 3.6.3\"Warning message:\n",
      "\"package 'dplyr' was built under R version 3.6.3\"-- Conflicts ------------------------------------------ tidyverse_conflicts() --\n",
      "x dplyr::filter() masks stats::filter()\n",
      "x dplyr::lag()    masks stats::lag()\n"
     ]
    }
   ],
   "source": [
    "library(tidyverse)\n",
    "options(repr.plot.width=8, repr.plot.height=5)"
   ]
  },
  {
   "cell_type": "markdown",
   "metadata": {},
   "source": [
    "We will use data from the book \"Introduction to R for Business Intelligence\" by Jay Gendron:"
   ]
  },
  {
   "cell_type": "code",
   "execution_count": 2,
   "metadata": {},
   "outputs": [],
   "source": [
    "url <- \"https://raw.githubusercontent.com/jgendron/com.packtpub.intro.r.bi/master/Chapter4-LinearRegressionforBusiness/data/Ch4_marketing.csv\"\n",
    "adverts <- read.csv(url)"
   ]
  },
  {
   "cell_type": "markdown",
   "metadata": {},
   "source": [
    "As we have seen when talking about correlation there might be a linear relationship between two variables such as `mpg` and `wt` in the `mtcars` dataset. In such a case how do we best find a line that represent this linear relationship?"
   ]
  },
  {
   "cell_type": "code",
   "execution_count": 3,
   "metadata": {},
   "outputs": [
    {
     "data": {
      "image/png": "[encoded data removed]",
      "text/plain": [
       "plot without title"
      ]
     },
     "metadata": {},
     "output_type": "display_data"
    }
   ],
   "source": [
    "ggplot(data = mtcars, mapping = aes(x = wt, y = mpg)) +\n",
    "  geom_point()"
   ]
  },
  {
   "cell_type": "code",
   "execution_count": 4,
   "metadata": {},
   "outputs": [
    {
     "name": "stderr",
     "output_type": "stream",
     "text": [
      "`geom_smooth()` using formula 'y ~ x'\n"
     ]
    },
    {
     "data": {
      "image/png": "[encoded data removed]",
      "text/plain": [
       "plot without title"
      ]
     },
     "metadata": {},
     "output_type": "display_data"
    }
   ],
   "source": [
    "ggplot(data = mtcars, mapping = aes(x = wt, y = mpg)) +\n",
    "  geom_point() +  geom_smooth(method = \"lm\", se = TRUE)"
   ]
  },
  {
   "cell_type": "markdown",
   "metadata": {},
   "source": [
    "The answer is linear regression...\n",
    "\n",
    "There are two types of linear regression, the one being an extension of the other:\n",
    "* *Simple Linear Regression*\n",
    "    - about finding a linear relationship between a **response**(/dependent) variable $y$ and a **predictor**(/independent) variable $x$.\n",
    "    - In math, we want to find constants $a$ and $b$ such that the line $y = a*x + b$ is the **best** line that **fits** some given data\n",
    "* *Multiple Linear Regression*\n",
    "    - about finding a linear relationship between a **response**(/dependent) variable $y$ and some **predictor**(/independent) variables $x_1, x_2, ..., x_n$.\n",
    "    -  In math, we want to find $a_0, a_1, a_2, ..., a_n$ such that the model $y = a_0 + a_1 * x_1 + a_2 * x_2 + ... + a_n * x_n$ is the **best** model that **fits** some given data\n",
    "    \n",
    "Having fitted a linear model, i.e. fund particular values for $a_0, a_1, a_2, ..., a_n$, the function $f(x_1, x_2, ..., x_n) = a_0 + a_1 * x_1 + a_2 * x_2 + ... + a_n * x_n$ returns a predicted value for $y$ for any given set of values for $x_1, x_2, ..., x_n$. But how do we fit such a linear model and what does *best* mean?\n",
    "\n",
    "The best model is the one for which the **root-mean-square distance** between the predicted values and the actual response values is minimal. For each pair of actual and predicted response values we take the difference between them and square it. We them sum all these squared distances and take the square root of it. Formaully, for the math happy, the *root mean square distance* between the prediced values and the response values is also called the *root mean square error* (*rmse*) and is defined by: \n",
    "$$rmse = \\sqrt(\\frac{1}{M}\\sum_{m = 1}^{m=M}(f(x_1^m, x_2^m, ..., x_n^m) - y^m)^2)   , $$\n",
    "where $x_1^m, x_2^m, ..., x_n^m, y^m$ is the $m$'th data point and $M$ is the total number of data points in our \n",
    "dataset."
   ]
  },
  {
   "cell_type": "code",
   "execution_count": 5,
   "metadata": {},
   "outputs": [
    {
     "name": "stderr",
     "output_type": "stream",
     "text": [
      "`geom_smooth()` using formula 'y ~ x'\n"
     ]
    },
    {
     "data": {
      "image/png": "[encoded data removed]",
      "text/plain": [
       "plot without title"
      ]
     },
     "metadata": {},
     "output_type": "display_data"
    }
   ],
   "source": [
    "fit <- lm(mpg ~ wt, mtcars)\n",
    "ggplot(data = mtcars, mapping = aes(x = wt, y = mpg)) +\n",
    "  geom_point() + geom_smooth(method = \"lm\", se = FALSE) +\n",
    "  geom_segment(data = cbind(mtcars, pred=predict(fit, mtcars)), aes(yend = pred, xend = wt), color = \"red\") +\n",
    "  ggtitle(\"The vertical red lines represent the difference between the\\n actual mpg (black points) and the predicted mpg (blue line)\")"
   ]
  },
  {
   "cell_type": "markdown",
   "metadata": {},
   "source": [
    "### A simple example\n",
    "\n",
    "A car's fuel consumption (mpg) might be a function of its weight (wt) and the number of cylinders its engine contains (cyl):\n",
    "$$\n",
    "mpg = a_0 + a_1 * wt + a_2 * cyl\n",
    "$$"
   ]
  },
  {
   "cell_type": "markdown",
   "metadata": {},
   "source": [
    "### An even simpler example\n",
    "\n",
    "An even simpler example, the fuel consumption (mpg) might be a linear function of weight (wt):\n",
    "$$\n",
    "mpg = a_0 + a_1 * wt\n",
    "$$\n",
    "But, how do we find $a_0$ and $a_1$?"
   ]
  },
  {
   "cell_type": "markdown",
   "metadata": {},
   "source": [
    "### Fitting linear models in R - the `lm` function\n",
    "\n",
    "Luckily, R has a function for fitting such linear models (of course!)\n",
    "\n",
    "This allows us to find $a_0$ and $a_1$ for the model $mpg = a_0 + a_1 * wt$ based on the `mtcars` data set.\n",
    "\n",
    "The function is simply called `lm` for \"linear models\". As its two main arguments it takes a formula specifying the model you want to fit and the dataset to which you want to fit the model. Here is an example of how to fit the model just mentioned:"
   ]
  },
  {
   "cell_type": "code",
   "execution_count": 6,
   "metadata": {},
   "outputs": [
    {
     "data": {
      "text/plain": [
       "\n",
       "Call:\n",
       "lm(formula = mpg ~ wt, data = mtcars)\n",
       "\n",
       "Coefficients:\n",
       "(Intercept)           wt  \n",
       "     37.285       -5.344  \n"
      ]
     },
     "metadata": {},
     "output_type": "display_data"
    }
   ],
   "source": [
    "# ?lm\n",
    "lm(formula = mpg ~ wt, data = mtcars)"
   ]
  },
  {
   "cell_type": "markdown",
   "metadata": {},
   "source": [
    "Here \"Call\" tells you what model and data you used as input and the \"Coefficients\" tells you the $a_0$ and $a_1$ of your linear regression:\n",
    "$$\n",
    "mpg = a_0 + a_1 * wt\n",
    "$$\n",
    "\n",
    "$a_1$ is also referred to as \"the slope\" and $a_0$ as \"the intercept\".\n",
    "\n",
    "Putting in the number we get that:\n",
    "$$\n",
    "mpg = -5.344 * wt + 37.285\n",
    "$$\n",
    "The slope ($a_1$) can be interpreted as: *\"For every time a car weighs 1000lbs more, its miles per gallon goes down by 5.344\"*. The intercept can be interpreted as: *\"If a car weighs 0lbs, it will go 37.285 miles per gallon!?\"*. As a car cannot weigh 0lbs, we should be careful in interpreting the intersect in this case.\n",
    "\n",
    "With this model we can predict the mph of a new car if we know its weight. For instance, if we have a new car that weighs 4.5lbs, the model predicts that its mpg will be: $-5.344 * 4.5 + 37.285 = 13.237$ miles per gallon.\n",
    "\n",
    "Finally, let us visualize the model wrt. the data, that is, let us plot the data together with the line that we found as the model:"
   ]
  },
  {
   "cell_type": "code",
   "execution_count": 7,
   "metadata": {},
   "outputs": [
    {
     "data": {
      "image/png": "[encoded data removed]",
      "text/plain": [
       "plot without title"
      ]
     },
     "metadata": {},
     "output_type": "display_data"
    }
   ],
   "source": [
    "ggplot(mtcars) + geom_point(aes(x = wt, y = mpg)) +\n",
    "geom_line(aes(x = wt, y = -5.344 * wt + 37.285), color = \"red\")"
   ]
  },
  {
   "cell_type": "markdown",
   "metadata": {},
   "source": [
    "This plot should look familiar. It is the same plot has we saw previously (just with a red instead of a blue line). In fact, it is just the linear regression line R plots with the *ggplot* command `geom_smooth(method = \"lm\", se = FALSE)` used in:"
   ]
  },
  {
   "cell_type": "code",
   "execution_count": 8,
   "metadata": {},
   "outputs": [
    {
     "name": "stderr",
     "output_type": "stream",
     "text": [
      "`geom_smooth()` using formula 'y ~ x'\n"
     ]
    },
    {
     "data": {
      "image/png": "[encoded data removed]",
      "text/plain": [
       "plot without title"
      ]
     },
     "metadata": {},
     "output_type": "display_data"
    }
   ],
   "source": [
    "ggplot(data = mtcars, mapping = aes(x = wt, y = mpg)) + geom_point() +\n",
    "  geom_smooth(method = \"lm\", se = FALSE)"
   ]
  },
  {
   "cell_type": "markdown",
   "metadata": {},
   "source": [
    "The argument `se = FALSE` to `geom_smooth(method = \"lm\", se = FALSE)` tells R not to plot confidence interval around the line. Try to leave out this argument to see the plot with the confience interval around the line."
   ]
  },
  {
   "cell_type": "code",
   "execution_count": 9,
   "metadata": {},
   "outputs": [
    {
     "name": "stderr",
     "output_type": "stream",
     "text": [
      "`geom_smooth()` using formula 'y ~ x'\n"
     ]
    },
    {
     "data": {
      "image/png": "[encoded data removed]",
      "text/plain": [
       "plot without title"
      ]
     },
     "metadata": {},
     "output_type": "display_data"
    }
   ],
   "source": [
    "ggplot(data = mtcars, mapping = aes(x = wt, y = mpg)) + geom_point() +\n",
    "  geom_smooth(method = \"lm\")"
   ]
  },
  {
   "cell_type": "markdown",
   "metadata": {},
   "source": [
    "### *Exercise*\n",
    "\n",
    "The marketing data from chapter 4 of the book \"Introduction to R for Business Intelligence\" by Jay Gendron is loaded into a data frame called `adverts`.\n",
    "\n",
    "Use this data to fit the following linear regression model:\n",
    "$$\n",
    "revenues = a * marketing\\_total + b\n",
    "$$\n",
    "(or $revenues = a_0 + a_1 * marketing\\_total$)\n",
    "\n",
    "1. What are the values for $a$ and $b$?\n",
    "2. How should you interpret the values for $a$ and $b$?\n",
    "3. If you spend 300 on marketing in total, what revenue can you expect?"
   ]
  },
  {
   "cell_type": "code",
   "execution_count": 12,
   "metadata": {},
   "outputs": [
    {
     "data": {
      "text/plain": [
       "\n",
       "Call:\n",
       "lm(formula = revenues ~ marketing_total, data = adverts)\n",
       "\n",
       "Coefficients:\n",
       "    (Intercept)  marketing_total  \n",
       "       32.00670          0.05193  \n"
      ]
     },
     "metadata": {},
     "output_type": "display_data"
    }
   ],
   "source": [
    "lm(formula = revenues ~ marketing_total, data = adverts)"
   ]
  },
  {
   "cell_type": "code",
   "execution_count": 16,
   "metadata": {},
   "outputs": [
    {
     "data": {
      "image/png": "[encoded data removed]",
      "text/plain": [
       "plot without title"
      ]
     },
     "metadata": {},
     "output_type": "display_data"
    }
   ],
   "source": [
    "# a: 0.05193\n",
    "# b: 32.00670\n",
    "\n",
    "ggplot(adverts, aes(marketing_total, revenues)) +\n",
    "geom_point() +\n",
    "geom_line(aes(x = marketing_total, y = 0.05193 * marketing_total + 32.00670), color = \"red\")"
   ]
  },
  {
   "cell_type": "code",
   "execution_count": 18,
   "metadata": {},
   "outputs": [
    {
     "data": {
      "text/html": [
       "47.5857"
      ],
      "text/latex": [
       "47.5857"
      ],
      "text/markdown": [
       "47.5857"
      ],
      "text/plain": [
       "[1] 47.5857"
      ]
     },
     "metadata": {},
     "output_type": "display_data"
    }
   ],
   "source": [
    "#If 300 is spent on marketing the expected revenue is\n",
    "0.05193 * 300 + 32.00670"
   ]
  },
  {
   "cell_type": "markdown",
   "metadata": {},
   "source": [
    "## Multiple linear regression in R\n",
    "\n",
    "We can also deal with multiple predictor variables. Recall the model family: a car's fuel consumption (`mpg`) as a function of its weight (`wt`) and the number of cylinders its engine contains (`cyl`):\n",
    "$$\n",
    "mpg = a_0 + a_1 * wt + a_2 * cyl\n",
    "$$\n",
    "\n",
    "In R we can fit this model by:"
   ]
  },
  {
   "cell_type": "code",
   "execution_count": 19,
   "metadata": {},
   "outputs": [
    {
     "data": {
      "text/plain": [
       "\n",
       "Call:\n",
       "lm(formula = mpg ~ wt + cyl, data = mtcars)\n",
       "\n",
       "Coefficients:\n",
       "(Intercept)           wt          cyl  \n",
       "     39.686       -3.191       -1.508  \n"
      ]
     },
     "metadata": {},
     "output_type": "display_data"
    }
   ],
   "source": [
    "lm(formula = mpg ~ wt + cyl, data = mtcars)"
   ]
  },
  {
   "cell_type": "markdown",
   "metadata": {},
   "source": [
    "Note that, as we now have two predictor variables we cannot make the same plot, where we have the predcitor variable on the x-axis. In this particular case with only two predictor variables we could do a 3D plot, however, it becomes less helpful and beyound 2 predictor variabels we cannot make such a plot at all. Most interesting real life cases involves more than two predictor variables, thus, we usually have to come up with other ways of evaluating and visualing how good a linear regression model is."
   ]
  },
  {
   "cell_type": "markdown",
   "metadata": {},
   "source": [
    "### Other models\n",
    "\n",
    "There are a lot of options for specifying other models using the `lm` function. Let us go through a few of them.\n",
    "\n",
    "First of all, we can fit a model without an intercept (making the hard assumption that the intercept is zero). For instance, we can fit the model:\n",
    "$$\n",
    "hp = a_1 * wt\n",
    "$$\n",
    "This is done in R by adding a \"$-1$\" to the formula in the call to `lm`."
   ]
  },
  {
   "cell_type": "code",
   "execution_count": 20,
   "metadata": {},
   "outputs": [
    {
     "data": {
      "text/plain": [
       "\n",
       "Call:\n",
       "lm(formula = disp ~ wt - 1, data = mtcars)\n",
       "\n",
       "Coefficients:\n",
       "   wt  \n",
       "75.07  \n"
      ]
     },
     "metadata": {},
     "output_type": "display_data"
    }
   ],
   "source": [
    "lm(formula = disp ~ wt - 1, data = mtcars)"
   ]
  },
  {
   "cell_type": "code",
   "execution_count": 21,
   "metadata": {},
   "outputs": [
    {
     "name": "stderr",
     "output_type": "stream",
     "text": [
      "`geom_smooth()` using formula 'y ~ x'\n",
      "Warning message:\n",
      "\"Removed 7 rows containing non-finite values (stat_smooth).\"Warning message:\n",
      "\"Removed 7 rows containing missing values (geom_point).\"Warning message:\n",
      "\"Removed 3 row(s) containing missing values (geom_path).\""
     ]
    },
    {
     "data": {
      "image/png": "[encoded data removed]",
      "text/plain": [
       "plot without title"
      ]
     },
     "metadata": {},
     "output_type": "display_data"
    }
   ],
   "source": [
    "ggplot(data = mtcars) + geom_point(mapping = aes(x = wt, y = disp)) +\n",
    "geom_line(aes(x = wt, y =75.07 * wt), color = \"red\") + xlim(0, 6) + ylim(0,350) +\n",
    "geom_smooth(mapping = aes(x = wt, y = disp), method = \"lm\", se = FALSE)"
   ]
  },
  {
   "cell_type": "markdown",
   "metadata": {},
   "source": [
    "We can also use products of variables as input to models, such as in the model:\n",
    "$$\n",
    "mpg = a_0 + a_1 * wt + a_2 * cyl * disp\n",
    "$$"
   ]
  },
  {
   "cell_type": "code",
   "execution_count": 22,
   "metadata": {},
   "outputs": [
    {
     "data": {
      "text/plain": [
       "\n",
       "Call:\n",
       "lm(formula = mpg ~ wt + I(cyl * disp), data = mtcars)\n",
       "\n",
       "Coefficients:\n",
       "  (Intercept)             wt  I(cyl * disp)  \n",
       "    34.282352      -3.522725      -0.001763  \n"
      ]
     },
     "metadata": {},
     "output_type": "display_data"
    }
   ],
   "source": [
    "lm(formula = mpg ~ wt + I(cyl * disp), data = mtcars)"
   ]
  },
  {
   "cell_type": "markdown",
   "metadata": {},
   "source": [
    "The `I` around `cyl * displ` is needed to get only the product of these two variables in the model. Look what happens if we leave it out:"
   ]
  },
  {
   "cell_type": "code",
   "execution_count": 23,
   "metadata": {},
   "outputs": [
    {
     "data": {
      "text/plain": [
       "\n",
       "Call:\n",
       "lm(formula = mpg ~ wt + cyl * disp, data = mtcars)\n",
       "\n",
       "Coefficients:\n",
       "(Intercept)           wt          cyl         disp     cyl:disp  \n",
       "   49.55195     -2.73695     -3.00543     -0.08670      0.01107  \n"
      ]
     },
     "metadata": {},
     "output_type": "display_data"
    }
   ],
   "source": [
    "lm(formula = mpg ~ wt + cyl * disp, data = mtcars)"
   ]
  },
  {
   "cell_type": "markdown",
   "metadata": {},
   "source": [
    "In this case we actually fitted the model:\n",
    "$$\n",
    "mpg = a_0 + a_1 * wt + a_2 * cyl + a_4 * disp + a_5 * cyl * displ\n",
    "$$"
   ]
  },
  {
   "cell_type": "markdown",
   "metadata": {},
   "source": [
    "### Linear models with categorical variables\n",
    "\n",
    "We can also use categorical variables as predictor variables in linear regression. However, for this to work properly, the categorical variables need to be given in the factor data type in R. As gear is a categorical variable, we can make it into a factor and use it as a predictor variable in the following model:\n",
    "$$\n",
    "mpg = a_0 + a_1 * wt + a_2 * gear\n",
    "$$"
   ]
  },
  {
   "cell_type": "code",
   "execution_count": 24,
   "metadata": {},
   "outputs": [
    {
     "data": {
      "text/plain": [
       "\n",
       "Call:\n",
       "lm(formula = mpg ~ wt + gear, data = mtcars)\n",
       "\n",
       "Coefficients:\n",
       "(Intercept)           wt        gear4        gear5  \n",
       "    35.2156      -4.9090       2.1631      -0.9121  \n"
      ]
     },
     "metadata": {},
     "output_type": "display_data"
    }
   ],
   "source": [
    "mtcars$gear <- as.factor(mtcars$gear)\n",
    "lm(formula = mpg ~ wt + gear, data = mtcars)"
   ]
  },
  {
   "cell_type": "markdown",
   "metadata": {},
   "source": [
    "What actually happened here is that R transformed the model $mpg = a_0 + a_1 * wt + a_2 * gear$ into the model $mpg = a_0 + a_1 * wt + a_2 * gear4 + a_3 * gear5$. Because the variable `gear` can take three possible values ($3, 4, 5$), R created two new variables `gear4` and `gear5` that are both *indicator* variables, that is variables that always take the value $0$ or $1$. If the original `gear` variable is $5$ then the variable `gear5` is $1$ and `gear4` is $0$. If the original `gear` variable is $4$ then the variable `gear5` is $0$ and `gear4` is $1$. If the original `gear` variable is $3$ then both the variable `gear5` and `gear4` are $0$. Thus, we get that:\n",
    "- If `gear` is 3, $mpg = a_0 + a_1 * wt$\n",
    "- If `gear` is 4, $mpg = a_0 + a_1 * wt + a_2 * gear4$\n",
    "- If `gear` is 5, $mpg = a_0 + a_1 * wt + a_3 * gear5$\n",
    "\n",
    "This is a classical way of incoding a factor variable into multiple indicator variabels. "
   ]
  },
  {
   "cell_type": "markdown",
   "metadata": {},
   "source": [
    "### *Exercise*\n",
    "\n",
    "For the marketing data in the data frame `adverts` fit a multiple linear regression with `revenues` as the response variable and:\n",
    "$$\n",
    "revenues = a_0 + a_1 * google\\_adwords + a_2 * facebook + a_3 * twitter\n",
    "$$\n",
    "\n",
    "- What are the values for $a_0, a_1, a_2, a_3$?\n",
    "- How should you interpret the values for $a_0, a_1, a_2, a_3$?\n",
    "- If the company spend 100 on Google Adwords, 50 on facebook and 60 on twitter, what will the revenue be?"
   ]
  },
  {
   "cell_type": "code",
   "execution_count": 25,
   "metadata": {},
   "outputs": [
    {
     "data": {
      "text/plain": [
       "\n",
       "Call:\n",
       "lm(formula = revenues ~ google_adwords + facebook + twitter, \n",
       "    data = adverts)\n",
       "\n",
       "Coefficients:\n",
       "   (Intercept)  google_adwords        facebook         twitter  \n",
       "     29.545988        0.048384        0.197651        0.003889  \n"
      ]
     },
     "metadata": {},
     "output_type": "display_data"
    }
   ],
   "source": [
    "lm(formula = revenues ~ google_adwords + facebook + twitter, data = adverts)"
   ]
  },
  {
   "cell_type": "code",
   "execution_count": 27,
   "metadata": {},
   "outputs": [
    {
     "data": {
      "text/html": [
       "44.500278"
      ],
      "text/latex": [
       "44.500278"
      ],
      "text/markdown": [
       "44.500278"
      ],
      "text/plain": [
       "[1] 44.50028"
      ]
     },
     "metadata": {},
     "output_type": "display_data"
    }
   ],
   "source": [
    "29.545988+     #intercept\n",
    "0.048384 *100+ # Google_adwords\n",
    "0.197651 *50+  # Facebook  \n",
    "0.003889 *60   # Twitter"
   ]
  },
  {
   "cell_type": "markdown",
   "metadata": {},
   "source": [
    "## Model predictions and errors\n",
    "\n",
    "Once we have a model we can use it to predict new values of the response variable from values of the predictor variables. (Note, we will have the most confidence in predictions when predicting within the ranges of our predictor variables). Here is how to predict new values of our response variable from new predictor variable values using the model:\n",
    "$$\n",
    "mpg = a_0 + a_1 * wt + a_2 * disp\n",
    "$$"
   ]
  },
  {
   "cell_type": "code",
   "execution_count": 28,
   "metadata": {},
   "outputs": [
    {
     "data": {
      "text/html": [
       "<table>\n",
       "<thead><tr><th scope=col>fit</th><th scope=col>lwr</th><th scope=col>upr</th></tr></thead>\n",
       "<tbody>\n",
       "\t<tr><td>19.59065</td><td>13.27774</td><td>25.90357</td></tr>\n",
       "</tbody>\n",
       "</table>\n"
      ],
      "text/latex": [
       "\\begin{tabular}{r|lll}\n",
       " fit & lwr & upr\\\\\n",
       "\\hline\n",
       "\t 19.59065 & 13.27774 & 25.90357\\\\\n",
       "\\end{tabular}\n"
      ],
      "text/markdown": [
       "\n",
       "| fit | lwr | upr |\n",
       "|---|---|---|\n",
       "| 19.59065 | 13.27774 | 25.90357 |\n",
       "\n"
      ],
      "text/plain": [
       "  fit      lwr      upr     \n",
       "1 19.59065 13.27774 25.90357"
      ]
     },
     "metadata": {},
     "output_type": "display_data"
    }
   ],
   "source": [
    "model1 <- lm(formula = mpg ~ wt + disp, data = mtcars)\n",
    "newdata <- data.frame(wt = 3, disp = 300)\n",
    "predict.lm(model1, newdata, interval = \"predict\")"
   ]
  },
  {
   "cell_type": "markdown",
   "metadata": {},
   "source": [
    "The `fit` is the predicted value of `mpg` for `wt` 3 (3,000lbs) and `disp` 300. The `lwr` and `upr` represent the lower and upper bounds of a 95% confidence interval of the prediction. That is if we make 100 predictions, 95 will fall within this interval. We can change it to a 99% confidence interval, for instance, in the following way:"
   ]
  },
  {
   "cell_type": "code",
   "execution_count": 29,
   "metadata": {},
   "outputs": [
    {
     "data": {
      "text/html": [
       "<table>\n",
       "<thead><tr><th scope=col>fit</th><th scope=col>lwr</th><th scope=col>upr</th></tr></thead>\n",
       "<tbody>\n",
       "\t<tr><td>19.59065</td><td>11.08265</td><td>28.09866</td></tr>\n",
       "</tbody>\n",
       "</table>\n"
      ],
      "text/latex": [
       "\\begin{tabular}{r|lll}\n",
       " fit & lwr & upr\\\\\n",
       "\\hline\n",
       "\t 19.59065 & 11.08265 & 28.09866\\\\\n",
       "\\end{tabular}\n"
      ],
      "text/markdown": [
       "\n",
       "| fit | lwr | upr |\n",
       "|---|---|---|\n",
       "| 19.59065 | 11.08265 | 28.09866 |\n",
       "\n"
      ],
      "text/plain": [
       "  fit      lwr      upr     \n",
       "1 19.59065 11.08265 28.09866"
      ]
     },
     "metadata": {},
     "output_type": "display_data"
    }
   ],
   "source": [
    "predict.lm(model1, newdata, interval = \"predict\", level = 0.99)"
   ]
  },
  {
   "cell_type": "markdown",
   "metadata": {},
   "source": [
    "Note how the confidence interval increased. As we want more certainty in our estimate, we also have to accept a larger interval of possible values!\n",
    "\n",
    "If we do not want the confidence interval along with the prediction we can simply do:"
   ]
  },
  {
   "cell_type": "code",
   "execution_count": 30,
   "metadata": {},
   "outputs": [
    {
     "data": {
      "text/html": [
       "<strong>1:</strong> 19.5906547543439"
      ],
      "text/latex": [
       "\\textbf{1:} 19.5906547543439"
      ],
      "text/markdown": [
       "**1:** 19.5906547543439"
      ],
      "text/plain": [
       "       1 \n",
       "19.59065 "
      ]
     },
     "metadata": {},
     "output_type": "display_data"
    }
   ],
   "source": [
    "predict(model1, newdata)"
   ]
  },
  {
   "cell_type": "markdown",
   "metadata": {},
   "source": [
    "We can also make multiple predictions at the same time by just including more rows in the data frame `newdata`. Here is an example of that:"
   ]
  },
  {
   "cell_type": "code",
   "execution_count": 31,
   "metadata": {},
   "outputs": [
    {
     "data": {
      "text/html": [
       "<table>\n",
       "<thead><tr><th scope=col>wt</th><th scope=col>disp</th></tr></thead>\n",
       "<tbody>\n",
       "\t<tr><td>3.0</td><td>300</td></tr>\n",
       "\t<tr><td>3.1</td><td>290</td></tr>\n",
       "\t<tr><td>3.2</td><td>270</td></tr>\n",
       "</tbody>\n",
       "</table>\n"
      ],
      "text/latex": [
       "\\begin{tabular}{r|ll}\n",
       " wt & disp\\\\\n",
       "\\hline\n",
       "\t 3.0 & 300\\\\\n",
       "\t 3.1 & 290\\\\\n",
       "\t 3.2 & 270\\\\\n",
       "\\end{tabular}\n"
      ],
      "text/markdown": [
       "\n",
       "| wt | disp |\n",
       "|---|---|\n",
       "| 3.0 | 300 |\n",
       "| 3.1 | 290 |\n",
       "| 3.2 | 270 |\n",
       "\n"
      ],
      "text/plain": [
       "  wt  disp\n",
       "1 3.0 300 \n",
       "2 3.1 290 \n",
       "3 3.2 270 "
      ]
     },
     "metadata": {},
     "output_type": "display_data"
    },
    {
     "data": {
      "text/html": [
       "<dl class=dl-horizontal>\n",
       "\t<dt>1</dt>\n",
       "\t\t<dd>19.5906547543439</dd>\n",
       "\t<dt>2</dt>\n",
       "\t\t<dd>19.4328196637373</dd>\n",
       "\t<dt>3</dt>\n",
       "\t\t<dd>19.4522320158591</dd>\n",
       "</dl>\n"
      ],
      "text/latex": [
       "\\begin{description*}\n",
       "\\item[1] 19.5906547543439\n",
       "\\item[2] 19.4328196637373\n",
       "\\item[3] 19.4522320158591\n",
       "\\end{description*}\n"
      ],
      "text/markdown": [
       "1\n",
       ":   19.59065475434392\n",
       ":   19.43281966373733\n",
       ":   19.4522320158591\n",
       "\n"
      ],
      "text/plain": [
       "       1        2        3 \n",
       "19.59065 19.43282 19.45223 "
      ]
     },
     "metadata": {},
     "output_type": "display_data"
    }
   ],
   "source": [
    "newdata <- data.frame(wt = c(3, 3.1, 3.2), disp = c(300, 290, 270))\n",
    "newdata\n",
    "predict(model1, newdata)"
   ]
  },
  {
   "cell_type": "markdown",
   "metadata": {},
   "source": [
    "### Residuals\n",
    "\n",
    "Residuals are the difference between the actual values of the response variable and the predicted values of the response variable. In other words, the residuals of a model are the errors in predicting on the data used to train the model. Residuals plays an important role in statistics.\n",
    "\n",
    "Visually, residuals are the vertical distance between the line (the predicted values) and the points in the following plot:"
   ]
  },
  {
   "cell_type": "code",
   "execution_count": 32,
   "metadata": {},
   "outputs": [
    {
     "name": "stderr",
     "output_type": "stream",
     "text": [
      "`geom_smooth()` using formula 'y ~ x'\n"
     ]
    },
    {
     "data": {
      "image/png": "[encoded data removed]",
      "text/plain": [
       "plot without title"
      ]
     },
     "metadata": {},
     "output_type": "display_data"
    }
   ],
   "source": [
    "fit <- lm(mpg ~ wt, mtcars)\n",
    "ggplot(data = mtcars, mapping = aes(x = wt, y = mpg)) +\n",
    "  geom_point() + geom_smooth(method = \"lm\", se = FALSE) +\n",
    "  geom_segment(data = cbind(mtcars, pred=predict(fit, mtcars)), aes(yend = pred, xend = wt), color = \"red\")"
   ]
  },
  {
   "cell_type": "markdown",
   "metadata": {},
   "source": [
    "We can also get the residuals from the fitted model `fit` by `fit$residuals`:"
   ]
  },
  {
   "cell_type": "code",
   "execution_count": 33,
   "metadata": {},
   "outputs": [
    {
     "data": {
      "text/html": [
       "<dl class=dl-horizontal>\n",
       "\t<dt>Mazda RX4</dt>\n",
       "\t\t<dd>-2.28261064680868</dd>\n",
       "\t<dt>Mazda RX4 Wag</dt>\n",
       "\t\t<dd>-0.91977039576432</dd>\n",
       "\t<dt>Datsun 710</dt>\n",
       "\t\t<dd>-2.08595211862542</dd>\n",
       "\t<dt>Hornet 4 Drive</dt>\n",
       "\t\t<dd>1.29734993896137</dd>\n",
       "\t<dt>Hornet Sportabout</dt>\n",
       "\t\t<dd>-0.200143957176023</dd>\n",
       "\t<dt>Valiant</dt>\n",
       "\t\t<dd>-0.693254525721567</dd>\n",
       "\t<dt>Duster 360</dt>\n",
       "\t\t<dd>-3.90536265272207</dd>\n",
       "\t<dt>Merc 240D</dt>\n",
       "\t\t<dd>4.16373814964331</dd>\n",
       "\t<dt>Merc 230</dt>\n",
       "\t\t<dd>2.3499592867344</dd>\n",
       "\t<dt>Merc 280</dt>\n",
       "\t\t<dd>0.299856042823977</dd>\n",
       "\t<dt>Merc 280C</dt>\n",
       "\t\t<dd>-1.10014395717602</dd>\n",
       "\t<dt>Merc 450SE</dt>\n",
       "\t\t<dd>0.866873133639264</dd>\n",
       "\t<dt>Merc 450SL</dt>\n",
       "\t\t<dd>-0.0502472010864458</dd>\n",
       "\t<dt>Merc 450SLC</dt>\n",
       "\t\t<dd>-1.88302362245031</dd>\n",
       "\t<dt>Cadillac Fleetwood</dt>\n",
       "\t\t<dd>1.17334958945202</dd>\n",
       "\t<dt>Lincoln Continental</dt>\n",
       "\t\t<dd>2.10328764310577</dd>\n",
       "\t<dt>Chrysler Imperial</dt>\n",
       "\t\t<dd>5.98107438886067</dd>\n",
       "\t<dt>Fiat 128</dt>\n",
       "\t\t<dd>6.87271129264786</dd>\n",
       "\t<dt>Honda Civic</dt>\n",
       "\t\t<dd>1.7461954226051</dd>\n",
       "\t<dt>Toyota Corolla</dt>\n",
       "\t\t<dd>6.42197916860408</dd>\n",
       "\t<dt>Toyota Corona</dt>\n",
       "\t\t<dd>-2.61100374058063</dd>\n",
       "\t<dt>Dodge Challenger</dt>\n",
       "\t\t<dd>-2.97258623135821</dd>\n",
       "\t<dt>AMC Javelin</dt>\n",
       "\t\t<dd>-3.72686631503964</dd>\n",
       "\t<dt>Camaro Z28</dt>\n",
       "\t\t<dd>-3.46235532808695</dd>\n",
       "\t<dt>Pontiac Firebird</dt>\n",
       "\t\t<dd>2.46436702977666</dd>\n",
       "\t<dt>Fiat X1-9</dt>\n",
       "\t\t<dd>0.356426325876353</dd>\n",
       "\t<dt>Porsche 914-2</dt>\n",
       "\t\t<dd>0.152042998284501</dd>\n",
       "\t<dt>Lotus Europa</dt>\n",
       "\t\t<dd>1.20105932218738</dd>\n",
       "\t<dt>Ford Pantera L</dt>\n",
       "\t\t<dd>-4.54315128181114</dd>\n",
       "\t<dt>Ferrari Dino</dt>\n",
       "\t\t<dd>-2.78093991090021</dd>\n",
       "\t<dt>Maserati Bora</dt>\n",
       "\t\t<dd>-3.20536265272208</dd>\n",
       "\t<dt>Volvo 142E</dt>\n",
       "\t\t<dd>-1.02749519517299</dd>\n",
       "</dl>\n"
      ],
      "text/latex": [
       "\\begin{description*}\n",
       "\\item[Mazda RX4] -2.28261064680868\n",
       "\\item[Mazda RX4 Wag] -0.91977039576432\n",
       "\\item[Datsun 710] -2.08595211862542\n",
       "\\item[Hornet 4 Drive] 1.29734993896137\n",
       "\\item[Hornet Sportabout] -0.200143957176023\n",
       "\\item[Valiant] -0.693254525721567\n",
       "\\item[Duster 360] -3.90536265272207\n",
       "\\item[Merc 240D] 4.16373814964331\n",
       "\\item[Merc 230] 2.3499592867344\n",
       "\\item[Merc 280] 0.299856042823977\n",
       "\\item[Merc 280C] -1.10014395717602\n",
       "\\item[Merc 450SE] 0.866873133639264\n",
       "\\item[Merc 450SL] -0.0502472010864458\n",
       "\\item[Merc 450SLC] -1.88302362245031\n",
       "\\item[Cadillac Fleetwood] 1.17334958945202\n",
       "\\item[Lincoln Continental] 2.10328764310577\n",
       "\\item[Chrysler Imperial] 5.98107438886067\n",
       "\\item[Fiat 128] 6.87271129264786\n",
       "\\item[Honda Civic] 1.7461954226051\n",
       "\\item[Toyota Corolla] 6.42197916860408\n",
       "\\item[Toyota Corona] -2.61100374058063\n",
       "\\item[Dodge Challenger] -2.97258623135821\n",
       "\\item[AMC Javelin] -3.72686631503964\n",
       "\\item[Camaro Z28] -3.46235532808695\n",
       "\\item[Pontiac Firebird] 2.46436702977666\n",
       "\\item[Fiat X1-9] 0.356426325876353\n",
       "\\item[Porsche 914-2] 0.152042998284501\n",
       "\\item[Lotus Europa] 1.20105932218738\n",
       "\\item[Ford Pantera L] -4.54315128181114\n",
       "\\item[Ferrari Dino] -2.78093991090021\n",
       "\\item[Maserati Bora] -3.20536265272208\n",
       "\\item[Volvo 142E] -1.02749519517299\n",
       "\\end{description*}\n"
      ],
      "text/markdown": [
       "Mazda RX4\n",
       ":   -2.28261064680868Mazda RX4 Wag\n",
       ":   -0.91977039576432Datsun 710\n",
       ":   -2.08595211862542Hornet 4 Drive\n",
       ":   1.29734993896137Hornet Sportabout\n",
       ":   -0.200143957176023Valiant\n",
       ":   -0.693254525721567Duster 360\n",
       ":   -3.90536265272207Merc 240D\n",
       ":   4.16373814964331Merc 230\n",
       ":   2.3499592867344Merc 280\n",
       ":   0.299856042823977Merc 280C\n",
       ":   -1.10014395717602Merc 450SE\n",
       ":   0.866873133639264Merc 450SL\n",
       ":   -0.0502472010864458Merc 450SLC\n",
       ":   -1.88302362245031Cadillac Fleetwood\n",
       ":   1.17334958945202Lincoln Continental\n",
       ":   2.10328764310577Chrysler Imperial\n",
       ":   5.98107438886067Fiat 128\n",
       ":   6.87271129264786Honda Civic\n",
       ":   1.7461954226051Toyota Corolla\n",
       ":   6.42197916860408Toyota Corona\n",
       ":   -2.61100374058063Dodge Challenger\n",
       ":   -2.97258623135821AMC Javelin\n",
       ":   -3.72686631503964Camaro Z28\n",
       ":   -3.46235532808695Pontiac Firebird\n",
       ":   2.46436702977666Fiat X1-9\n",
       ":   0.356426325876353Porsche 914-2\n",
       ":   0.152042998284501Lotus Europa\n",
       ":   1.20105932218738Ford Pantera L\n",
       ":   -4.54315128181114Ferrari Dino\n",
       ":   -2.78093991090021Maserati Bora\n",
       ":   -3.20536265272208Volvo 142E\n",
       ":   -1.02749519517299\n",
       "\n"
      ],
      "text/plain": [
       "          Mazda RX4       Mazda RX4 Wag          Datsun 710      Hornet 4 Drive \n",
       "         -2.2826106          -0.9197704          -2.0859521           1.2973499 \n",
       "  Hornet Sportabout             Valiant          Duster 360           Merc 240D \n",
       "         -0.2001440          -0.6932545          -3.9053627           4.1637381 \n",
       "           Merc 230            Merc 280           Merc 280C          Merc 450SE \n",
       "          2.3499593           0.2998560          -1.1001440           0.8668731 \n",
       "         Merc 450SL         Merc 450SLC  Cadillac Fleetwood Lincoln Continental \n",
       "         -0.0502472          -1.8830236           1.1733496           2.1032876 \n",
       "  Chrysler Imperial            Fiat 128         Honda Civic      Toyota Corolla \n",
       "          5.9810744           6.8727113           1.7461954           6.4219792 \n",
       "      Toyota Corona    Dodge Challenger         AMC Javelin          Camaro Z28 \n",
       "         -2.6110037          -2.9725862          -3.7268663          -3.4623553 \n",
       "   Pontiac Firebird           Fiat X1-9       Porsche 914-2        Lotus Europa \n",
       "          2.4643670           0.3564263           0.1520430           1.2010593 \n",
       "     Ford Pantera L        Ferrari Dino       Maserati Bora          Volvo 142E \n",
       "         -4.5431513          -2.7809399          -3.2053627          -1.0274952 "
      ]
     },
     "metadata": {},
     "output_type": "display_data"
    }
   ],
   "source": [
    "fit$residuals"
   ]
  },
  {
   "cell_type": "markdown",
   "metadata": {},
   "source": [
    "Or we can calculate them ourselves in a data frame:"
   ]
  },
  {
   "cell_type": "code",
   "execution_count": 34,
   "metadata": {},
   "outputs": [
    {
     "data": {
      "text/html": [
       "<table>\n",
       "<thead><tr><th scope=col>wt</th><th scope=col>actual_mpg</th><th scope=col>predicted_mpg</th><th scope=col>residuals</th></tr></thead>\n",
       "<tbody>\n",
       "\t<tr><td>2.620     </td><td>21.0      </td><td>23.282611 </td><td> 2.2826106</td></tr>\n",
       "\t<tr><td>2.875     </td><td>21.0      </td><td>21.919770 </td><td> 0.9197704</td></tr>\n",
       "\t<tr><td>2.320     </td><td>22.8      </td><td>24.885952 </td><td> 2.0859521</td></tr>\n",
       "\t<tr><td>3.215     </td><td>21.4      </td><td>20.102650 </td><td>-1.2973499</td></tr>\n",
       "\t<tr><td>3.440     </td><td>18.7      </td><td>18.900144 </td><td> 0.2001440</td></tr>\n",
       "\t<tr><td>3.460     </td><td>18.1      </td><td>18.793255 </td><td> 0.6932545</td></tr>\n",
       "\t<tr><td>3.570     </td><td>14.3      </td><td>18.205363 </td><td> 3.9053627</td></tr>\n",
       "\t<tr><td>3.190     </td><td>24.4      </td><td>20.236262 </td><td>-4.1637381</td></tr>\n",
       "\t<tr><td>3.150     </td><td>22.8      </td><td>20.450041 </td><td>-2.3499593</td></tr>\n",
       "\t<tr><td>3.440     </td><td>19.2      </td><td>18.900144 </td><td>-0.2998560</td></tr>\n",
       "\t<tr><td>3.440     </td><td>17.8      </td><td>18.900144 </td><td> 1.1001440</td></tr>\n",
       "\t<tr><td>4.070     </td><td>16.4      </td><td>15.533127 </td><td>-0.8668731</td></tr>\n",
       "\t<tr><td>3.730     </td><td>17.3      </td><td>17.350247 </td><td> 0.0502472</td></tr>\n",
       "\t<tr><td>3.780     </td><td>15.2      </td><td>17.083024 </td><td> 1.8830236</td></tr>\n",
       "\t<tr><td>5.250     </td><td>10.4      </td><td> 9.226650 </td><td>-1.1733496</td></tr>\n",
       "\t<tr><td>5.424     </td><td>10.4      </td><td> 8.296712 </td><td>-2.1032876</td></tr>\n",
       "\t<tr><td>5.345     </td><td>14.7      </td><td> 8.718926 </td><td>-5.9810744</td></tr>\n",
       "\t<tr><td>2.200     </td><td>32.4      </td><td>25.527289 </td><td>-6.8727113</td></tr>\n",
       "\t<tr><td>1.615     </td><td>30.4      </td><td>28.653805 </td><td>-1.7461954</td></tr>\n",
       "\t<tr><td>1.835     </td><td>33.9      </td><td>27.478021 </td><td>-6.4219792</td></tr>\n",
       "\t<tr><td>2.465     </td><td>21.5      </td><td>24.111004 </td><td> 2.6110037</td></tr>\n",
       "\t<tr><td>3.520     </td><td>15.5      </td><td>18.472586 </td><td> 2.9725862</td></tr>\n",
       "\t<tr><td>3.435     </td><td>15.2      </td><td>18.926866 </td><td> 3.7268663</td></tr>\n",
       "\t<tr><td>3.840     </td><td>13.3      </td><td>16.762355 </td><td> 3.4623553</td></tr>\n",
       "\t<tr><td>3.845     </td><td>19.2      </td><td>16.735633 </td><td>-2.4643670</td></tr>\n",
       "\t<tr><td>1.935     </td><td>27.3      </td><td>26.943574 </td><td>-0.3564263</td></tr>\n",
       "\t<tr><td>2.140     </td><td>26.0      </td><td>25.847957 </td><td>-0.1520430</td></tr>\n",
       "\t<tr><td>1.513     </td><td>30.4      </td><td>29.198941 </td><td>-1.2010593</td></tr>\n",
       "\t<tr><td>3.170     </td><td>15.8      </td><td>20.343151 </td><td> 4.5431513</td></tr>\n",
       "\t<tr><td>2.770     </td><td>19.7      </td><td>22.480940 </td><td> 2.7809399</td></tr>\n",
       "\t<tr><td>3.570     </td><td>15.0      </td><td>18.205363 </td><td> 3.2053627</td></tr>\n",
       "\t<tr><td>2.780     </td><td>21.4      </td><td>22.427495 </td><td> 1.0274952</td></tr>\n",
       "</tbody>\n",
       "</table>\n"
      ],
      "text/latex": [
       "\\begin{tabular}{r|llll}\n",
       " wt & actual\\_mpg & predicted\\_mpg & residuals\\\\\n",
       "\\hline\n",
       "\t 2.620      & 21.0       & 23.282611  &  2.2826106\\\\\n",
       "\t 2.875      & 21.0       & 21.919770  &  0.9197704\\\\\n",
       "\t 2.320      & 22.8       & 24.885952  &  2.0859521\\\\\n",
       "\t 3.215      & 21.4       & 20.102650  & -1.2973499\\\\\n",
       "\t 3.440      & 18.7       & 18.900144  &  0.2001440\\\\\n",
       "\t 3.460      & 18.1       & 18.793255  &  0.6932545\\\\\n",
       "\t 3.570      & 14.3       & 18.205363  &  3.9053627\\\\\n",
       "\t 3.190      & 24.4       & 20.236262  & -4.1637381\\\\\n",
       "\t 3.150      & 22.8       & 20.450041  & -2.3499593\\\\\n",
       "\t 3.440      & 19.2       & 18.900144  & -0.2998560\\\\\n",
       "\t 3.440      & 17.8       & 18.900144  &  1.1001440\\\\\n",
       "\t 4.070      & 16.4       & 15.533127  & -0.8668731\\\\\n",
       "\t 3.730      & 17.3       & 17.350247  &  0.0502472\\\\\n",
       "\t 3.780      & 15.2       & 17.083024  &  1.8830236\\\\\n",
       "\t 5.250      & 10.4       &  9.226650  & -1.1733496\\\\\n",
       "\t 5.424      & 10.4       &  8.296712  & -2.1032876\\\\\n",
       "\t 5.345      & 14.7       &  8.718926  & -5.9810744\\\\\n",
       "\t 2.200      & 32.4       & 25.527289  & -6.8727113\\\\\n",
       "\t 1.615      & 30.4       & 28.653805  & -1.7461954\\\\\n",
       "\t 1.835      & 33.9       & 27.478021  & -6.4219792\\\\\n",
       "\t 2.465      & 21.5       & 24.111004  &  2.6110037\\\\\n",
       "\t 3.520      & 15.5       & 18.472586  &  2.9725862\\\\\n",
       "\t 3.435      & 15.2       & 18.926866  &  3.7268663\\\\\n",
       "\t 3.840      & 13.3       & 16.762355  &  3.4623553\\\\\n",
       "\t 3.845      & 19.2       & 16.735633  & -2.4643670\\\\\n",
       "\t 1.935      & 27.3       & 26.943574  & -0.3564263\\\\\n",
       "\t 2.140      & 26.0       & 25.847957  & -0.1520430\\\\\n",
       "\t 1.513      & 30.4       & 29.198941  & -1.2010593\\\\\n",
       "\t 3.170      & 15.8       & 20.343151  &  4.5431513\\\\\n",
       "\t 2.770      & 19.7       & 22.480940  &  2.7809399\\\\\n",
       "\t 3.570      & 15.0       & 18.205363  &  3.2053627\\\\\n",
       "\t 2.780      & 21.4       & 22.427495  &  1.0274952\\\\\n",
       "\\end{tabular}\n"
      ],
      "text/markdown": [
       "\n",
       "| wt | actual_mpg | predicted_mpg | residuals |\n",
       "|---|---|---|---|\n",
       "| 2.620      | 21.0       | 23.282611  |  2.2826106 |\n",
       "| 2.875      | 21.0       | 21.919770  |  0.9197704 |\n",
       "| 2.320      | 22.8       | 24.885952  |  2.0859521 |\n",
       "| 3.215      | 21.4       | 20.102650  | -1.2973499 |\n",
       "| 3.440      | 18.7       | 18.900144  |  0.2001440 |\n",
       "| 3.460      | 18.1       | 18.793255  |  0.6932545 |\n",
       "| 3.570      | 14.3       | 18.205363  |  3.9053627 |\n",
       "| 3.190      | 24.4       | 20.236262  | -4.1637381 |\n",
       "| 3.150      | 22.8       | 20.450041  | -2.3499593 |\n",
       "| 3.440      | 19.2       | 18.900144  | -0.2998560 |\n",
       "| 3.440      | 17.8       | 18.900144  |  1.1001440 |\n",
       "| 4.070      | 16.4       | 15.533127  | -0.8668731 |\n",
       "| 3.730      | 17.3       | 17.350247  |  0.0502472 |\n",
       "| 3.780      | 15.2       | 17.083024  |  1.8830236 |\n",
       "| 5.250      | 10.4       |  9.226650  | -1.1733496 |\n",
       "| 5.424      | 10.4       |  8.296712  | -2.1032876 |\n",
       "| 5.345      | 14.7       |  8.718926  | -5.9810744 |\n",
       "| 2.200      | 32.4       | 25.527289  | -6.8727113 |\n",
       "| 1.615      | 30.4       | 28.653805  | -1.7461954 |\n",
       "| 1.835      | 33.9       | 27.478021  | -6.4219792 |\n",
       "| 2.465      | 21.5       | 24.111004  |  2.6110037 |\n",
       "| 3.520      | 15.5       | 18.472586  |  2.9725862 |\n",
       "| 3.435      | 15.2       | 18.926866  |  3.7268663 |\n",
       "| 3.840      | 13.3       | 16.762355  |  3.4623553 |\n",
       "| 3.845      | 19.2       | 16.735633  | -2.4643670 |\n",
       "| 1.935      | 27.3       | 26.943574  | -0.3564263 |\n",
       "| 2.140      | 26.0       | 25.847957  | -0.1520430 |\n",
       "| 1.513      | 30.4       | 29.198941  | -1.2010593 |\n",
       "| 3.170      | 15.8       | 20.343151  |  4.5431513 |\n",
       "| 2.770      | 19.7       | 22.480940  |  2.7809399 |\n",
       "| 3.570      | 15.0       | 18.205363  |  3.2053627 |\n",
       "| 2.780      | 21.4       | 22.427495  |  1.0274952 |\n",
       "\n"
      ],
      "text/plain": [
       "   wt    actual_mpg predicted_mpg residuals \n",
       "1  2.620 21.0       23.282611      2.2826106\n",
       "2  2.875 21.0       21.919770      0.9197704\n",
       "3  2.320 22.8       24.885952      2.0859521\n",
       "4  3.215 21.4       20.102650     -1.2973499\n",
       "5  3.440 18.7       18.900144      0.2001440\n",
       "6  3.460 18.1       18.793255      0.6932545\n",
       "7  3.570 14.3       18.205363      3.9053627\n",
       "8  3.190 24.4       20.236262     -4.1637381\n",
       "9  3.150 22.8       20.450041     -2.3499593\n",
       "10 3.440 19.2       18.900144     -0.2998560\n",
       "11 3.440 17.8       18.900144      1.1001440\n",
       "12 4.070 16.4       15.533127     -0.8668731\n",
       "13 3.730 17.3       17.350247      0.0502472\n",
       "14 3.780 15.2       17.083024      1.8830236\n",
       "15 5.250 10.4        9.226650     -1.1733496\n",
       "16 5.424 10.4        8.296712     -2.1032876\n",
       "17 5.345 14.7        8.718926     -5.9810744\n",
       "18 2.200 32.4       25.527289     -6.8727113\n",
       "19 1.615 30.4       28.653805     -1.7461954\n",
       "20 1.835 33.9       27.478021     -6.4219792\n",
       "21 2.465 21.5       24.111004      2.6110037\n",
       "22 3.520 15.5       18.472586      2.9725862\n",
       "23 3.435 15.2       18.926866      3.7268663\n",
       "24 3.840 13.3       16.762355      3.4623553\n",
       "25 3.845 19.2       16.735633     -2.4643670\n",
       "26 1.935 27.3       26.943574     -0.3564263\n",
       "27 2.140 26.0       25.847957     -0.1520430\n",
       "28 1.513 30.4       29.198941     -1.2010593\n",
       "29 3.170 15.8       20.343151      4.5431513\n",
       "30 2.770 19.7       22.480940      2.7809399\n",
       "31 3.570 15.0       18.205363      3.2053627\n",
       "32 2.780 21.4       22.427495      1.0274952"
      ]
     },
     "metadata": {},
     "output_type": "display_data"
    }
   ],
   "source": [
    "data.frame(wt = mtcars$wt, actual_mpg = mtcars$mpg, predicted_mpg = predict(fit, mtcars)) %>%\n",
    "    mutate(residuals = predicted_mpg - actual_mpg)"
   ]
  },
  {
   "cell_type": "markdown",
   "metadata": {},
   "source": [
    "### *Exercise*\n",
    "\n",
    "For the multiple linear regression model trained previously:\n",
    "$$\n",
    "revenues = a_0 + a_1 * google\\_adwords + a_2 * facebook + a_3 * twitter,\n",
    "$$\n",
    "calculate the residuals in a data frame."
   ]
  },
  {
   "cell_type": "code",
   "execution_count": 40,
   "metadata": {},
   "outputs": [
    {
     "data": {
      "text/html": [
       "<table>\n",
       "<thead><tr><th scope=col>google_adwords</th><th scope=col>facebook</th><th scope=col>twitter</th><th scope=col>marketing_total</th><th scope=col>revenues</th><th scope=col>revenues_pred</th><th scope=col>residuals</th></tr></thead>\n",
       "<tbody>\n",
       "\t<tr><td> 65.66    </td><td>47.86     </td><td> 52.46    </td><td>165.98    </td><td>39.26     </td><td>42.38648  </td><td>-3.1264752</td></tr>\n",
       "\t<tr><td> 39.10    </td><td>55.20     </td><td> 77.40    </td><td>171.70    </td><td>38.90     </td><td>42.64915  </td><td>-3.7491462</td></tr>\n",
       "\t<tr><td>174.81    </td><td>52.01     </td><td> 68.01    </td><td>294.83    </td><td>49.51     </td><td>48.54831  </td><td> 0.9616856</td></tr>\n",
       "\t<tr><td> 34.36    </td><td>61.96     </td><td> 86.86    </td><td>183.18    </td><td>40.56     </td><td>43.79272  </td><td>-3.2327167</td></tr>\n",
       "\t<tr><td> 78.21    </td><td>40.91     </td><td> 30.41    </td><td>149.53    </td><td>40.21     </td><td>41.53427  </td><td>-1.3242675</td></tr>\n",
       "\t<tr><td> 34.19    </td><td>15.09     </td><td> 12.79    </td><td> 62.07    </td><td>38.09     </td><td>34.23253  </td><td> 3.8574691</td></tr>\n",
       "\t<tr><td>225.71    </td><td>15.91     </td><td> 33.31    </td><td>274.93    </td><td>44.21     </td><td>43.74091  </td><td> 0.4690894</td></tr>\n",
       "\t<tr><td> 90.03    </td><td>17.13     </td><td> 34.33    </td><td>141.49    </td><td>40.23     </td><td>37.42127  </td><td> 2.8087295</td></tr>\n",
       "\t<tr><td>238.40    </td><td>35.10     </td><td> 13.90    </td><td>287.40    </td><td>48.80     </td><td>48.07234  </td><td> 0.7276592</td></tr>\n",
       "\t<tr><td> 43.53    </td><td>42.23     </td><td> 71.83    </td><td>157.59    </td><td>36.63     </td><td>40.27829  </td><td>-3.6482921</td></tr>\n",
       "\t<tr><td>118.24    </td><td>15.74     </td><td> 14.14    </td><td>148.12    </td><td>38.14     </td><td>38.43293  </td><td>-0.2929294</td></tr>\n",
       "\t<tr><td>224.64    </td><td>40.84     </td><td> 52.74    </td><td>318.22    </td><td>47.24     </td><td>48.69214  </td><td>-1.4521425</td></tr>\n",
       "\t<tr><td>219.51    </td><td>59.21     </td><td> 63.21    </td><td>341.93    </td><td>54.21     </td><td>52.11550  </td><td> 2.0945008</td></tr>\n",
       "\t<tr><td> 89.79    </td><td>45.99     </td><td>122.19    </td><td>257.97    </td><td>42.19     </td><td>43.45555  </td><td>-1.2655538</td></tr>\n",
       "\t<tr><td>306.09    </td><td>51.69     </td><td> 66.69    </td><td>424.47    </td><td>56.79     </td><td>54.83178  </td><td> 1.9582158</td></tr>\n",
       "\t<tr><td> 91.98    </td><td>30.68     </td><td> 27.28    </td><td>149.94    </td><td>41.78     </td><td>40.16637  </td><td> 1.6136271</td></tr>\n",
       "\t<tr><td>242.72    </td><td>39.42     </td><td> 63.92    </td><td>346.06    </td><td>50.02     </td><td>49.32974  </td><td> 0.6902602</td></tr>\n",
       "\t<tr><td>263.64    </td><td>18.74     </td><td> 35.94    </td><td>318.32    </td><td>46.44     </td><td>46.14570  </td><td> 0.2943038</td></tr>\n",
       "\t<tr><td> 35.16    </td><td>25.26     </td><td> 57.76    </td><td>118.18    </td><td>35.26     </td><td>36.46446  </td><td>-1.2044623</td></tr>\n",
       "\t<tr><td>253.04    </td><td>29.04     </td><td> 37.14    </td><td>319.22    </td><td>47.94     </td><td>47.67330  </td><td> 0.2667021</td></tr>\n",
       "\t<tr><td> 88.14    </td><td>25.84     </td><td> 30.34    </td><td>144.32    </td><td>43.24     </td><td>39.03585  </td><td> 4.2041521</td></tr>\n",
       "\t<tr><td>163.68    </td><td>37.48     </td><td> 19.58    </td><td>220.74    </td><td>43.48     </td><td>44.94959  </td><td>-1.4695872</td></tr>\n",
       "\t<tr><td>263.96    </td><td>27.96     </td><td> 32.96    </td><td>324.88    </td><td>47.46     </td><td>47.97193  </td><td>-0.5119320</td></tr>\n",
       "\t<tr><td>268.98    </td><td>34.68     </td><td> 29.28    </td><td>332.94    </td><td>46.78     </td><td>49.52872  </td><td>-2.7487229</td></tr>\n",
       "\t<tr><td>314.07    </td><td>36.87     </td><td> 50.57    </td><td>401.51    </td><td>50.27     </td><td>52.22601  </td><td>-1.9560100</td></tr>\n",
       "\t<tr><td>134.90    </td><td>26.80     </td><td> 46.80    </td><td>208.50    </td><td>41.60     </td><td>41.55204  </td><td> 0.0479584</td></tr>\n",
       "\t<tr><td>284.99    </td><td>26.79     </td><td>  5.89    </td><td>317.67    </td><td>44.49     </td><td>48.65292  </td><td>-4.1629207</td></tr>\n",
       "\t<tr><td>117.68    </td><td>10.78     </td><td> 15.58    </td><td>144.04    </td><td>39.18     </td><td>37.43109  </td><td> 1.7489145</td></tr>\n",
       "\t<tr><td>316.09    </td><td>16.89     </td><td> 20.09    </td><td>353.07    </td><td>45.89     </td><td>48.25614  </td><td>-2.3661420</td></tr>\n",
       "\t<tr><td>288.58    </td><td>52.88     </td><td> 12.88    </td><td>354.34    </td><td>54.78     </td><td>54.01052  </td><td> 0.7694821</td></tr>\n",
       "\t<tr><td>...</td><td>...</td><td>...</td><td>...</td><td>...</td><td>...</td><td>...</td></tr>\n",
       "\t<tr><td> 38.87     </td><td>45.97      </td><td>28.77      </td><td>113.61     </td><td>36.67      </td><td>40.62458   </td><td>-3.95457708</td></tr>\n",
       "\t<tr><td>227.91     </td><td>13.71      </td><td>26.71      </td><td>268.33     </td><td>41.01      </td><td>43.38686   </td><td>-2.37685584</td></tr>\n",
       "\t<tr><td>239.81     </td><td>35.41      </td><td>68.21      </td><td>343.43     </td><td>49.21      </td><td>48.41305   </td><td> 0.79695436</td></tr>\n",
       "\t<tr><td>306.77     </td><td>20.47      </td><td>15.07      </td><td>342.31     </td><td>45.17      </td><td>48.49327   </td><td>-3.32327088</td></tr>\n",
       "\t<tr><td>185.03     </td><td>28.83      </td><td>54.13      </td><td>267.99     </td><td>42.73      </td><td>44.40727   </td><td>-1.67726942</td></tr>\n",
       "\t<tr><td> 44.13     </td><td>32.03      </td><td>27.73      </td><td>103.89     </td><td>39.83      </td><td>38.11978   </td><td> 1.71022258</td></tr>\n",
       "\t<tr><td>188.43     </td><td>14.53      </td><td>19.03      </td><td>221.99     </td><td>39.43      </td><td>41.60886   </td><td>-2.17886182</td></tr>\n",
       "\t<tr><td>247.75     </td><td>16.15      </td><td>24.65      </td><td>288.55     </td><td>44.55      </td><td>44.82105   </td><td>-0.27105150</td></tr>\n",
       "\t<tr><td>300.50     </td><td>59.90      </td><td>51.60      </td><td>412.00     </td><td>58.30      </td><td>56.12535   </td><td> 2.17465270</td></tr>\n",
       "\t<tr><td>193.40     </td><td>18.40      </td><td>44.60      </td><td>256.40     </td><td>42.60      </td><td>42.71368   </td><td>-0.11368140</td></tr>\n",
       "\t<tr><td>298.30     </td><td>11.30      </td><td>31.50      </td><td>341.10     </td><td>41.10      </td><td>46.33490   </td><td>-5.23489500</td></tr>\n",
       "\t<tr><td>188.07     </td><td>19.87      </td><td>26.27      </td><td>234.21     </td><td>42.77      </td><td>42.67506   </td><td> 0.09494372</td></tr>\n",
       "\t<tr><td>179.40     </td><td>12.80      </td><td>17.30      </td><td>209.50     </td><td>41.00      </td><td>40.82329   </td><td> 0.17670990</td></tr>\n",
       "\t<tr><td>239.07     </td><td>13.37      </td><td>34.17      </td><td>286.61     </td><td>40.47      </td><td>43.88863   </td><td>-3.41863188</td></tr>\n",
       "\t<tr><td> 79.21     </td><td>16.11      </td><td>38.91      </td><td>134.23     </td><td>39.41      </td><td>36.71396   </td><td> 2.69603676</td></tr>\n",
       "\t<tr><td>307.43     </td><td>50.23      </td><td>77.83      </td><td>435.49     </td><td>53.73      </td><td>54.65137   </td><td>-0.92137172</td></tr>\n",
       "\t<tr><td>275.04     </td><td>29.94      </td><td>37.44      </td><td>342.42     </td><td>46.54      </td><td>48.91680   </td><td>-2.37679846</td></tr>\n",
       "\t<tr><td>225.79     </td><td>53.29      </td><td>26.59      </td><td>305.67     </td><td>51.09      </td><td>51.10684   </td><td>-0.01684166</td></tr>\n",
       "\t<tr><td>160.79     </td><td>10.79      </td><td>34.09      </td><td>205.67     </td><td>39.29      </td><td>39.59088   </td><td>-0.30088166</td></tr>\n",
       "\t<tr><td>216.67     </td><td>41.67      </td><td>29.97      </td><td>288.31     </td><td>50.57      </td><td>48.38202   </td><td> 2.18798022</td></tr>\n",
       "\t<tr><td>308.42     </td><td>23.72      </td><td>12.32      </td><td>344.46     </td><td>46.02      </td><td>49.20478   </td><td>-3.18477548</td></tr>\n",
       "\t<tr><td> 43.46     </td><td>24.26      </td><td>34.36      </td><td>102.08     </td><td>39.16      </td><td>36.57740   </td><td> 2.58260406</td></tr>\n",
       "\t<tr><td> 64.96     </td><td>53.96      </td><td>17.46      </td><td>136.38     </td><td>43.96      </td><td>43.42216   </td><td> 0.53783746</td></tr>\n",
       "\t<tr><td> 97.69     </td><td>20.39      </td><td>14.39      </td><td>132.47     </td><td>39.79      </td><td>38.35869   </td><td> 1.43131244</td></tr>\n",
       "\t<tr><td> 36.95     </td><td>11.25      </td><td>37.55      </td><td> 85.75     </td><td>33.35      </td><td>33.70338   </td><td>-0.35338250</td></tr>\n",
       "\t<tr><td>188.45     </td><td>51.05      </td><td>11.45      </td><td>250.95     </td><td>48.95      </td><td>48.79857   </td><td> 0.15143460</td></tr>\n",
       "\t<tr><td>174.07     </td><td>47.37      </td><td>16.57      </td><td>238.01     </td><td>49.37      </td><td>47.39536   </td><td> 1.97464052</td></tr>\n",
       "\t<tr><td> 59.86     </td><td>12.76      </td><td>21.66      </td><td> 94.28     </td><td>36.96      </td><td>35.04852   </td><td> 1.91148326</td></tr>\n",
       "\t<tr><td>117.91     </td><td>16.01      </td><td>18.01      </td><td>151.93     </td><td>41.11      </td><td>38.48538   </td><td> 2.62462116</td></tr>\n",
       "\t<tr><td>308.78     </td><td>54.58      </td><td>77.58      </td><td>440.94     </td><td>58.38      </td><td>55.57550   </td><td> 2.80450028</td></tr>\n",
       "</tbody>\n",
       "</table>\n"
      ],
      "text/latex": [
       "\\begin{tabular}{r|lllllll}\n",
       " google\\_adwords & facebook & twitter & marketing\\_total & revenues & revenues\\_pred & residuals\\\\\n",
       "\\hline\n",
       "\t  65.66     & 47.86      &  52.46     & 165.98     & 39.26      & 42.38648   & -3.1264752\\\\\n",
       "\t  39.10     & 55.20      &  77.40     & 171.70     & 38.90      & 42.64915   & -3.7491462\\\\\n",
       "\t 174.81     & 52.01      &  68.01     & 294.83     & 49.51      & 48.54831   &  0.9616856\\\\\n",
       "\t  34.36     & 61.96      &  86.86     & 183.18     & 40.56      & 43.79272   & -3.2327167\\\\\n",
       "\t  78.21     & 40.91      &  30.41     & 149.53     & 40.21      & 41.53427   & -1.3242675\\\\\n",
       "\t  34.19     & 15.09      &  12.79     &  62.07     & 38.09      & 34.23253   &  3.8574691\\\\\n",
       "\t 225.71     & 15.91      &  33.31     & 274.93     & 44.21      & 43.74091   &  0.4690894\\\\\n",
       "\t  90.03     & 17.13      &  34.33     & 141.49     & 40.23      & 37.42127   &  2.8087295\\\\\n",
       "\t 238.40     & 35.10      &  13.90     & 287.40     & 48.80      & 48.07234   &  0.7276592\\\\\n",
       "\t  43.53     & 42.23      &  71.83     & 157.59     & 36.63      & 40.27829   & -3.6482921\\\\\n",
       "\t 118.24     & 15.74      &  14.14     & 148.12     & 38.14      & 38.43293   & -0.2929294\\\\\n",
       "\t 224.64     & 40.84      &  52.74     & 318.22     & 47.24      & 48.69214   & -1.4521425\\\\\n",
       "\t 219.51     & 59.21      &  63.21     & 341.93     & 54.21      & 52.11550   &  2.0945008\\\\\n",
       "\t  89.79     & 45.99      & 122.19     & 257.97     & 42.19      & 43.45555   & -1.2655538\\\\\n",
       "\t 306.09     & 51.69      &  66.69     & 424.47     & 56.79      & 54.83178   &  1.9582158\\\\\n",
       "\t  91.98     & 30.68      &  27.28     & 149.94     & 41.78      & 40.16637   &  1.6136271\\\\\n",
       "\t 242.72     & 39.42      &  63.92     & 346.06     & 50.02      & 49.32974   &  0.6902602\\\\\n",
       "\t 263.64     & 18.74      &  35.94     & 318.32     & 46.44      & 46.14570   &  0.2943038\\\\\n",
       "\t  35.16     & 25.26      &  57.76     & 118.18     & 35.26      & 36.46446   & -1.2044623\\\\\n",
       "\t 253.04     & 29.04      &  37.14     & 319.22     & 47.94      & 47.67330   &  0.2667021\\\\\n",
       "\t  88.14     & 25.84      &  30.34     & 144.32     & 43.24      & 39.03585   &  4.2041521\\\\\n",
       "\t 163.68     & 37.48      &  19.58     & 220.74     & 43.48      & 44.94959   & -1.4695872\\\\\n",
       "\t 263.96     & 27.96      &  32.96     & 324.88     & 47.46      & 47.97193   & -0.5119320\\\\\n",
       "\t 268.98     & 34.68      &  29.28     & 332.94     & 46.78      & 49.52872   & -2.7487229\\\\\n",
       "\t 314.07     & 36.87      &  50.57     & 401.51     & 50.27      & 52.22601   & -1.9560100\\\\\n",
       "\t 134.90     & 26.80      &  46.80     & 208.50     & 41.60      & 41.55204   &  0.0479584\\\\\n",
       "\t 284.99     & 26.79      &   5.89     & 317.67     & 44.49      & 48.65292   & -4.1629207\\\\\n",
       "\t 117.68     & 10.78      &  15.58     & 144.04     & 39.18      & 37.43109   &  1.7489145\\\\\n",
       "\t 316.09     & 16.89      &  20.09     & 353.07     & 45.89      & 48.25614   & -2.3661420\\\\\n",
       "\t 288.58     & 52.88      &  12.88     & 354.34     & 54.78      & 54.01052   &  0.7694821\\\\\n",
       "\t ... & ... & ... & ... & ... & ... & ...\\\\\n",
       "\t  38.87      & 45.97       & 28.77       & 113.61      & 36.67       & 40.62458    & -3.95457708\\\\\n",
       "\t 227.91      & 13.71       & 26.71       & 268.33      & 41.01       & 43.38686    & -2.37685584\\\\\n",
       "\t 239.81      & 35.41       & 68.21       & 343.43      & 49.21       & 48.41305    &  0.79695436\\\\\n",
       "\t 306.77      & 20.47       & 15.07       & 342.31      & 45.17       & 48.49327    & -3.32327088\\\\\n",
       "\t 185.03      & 28.83       & 54.13       & 267.99      & 42.73       & 44.40727    & -1.67726942\\\\\n",
       "\t  44.13      & 32.03       & 27.73       & 103.89      & 39.83       & 38.11978    &  1.71022258\\\\\n",
       "\t 188.43      & 14.53       & 19.03       & 221.99      & 39.43       & 41.60886    & -2.17886182\\\\\n",
       "\t 247.75      & 16.15       & 24.65       & 288.55      & 44.55       & 44.82105    & -0.27105150\\\\\n",
       "\t 300.50      & 59.90       & 51.60       & 412.00      & 58.30       & 56.12535    &  2.17465270\\\\\n",
       "\t 193.40      & 18.40       & 44.60       & 256.40      & 42.60       & 42.71368    & -0.11368140\\\\\n",
       "\t 298.30      & 11.30       & 31.50       & 341.10      & 41.10       & 46.33490    & -5.23489500\\\\\n",
       "\t 188.07      & 19.87       & 26.27       & 234.21      & 42.77       & 42.67506    &  0.09494372\\\\\n",
       "\t 179.40      & 12.80       & 17.30       & 209.50      & 41.00       & 40.82329    &  0.17670990\\\\\n",
       "\t 239.07      & 13.37       & 34.17       & 286.61      & 40.47       & 43.88863    & -3.41863188\\\\\n",
       "\t  79.21      & 16.11       & 38.91       & 134.23      & 39.41       & 36.71396    &  2.69603676\\\\\n",
       "\t 307.43      & 50.23       & 77.83       & 435.49      & 53.73       & 54.65137    & -0.92137172\\\\\n",
       "\t 275.04      & 29.94       & 37.44       & 342.42      & 46.54       & 48.91680    & -2.37679846\\\\\n",
       "\t 225.79      & 53.29       & 26.59       & 305.67      & 51.09       & 51.10684    & -0.01684166\\\\\n",
       "\t 160.79      & 10.79       & 34.09       & 205.67      & 39.29       & 39.59088    & -0.30088166\\\\\n",
       "\t 216.67      & 41.67       & 29.97       & 288.31      & 50.57       & 48.38202    &  2.18798022\\\\\n",
       "\t 308.42      & 23.72       & 12.32       & 344.46      & 46.02       & 49.20478    & -3.18477548\\\\\n",
       "\t  43.46      & 24.26       & 34.36       & 102.08      & 39.16       & 36.57740    &  2.58260406\\\\\n",
       "\t  64.96      & 53.96       & 17.46       & 136.38      & 43.96       & 43.42216    &  0.53783746\\\\\n",
       "\t  97.69      & 20.39       & 14.39       & 132.47      & 39.79       & 38.35869    &  1.43131244\\\\\n",
       "\t  36.95      & 11.25       & 37.55       &  85.75      & 33.35       & 33.70338    & -0.35338250\\\\\n",
       "\t 188.45      & 51.05       & 11.45       & 250.95      & 48.95       & 48.79857    &  0.15143460\\\\\n",
       "\t 174.07      & 47.37       & 16.57       & 238.01      & 49.37       & 47.39536    &  1.97464052\\\\\n",
       "\t  59.86      & 12.76       & 21.66       &  94.28      & 36.96       & 35.04852    &  1.91148326\\\\\n",
       "\t 117.91      & 16.01       & 18.01       & 151.93      & 41.11       & 38.48538    &  2.62462116\\\\\n",
       "\t 308.78      & 54.58       & 77.58       & 440.94      & 58.38       & 55.57550    &  2.80450028\\\\\n",
       "\\end{tabular}\n"
      ],
      "text/markdown": [
       "\n",
       "| google_adwords | facebook | twitter | marketing_total | revenues | revenues_pred | residuals |\n",
       "|---|---|---|---|---|---|---|\n",
       "|  65.66     | 47.86      |  52.46     | 165.98     | 39.26      | 42.38648   | -3.1264752 |\n",
       "|  39.10     | 55.20      |  77.40     | 171.70     | 38.90      | 42.64915   | -3.7491462 |\n",
       "| 174.81     | 52.01      |  68.01     | 294.83     | 49.51      | 48.54831   |  0.9616856 |\n",
       "|  34.36     | 61.96      |  86.86     | 183.18     | 40.56      | 43.79272   | -3.2327167 |\n",
       "|  78.21     | 40.91      |  30.41     | 149.53     | 40.21      | 41.53427   | -1.3242675 |\n",
       "|  34.19     | 15.09      |  12.79     |  62.07     | 38.09      | 34.23253   |  3.8574691 |\n",
       "| 225.71     | 15.91      |  33.31     | 274.93     | 44.21      | 43.74091   |  0.4690894 |\n",
       "|  90.03     | 17.13      |  34.33     | 141.49     | 40.23      | 37.42127   |  2.8087295 |\n",
       "| 238.40     | 35.10      |  13.90     | 287.40     | 48.80      | 48.07234   |  0.7276592 |\n",
       "|  43.53     | 42.23      |  71.83     | 157.59     | 36.63      | 40.27829   | -3.6482921 |\n",
       "| 118.24     | 15.74      |  14.14     | 148.12     | 38.14      | 38.43293   | -0.2929294 |\n",
       "| 224.64     | 40.84      |  52.74     | 318.22     | 47.24      | 48.69214   | -1.4521425 |\n",
       "| 219.51     | 59.21      |  63.21     | 341.93     | 54.21      | 52.11550   |  2.0945008 |\n",
       "|  89.79     | 45.99      | 122.19     | 257.97     | 42.19      | 43.45555   | -1.2655538 |\n",
       "| 306.09     | 51.69      |  66.69     | 424.47     | 56.79      | 54.83178   |  1.9582158 |\n",
       "|  91.98     | 30.68      |  27.28     | 149.94     | 41.78      | 40.16637   |  1.6136271 |\n",
       "| 242.72     | 39.42      |  63.92     | 346.06     | 50.02      | 49.32974   |  0.6902602 |\n",
       "| 263.64     | 18.74      |  35.94     | 318.32     | 46.44      | 46.14570   |  0.2943038 |\n",
       "|  35.16     | 25.26      |  57.76     | 118.18     | 35.26      | 36.46446   | -1.2044623 |\n",
       "| 253.04     | 29.04      |  37.14     | 319.22     | 47.94      | 47.67330   |  0.2667021 |\n",
       "|  88.14     | 25.84      |  30.34     | 144.32     | 43.24      | 39.03585   |  4.2041521 |\n",
       "| 163.68     | 37.48      |  19.58     | 220.74     | 43.48      | 44.94959   | -1.4695872 |\n",
       "| 263.96     | 27.96      |  32.96     | 324.88     | 47.46      | 47.97193   | -0.5119320 |\n",
       "| 268.98     | 34.68      |  29.28     | 332.94     | 46.78      | 49.52872   | -2.7487229 |\n",
       "| 314.07     | 36.87      |  50.57     | 401.51     | 50.27      | 52.22601   | -1.9560100 |\n",
       "| 134.90     | 26.80      |  46.80     | 208.50     | 41.60      | 41.55204   |  0.0479584 |\n",
       "| 284.99     | 26.79      |   5.89     | 317.67     | 44.49      | 48.65292   | -4.1629207 |\n",
       "| 117.68     | 10.78      |  15.58     | 144.04     | 39.18      | 37.43109   |  1.7489145 |\n",
       "| 316.09     | 16.89      |  20.09     | 353.07     | 45.89      | 48.25614   | -2.3661420 |\n",
       "| 288.58     | 52.88      |  12.88     | 354.34     | 54.78      | 54.01052   |  0.7694821 |\n",
       "| ... | ... | ... | ... | ... | ... | ... |\n",
       "|  38.87      | 45.97       | 28.77       | 113.61      | 36.67       | 40.62458    | -3.95457708 |\n",
       "| 227.91      | 13.71       | 26.71       | 268.33      | 41.01       | 43.38686    | -2.37685584 |\n",
       "| 239.81      | 35.41       | 68.21       | 343.43      | 49.21       | 48.41305    |  0.79695436 |\n",
       "| 306.77      | 20.47       | 15.07       | 342.31      | 45.17       | 48.49327    | -3.32327088 |\n",
       "| 185.03      | 28.83       | 54.13       | 267.99      | 42.73       | 44.40727    | -1.67726942 |\n",
       "|  44.13      | 32.03       | 27.73       | 103.89      | 39.83       | 38.11978    |  1.71022258 |\n",
       "| 188.43      | 14.53       | 19.03       | 221.99      | 39.43       | 41.60886    | -2.17886182 |\n",
       "| 247.75      | 16.15       | 24.65       | 288.55      | 44.55       | 44.82105    | -0.27105150 |\n",
       "| 300.50      | 59.90       | 51.60       | 412.00      | 58.30       | 56.12535    |  2.17465270 |\n",
       "| 193.40      | 18.40       | 44.60       | 256.40      | 42.60       | 42.71368    | -0.11368140 |\n",
       "| 298.30      | 11.30       | 31.50       | 341.10      | 41.10       | 46.33490    | -5.23489500 |\n",
       "| 188.07      | 19.87       | 26.27       | 234.21      | 42.77       | 42.67506    |  0.09494372 |\n",
       "| 179.40      | 12.80       | 17.30       | 209.50      | 41.00       | 40.82329    |  0.17670990 |\n",
       "| 239.07      | 13.37       | 34.17       | 286.61      | 40.47       | 43.88863    | -3.41863188 |\n",
       "|  79.21      | 16.11       | 38.91       | 134.23      | 39.41       | 36.71396    |  2.69603676 |\n",
       "| 307.43      | 50.23       | 77.83       | 435.49      | 53.73       | 54.65137    | -0.92137172 |\n",
       "| 275.04      | 29.94       | 37.44       | 342.42      | 46.54       | 48.91680    | -2.37679846 |\n",
       "| 225.79      | 53.29       | 26.59       | 305.67      | 51.09       | 51.10684    | -0.01684166 |\n",
       "| 160.79      | 10.79       | 34.09       | 205.67      | 39.29       | 39.59088    | -0.30088166 |\n",
       "| 216.67      | 41.67       | 29.97       | 288.31      | 50.57       | 48.38202    |  2.18798022 |\n",
       "| 308.42      | 23.72       | 12.32       | 344.46      | 46.02       | 49.20478    | -3.18477548 |\n",
       "|  43.46      | 24.26       | 34.36       | 102.08      | 39.16       | 36.57740    |  2.58260406 |\n",
       "|  64.96      | 53.96       | 17.46       | 136.38      | 43.96       | 43.42216    |  0.53783746 |\n",
       "|  97.69      | 20.39       | 14.39       | 132.47      | 39.79       | 38.35869    |  1.43131244 |\n",
       "|  36.95      | 11.25       | 37.55       |  85.75      | 33.35       | 33.70338    | -0.35338250 |\n",
       "| 188.45      | 51.05       | 11.45       | 250.95      | 48.95       | 48.79857    |  0.15143460 |\n",
       "| 174.07      | 47.37       | 16.57       | 238.01      | 49.37       | 47.39536    |  1.97464052 |\n",
       "|  59.86      | 12.76       | 21.66       |  94.28      | 36.96       | 35.04852    |  1.91148326 |\n",
       "| 117.91      | 16.01       | 18.01       | 151.93      | 41.11       | 38.48538    |  2.62462116 |\n",
       "| 308.78      | 54.58       | 77.58       | 440.94      | 58.38       | 55.57550    |  2.80450028 |\n",
       "\n"
      ],
      "text/plain": [
       "    google_adwords facebook twitter marketing_total revenues revenues_pred\n",
       "1    65.66         47.86     52.46  165.98          39.26    42.38648     \n",
       "2    39.10         55.20     77.40  171.70          38.90    42.64915     \n",
       "3   174.81         52.01     68.01  294.83          49.51    48.54831     \n",
       "4    34.36         61.96     86.86  183.18          40.56    43.79272     \n",
       "5    78.21         40.91     30.41  149.53          40.21    41.53427     \n",
       "6    34.19         15.09     12.79   62.07          38.09    34.23253     \n",
       "7   225.71         15.91     33.31  274.93          44.21    43.74091     \n",
       "8    90.03         17.13     34.33  141.49          40.23    37.42127     \n",
       "9   238.40         35.10     13.90  287.40          48.80    48.07234     \n",
       "10   43.53         42.23     71.83  157.59          36.63    40.27829     \n",
       "11  118.24         15.74     14.14  148.12          38.14    38.43293     \n",
       "12  224.64         40.84     52.74  318.22          47.24    48.69214     \n",
       "13  219.51         59.21     63.21  341.93          54.21    52.11550     \n",
       "14   89.79         45.99    122.19  257.97          42.19    43.45555     \n",
       "15  306.09         51.69     66.69  424.47          56.79    54.83178     \n",
       "16   91.98         30.68     27.28  149.94          41.78    40.16637     \n",
       "17  242.72         39.42     63.92  346.06          50.02    49.32974     \n",
       "18  263.64         18.74     35.94  318.32          46.44    46.14570     \n",
       "19   35.16         25.26     57.76  118.18          35.26    36.46446     \n",
       "20  253.04         29.04     37.14  319.22          47.94    47.67330     \n",
       "21   88.14         25.84     30.34  144.32          43.24    39.03585     \n",
       "22  163.68         37.48     19.58  220.74          43.48    44.94959     \n",
       "23  263.96         27.96     32.96  324.88          47.46    47.97193     \n",
       "24  268.98         34.68     29.28  332.94          46.78    49.52872     \n",
       "25  314.07         36.87     50.57  401.51          50.27    52.22601     \n",
       "26  134.90         26.80     46.80  208.50          41.60    41.55204     \n",
       "27  284.99         26.79      5.89  317.67          44.49    48.65292     \n",
       "28  117.68         10.78     15.58  144.04          39.18    37.43109     \n",
       "29  316.09         16.89     20.09  353.07          45.89    48.25614     \n",
       "30  288.58         52.88     12.88  354.34          54.78    54.01052     \n",
       "... ...            ...      ...     ...             ...      ...          \n",
       "143  38.87         45.97    28.77   113.61          36.67    40.62458     \n",
       "144 227.91         13.71    26.71   268.33          41.01    43.38686     \n",
       "145 239.81         35.41    68.21   343.43          49.21    48.41305     \n",
       "146 306.77         20.47    15.07   342.31          45.17    48.49327     \n",
       "147 185.03         28.83    54.13   267.99          42.73    44.40727     \n",
       "148  44.13         32.03    27.73   103.89          39.83    38.11978     \n",
       "149 188.43         14.53    19.03   221.99          39.43    41.60886     \n",
       "150 247.75         16.15    24.65   288.55          44.55    44.82105     \n",
       "151 300.50         59.90    51.60   412.00          58.30    56.12535     \n",
       "152 193.40         18.40    44.60   256.40          42.60    42.71368     \n",
       "153 298.30         11.30    31.50   341.10          41.10    46.33490     \n",
       "154 188.07         19.87    26.27   234.21          42.77    42.67506     \n",
       "155 179.40         12.80    17.30   209.50          41.00    40.82329     \n",
       "156 239.07         13.37    34.17   286.61          40.47    43.88863     \n",
       "157  79.21         16.11    38.91   134.23          39.41    36.71396     \n",
       "158 307.43         50.23    77.83   435.49          53.73    54.65137     \n",
       "159 275.04         29.94    37.44   342.42          46.54    48.91680     \n",
       "160 225.79         53.29    26.59   305.67          51.09    51.10684     \n",
       "161 160.79         10.79    34.09   205.67          39.29    39.59088     \n",
       "162 216.67         41.67    29.97   288.31          50.57    48.38202     \n",
       "163 308.42         23.72    12.32   344.46          46.02    49.20478     \n",
       "164  43.46         24.26    34.36   102.08          39.16    36.57740     \n",
       "165  64.96         53.96    17.46   136.38          43.96    43.42216     \n",
       "166  97.69         20.39    14.39   132.47          39.79    38.35869     \n",
       "167  36.95         11.25    37.55    85.75          33.35    33.70338     \n",
       "168 188.45         51.05    11.45   250.95          48.95    48.79857     \n",
       "169 174.07         47.37    16.57   238.01          49.37    47.39536     \n",
       "170  59.86         12.76    21.66    94.28          36.96    35.04852     \n",
       "171 117.91         16.01    18.01   151.93          41.11    38.48538     \n",
       "172 308.78         54.58    77.58   440.94          58.38    55.57550     \n",
       "    residuals  \n",
       "1   -3.1264752 \n",
       "2   -3.7491462 \n",
       "3    0.9616856 \n",
       "4   -3.2327167 \n",
       "5   -1.3242675 \n",
       "6    3.8574691 \n",
       "7    0.4690894 \n",
       "8    2.8087295 \n",
       "9    0.7276592 \n",
       "10  -3.6482921 \n",
       "11  -0.2929294 \n",
       "12  -1.4521425 \n",
       "13   2.0945008 \n",
       "14  -1.2655538 \n",
       "15   1.9582158 \n",
       "16   1.6136271 \n",
       "17   0.6902602 \n",
       "18   0.2943038 \n",
       "19  -1.2044623 \n",
       "20   0.2667021 \n",
       "21   4.2041521 \n",
       "22  -1.4695872 \n",
       "23  -0.5119320 \n",
       "24  -2.7487229 \n",
       "25  -1.9560100 \n",
       "26   0.0479584 \n",
       "27  -4.1629207 \n",
       "28   1.7489145 \n",
       "29  -2.3661420 \n",
       "30   0.7694821 \n",
       "... ...        \n",
       "143 -3.95457708\n",
       "144 -2.37685584\n",
       "145  0.79695436\n",
       "146 -3.32327088\n",
       "147 -1.67726942\n",
       "148  1.71022258\n",
       "149 -2.17886182\n",
       "150 -0.27105150\n",
       "151  2.17465270\n",
       "152 -0.11368140\n",
       "153 -5.23489500\n",
       "154  0.09494372\n",
       "155  0.17670990\n",
       "156 -3.41863188\n",
       "157  2.69603676\n",
       "158 -0.92137172\n",
       "159 -2.37679846\n",
       "160 -0.01684166\n",
       "161 -0.30088166\n",
       "162  2.18798022\n",
       "163 -3.18477548\n",
       "164  2.58260406\n",
       "165  0.53783746\n",
       "166  1.43131244\n",
       "167 -0.35338250\n",
       "168  0.15143460\n",
       "169  1.97464052\n",
       "170  1.91148326\n",
       "171  2.62462116\n",
       "172  2.80450028"
      ]
     },
     "metadata": {},
     "output_type": "display_data"
    }
   ],
   "source": [
    "#(Intercept)  google_adwords        facebook         twitter  \n",
    "#  29.545988        0.048384        0.197651        0.003889  \n",
    "\n",
    "adverts %>% \n",
    "mutate(revenues_pred = 29.545988 + 0.048384*google_adwords + 0.197651*facebook + 0.003889*twitter) %>%\n",
    "mutate(residuals = revenues - revenues_pred)\n"
   ]
  },
  {
   "cell_type": "markdown",
   "metadata": {},
   "source": [
    "## Interpreting the output of `lm()`\n",
    "\n",
    "The `summary` function can also be used on models to generate more information about the model and the fit:"
   ]
  },
  {
   "cell_type": "code",
   "execution_count": 41,
   "metadata": {
    "scrolled": false
   },
   "outputs": [
    {
     "data": {
      "text/plain": [
       "\n",
       "Call:\n",
       "lm(formula = mpg ~ wt + disp, data = mtcars)\n",
       "\n",
       "Residuals:\n",
       "    Min      1Q  Median      3Q     Max \n",
       "-3.4087 -2.3243 -0.7683  1.7721  6.3484 \n",
       "\n",
       "Coefficients:\n",
       "            Estimate Std. Error t value Pr(>|t|)    \n",
       "(Intercept) 34.96055    2.16454  16.151 4.91e-16 ***\n",
       "wt          -3.35082    1.16413  -2.878  0.00743 ** \n",
       "disp        -0.01773    0.00919  -1.929  0.06362 .  \n",
       "---\n",
       "Signif. codes:  0 '***' 0.001 '**' 0.01 '*' 0.05 '.' 0.1 ' ' 1\n",
       "\n",
       "Residual standard error: 2.917 on 29 degrees of freedom\n",
       "Multiple R-squared:  0.7809,\tAdjusted R-squared:  0.7658 \n",
       "F-statistic: 51.69 on 2 and 29 DF,  p-value: 2.744e-10\n"
      ]
     },
     "metadata": {},
     "output_type": "display_data"
    }
   ],
   "source": [
    "model <- lm(formula = mpg ~ wt + disp, data = mtcars)\n",
    "summary(model)"
   ]
  },
  {
   "cell_type": "markdown",
   "metadata": {},
   "source": [
    "Here\n",
    "- \"Call\" is telling us what model and data we used as input.\n",
    "- \"Residuals\" provide the descriptive statistics of the residuals. (It can give you an idea of whether the residuals are normally distributed around zero.)\n",
    "- \"Coefficients\" provides the estimates of the coefficients as we saw before, but this time also with standard error and p-values. The standard error says something about the uncertainty in the estimation of the parameters and can be used to create a confidence interval for the estimate of the coefficient. The p-value (\"Pr(>|t|)\") can be used to tell whether the coefficient is really significantly different from zero - that is whether that particular predictor variable really has an effect on the response variable. A common cut-off for significance is 0.05, i.e. it is significant if the value is below 0.05. \n",
    "- The \"Adjusted R-square\" is an important measure that tells us how much of the variance in the response variable that is explained by the predictor variables. (In this case 77% of the variance in mpg is explained by the wt and disp variables.)\n",
    "- The \"F-statistic\" and its associated p-value is used for multiple linear regression and say something about whether there significant evidence for the relationship between the predictor values and the response variables in general."
   ]
  },
  {
   "cell_type": "markdown",
   "metadata": {},
   "source": [
    "## When is a model a good model? - Checking model assumptions\n",
    "\n",
    "Statistical models comes with assumptions that need to be satisfied for the model to be properly used. By \"properly used\", we mean, among other things, that the model make sense wrt. the data, that the statistical estimates of errors and uncertainty are correct, and that predictions based on the model behave as expected. (See also http://varianceexplained.org/r/kmeans-free-lunch/ for a good discussion on model assumptions.)\n",
    "\n",
    "For linear regression these model assumptions are:\n",
    "- Linearity\n",
    "- Independence\n",
    "- Normality\n",
    "- Equal variance\n",
    "\n",
    "Note that, even if the model assumptions are satisfied, the model might still be a poorly fit to the data, it might still not predict well enough in the range we want to predict and it might not make sense from a business perspective. This is important to keep in mind!"
   ]
  },
  {
   "cell_type": "markdown",
   "metadata": {},
   "source": [
    "### Linearity\n",
    "\n",
    "The linearity assumption is simply that the relationship between the predictor and response variables is linear. This assumption is often easiestly checked by looking at the scatterplot of the predictor variable and the response variable. If it looks like data fall close to a straight line, the assumption is meet. The previous plot of `mpg` and `wt` constitute such an example. Here is a case where the assumption is clearly violated:"
   ]
  },
  {
   "cell_type": "code",
   "execution_count": 42,
   "metadata": {},
   "outputs": [
    {
     "name": "stderr",
     "output_type": "stream",
     "text": [
      "`geom_smooth()` using formula 'y ~ x'\n"
     ]
    },
    {
     "data": {
      "image/png": "[encoded data removed]",
      "text/plain": [
       "plot without title"
      ]
     },
     "metadata": {},
     "output_type": "display_data"
    }
   ],
   "source": [
    "x <- 1:30\n",
    "y = x^3 + rnorm(30, 0, 200)\n",
    "ggplot() + geom_point(aes(x = x, y = y)) + geom_smooth(aes(x = x, y = y), method = \"lm\", se = FALSE)"
   ]
  },
  {
   "cell_type": "markdown",
   "metadata": {},
   "source": [
    "### Independence\n",
    "\n",
    "This assumption amounts to all predictor variables being independent. If there is only one predictor variable this is trivially satisfied, of course.\n",
    "\n",
    "In the case of multiple predictor variables, one can always check the correlation between the predictor variables and often it is enough that none of them are strongly correlated. (A little correlation is hard to avoid.) It is sometimes possible to argue from for independence based on knowledge about the data."
   ]
  },
  {
   "cell_type": "markdown",
   "metadata": {},
   "source": [
    "### Normality\n",
    "\n",
    "This assumption is about the residuals and requires them to be normally distributed with mean zero. A natural way to check this is by plotting a histogram of the residuals. In the case of `mpg` and `wt` we get the following histogram:"
   ]
  },
  {
   "cell_type": "code",
   "execution_count": 43,
   "metadata": {},
   "outputs": [
    {
     "data": {
      "image/png": "[encoded data removed]",
      "text/plain": [
       "plot without title"
      ]
     },
     "metadata": {},
     "output_type": "display_data"
    }
   ],
   "source": [
    "ggplot() + geom_histogram(aes(fit$residuals), binwidth = 1)"
   ]
  },
  {
   "cell_type": "markdown",
   "metadata": {},
   "source": [
    "It is a bit hard to tell whether this is a normal distribution. It is not completely unlikely though. We can also add more predictor variables."
   ]
  },
  {
   "cell_type": "code",
   "execution_count": 44,
   "metadata": {
    "scrolled": false
   },
   "outputs": [
    {
     "data": {
      "image/png": "[encoded data removed]",
      "text/plain": [
       "plot without title"
      ]
     },
     "metadata": {},
     "output_type": "display_data"
    }
   ],
   "source": [
    "model2 <- lm(data = mtcars, formula = mpg ~ wt + disp + cyl + gear)\n",
    "ggplot() + geom_histogram(aes(model2$residuals), binwidth = 1)"
   ]
  },
  {
   "cell_type": "markdown",
   "metadata": {},
   "source": [
    "Given that we have a limited number of data points in this case and there will always be some noise, this is fairly close to normal.\n",
    "\n",
    "Another common plot used to test for normality is the Q-Q plot. In the case of the latest model, the plot looks like this:"
   ]
  },
  {
   "cell_type": "code",
   "execution_count": 45,
   "metadata": {
    "scrolled": false
   },
   "outputs": [
    {
     "data": {
      "image/png": "[encoded data removed]",
      "text/plain": [
       "Plot with title \"Q-Q Plot of Residuals of model2\""
      ]
     },
     "metadata": {},
     "output_type": "display_data"
    }
   ],
   "source": [
    "qqnorm(model2$residuals, main = \"Q-Q Plot of Residuals of model2\")\n",
    "qqline(model2$residuals)"
   ]
  },
  {
   "cell_type": "markdown",
   "metadata": {},
   "source": [
    "If the points fall close to the straight line, the residuals are normally distributed, which almost seems to be the case.\n",
    "\n",
    "There is another easy way to get the Q-Q plot as well as other diagnostic plots, namely:"
   ]
  },
  {
   "cell_type": "code",
   "execution_count": 46,
   "metadata": {
    "scrolled": false
   },
   "outputs": [
    {
     "data": {
      "image/png": "[encoded data removed]",
      "text/plain": [
       "Plot with title \"\""
      ]
     },
     "metadata": {},
     "output_type": "display_data"
    },
    {
     "data": {
      "image/png": "[encoded data removed]",
      "text/plain": [
       "Plot with title \"\""
      ]
     },
     "metadata": {},
     "output_type": "display_data"
    },
    {
     "data": {
      "image/png": "[encoded data removed]",
      "text/plain": [
       "Plot with title \"\""
      ]
     },
     "metadata": {},
     "output_type": "display_data"
    },
    {
     "data": {
      "image/png": "[encoded data removed]",
      "text/plain": [
       "Plot with title \"\""
      ]
     },
     "metadata": {},
     "output_type": "display_data"
    }
   ],
   "source": [
    "plot(model2)"
   ]
  },
  {
   "cell_type": "markdown",
   "metadata": {},
   "source": [
    "If we look at the previous model that did also not satisfy linearity, we can see an example where the residuals are clearly not normally distributed:"
   ]
  },
  {
   "cell_type": "code",
   "execution_count": 47,
   "metadata": {},
   "outputs": [
    {
     "data": {
      "image/png": "[encoded data removed]",
      "text/plain": [
       "plot without title"
      ]
     },
     "metadata": {},
     "output_type": "display_data"
    },
    {
     "data": {
      "image/png": "[encoded data removed]",
      "text/plain": [
       "Plot with title \"Q-Q Plot of Residuals of non-linear model\""
      ]
     },
     "metadata": {},
     "output_type": "display_data"
    }
   ],
   "source": [
    "x <- 1:30\n",
    "y = x^3 + rnorm(30, 0, 200)\n",
    "model_nonLin <- lm(formula = y ~ x)\n",
    "ggplot() + geom_histogram(aes(model_nonLin$residuals), binwidth = 1000)\n",
    "qqnorm(model_nonLin$residuals, main = \"Q-Q Plot of Residuals of non-linear model\")\n",
    "qqline(model_nonLin$residuals)"
   ]
  },
  {
   "cell_type": "markdown",
   "metadata": {},
   "source": [
    "So this is how things look if the assumptions are not met."
   ]
  },
  {
   "cell_type": "markdown",
   "metadata": {},
   "source": [
    "### Equal variance\n",
    "\n",
    "This assumption amounts to the variance in the residuals being constant. That is the variance in the residuals does not depend on the actual fitted values. That is the error in prediction is just as big when we predict the response variable to be 1 as when we predict it to be 10,000 (on average). This can be checked by plotting the residual against the predicted values. For the model `mpg ~ wt + disp + cyl + gear` we get:"
   ]
  },
  {
   "cell_type": "code",
   "execution_count": 48,
   "metadata": {},
   "outputs": [
    {
     "data": {
      "image/png": "[encoded data removed]",
      "text/plain": [
       "plot without title"
      ]
     },
     "metadata": {},
     "output_type": "display_data"
    }
   ],
   "source": [
    "ggplot() + geom_point(aes(x = predict(model2), y = model2$residuals))"
   ]
  },
  {
   "cell_type": "markdown",
   "metadata": {},
   "source": [
    "Here is an example where there is clearly no equal variance:"
   ]
  },
  {
   "cell_type": "code",
   "execution_count": 49,
   "metadata": {},
   "outputs": [
    {
     "name": "stderr",
     "output_type": "stream",
     "text": [
      "Warning message in 1 + 2 * x + rnorm(100, 0, 0.5) * (1:100) * 2:\n",
      "\"longer object length is not a multiple of shorter object length\""
     ]
    },
    {
     "data": {
      "image/png": "[encoded data removed]",
      "text/plain": [
       "plot without title"
      ]
     },
     "metadata": {},
     "output_type": "display_data"
    }
   ],
   "source": [
    "x_2 <- 1:100\n",
    "y_2 <- 1 + 2 * x + rnorm(100, 0, 0.5)*(1:100)*2\n",
    "theModel <- lm(y_2 ~ x_2)\n",
    "ggplot() + geom_point(aes(x = predict(theModel), y = theModel$residuals))"
   ]
  },
  {
   "cell_type": "markdown",
   "metadata": {},
   "source": [
    "### *Exercise*\n",
    "\n",
    "For the multiple linear regression model trained previously:\n",
    "$$\n",
    "revenues = a_0 + a_1 * google\\_adwords + a_2 * facebook + a_3 * twitter,\n",
    "$$\n",
    "check all the four model assumptions."
   ]
  },
  {
   "cell_type": "code",
   "execution_count": null,
   "metadata": {
    "scrolled": false
   },
   "outputs": [],
   "source": []
  },
  {
   "cell_type": "markdown",
   "metadata": {},
   "source": [
    "## Generalization of linear models\n",
    "\n",
    "There are a lot of ways to generalize linear regression models:\n",
    "* Transforming variables\n",
    "    + Polynomial regression. We transform some of the predictor variables `x` to have `x^2`, `x^3` etc.\n",
    "    + We might take the log of the response variable\n",
    "    + Adstock or other transformation of the predictor variables `x`.\n",
    "* *logistic regression*. Popular model class for classification tasks\n",
    "* *generalized linear models*. Generalizes linear models and logistic regression models\n",
    "* *penalized linear models*. Add a penalty to complex models thereby keeping models simple\n",
    "* ... many many other"
   ]
  },
  {
   "cell_type": "markdown",
   "metadata": {},
   "source": [
    "### *Exercise* \n",
    "\n",
    "Based on the `diamonds` dataset:\n",
    "- build a linear regression model with the `price` variable as the response variable\n",
    "- Check all the four model assumptions\n",
    "- How good is you model?\n",
    "\n",
    "It might make things easier for plotting if you sample the dataset (for instance: `set.seed(123); dia<-diamonds[sample(1:nrow(diamonds), 2500), ]`"
   ]
  },
  {
   "cell_type": "code",
   "execution_count": null,
   "metadata": {
    "scrolled": false
   },
   "outputs": [],
   "source": []
  },
  {
   "cell_type": "markdown",
   "metadata": {},
   "source": [
    "### *Exercise* \n",
    "\n",
    "Based on the *Real estate valuation data set* dataset from The UCI Machine Learning Repository, build a linear regression model with the variable `Y_house_price_of_unit_area` as response variable. Check the model assumptions and interpret the model. The dataset is also on the Jupyter Hub. Read more about the dataset [here](https://archive.ics.uci.edu/ml/datasets/Real+estate+valuation+data+set)."
   ]
  },
  {
   "cell_type": "code",
   "execution_count": null,
   "metadata": {},
   "outputs": [],
   "source": [
    "library(readxl)"
   ]
  },
  {
   "cell_type": "code",
   "execution_count": null,
   "metadata": {},
   "outputs": [],
   "source": [
    "realestate <- read_excel(\"Real_estate_valuation_data_set.xlsx\")"
   ]
  },
  {
   "cell_type": "code",
   "execution_count": null,
   "metadata": {},
   "outputs": [],
   "source": []
  }
 ],
 "metadata": {
  "kernelspec": {
   "display_name": "R",
   "language": "R",
   "name": "ir"
  },
  "language_info": {
   "codemirror_mode": "r",
   "file_extension": ".r",
   "mimetype": "text/x-r-source",
   "name": "R",
   "pygments_lexer": "r",
   "version": "3.6.1"
  }
 },
 "nbformat": 4,
 "nbformat_minor": 2
}
