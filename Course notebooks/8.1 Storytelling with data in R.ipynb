{
 "cells": [
  {
   "cell_type": "markdown",
   "metadata": {
    "collapsed": true
   },
   "source": [
    "# Storytelling with data in R\n",
    "\n",
    "In this notebook, we will briefly look at how to do some of the things relevant to storytelling with data, as discussed in the book *Storytelling with data* by Cole Nussbaumer Knaflic. We will mostly use the `ggplot2` package to do the relevant visualizations."
   ]
  },
  {
   "cell_type": "code",
   "execution_count": null,
   "metadata": {},
   "outputs": [],
   "source": [
    "# Setting up\n",
    "library(tidyverse)\n",
    "\n",
    "options(repr.plot.width=8, repr.plot.height=5)"
   ]
  },
  {
   "cell_type": "markdown",
   "metadata": {},
   "source": [
    "## Coloring particular points\n",
    "\n",
    "Coloring particular points can be done in several ways. But due to the layered approach to plotting in `ggplot2`, we can simply add the particular points again in another layer with anohter color, by simple subsetting the original data."
   ]
  },
  {
   "cell_type": "code",
   "execution_count": null,
   "metadata": {},
   "outputs": [],
   "source": [
    "ggplot(mtcars) + geom_point(aes(x = hp, y = mpg))"
   ]
  },
  {
   "cell_type": "code",
   "execution_count": null,
   "metadata": {},
   "outputs": [],
   "source": [
    "high_hp <- mtcars %>% filter(hp > 300)\n",
    "high_hp"
   ]
  },
  {
   "cell_type": "code",
   "execution_count": null,
   "metadata": {},
   "outputs": [],
   "source": [
    "ggplot(mtcars) + geom_point(aes(x = hp, y = mpg)) + geom_point(data = high_hp, aes(x = hp, y = mpg), color = \"red\")"
   ]
  },
  {
   "cell_type": "markdown",
   "metadata": {},
   "source": [
    "## Coloring particular bars\n",
    "\n",
    "Coloring particular bars in bar chart can be done in the following way. "
   ]
  },
  {
   "cell_type": "code",
   "execution_count": null,
   "metadata": {},
   "outputs": [],
   "source": [
    "diamonds %>% ggplot() + geom_bar(aes(x = color))"
   ]
  },
  {
   "cell_type": "code",
   "execution_count": null,
   "metadata": {},
   "outputs": [],
   "source": [
    "diamonds %>% ggplot() + geom_bar(aes(x = color), fill=\"steelblue\")"
   ]
  },
  {
   "cell_type": "code",
   "execution_count": null,
   "metadata": {},
   "outputs": [],
   "source": [
    "diamonds %>% ggplot() + geom_bar(aes(x = color), color=\"red\")"
   ]
  },
  {
   "cell_type": "code",
   "execution_count": null,
   "metadata": {},
   "outputs": [],
   "source": [
    "diamonds %>% ggplot() + geom_bar(aes(x = color), fill=\"#00CCCC\")"
   ]
  },
  {
   "cell_type": "code",
   "execution_count": null,
   "metadata": {},
   "outputs": [],
   "source": [
    "diamonds %>% ggplot() + geom_bar(aes(x = color, fill = color))"
   ]
  },
  {
   "cell_type": "code",
   "execution_count": null,
   "metadata": {},
   "outputs": [],
   "source": [
    "diamonds %>% ggplot() + geom_bar(aes(x = color, fill = color)) +\n",
    "scale_fill_manual(values=c(\"#000000\", \"#E69F00\", \"#56B4E9\", \"#009E73\", \"#F0E442\", \"#0072B2\", \"#D55E00\"))"
   ]
  },
  {
   "cell_type": "code",
   "execution_count": null,
   "metadata": {},
   "outputs": [],
   "source": [
    "diamonds %>% ggplot() + geom_bar(aes(x = color, fill = color)) + scale_fill_brewer(palette = \"Dark2\")"
   ]
  },
  {
   "cell_type": "code",
   "execution_count": null,
   "metadata": {},
   "outputs": [],
   "source": [
    "diamonds %>% ggplot() + geom_bar(aes(x = color)) + \n",
    "geom_bar(data = diamonds %>% filter(color == \"G\"), mapping = aes(x = color, fill = color))"
   ]
  },
  {
   "cell_type": "code",
   "execution_count": null,
   "metadata": {},
   "outputs": [],
   "source": [
    "diamonds %>% ggplot() + geom_bar(aes(x = color)) + \n",
    "geom_bar(data = diamonds %>% filter(color == \"G\"), mapping = aes(x = color), fill = \"darkblue\")"
   ]
  },
  {
   "cell_type": "markdown",
   "metadata": {},
   "source": [
    "## Adding horisontal and vertical lines\n",
    "\n",
    "How to add vertical and horisontal lines."
   ]
  },
  {
   "cell_type": "code",
   "execution_count": null,
   "metadata": {},
   "outputs": [],
   "source": [
    "ggplot(mtcars) +\n",
    "geom_point(aes(x = hp, y = mpg)) +\n",
    "geom_point(data = high_hp, aes(x = hp, y = mpg), color = \"red\") +\n",
    "geom_vline(xintercept = 300)"
   ]
  },
  {
   "cell_type": "code",
   "execution_count": null,
   "metadata": {},
   "outputs": [],
   "source": [
    "ggplot(mtcars) +\n",
    "geom_point(aes(x = hp, y = mpg)) +\n",
    "geom_point(data = high_hp, aes(x = hp, y = mpg), color = \"red\") +\n",
    "geom_vline(xintercept = 300, linetype=\"dotted\")"
   ]
  },
  {
   "cell_type": "code",
   "execution_count": null,
   "metadata": {},
   "outputs": [],
   "source": [
    "ggplot(mtcars) +\n",
    "geom_point(aes(x = hp, y = mpg)) +\n",
    "geom_point(data = high_hp, aes(x = hp, y = mpg), color = \"red\") +\n",
    "geom_vline(xintercept = 300, linetype=\"dashed\")"
   ]
  },
  {
   "cell_type": "code",
   "execution_count": null,
   "metadata": {},
   "outputs": [],
   "source": [
    "ggplot(mtcars) +\n",
    "geom_point(aes(x = hp, y = mpg)) +\n",
    "geom_point(data = high_hp, aes(x = hp, y = mpg), color = \"red\") +\n",
    "geom_hline(yintercept = 25.5, linetype=\"dashed\", color = \"blue\", alpha = 0.3)"
   ]
  },
  {
   "cell_type": "markdown",
   "metadata": {},
   "source": [
    "## Adding values to bar charts\n",
    "\n",
    "How can we add values to bar charts?"
   ]
  },
  {
   "cell_type": "code",
   "execution_count": null,
   "metadata": {
    "scrolled": false
   },
   "outputs": [],
   "source": [
    "dat <- data.frame(\n",
    "  time = factor(c(\"Lunch\",\"Dinner\"), levels=c(\"Lunch\",\"Dinner\")),\n",
    "  total_bill = c(14.89, 17.23)\n",
    ")\n",
    "\n",
    "dat"
   ]
  },
  {
   "cell_type": "code",
   "execution_count": null,
   "metadata": {},
   "outputs": [],
   "source": [
    "ggplot(data=dat, aes(x=time, y=total_bill, fill=time)) +\n",
    "  geom_bar(colour=\"black\", stat=\"identity\") +\n",
    "  geom_text(aes(label = total_bill, y= total_bill),  vjust = 2)"
   ]
  },
  {
   "cell_type": "code",
   "execution_count": null,
   "metadata": {},
   "outputs": [],
   "source": [
    "ggplot(data=dat, aes(x=time, y=total_bill, fill=time)) +\n",
    "  geom_bar(colour=\"black\", stat=\"identity\") +\n",
    "  geom_text(aes(label = sprintf(\"%.1f\", total_bill), y= total_bill),  vjust = 2)"
   ]
  },
  {
   "cell_type": "code",
   "execution_count": null,
   "metadata": {},
   "outputs": [],
   "source": [
    "ggplot(data=dat, aes(x=time, y=total_bill, fill=time)) +\n",
    "  geom_bar(colour=\"black\", stat=\"identity\") +\n",
    "  geom_text(aes(label = sprintf(\"%.1f\", total_bill), y= total_bill),  vjust = -1)"
   ]
  },
  {
   "cell_type": "code",
   "execution_count": null,
   "metadata": {},
   "outputs": [],
   "source": [
    "ggplot(data=dat, aes(x=time, y=total_bill, fill=time)) +\n",
    "  geom_bar(colour=\"black\", stat=\"identity\") +\n",
    "  geom_text(aes(label = sprintf(\"%.1f\", total_bill), y= total_bill), size = 8, vjust = 2)"
   ]
  },
  {
   "cell_type": "markdown",
   "metadata": {},
   "source": [
    "## Adding values to scatterplots\n",
    "\n",
    "Here is an example of how to add text to a scatterplot."
   ]
  },
  {
   "cell_type": "code",
   "execution_count": null,
   "metadata": {},
   "outputs": [],
   "source": [
    "ggplot(mtcars) +\n",
    "    geom_point(aes(x = hp, y = mpg)) +\n",
    "    geom_point(data = high_hp, aes(x = hp, y = mpg), color = \"red\") +\n",
    "    geom_text(data = high_hp, aes(label = \"Hello there\", x = hp, y = mpg), size = 3, vjust = 0, hjust = 0)"
   ]
  },
  {
   "cell_type": "code",
   "execution_count": null,
   "metadata": {},
   "outputs": [],
   "source": [
    "ggplot(mtcars) +\n",
    "    geom_point(aes(x = hp, y = mpg)) +\n",
    "    geom_point(data = high_hp, aes(x = hp, y = mpg), color = \"red\") +\n",
    "    geom_text(data = high_hp, aes(label = \"Hello there\", x = hp, y = mpg), size = 3, vjust = 1.5, hjust = 1.1)"
   ]
  },
  {
   "cell_type": "code",
   "execution_count": null,
   "metadata": {},
   "outputs": [],
   "source": [
    "ggplot(mtcars) +\n",
    "    geom_point(aes(x = hp, y = mpg)) +\n",
    "    geom_point(data = high_hp, aes(x = hp, y = mpg), color = \"red\") +\n",
    "    geom_text(data = high_hp, aes(label = paste(\"(\", hp, \",\", mpg, \")\"), x = hp, y = mpg), size = 3, vjust = 1.6, hjust = 1.1)"
   ]
  },
  {
   "cell_type": "markdown",
   "metadata": {},
   "source": [
    "## Removing clutter - simple theme\n",
    "\n",
    "Chosing another theme than the standard is one way of removing clutter."
   ]
  },
  {
   "cell_type": "code",
   "execution_count": null,
   "metadata": {},
   "outputs": [],
   "source": [
    "p <- ggplot(mtcars) + geom_point(aes(x = wt, y = mpg,\n",
    "     colour = factor(gear))) + facet_wrap(~am)\n",
    "p"
   ]
  },
  {
   "cell_type": "code",
   "execution_count": null,
   "metadata": {},
   "outputs": [],
   "source": [
    "p + theme_bw()"
   ]
  },
  {
   "cell_type": "code",
   "execution_count": null,
   "metadata": {},
   "outputs": [],
   "source": [
    "p + theme_light()"
   ]
  },
  {
   "cell_type": "code",
   "execution_count": null,
   "metadata": {},
   "outputs": [],
   "source": [
    "p + theme_minimal()"
   ]
  },
  {
   "cell_type": "code",
   "execution_count": null,
   "metadata": {},
   "outputs": [],
   "source": [
    "p + theme_classic()"
   ]
  },
  {
   "cell_type": "code",
   "execution_count": null,
   "metadata": {},
   "outputs": [],
   "source": [
    "p + theme_void()"
   ]
  },
  {
   "cell_type": "markdown",
   "metadata": {},
   "source": [
    "There are also manually ways to remove clutter in various forms."
   ]
  },
  {
   "cell_type": "code",
   "execution_count": null,
   "metadata": {},
   "outputs": [],
   "source": [
    "p + theme_bw() +\n",
    "  theme(panel.grid.minor = element_blank())"
   ]
  },
  {
   "cell_type": "code",
   "execution_count": null,
   "metadata": {},
   "outputs": [],
   "source": [
    "p + theme_bw() +\n",
    "  theme(panel.grid.major = element_blank(),\n",
    "    panel.grid.minor = element_blank())"
   ]
  },
  {
   "cell_type": "code",
   "execution_count": null,
   "metadata": {},
   "outputs": [],
   "source": [
    "p + theme_bw() +\n",
    "  theme(panel.grid.major = element_blank(),\n",
    "    panel.grid.minor = element_blank(),\n",
    "    panel.border = element_blank())"
   ]
  },
  {
   "cell_type": "markdown",
   "metadata": {},
   "source": [
    "# Extensions to ggplot2\n",
    "\n",
    "There are numerous packages in the R universe that extens and builds on top of the ggplot2 package. For some of them see: http://www.ggplot2-exts.org/\n",
    "\n",
    "Here is just one example from the package `ggforce`."
   ]
  },
  {
   "cell_type": "code",
   "execution_count": null,
   "metadata": {},
   "outputs": [],
   "source": [
    "library(\"ggforce\")"
   ]
  },
  {
   "cell_type": "code",
   "execution_count": null,
   "metadata": {},
   "outputs": [],
   "source": [
    "ggplot(mtcars, aes(x = hp, y = mpg)) +\n",
    "geom_point()"
   ]
  },
  {
   "cell_type": "code",
   "execution_count": null,
   "metadata": {},
   "outputs": [],
   "source": [
    "ggplot(mtcars, aes(x = hp, y = mpg)) +\n",
    "geom_point() +\n",
    "geom_mark_ellipse(aes(filter = cyl == 6,\n",
    "label = 'Cars with 6 cylinders',\n",
    "description = 'These are all the cars with 6 cylinders (whatever that means!)'))"
   ]
  },
  {
   "cell_type": "code",
   "execution_count": null,
   "metadata": {},
   "outputs": [],
   "source": [
    "ggplot(mtcars, aes(x = hp, y = mpg)) +\n",
    "geom_point() +\n",
    "geom_mark_ellipse(aes(filter = cyl == 6,\n",
    "label = 'Cars with 6 cylinders',\n",
    "description = 'These are all the cars with 6 cylinders (whatever that means!)')) +\n",
    "geom_point(data = mtcars %>% filter(cyl == 6), aes(x = hp, y = mpg), color = \"red\")"
   ]
  },
  {
   "cell_type": "markdown",
   "metadata": {},
   "source": [
    " # More examples of data visualizations in R\n",
    "\n",
    "- [The R Graph Gallery](https://www.r-graph-gallery.com/)\n",
    "- [The Data Visualization with ggplot2 - cheat sheet](https://github.com/rstudio/cheatsheets/blob/master/data-visualization-2.1.pdf)\n",
    "- [The ggplot2 website](https://ggplot2.tidyverse.org/)\n",
    "- [ Cookbook for R - Colors (ggplot2)](http://www.cookbook-r.com/Graphs/Colors_(ggplot2)/)\n",
    "- [A two part tutorial on ggplot 2 by  Thomas Lin Pedersen (ggplot2 pacakge developer at RStudio)](https://www.youtube.com/watch?v=h29g21z0a68&feature=youtu.be)"
   ]
  }
 ],
 "metadata": {
  "kernelspec": {
   "display_name": "R",
   "language": "R",
   "name": "ir"
  },
  "language_info": {
   "codemirror_mode": "r",
   "file_extension": ".r",
   "mimetype": "text/x-r-source",
   "name": "R",
   "pygments_lexer": "r",
   "version": "3.6.0"
  }
 },
 "nbformat": 4,
 "nbformat_minor": 2
}
