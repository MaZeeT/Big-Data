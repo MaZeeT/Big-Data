{
 "cells": [
  {
   "cell_type": "markdown",
   "metadata": {
    "collapsed": true
   },
   "source": [
    "# Exploratory data analysis (EDA)\n",
    "\n",
    "This notebook contains examples of EDA as well as exercises that will allow you to do some EDA on your own."
   ]
  },
  {
   "cell_type": "markdown",
   "metadata": {},
   "source": [
    "# EDA step 1 – the basics\n",
    "\n",
    "As an example, we will look at the diamonds dataset. We can find the diamonds dataset in the `tidyverse` package, which we will need anyway."
   ]
  },
  {
   "cell_type": "code",
   "execution_count": 1,
   "metadata": {},
   "outputs": [
    {
     "name": "stderr",
     "output_type": "stream",
     "text": [
      "Warning message:\n",
      "\"package 'tidyverse' was built under R version 3.6.3\"-- Attaching packages --------------------------------------- tidyverse 1.3.0 --\n",
      "v ggplot2 3.3.2     v purrr   0.3.4\n",
      "v tibble  3.0.3     v dplyr   1.0.2\n",
      "v tidyr   1.1.2     v stringr 1.4.0\n",
      "v readr   1.3.1     v forcats 0.4.0\n",
      "Warning message:\n",
      "\"package 'ggplot2' was built under R version 3.6.3\"Warning message:\n",
      "\"package 'tibble' was built under R version 3.6.3\"Warning message:\n",
      "\"package 'tidyr' was built under R version 3.6.3\"Warning message:\n",
      "\"package 'purrr' was built under R version 3.6.3\"Warning message:\n",
      "\"package 'dplyr' was built under R version 3.6.3\"-- Conflicts ------------------------------------------ tidyverse_conflicts() --\n",
      "x dplyr::filter() masks stats::filter()\n",
      "x dplyr::lag()    masks stats::lag()\n"
     ]
    }
   ],
   "source": [
    "library(tidyverse)"
   ]
  },
  {
   "cell_type": "markdown",
   "metadata": {},
   "source": [
    "Here is a first look at the data:"
   ]
  },
  {
   "cell_type": "code",
   "execution_count": 2,
   "metadata": {},
   "outputs": [
    {
     "data": {
      "text/html": [
       "<table>\n",
       "<thead><tr><th scope=col>carat</th><th scope=col>cut</th><th scope=col>color</th><th scope=col>clarity</th><th scope=col>depth</th><th scope=col>table</th><th scope=col>price</th><th scope=col>x</th><th scope=col>y</th><th scope=col>z</th></tr></thead>\n",
       "<tbody>\n",
       "\t<tr><td>0.23     </td><td>Ideal    </td><td>E        </td><td>SI2      </td><td>61.5     </td><td>55       </td><td>326      </td><td>3.95     </td><td>3.98     </td><td>2.43     </td></tr>\n",
       "\t<tr><td>0.21     </td><td>Premium  </td><td>E        </td><td>SI1      </td><td>59.8     </td><td>61       </td><td>326      </td><td>3.89     </td><td>3.84     </td><td>2.31     </td></tr>\n",
       "\t<tr><td>0.23     </td><td>Good     </td><td>E        </td><td>VS1      </td><td>56.9     </td><td>65       </td><td>327      </td><td>4.05     </td><td>4.07     </td><td>2.31     </td></tr>\n",
       "\t<tr><td>0.29     </td><td>Premium  </td><td>I        </td><td>VS2      </td><td>62.4     </td><td>58       </td><td>334      </td><td>4.20     </td><td>4.23     </td><td>2.63     </td></tr>\n",
       "\t<tr><td>0.31     </td><td>Good     </td><td>J        </td><td>SI2      </td><td>63.3     </td><td>58       </td><td>335      </td><td>4.34     </td><td>4.35     </td><td>2.75     </td></tr>\n",
       "\t<tr><td>0.24     </td><td>Very Good</td><td>J        </td><td>VVS2     </td><td>62.8     </td><td>57       </td><td>336      </td><td>3.94     </td><td>3.96     </td><td>2.48     </td></tr>\n",
       "\t<tr><td>0.24     </td><td>Very Good</td><td>I        </td><td>VVS1     </td><td>62.3     </td><td>57       </td><td>336      </td><td>3.95     </td><td>3.98     </td><td>2.47     </td></tr>\n",
       "\t<tr><td>0.26     </td><td>Very Good</td><td>H        </td><td>SI1      </td><td>61.9     </td><td>55       </td><td>337      </td><td>4.07     </td><td>4.11     </td><td>2.53     </td></tr>\n",
       "\t<tr><td>0.22     </td><td>Fair     </td><td>E        </td><td>VS2      </td><td>65.1     </td><td>61       </td><td>337      </td><td>3.87     </td><td>3.78     </td><td>2.49     </td></tr>\n",
       "\t<tr><td>0.23     </td><td>Very Good</td><td>H        </td><td>VS1      </td><td>59.4     </td><td>61       </td><td>338      </td><td>4.00     </td><td>4.05     </td><td>2.39     </td></tr>\n",
       "</tbody>\n",
       "</table>\n"
      ],
      "text/latex": [
       "\\begin{tabular}{r|llllllllll}\n",
       " carat & cut & color & clarity & depth & table & price & x & y & z\\\\\n",
       "\\hline\n",
       "\t 0.23      & Ideal     & E         & SI2       & 61.5      & 55        & 326       & 3.95      & 3.98      & 2.43     \\\\\n",
       "\t 0.21      & Premium   & E         & SI1       & 59.8      & 61        & 326       & 3.89      & 3.84      & 2.31     \\\\\n",
       "\t 0.23      & Good      & E         & VS1       & 56.9      & 65        & 327       & 4.05      & 4.07      & 2.31     \\\\\n",
       "\t 0.29      & Premium   & I         & VS2       & 62.4      & 58        & 334       & 4.20      & 4.23      & 2.63     \\\\\n",
       "\t 0.31      & Good      & J         & SI2       & 63.3      & 58        & 335       & 4.34      & 4.35      & 2.75     \\\\\n",
       "\t 0.24      & Very Good & J         & VVS2      & 62.8      & 57        & 336       & 3.94      & 3.96      & 2.48     \\\\\n",
       "\t 0.24      & Very Good & I         & VVS1      & 62.3      & 57        & 336       & 3.95      & 3.98      & 2.47     \\\\\n",
       "\t 0.26      & Very Good & H         & SI1       & 61.9      & 55        & 337       & 4.07      & 4.11      & 2.53     \\\\\n",
       "\t 0.22      & Fair      & E         & VS2       & 65.1      & 61        & 337       & 3.87      & 3.78      & 2.49     \\\\\n",
       "\t 0.23      & Very Good & H         & VS1       & 59.4      & 61        & 338       & 4.00      & 4.05      & 2.39     \\\\\n",
       "\\end{tabular}\n"
      ],
      "text/markdown": [
       "\n",
       "| carat | cut | color | clarity | depth | table | price | x | y | z |\n",
       "|---|---|---|---|---|---|---|---|---|---|\n",
       "| 0.23      | Ideal     | E         | SI2       | 61.5      | 55        | 326       | 3.95      | 3.98      | 2.43      |\n",
       "| 0.21      | Premium   | E         | SI1       | 59.8      | 61        | 326       | 3.89      | 3.84      | 2.31      |\n",
       "| 0.23      | Good      | E         | VS1       | 56.9      | 65        | 327       | 4.05      | 4.07      | 2.31      |\n",
       "| 0.29      | Premium   | I         | VS2       | 62.4      | 58        | 334       | 4.20      | 4.23      | 2.63      |\n",
       "| 0.31      | Good      | J         | SI2       | 63.3      | 58        | 335       | 4.34      | 4.35      | 2.75      |\n",
       "| 0.24      | Very Good | J         | VVS2      | 62.8      | 57        | 336       | 3.94      | 3.96      | 2.48      |\n",
       "| 0.24      | Very Good | I         | VVS1      | 62.3      | 57        | 336       | 3.95      | 3.98      | 2.47      |\n",
       "| 0.26      | Very Good | H         | SI1       | 61.9      | 55        | 337       | 4.07      | 4.11      | 2.53      |\n",
       "| 0.22      | Fair      | E         | VS2       | 65.1      | 61        | 337       | 3.87      | 3.78      | 2.49      |\n",
       "| 0.23      | Very Good | H         | VS1       | 59.4      | 61        | 338       | 4.00      | 4.05      | 2.39      |\n",
       "\n"
      ],
      "text/plain": [
       "   carat cut       color clarity depth table price x    y    z   \n",
       "1  0.23  Ideal     E     SI2     61.5  55    326   3.95 3.98 2.43\n",
       "2  0.21  Premium   E     SI1     59.8  61    326   3.89 3.84 2.31\n",
       "3  0.23  Good      E     VS1     56.9  65    327   4.05 4.07 2.31\n",
       "4  0.29  Premium   I     VS2     62.4  58    334   4.20 4.23 2.63\n",
       "5  0.31  Good      J     SI2     63.3  58    335   4.34 4.35 2.75\n",
       "6  0.24  Very Good J     VVS2    62.8  57    336   3.94 3.96 2.48\n",
       "7  0.24  Very Good I     VVS1    62.3  57    336   3.95 3.98 2.47\n",
       "8  0.26  Very Good H     SI1     61.9  55    337   4.07 4.11 2.53\n",
       "9  0.22  Fair      E     VS2     65.1  61    337   3.87 3.78 2.49\n",
       "10 0.23  Very Good H     VS1     59.4  61    338   4.00 4.05 2.39"
      ]
     },
     "metadata": {},
     "output_type": "display_data"
    }
   ],
   "source": [
    "head(diamonds, 10)"
   ]
  },
  {
   "cell_type": "code",
   "execution_count": 3,
   "metadata": {},
   "outputs": [
    {
     "name": "stdout",
     "output_type": "stream",
     "text": [
      "tibble [53,940 x 10] (S3: tbl_df/tbl/data.frame)\n",
      " $ carat  : num [1:53940] 0.23 0.21 0.23 0.29 0.31 0.24 0.24 0.26 0.22 0.23 ...\n",
      " $ cut    : Ord.factor w/ 5 levels \"Fair\"<\"Good\"<..: 5 4 2 4 2 3 3 3 1 3 ...\n",
      " $ color  : Ord.factor w/ 7 levels \"D\"<\"E\"<\"F\"<\"G\"<..: 2 2 2 6 7 7 6 5 2 5 ...\n",
      " $ clarity: Ord.factor w/ 8 levels \"I1\"<\"SI2\"<\"SI1\"<..: 2 3 5 4 2 6 7 3 4 5 ...\n",
      " $ depth  : num [1:53940] 61.5 59.8 56.9 62.4 63.3 62.8 62.3 61.9 65.1 59.4 ...\n",
      " $ table  : num [1:53940] 55 61 65 58 58 57 57 55 61 61 ...\n",
      " $ price  : int [1:53940] 326 326 327 334 335 336 336 337 337 338 ...\n",
      " $ x      : num [1:53940] 3.95 3.89 4.05 4.2 4.34 3.94 3.95 4.07 3.87 4 ...\n",
      " $ y      : num [1:53940] 3.98 3.84 4.07 4.23 4.35 3.96 3.98 4.11 3.78 4.05 ...\n",
      " $ z      : num [1:53940] 2.43 2.31 2.31 2.63 2.75 2.48 2.47 2.53 2.49 2.39 ...\n"
     ]
    }
   ],
   "source": [
    "# ?diamonds\n",
    "str(diamonds)"
   ]
  },
  {
   "cell_type": "markdown",
   "metadata": {},
   "source": [
    "### *Exercise*\n",
    "\n",
    "- What do the different variables in the dataset represent?\n",
    "- What does a row represent?\n",
    "- Which variables are categorical and which ones are numerical?\n",
    "- What are the different data types of the different variables?\n",
    "- Should we change the data type of any of the variables?"
   ]
  },
  {
   "cell_type": "code",
   "execution_count": null,
   "metadata": {},
   "outputs": [],
   "source": []
  },
  {
   "cell_type": "markdown",
   "metadata": {},
   "source": [
    "# Next step: Asking questions about your data"
   ]
  },
  {
   "cell_type": "markdown",
   "metadata": {},
   "source": [
    "## Visualizing variation within a variable\n",
    "\n",
    "We will first plot the distribution of the categorical variable `cut` using a barplot. \n",
    "(We will throughout this notebook use the standard plotting functionality of R. However, in the next notebook we will se how we can make much prettier and more flexible plots with the `ggplot2` package.)\n"
   ]
  },
  {
   "cell_type": "code",
   "execution_count": 4,
   "metadata": {},
   "outputs": [
    {
     "data": {
      "text/html": [
       "<dl class=dl-horizontal>\n",
       "\t<dt>Fair</dt>\n",
       "\t\t<dd>1610</dd>\n",
       "\t<dt>Good</dt>\n",
       "\t\t<dd>4906</dd>\n",
       "\t<dt>Very Good</dt>\n",
       "\t\t<dd>12082</dd>\n",
       "\t<dt>Premium</dt>\n",
       "\t\t<dd>13791</dd>\n",
       "\t<dt>Ideal</dt>\n",
       "\t\t<dd>21551</dd>\n",
       "</dl>\n"
      ],
      "text/latex": [
       "\\begin{description*}\n",
       "\\item[Fair] 1610\n",
       "\\item[Good] 4906\n",
       "\\item[Very Good] 12082\n",
       "\\item[Premium] 13791\n",
       "\\item[Ideal] 21551\n",
       "\\end{description*}\n"
      ],
      "text/markdown": [
       "Fair\n",
       ":   1610Good\n",
       ":   4906Very Good\n",
       ":   12082Premium\n",
       ":   13791Ideal\n",
       ":   21551\n",
       "\n"
      ],
      "text/plain": [
       "     Fair      Good Very Good   Premium     Ideal \n",
       "     1610      4906     12082     13791     21551 "
      ]
     },
     "metadata": {},
     "output_type": "display_data"
    },
    {
     "data": {
      "image/png": "[encoded data removed]",
      "text/plain": [
       "plot without title"
      ]
     },
     "metadata": {},
     "output_type": "display_data"
    }
   ],
   "source": [
    "summary(diamonds$cut)\n",
    "barplot(summary(diamonds$cut))"
   ]
  },
  {
   "cell_type": "markdown",
   "metadata": {},
   "source": [
    "Alternatively you can also just use the `plot` command on the variable:"
   ]
  },
  {
   "cell_type": "code",
   "execution_count": 5,
   "metadata": {},
   "outputs": [
    {
     "data": {
      "image/png": "[encoded data removed]",
      "text/plain": [
       "plot without title"
      ]
     },
     "metadata": {},
     "output_type": "display_data"
    }
   ],
   "source": [
    "plot(diamonds$cut)"
   ]
  },
  {
   "cell_type": "markdown",
   "metadata": {},
   "source": [
    "We can resize the plots in our notebook if we think the are to big or small, but setting some global options.:"
   ]
  },
  {
   "cell_type": "code",
   "execution_count": 6,
   "metadata": {},
   "outputs": [],
   "source": [
    "options(repr.plot.width=8, repr.plot.height=5)"
   ]
  },
  {
   "cell_type": "code",
   "execution_count": 7,
   "metadata": {},
   "outputs": [
    {
     "data": {
      "image/png": "[encoded data removed]",
      "text/plain": [
       "plot without title"
      ]
     },
     "metadata": {},
     "output_type": "display_data"
    }
   ],
   "source": [
    "plot(diamonds$cut)"
   ]
  },
  {
   "cell_type": "markdown",
   "metadata": {},
   "source": [
    "The interpretation of this plot is fairly straightforward. For each of the possible cuts in the dataset, it shows how many diamonds that have that cut."
   ]
  },
  {
   "cell_type": "markdown",
   "metadata": {},
   "source": [
    "Now let us plot the distribution of the numerical variable `carat`. First, let us use a histogram:"
   ]
  },
  {
   "cell_type": "code",
   "execution_count": 8,
   "metadata": {},
   "outputs": [
    {
     "data": {
      "image/png": "[encoded data removed]",
      "text/plain": [
       "Plot with title \"Histogram of diamonds$carat\""
      ]
     },
     "metadata": {},
     "output_type": "display_data"
    }
   ],
   "source": [
    "hist(diamonds$carat)"
   ]
  },
  {
   "cell_type": "markdown",
   "metadata": {},
   "source": [
    "Here the interpretation of the plot requires a little more. The values of the numerical variable `carat` varies from 0 to a little above 5. To get an idea of the distribution of the carat of the different diamonds, we put them into bins with a width of 0.5 carats. That is, all diamonds with a carat ranging from 0 to 0.5 are put in the first bin, diamonds with a carat ranging from 0.5 to 1 are put in the second bin, ..., and so on. Then the histogram shows how many diamonds are in each bin."
   ]
  },
  {
   "cell_type": "markdown",
   "metadata": {},
   "source": [
    "Note that, the width of the bins can vary. Moreover, if we change the width of the bins, the plot will look different. There is no right answer to the question of how many bins there should be. Let us try it out:"
   ]
  },
  {
   "cell_type": "code",
   "execution_count": 9,
   "metadata": {
    "scrolled": false
   },
   "outputs": [
    {
     "data": {
      "image/png": "[encoded data removed]",
      "text/plain": [
       "Plot with title \"Histogram of diamonds$carat\""
      ]
     },
     "metadata": {},
     "output_type": "display_data"
    },
    {
     "data": {
      "image/png": "[encoded data removed]",
      "text/plain": [
       "Plot with title \"Histogram of diamonds$carat\""
      ]
     },
     "metadata": {},
     "output_type": "display_data"
    },
    {
     "data": {
      "image/png": "[encoded data removed]",
      "text/plain": [
       "Plot with title \"Histogram of filter(diamonds, carat <= 1)$carat\""
      ]
     },
     "metadata": {},
     "output_type": "display_data"
    }
   ],
   "source": [
    "hist(diamonds$carat, breaks = 4)\n",
    "hist(diamonds$carat, breaks = 20)\n",
    "hist(filter(diamonds, carat <= 1)$carat, breaks = 10)"
   ]
  },
  {
   "cell_type": "markdown",
   "metadata": {},
   "source": [
    "We can also plot the boxplot of a numerical variable in the following way:"
   ]
  },
  {
   "cell_type": "code",
   "execution_count": 10,
   "metadata": {
    "scrolled": false
   },
   "outputs": [
    {
     "data": {
      "image/png": "[encoded data removed]",
      "text/plain": [
       "plot without title"
      ]
     },
     "metadata": {},
     "output_type": "display_data"
    }
   ],
   "source": [
    "boxplot(diamonds$carat)"
   ]
  },
  {
   "cell_type": "markdown",
   "metadata": {},
   "source": [
    "A box plot requires a bit to interpret. First the thick horizontal line in the middle of the box represent the `median`. The lower horizontal line of the box the 1st quartile and the upper horizontal line of the box the 3rd quartile.\n",
    "\n",
    "The *interquartile range* `IQR` is the 3rd quartile minus the 1st quartile (i.e. the hight of the box). Now, the top horizontal line is whatever is smallest of \"*the 3d quartile + 1.5 times IQR*\" and *the maximum value*. The bottom horizontal line is the biggest of \"*1st quartile - 1.5 times IQR*\" and *the minimum value*.\n",
    "\n",
    "Every value above the top horizontal line or below the bottom horizontal lines are displayed as circles and are also referred to as *outliers*."
   ]
  },
  {
   "cell_type": "markdown",
   "metadata": {},
   "source": [
    "### *Exercise*\n",
    "\n",
    "Plot the distributions of the variables `color` and `price`."
   ]
  },
  {
   "cell_type": "code",
   "execution_count": 11,
   "metadata": {},
   "outputs": [
    {
     "data": {
      "image/png": "[encoded data removed]",
      "text/plain": [
       "plot without title"
      ]
     },
     "metadata": {},
     "output_type": "display_data"
    }
   ],
   "source": [
    "plot(diamonds$color, diamonds$price)"
   ]
  },
  {
   "cell_type": "markdown",
   "metadata": {},
   "source": [
    "## Quantifying variation within a variable\n",
    "\n",
    "Let us now *quantify* the variation within a variable, such as the variables that we saw in the above plots."
   ]
  },
  {
   "cell_type": "markdown",
   "metadata": {},
   "source": [
    "### Categorical variables\n",
    "\n",
    "First, let us quantify what we saw in the bar plot for the categorical variable `cut`:"
   ]
  },
  {
   "cell_type": "code",
   "execution_count": 12,
   "metadata": {},
   "outputs": [
    {
     "data": {
      "text/html": [
       "<dl class=dl-horizontal>\n",
       "\t<dt>Fair</dt>\n",
       "\t\t<dd>1610</dd>\n",
       "\t<dt>Good</dt>\n",
       "\t\t<dd>4906</dd>\n",
       "\t<dt>Very Good</dt>\n",
       "\t\t<dd>12082</dd>\n",
       "\t<dt>Premium</dt>\n",
       "\t\t<dd>13791</dd>\n",
       "\t<dt>Ideal</dt>\n",
       "\t\t<dd>21551</dd>\n",
       "</dl>\n"
      ],
      "text/latex": [
       "\\begin{description*}\n",
       "\\item[Fair] 1610\n",
       "\\item[Good] 4906\n",
       "\\item[Very Good] 12082\n",
       "\\item[Premium] 13791\n",
       "\\item[Ideal] 21551\n",
       "\\end{description*}\n"
      ],
      "text/markdown": [
       "Fair\n",
       ":   1610Good\n",
       ":   4906Very Good\n",
       ":   12082Premium\n",
       ":   13791Ideal\n",
       ":   21551\n",
       "\n"
      ],
      "text/plain": [
       "     Fair      Good Very Good   Premium     Ideal \n",
       "     1610      4906     12082     13791     21551 "
      ]
     },
     "metadata": {},
     "output_type": "display_data"
    }
   ],
   "source": [
    "summary(diamonds$cut)"
   ]
  },
  {
   "cell_type": "code",
   "execution_count": 13,
   "metadata": {},
   "outputs": [
    {
     "data": {
      "text/plain": [
       "\n",
       "     Fair      Good Very Good   Premium     Ideal \n",
       "     1610      4906     12082     13791     21551 "
      ]
     },
     "metadata": {},
     "output_type": "display_data"
    }
   ],
   "source": [
    "table(diamonds$cut)"
   ]
  },
  {
   "cell_type": "markdown",
   "metadata": {},
   "source": [
    "As we see, the `summary` or `table` function can be used to give us the number of cases (diamonds) in each of the categories of cut."
   ]
  },
  {
   "cell_type": "markdown",
   "metadata": {},
   "source": [
    "Let us now try to calculate the *mode* of the variable `cut`:"
   ]
  },
  {
   "cell_type": "code",
   "execution_count": 14,
   "metadata": {},
   "outputs": [
    {
     "data": {
      "text/html": [
       "'numeric'"
      ],
      "text/latex": [
       "'numeric'"
      ],
      "text/markdown": [
       "'numeric'"
      ],
      "text/plain": [
       "[1] \"numeric\""
      ]
     },
     "metadata": {},
     "output_type": "display_data"
    }
   ],
   "source": [
    "mode(diamonds$cut)"
   ]
  },
  {
   "cell_type": "markdown",
   "metadata": {},
   "source": [
    "As you can see this is clearly not the mode of the `cut` variable. In R the function `mode` does something completely different, so let us forget about that. Instead, we can use the `max` function on `table(diamonds$cut)` to get the number of times the most frequent value occurred. However, the mode is the most frequent value itself, which we can get with the `which.max` function:"
   ]
  },
  {
   "cell_type": "code",
   "execution_count": 15,
   "metadata": {},
   "outputs": [
    {
     "data": {
      "text/html": [
       "21551"
      ],
      "text/latex": [
       "21551"
      ],
      "text/markdown": [
       "21551"
      ],
      "text/plain": [
       "[1] 21551"
      ]
     },
     "metadata": {},
     "output_type": "display_data"
    },
    {
     "data": {
      "text/html": [
       "<strong>Ideal:</strong> 5"
      ],
      "text/latex": [
       "\\textbf{Ideal:} 5"
      ],
      "text/markdown": [
       "**Ideal:** 5"
      ],
      "text/plain": [
       "Ideal \n",
       "    5 "
      ]
     },
     "metadata": {},
     "output_type": "display_data"
    }
   ],
   "source": [
    "max(table(diamonds$cut))\n",
    "which.max(table(diamonds$cut))"
   ]
  },
  {
   "cell_type": "markdown",
   "metadata": {},
   "source": [
    "So the *mode* of the variable `cut` is `Ideal`."
   ]
  },
  {
   "cell_type": "markdown",
   "metadata": {},
   "source": [
    "### Numerical variables\n",
    "\n",
    "For a numerical variable, such as `carat` there are many different descriptive statistics we can use to quantify what we saw in the histogram plot. First, here is how to get the `mean` and the `median`:"
   ]
  },
  {
   "cell_type": "code",
   "execution_count": 16,
   "metadata": {},
   "outputs": [
    {
     "data": {
      "text/html": [
       "0.797939747868001"
      ],
      "text/latex": [
       "0.797939747868001"
      ],
      "text/markdown": [
       "0.797939747868001"
      ],
      "text/plain": [
       "[1] 0.7979397"
      ]
     },
     "metadata": {},
     "output_type": "display_data"
    },
    {
     "data": {
      "text/html": [
       "0.7"
      ],
      "text/latex": [
       "0.7"
      ],
      "text/markdown": [
       "0.7"
      ],
      "text/plain": [
       "[1] 0.7"
      ]
     },
     "metadata": {},
     "output_type": "display_data"
    }
   ],
   "source": [
    "mean(diamonds$carat)\n",
    "median(diamonds$carat)"
   ]
  },
  {
   "cell_type": "markdown",
   "metadata": {},
   "source": [
    "Quantiles (and quartiles) can be obtained using the summary function (for 1st, 2nd and 3rd quantiles) or the `quantiles` function:"
   ]
  },
  {
   "cell_type": "code",
   "execution_count": 17,
   "metadata": {},
   "outputs": [
    {
     "data": {
      "text/plain": [
       "   Min. 1st Qu.  Median    Mean 3rd Qu.    Max. \n",
       " 0.2000  0.4000  0.7000  0.7979  1.0400  5.0100 "
      ]
     },
     "metadata": {},
     "output_type": "display_data"
    }
   ],
   "source": [
    "summary(diamonds$carat)"
   ]
  },
  {
   "cell_type": "code",
   "execution_count": 18,
   "metadata": {},
   "outputs": [
    {
     "data": {
      "text/html": [
       "<dl class=dl-horizontal>\n",
       "\t<dt>25%</dt>\n",
       "\t\t<dd>0.4</dd>\n",
       "\t<dt>35%</dt>\n",
       "\t\t<dd>0.5</dd>\n",
       "\t<dt>50%</dt>\n",
       "\t\t<dd>0.7</dd>\n",
       "\t<dt>75%</dt>\n",
       "\t\t<dd>1.04</dd>\n",
       "</dl>\n"
      ],
      "text/latex": [
       "\\begin{description*}\n",
       "\\item[25\\textbackslash{}\\%] 0.4\n",
       "\\item[35\\textbackslash{}\\%] 0.5\n",
       "\\item[50\\textbackslash{}\\%] 0.7\n",
       "\\item[75\\textbackslash{}\\%] 1.04\n",
       "\\end{description*}\n"
      ],
      "text/markdown": [
       "25%\n",
       ":   0.435%\n",
       ":   0.550%\n",
       ":   0.775%\n",
       ":   1.04\n",
       "\n"
      ],
      "text/plain": [
       " 25%  35%  50%  75% \n",
       "0.40 0.50 0.70 1.04 "
      ]
     },
     "metadata": {},
     "output_type": "display_data"
    }
   ],
   "source": [
    "quantile(diamonds$carat, c(0.25, 0.35, 0.5, 0.75))"
   ]
  },
  {
   "cell_type": "markdown",
   "metadata": {},
   "source": [
    "Note that mean and quantiles also make sense for categorical variables of *Ordinal* type. However, in R we need to transform the categorical variable to a numeric variable first for the classic `median` and `quantile` functions to work:"
   ]
  },
  {
   "cell_type": "code",
   "execution_count": 19,
   "metadata": {},
   "outputs": [
    {
     "data": {
      "text/html": [
       "4"
      ],
      "text/latex": [
       "4"
      ],
      "text/markdown": [
       "4"
      ],
      "text/plain": [
       "[1] 4"
      ]
     },
     "metadata": {},
     "output_type": "display_data"
    },
    {
     "data": {
      "text/html": [
       "<dl class=dl-horizontal>\n",
       "\t<dt>35%</dt>\n",
       "\t\t<dd>4</dd>\n",
       "\t<dt>50%</dt>\n",
       "\t\t<dd>4</dd>\n",
       "</dl>\n"
      ],
      "text/latex": [
       "\\begin{description*}\n",
       "\\item[35\\textbackslash{}\\%] 4\n",
       "\\item[50\\textbackslash{}\\%] 4\n",
       "\\end{description*}\n"
      ],
      "text/markdown": [
       "35%\n",
       ":   450%\n",
       ":   4\n",
       "\n"
      ],
      "text/plain": [
       "35% 50% \n",
       "  4   4 "
      ]
     },
     "metadata": {},
     "output_type": "display_data"
    }
   ],
   "source": [
    "median(as.numeric(diamonds$cut))\n",
    "quantile(as.numeric(diamonds$cut), c(0.35, 0.5))"
   ]
  },
  {
   "cell_type": "markdown",
   "metadata": {},
   "source": [
    "After looking at descriptive statistics for the central tendencies of a distribution, let us look at descriptive statistics for its spread. First we can look at the minimum, the maximum, and the range in the following way:"
   ]
  },
  {
   "cell_type": "code",
   "execution_count": 20,
   "metadata": {},
   "outputs": [
    {
     "data": {
      "text/html": [
       "0.2"
      ],
      "text/latex": [
       "0.2"
      ],
      "text/markdown": [
       "0.2"
      ],
      "text/plain": [
       "[1] 0.2"
      ]
     },
     "metadata": {},
     "output_type": "display_data"
    },
    {
     "data": {
      "text/html": [
       "5.01"
      ],
      "text/latex": [
       "5.01"
      ],
      "text/markdown": [
       "5.01"
      ],
      "text/plain": [
       "[1] 5.01"
      ]
     },
     "metadata": {},
     "output_type": "display_data"
    },
    {
     "data": {
      "text/html": [
       "<ol class=list-inline>\n",
       "\t<li>0.2</li>\n",
       "\t<li>5.01</li>\n",
       "</ol>\n"
      ],
      "text/latex": [
       "\\begin{enumerate*}\n",
       "\\item 0.2\n",
       "\\item 5.01\n",
       "\\end{enumerate*}\n"
      ],
      "text/markdown": [
       "1. 0.2\n",
       "2. 5.01\n",
       "\n",
       "\n"
      ],
      "text/plain": [
       "[1] 0.20 5.01"
      ]
     },
     "metadata": {},
     "output_type": "display_data"
    },
    {
     "data": {
      "text/html": [
       "4.81"
      ],
      "text/latex": [
       "4.81"
      ],
      "text/markdown": [
       "4.81"
      ],
      "text/plain": [
       "[1] 4.81"
      ]
     },
     "metadata": {},
     "output_type": "display_data"
    }
   ],
   "source": [
    "min(diamonds$carat)\n",
    "max(diamonds$carat)\n",
    "range(diamonds$carat)\n",
    "max(diamonds$carat) - min(diamonds$carat)"
   ]
  },
  {
   "cell_type": "markdown",
   "metadata": {},
   "source": [
    "Now let us see how to calculate the variance in R:"
   ]
  },
  {
   "cell_type": "code",
   "execution_count": 21,
   "metadata": {},
   "outputs": [
    {
     "data": {
      "text/html": [
       "0.224686659822773"
      ],
      "text/latex": [
       "0.224686659822773"
      ],
      "text/markdown": [
       "0.224686659822773"
      ],
      "text/plain": [
       "[1] 0.2246867"
      ]
     },
     "metadata": {},
     "output_type": "display_data"
    },
    {
     "data": {
      "text/html": [
       "0.224686659822773"
      ],
      "text/latex": [
       "0.224686659822773"
      ],
      "text/markdown": [
       "0.224686659822773"
      ],
      "text/plain": [
       "[1] 0.2246867"
      ]
     },
     "metadata": {},
     "output_type": "display_data"
    }
   ],
   "source": [
    "var(diamonds$carat)\n",
    "sum((diamonds$carat - mean(diamonds$carat))^2) /\n",
    "(length(diamonds$carat) - 1)"
   ]
  },
  {
   "cell_type": "markdown",
   "metadata": {},
   "source": [
    "The standard deviation can be calculated in the following way:"
   ]
  },
  {
   "cell_type": "code",
   "execution_count": 22,
   "metadata": {},
   "outputs": [
    {
     "data": {
      "text/html": [
       "0.474011244405418"
      ],
      "text/latex": [
       "0.474011244405418"
      ],
      "text/markdown": [
       "0.474011244405418"
      ],
      "text/plain": [
       "[1] 0.4740112"
      ]
     },
     "metadata": {},
     "output_type": "display_data"
    },
    {
     "data": {
      "text/html": [
       "0.474011244405418"
      ],
      "text/latex": [
       "0.474011244405418"
      ],
      "text/markdown": [
       "0.474011244405418"
      ],
      "text/plain": [
       "[1] 0.4740112"
      ]
     },
     "metadata": {},
     "output_type": "display_data"
    }
   ],
   "source": [
    "sd(diamonds$carat)\n",
    "sqrt(var(diamonds$carat))"
   ]
  },
  {
   "cell_type": "markdown",
   "metadata": {},
   "source": [
    "### *Exercise*\n",
    "\n",
    "Calculate all the above descriptive statistics for the variables `color` and `price`."
   ]
  },
  {
   "cell_type": "code",
   "execution_count": 23,
   "metadata": {},
   "outputs": [
    {
     "data": {
      "text/html": [
       "3932.79972191324"
      ],
      "text/latex": [
       "3932.79972191324"
      ],
      "text/markdown": [
       "3932.79972191324"
      ],
      "text/plain": [
       "[1] 3932.8"
      ]
     },
     "metadata": {},
     "output_type": "display_data"
    },
    {
     "data": {
      "text/html": [
       "2401"
      ],
      "text/latex": [
       "2401"
      ],
      "text/markdown": [
       "2401"
      ],
      "text/plain": [
       "[1] 2401"
      ]
     },
     "metadata": {},
     "output_type": "display_data"
    },
    {
     "data": {
      "text/html": [
       "<dl class=dl-horizontal>\n",
       "\t<dt>25%</dt>\n",
       "\t\t<dd>950</dd>\n",
       "\t<dt>50%</dt>\n",
       "\t\t<dd>2401</dd>\n",
       "\t<dt>75%</dt>\n",
       "\t\t<dd>5324.25</dd>\n",
       "</dl>\n"
      ],
      "text/latex": [
       "\\begin{description*}\n",
       "\\item[25\\textbackslash{}\\%] 950\n",
       "\\item[50\\textbackslash{}\\%] 2401\n",
       "\\item[75\\textbackslash{}\\%] 5324.25\n",
       "\\end{description*}\n"
      ],
      "text/markdown": [
       "25%\n",
       ":   95050%\n",
       ":   240175%\n",
       ":   5324.25\n",
       "\n"
      ],
      "text/plain": [
       "    25%     50%     75% \n",
       " 950.00 2401.00 5324.25 "
      ]
     },
     "metadata": {},
     "output_type": "display_data"
    },
    {
     "data": {
      "text/html": [
       "326"
      ],
      "text/latex": [
       "326"
      ],
      "text/markdown": [
       "326"
      ],
      "text/plain": [
       "[1] 326"
      ]
     },
     "metadata": {},
     "output_type": "display_data"
    },
    {
     "data": {
      "text/html": [
       "18823"
      ],
      "text/latex": [
       "18823"
      ],
      "text/markdown": [
       "18823"
      ],
      "text/plain": [
       "[1] 18823"
      ]
     },
     "metadata": {},
     "output_type": "display_data"
    },
    {
     "data": {
      "text/html": [
       "<ol class=list-inline>\n",
       "\t<li>326</li>\n",
       "\t<li>18823</li>\n",
       "</ol>\n"
      ],
      "text/latex": [
       "\\begin{enumerate*}\n",
       "\\item 326\n",
       "\\item 18823\n",
       "\\end{enumerate*}\n"
      ],
      "text/markdown": [
       "1. 326\n",
       "2. 18823\n",
       "\n",
       "\n"
      ],
      "text/plain": [
       "[1]   326 18823"
      ]
     },
     "metadata": {},
     "output_type": "display_data"
    },
    {
     "data": {
      "text/html": [
       "18497"
      ],
      "text/latex": [
       "18497"
      ],
      "text/markdown": [
       "18497"
      ],
      "text/plain": [
       "[1] 18497"
      ]
     },
     "metadata": {},
     "output_type": "display_data"
    },
    {
     "data": {
      "text/html": [
       "15915629.4243014"
      ],
      "text/latex": [
       "15915629.4243014"
      ],
      "text/markdown": [
       "15915629.4243014"
      ],
      "text/plain": [
       "[1] 15915629"
      ]
     },
     "metadata": {},
     "output_type": "display_data"
    },
    {
     "data": {
      "text/html": [
       "3989.43973814638"
      ],
      "text/latex": [
       "3989.43973814638"
      ],
      "text/markdown": [
       "3989.43973814638"
      ],
      "text/plain": [
       "[1] 3989.44"
      ]
     },
     "metadata": {},
     "output_type": "display_data"
    }
   ],
   "source": [
    "mean(diamonds$price)\n",
    "median(diamonds$price)\n",
    "quantile(diamonds$price, c(0.25, 0.5, 0.75))\n",
    "min(diamonds$price)\n",
    "max(diamonds$price)\n",
    "range(diamonds$price)\n",
    "max(diamonds$price) - min(diamonds$price)\n",
    "var(diamonds$price)\n",
    "sd(diamonds$price)"
   ]
  },
  {
   "cell_type": "markdown",
   "metadata": {},
   "source": [
    "# Variation between two variables"
   ]
  },
  {
   "cell_type": "markdown",
   "metadata": {},
   "source": [
    "We will first visualize the relationship between two categorical variables using the Mosaic plot:"
   ]
  },
  {
   "cell_type": "code",
   "execution_count": 24,
   "metadata": {},
   "outputs": [
    {
     "data": {
      "image/png": "[encoded data removed]",
      "text/plain": [
       "Plot with title \"NULL\""
      ]
     },
     "metadata": {},
     "output_type": "display_data"
    }
   ],
   "source": [
    "mosaicplot(diamonds$cut ~ diamonds$color)"
   ]
  },
  {
   "cell_type": "markdown",
   "metadata": {},
   "source": [
    "The size of each square is proportional to the number of cases with each combination of the two categorical variables. Compare this to the following descriptive statistics:"
   ]
  },
  {
   "cell_type": "code",
   "execution_count": 25,
   "metadata": {},
   "outputs": [
    {
     "data": {
      "text/plain": [
       "   \n",
       "    Fair Good Very Good Premium Ideal\n",
       "  D  163  662      1513    1603  2834\n",
       "  E  224  933      2400    2337  3903\n",
       "  F  312  909      2164    2331  3826\n",
       "  G  314  871      2299    2924  4884\n",
       "  H  303  702      1824    2360  3115\n",
       "  I  175  522      1204    1428  2093\n",
       "  J  119  307       678     808   896"
      ]
     },
     "metadata": {},
     "output_type": "display_data"
    }
   ],
   "source": [
    "table(diamonds$color, diamonds$cut)"
   ]
  },
  {
   "cell_type": "markdown",
   "metadata": {},
   "source": [
    "Now, let us visualize the relationship between to numerical variables using a classic scatterplot:"
   ]
  },
  {
   "cell_type": "code",
   "execution_count": 26,
   "metadata": {},
   "outputs": [
    {
     "data": {
      "image/png": "[encoded data removed]",
      "text/plain": [
       "plot without title"
      ]
     },
     "metadata": {},
     "output_type": "display_data"
    }
   ],
   "source": [
    "plot(diamonds$carat, diamonds$price)"
   ]
  },
  {
   "cell_type": "markdown",
   "metadata": {},
   "source": [
    "There is clearly some sort of relationship here. It does not look completely linear, but we can measure the linear relationship using Pearson’s correlation coefficient:"
   ]
  },
  {
   "cell_type": "code",
   "execution_count": 27,
   "metadata": {},
   "outputs": [
    {
     "data": {
      "text/html": [
       "0.921591301193477"
      ],
      "text/latex": [
       "0.921591301193477"
      ],
      "text/markdown": [
       "0.921591301193477"
      ],
      "text/plain": [
       "[1] 0.9215913"
      ]
     },
     "metadata": {},
     "output_type": "display_data"
    }
   ],
   "source": [
    "cor(diamonds$carat, diamonds$price)"
   ]
  },
  {
   "cell_type": "markdown",
   "metadata": {},
   "source": [
    "The `cor` can also be used to measure other correlation coefficients, see its help page (`?cor`)"
   ]
  },
  {
   "cell_type": "markdown",
   "metadata": {},
   "source": [
    "Finally, let us look at the relationship between a categorical variable and a numerical variable using a boxplot:"
   ]
  },
  {
   "cell_type": "code",
   "execution_count": 28,
   "metadata": {},
   "outputs": [
    {
     "data": {
      "image/png": "[encoded data removed]",
      "text/plain": [
       "plot without title"
      ]
     },
     "metadata": {},
     "output_type": "display_data"
    }
   ],
   "source": [
    "boxplot(diamonds$carat ~ diamonds$cut)"
   ]
  },
  {
   "cell_type": "markdown",
   "metadata": {},
   "source": [
    "In this plot we can see how the numerical variable (`carat`) is distributed for each of the five values of the categorical variable `cut` and thereby compare them. Is there a significant difference in the distribution between two different values?"
   ]
  },
  {
   "cell_type": "markdown",
   "metadata": {},
   "source": [
    "### *Exercise*\n",
    "\n",
    "Try to plot and calculate descriptive statistics for relationships between other pairs of variables from the `diamonds` dataset."
   ]
  },
  {
   "cell_type": "code",
   "execution_count": null,
   "metadata": {},
   "outputs": [],
   "source": []
  },
  {
   "cell_type": "markdown",
   "metadata": {},
   "source": [
    "### *Exercise*\n",
    "\n",
    "Do an Exploratory Data Analysis on the dataset \"dataSet\" loaded in by the cell below. The data comes from the UCI Machine Learning Repository, see https://archive.ics.uci.edu/ml/datasets/Las+Vegas+Strip"
   ]
  },
  {
   "cell_type": "code",
   "execution_count": 29,
   "metadata": {},
   "outputs": [],
   "source": [
    "dataSet <- read.csv2(\"https://archive.ics.uci.edu/ml/machine-learning-databases/00397/LasVegasTripAdvisorReviews-Dataset.csv\")"
   ]
  },
  {
   "cell_type": "code",
   "execution_count": 30,
   "metadata": {},
   "outputs": [
    {
     "data": {
      "text/html": [
       "<table>\n",
       "<thead><tr><th scope=col>User.country</th><th scope=col>Nr..reviews</th><th scope=col>Nr..hotel.reviews</th><th scope=col>Helpful.votes</th><th scope=col>Score</th><th scope=col>Period.of.stay</th><th scope=col>Traveler.type</th><th scope=col>Pool</th><th scope=col>Gym</th><th scope=col>Tennis.court</th><th scope=col>Spa</th><th scope=col>Casino</th><th scope=col>Free.internet</th><th scope=col>Hotel.name</th><th scope=col>Hotel.stars</th><th scope=col>Nr..rooms</th><th scope=col>User.continent</th><th scope=col>Member.years</th><th scope=col>Review.month</th><th scope=col>Review.weekday</th></tr></thead>\n",
       "<tbody>\n",
       "\t<tr><td><span style=white-space:pre-wrap>USA   </span></td><td> 11                                           </td><td> 4                                            </td><td>13                                            </td><td>5                                             </td><td>Dec-Feb                                       </td><td>Friends                                       </td><td>NO                                            </td><td>YES                                           </td><td>NO                                            </td><td>NO                                            </td><td>YES                                           </td><td>YES                                           </td><td>Circus Circus Hotel &amp; Casino Las Vegas    </td><td>3                                             </td><td>3773                                          </td><td>North America                                 </td><td>9                                             </td><td>January                                       </td><td>Thursday                                      </td></tr>\n",
       "\t<tr><td><span style=white-space:pre-wrap>USA   </span>  </td><td>119                                             </td><td>21                                              </td><td>75                                              </td><td>3                                               </td><td>Dec-Feb                                         </td><td>Business                                        </td><td>NO                                              </td><td>YES                                             </td><td>NO                                              </td><td>NO                                              </td><td>YES                                             </td><td>YES                                             </td><td>Circus Circus Hotel &amp; Casino Las Vegas      </td><td>3                                               </td><td>3773                                            </td><td>North America                                   </td><td>3                                               </td><td>January                                         </td><td><span style=white-space:pre-wrap>Friday  </span></td></tr>\n",
       "\t<tr><td><span style=white-space:pre-wrap>USA   </span></td><td> 36                                           </td><td> 9                                            </td><td>25                                            </td><td>5                                             </td><td>Mar-May                                       </td><td>Families                                      </td><td>NO                                            </td><td>YES                                           </td><td>NO                                            </td><td>NO                                            </td><td>YES                                           </td><td>YES                                           </td><td>Circus Circus Hotel &amp; Casino Las Vegas    </td><td>3                                             </td><td>3773                                          </td><td>North America                                 </td><td>2                                             </td><td>February                                      </td><td>Saturday                                      </td></tr>\n",
       "\t<tr><td><span style=white-space:pre-wrap>UK    </span>       </td><td> 14                                                  </td><td> 7                                                   </td><td>14                                                   </td><td>4                                                    </td><td>Mar-May                                              </td><td>Friends                                              </td><td>NO                                                   </td><td>YES                                                  </td><td>NO                                                   </td><td>NO                                                   </td><td>YES                                                  </td><td>YES                                                  </td><td>Circus Circus Hotel &amp; Casino Las Vegas           </td><td>3                                                    </td><td>3773                                                 </td><td><span style=white-space:pre-wrap>Europe       </span></td><td>6                                                    </td><td>February                                             </td><td><span style=white-space:pre-wrap>Friday  </span>     </td></tr>\n",
       "\t<tr><td>Canada                                          </td><td><span style=white-space:pre-wrap>  5</span>     </td><td> 5                                              </td><td> 2                                              </td><td>4                                               </td><td>Mar-May                                         </td><td><span style=white-space:pre-wrap>Solo    </span></td><td>NO                                              </td><td>YES                                             </td><td>NO                                              </td><td>NO                                              </td><td>YES                                             </td><td>YES                                             </td><td>Circus Circus Hotel &amp; Casino Las Vegas      </td><td>3                                               </td><td>3773                                            </td><td>North America                                   </td><td>7                                               </td><td><span style=white-space:pre-wrap>March   </span></td><td>Tuesday                                         </td></tr>\n",
       "\t<tr><td>Canada                                          </td><td> 31                                             </td><td> 8                                              </td><td>27                                              </td><td>3                                               </td><td>Mar-May                                         </td><td>Couples                                         </td><td>NO                                              </td><td>YES                                             </td><td>NO                                              </td><td>NO                                              </td><td>YES                                             </td><td>YES                                             </td><td>Circus Circus Hotel &amp; Casino Las Vegas      </td><td>3                                               </td><td>3773                                            </td><td>North America                                   </td><td>2                                               </td><td><span style=white-space:pre-wrap>March   </span></td><td>Tuesday                                         </td></tr>\n",
       "</tbody>\n",
       "</table>\n"
      ],
      "text/latex": [
       "\\begin{tabular}{r|llllllllllllllllllll}\n",
       " User.country & Nr..reviews & Nr..hotel.reviews & Helpful.votes & Score & Period.of.stay & Traveler.type & Pool & Gym & Tennis.court & Spa & Casino & Free.internet & Hotel.name & Hotel.stars & Nr..rooms & User.continent & Member.years & Review.month & Review.weekday\\\\\n",
       "\\hline\n",
       "\t USA                                      &  11                                      &  4                                       & 13                                       & 5                                        & Dec-Feb                                  & Friends                                  & NO                                       & YES                                      & NO                                       & NO                                       & YES                                      & YES                                      & Circus Circus Hotel \\& Casino Las Vegas & 3                                        & 3773                                     & North America                            & 9                                        & January                                  & Thursday                                \\\\\n",
       "\t USA                                      & 119                                      & 21                                       & 75                                       & 3                                        & Dec-Feb                                  & Business                                 & NO                                       & YES                                      & NO                                       & NO                                       & YES                                      & YES                                      & Circus Circus Hotel \\& Casino Las Vegas & 3                                        & 3773                                     & North America                            & 3                                        & January                                  & Friday                                  \\\\\n",
       "\t USA                                      &  36                                      &  9                                       & 25                                       & 5                                        & Mar-May                                  & Families                                 & NO                                       & YES                                      & NO                                       & NO                                       & YES                                      & YES                                      & Circus Circus Hotel \\& Casino Las Vegas & 3                                        & 3773                                     & North America                            & 2                                        & February                                 & Saturday                                \\\\\n",
       "\t UK                                       &  14                                      &  7                                       & 14                                       & 4                                        & Mar-May                                  & Friends                                  & NO                                       & YES                                      & NO                                       & NO                                       & YES                                      & YES                                      & Circus Circus Hotel \\& Casino Las Vegas & 3                                        & 3773                                     & Europe                                   & 6                                        & February                                 & Friday                                  \\\\\n",
       "\t Canada                                   &   5                                      &  5                                       &  2                                       & 4                                        & Mar-May                                  & Solo                                     & NO                                       & YES                                      & NO                                       & NO                                       & YES                                      & YES                                      & Circus Circus Hotel \\& Casino Las Vegas & 3                                        & 3773                                     & North America                            & 7                                        & March                                    & Tuesday                                 \\\\\n",
       "\t Canada                                   &  31                                      &  8                                       & 27                                       & 3                                        & Mar-May                                  & Couples                                  & NO                                       & YES                                      & NO                                       & NO                                       & YES                                      & YES                                      & Circus Circus Hotel \\& Casino Las Vegas & 3                                        & 3773                                     & North America                            & 2                                        & March                                    & Tuesday                                 \\\\\n",
       "\\end{tabular}\n"
      ],
      "text/markdown": [
       "\n",
       "| User.country | Nr..reviews | Nr..hotel.reviews | Helpful.votes | Score | Period.of.stay | Traveler.type | Pool | Gym | Tennis.court | Spa | Casino | Free.internet | Hotel.name | Hotel.stars | Nr..rooms | User.continent | Member.years | Review.month | Review.weekday |\n",
       "|---|---|---|---|---|---|---|---|---|---|---|---|---|---|---|---|---|---|---|---|\n",
       "| USA                                    |  11                                    |  4                                     | 13                                     | 5                                      | Dec-Feb                                | Friends                                | NO                                     | YES                                    | NO                                     | NO                                     | YES                                    | YES                                    | Circus Circus Hotel & Casino Las Vegas | 3                                      | 3773                                   | North America                          | 9                                      | January                                | Thursday                               |\n",
       "| USA                                    | 119                                    | 21                                     | 75                                     | 3                                      | Dec-Feb                                | Business                               | NO                                     | YES                                    | NO                                     | NO                                     | YES                                    | YES                                    | Circus Circus Hotel & Casino Las Vegas | 3                                      | 3773                                   | North America                          | 3                                      | January                                | Friday                                 |\n",
       "| USA                                    |  36                                    |  9                                     | 25                                     | 5                                      | Mar-May                                | Families                               | NO                                     | YES                                    | NO                                     | NO                                     | YES                                    | YES                                    | Circus Circus Hotel & Casino Las Vegas | 3                                      | 3773                                   | North America                          | 2                                      | February                               | Saturday                               |\n",
       "| UK                                     |  14                                    |  7                                     | 14                                     | 4                                      | Mar-May                                | Friends                                | NO                                     | YES                                    | NO                                     | NO                                     | YES                                    | YES                                    | Circus Circus Hotel & Casino Las Vegas | 3                                      | 3773                                   | Europe                                 | 6                                      | February                               | Friday                                 |\n",
       "| Canada                                 |   5                                    |  5                                     |  2                                     | 4                                      | Mar-May                                | Solo                                   | NO                                     | YES                                    | NO                                     | NO                                     | YES                                    | YES                                    | Circus Circus Hotel & Casino Las Vegas | 3                                      | 3773                                   | North America                          | 7                                      | March                                  | Tuesday                                |\n",
       "| Canada                                 |  31                                    |  8                                     | 27                                     | 3                                      | Mar-May                                | Couples                                | NO                                     | YES                                    | NO                                     | NO                                     | YES                                    | YES                                    | Circus Circus Hotel & Casino Las Vegas | 3                                      | 3773                                   | North America                          | 2                                      | March                                  | Tuesday                                |\n",
       "\n"
      ],
      "text/plain": [
       "  User.country Nr..reviews Nr..hotel.reviews Helpful.votes Score Period.of.stay\n",
       "1 USA           11          4                13            5     Dec-Feb       \n",
       "2 USA          119         21                75            3     Dec-Feb       \n",
       "3 USA           36          9                25            5     Mar-May       \n",
       "4 UK            14          7                14            4     Mar-May       \n",
       "5 Canada         5          5                 2            4     Mar-May       \n",
       "6 Canada        31          8                27            3     Mar-May       \n",
       "  Traveler.type Pool Gym Tennis.court Spa Casino Free.internet\n",
       "1 Friends       NO   YES NO           NO  YES    YES          \n",
       "2 Business      NO   YES NO           NO  YES    YES          \n",
       "3 Families      NO   YES NO           NO  YES    YES          \n",
       "4 Friends       NO   YES NO           NO  YES    YES          \n",
       "5 Solo          NO   YES NO           NO  YES    YES          \n",
       "6 Couples       NO   YES NO           NO  YES    YES          \n",
       "  Hotel.name                             Hotel.stars Nr..rooms User.continent\n",
       "1 Circus Circus Hotel & Casino Las Vegas 3           3773      North America \n",
       "2 Circus Circus Hotel & Casino Las Vegas 3           3773      North America \n",
       "3 Circus Circus Hotel & Casino Las Vegas 3           3773      North America \n",
       "4 Circus Circus Hotel & Casino Las Vegas 3           3773      Europe        \n",
       "5 Circus Circus Hotel & Casino Las Vegas 3           3773      North America \n",
       "6 Circus Circus Hotel & Casino Las Vegas 3           3773      North America \n",
       "  Member.years Review.month Review.weekday\n",
       "1 9            January      Thursday      \n",
       "2 3            January      Friday        \n",
       "3 2            February     Saturday      \n",
       "4 6            February     Friday        \n",
       "5 7            March        Tuesday       \n",
       "6 2            March        Tuesday       "
      ]
     },
     "metadata": {},
     "output_type": "display_data"
    }
   ],
   "source": [
    "head(dataSet)"
   ]
  },
  {
   "cell_type": "code",
   "execution_count": null,
   "metadata": {},
   "outputs": [],
   "source": []
  }
 ],
 "metadata": {
  "kernelspec": {
   "display_name": "R",
   "language": "R",
   "name": "ir"
  },
  "language_info": {
   "codemirror_mode": "r",
   "file_extension": ".r",
   "mimetype": "text/x-r-source",
   "name": "R",
   "pygments_lexer": "r",
   "version": "3.6.1"
  }
 },
 "nbformat": 4,
 "nbformat_minor": 2
}
